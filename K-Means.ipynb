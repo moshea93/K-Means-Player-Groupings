{
 "cells": [
  {
   "cell_type": "code",
   "execution_count": 289,
   "metadata": {},
   "outputs": [],
   "source": [
    "from bs4 import BeautifulSoup\n",
    "import re\n",
    "import requests\n",
    "import pandas as pd\n",
    "import json\n",
    "import csv\n",
    "import os\n",
    "import time\n",
    "\n",
    "\n",
    "%matplotlib inline \n",
    "\n",
    "import numpy as np\n",
    "from sklearn.metrics import pairwise_distances\n",
    "from sklearn import cluster, datasets, preprocessing, metrics\n",
    "import matplotlib.pyplot as plt\n",
    "import seaborn as sns\n",
    "plt.style.use('fivethirtyeight')\n",
    "\n",
    "pd.set_option('display.max_rows', 400)\n",
    "pd.set_option('display.max_columns', 50)\n",
    "from IPython.core.interactiveshell import InteractiveShell\n",
    "InteractiveShell.ast_node_interactivity = \"all\""
   ]
  },
  {
   "cell_type": "code",
   "execution_count": 239,
   "metadata": {},
   "outputs": [],
   "source": [
    "InteractiveShell.ast_node_interactivity = \"last_expr\""
   ]
  },
  {
   "cell_type": "markdown",
   "metadata": {},
   "source": [
    "## Data Retrieval"
   ]
  },
  {
   "cell_type": "code",
   "execution_count": 233,
   "metadata": {},
   "outputs": [
    {
     "name": "stdout",
     "output_type": "stream",
     "text": [
      "now got Kareem Abdul-Jabbar\n",
      "now got Tyson Chandler\n",
      "already got this one\n",
      "[{'PERSON_ID': '76003', 'FIRST_NAME': 'Kareem', 'LAST_NAME': 'Abdul-Jabbar', 'DISPLAY_FIRST_LAST': 'Kareem Abdul-Jabbar', 'DISPLAY_LAST_COMMA_FIRST': 'Abdul-Jabbar, Kareem', 'DISPLAY_FI_LAST': 'K. Abdul-Jabbar', 'PLAYER_SLUG': 'kareem-abdul-jabbar', 'BIRTHDATE': '1947-04-16T00', 'SCHOOL': 'California-Los Angeles', 'COUNTRY': 'USA', 'LAST_AFFILIATION': 'UCLA\\\\/USA', 'HEIGHT': '7-2', 'WEIGHT': '225', 'SEASON_EXP': '19', 'JERSEY': '33', 'POSITION': 'Center', 'ROSTERSTATUS': 'Inactive', 'TEAM_ID': '1610612747', 'TEAM_NAME': 'Lakers', 'TEAM_ABBREVIATION': 'LAL', 'TEAM_CODE': 'lakers', 'TEAM_CITY': 'Los Angeles', 'PLAYERCODE': 'HISTADD_kareem_abdul-jabbar', 'FROM_YEAR': '1969', 'TO_YEAR': '1988', 'DLEAGUE_FLAG': 'N', 'NBA_FLAG': 'Y', 'GAMES_PLAYED_FLAG': 'Y', 'DRAFT_YEAR': '1969', 'DRAFT_ROUND': '1', 'DRAFT_NUMBER': '1', 'POSITION_INITIALS': 'C', 'AGE': '73', 'AGE_DAYS': '104'}, {'PERSON_ID': '2199', 'FIRST_NAME': 'Tyson', 'LAST_NAME': 'Chandler', 'DISPLAY_FIRST_LAST': 'Tyson Chandler', 'DISPLAY_LAST_COMMA_FIRST': 'Chandler, Tyson', 'DISPLAY_FI_LAST': 'T. Chandler', 'PLAYER_SLUG': 'tyson-chandler', 'BIRTHDATE': '1982-10-02T00', 'SCHOOL': 'No College', 'COUNTRY': 'USA', 'LAST_AFFILIATION': 'Dominguez HS (CA)\\\\/USA', 'HEIGHT': '7-0', 'WEIGHT': '235', 'SEASON_EXP': '18', 'JERSEY': '19', 'POSITION': 'Center', 'ROSTERSTATUS': 'Active', 'TEAM_ID': '1610612745', 'TEAM_NAME': 'Rockets', 'TEAM_ABBREVIATION': 'HOU', 'TEAM_CODE': 'rockets', 'TEAM_CITY': 'Houston', 'PLAYERCODE': 'tyson_chandler', 'FROM_YEAR': '2001', 'TO_YEAR': '2019', 'DLEAGUE_FLAG': 'N', 'NBA_FLAG': 'Y', 'GAMES_PLAYED_FLAG': 'Y', 'DRAFT_YEAR': '2001', 'DRAFT_ROUND': '1', 'DRAFT_NUMBER': '2', 'POSITION_INITIALS': 'C', 'AGE': '37', 'AGE_DAYS': '301'}]\n"
     ]
    }
   ],
   "source": [
    "person_ids = {}\n",
    "player_bios = []\n",
    "\n",
    "def get_player_bio(person_id):\n",
    "    \n",
    "    if person_id in person_ids:\n",
    "        \n",
    "        continue\n",
    "        \n",
    "    else:\n",
    "\n",
    "        url = 'https://stats.nba.com/player/' + str(person_id) + '/career/'\n",
    "        req = requests.get(url)\n",
    "        soup = BeautifulSoup(req.content)\n",
    "        player_info = soup.find(text=re.compile('window.nbaStatsPlayerStats'));\n",
    "        attributes = player_info[player_info.index('{') + 1:player_info.index('}')].split(',\"')\n",
    "\n",
    "        player_bio = {}\n",
    "\n",
    "        for attribute in attributes:\n",
    "            key = attribute.split(':')[0].replace('\"', '')\n",
    "            value = attribute.split(':')[1].replace('\"', '')\n",
    "            player_bio[key] = value\n",
    "\n",
    "        player_bios.append(player_bio)\n",
    "\n",
    "        person_ids[person_id] = True\n",
    "            \n",
    "    return\n",
    "\n",
    "print(player_bios)"
   ]
  },
  {
   "cell_type": "code",
   "execution_count": 417,
   "metadata": {},
   "outputs": [
    {
     "name": "stdout",
     "output_type": "stream",
     "text": [
      "Working on 2019\n"
     ]
    },
    {
     "data": {
      "text/plain": [
       "121"
      ]
     },
     "execution_count": 417,
     "metadata": {},
     "output_type": "execute_result"
    },
    {
     "data": {
      "text/plain": [
       "118"
      ]
     },
     "execution_count": 417,
     "metadata": {},
     "output_type": "execute_result"
    },
    {
     "data": {
      "text/plain": [
       "119"
      ]
     },
     "execution_count": 417,
     "metadata": {},
     "output_type": "execute_result"
    },
    {
     "data": {
      "text/plain": [
       "114"
      ]
     },
     "execution_count": 417,
     "metadata": {},
     "output_type": "execute_result"
    },
    {
     "data": {
      "text/plain": [
       "115"
      ]
     },
     "execution_count": 417,
     "metadata": {},
     "output_type": "execute_result"
    },
    {
     "data": {
      "text/plain": [
       "122"
      ]
     },
     "execution_count": 417,
     "metadata": {},
     "output_type": "execute_result"
    },
    {
     "data": {
      "text/plain": [
       "117"
      ]
     },
     "execution_count": 417,
     "metadata": {},
     "output_type": "execute_result"
    },
    {
     "data": {
      "text/plain": [
       "118"
      ]
     },
     "execution_count": 417,
     "metadata": {},
     "output_type": "execute_result"
    },
    {
     "data": {
      "text/plain": [
       "117"
      ]
     },
     "execution_count": 417,
     "metadata": {},
     "output_type": "execute_result"
    },
    {
     "data": {
      "text/plain": [
       "118"
      ]
     },
     "execution_count": 417,
     "metadata": {},
     "output_type": "execute_result"
    },
    {
     "data": {
      "text/plain": [
       "116"
      ]
     },
     "execution_count": 417,
     "metadata": {},
     "output_type": "execute_result"
    },
    {
     "data": {
      "text/plain": [
       "115"
      ]
     },
     "execution_count": 417,
     "metadata": {},
     "output_type": "execute_result"
    },
    {
     "data": {
      "text/plain": [
       "129"
      ]
     },
     "execution_count": 417,
     "metadata": {},
     "output_type": "execute_result"
    },
    {
     "data": {
      "text/plain": [
       "120"
      ]
     },
     "execution_count": 417,
     "metadata": {},
     "output_type": "execute_result"
    },
    {
     "data": {
      "text/plain": [
       "122"
      ]
     },
     "execution_count": 417,
     "metadata": {},
     "output_type": "execute_result"
    },
    {
     "data": {
      "text/plain": [
       "116"
      ]
     },
     "execution_count": 417,
     "metadata": {},
     "output_type": "execute_result"
    },
    {
     "data": {
      "text/plain": [
       "117"
      ]
     },
     "execution_count": 417,
     "metadata": {},
     "output_type": "execute_result"
    },
    {
     "data": {
      "text/plain": [
       "114"
      ]
     },
     "execution_count": 417,
     "metadata": {},
     "output_type": "execute_result"
    },
    {
     "data": {
      "text/plain": [
       "118"
      ]
     },
     "execution_count": 417,
     "metadata": {},
     "output_type": "execute_result"
    },
    {
     "data": {
      "text/plain": [
       "114"
      ]
     },
     "execution_count": 417,
     "metadata": {},
     "output_type": "execute_result"
    },
    {
     "data": {
      "text/plain": [
       "118"
      ]
     },
     "execution_count": 417,
     "metadata": {},
     "output_type": "execute_result"
    },
    {
     "data": {
      "text/plain": [
       "120"
      ]
     },
     "execution_count": 417,
     "metadata": {},
     "output_type": "execute_result"
    },
    {
     "data": {
      "text/plain": [
       "115"
      ]
     },
     "execution_count": 417,
     "metadata": {},
     "output_type": "execute_result"
    },
    {
     "data": {
      "text/plain": [
       "119"
      ]
     },
     "execution_count": 417,
     "metadata": {},
     "output_type": "execute_result"
    },
    {
     "data": {
      "text/plain": [
       "121"
      ]
     },
     "execution_count": 417,
     "metadata": {},
     "output_type": "execute_result"
    },
    {
     "data": {
      "text/plain": [
       "118"
      ]
     },
     "execution_count": 417,
     "metadata": {},
     "output_type": "execute_result"
    },
    {
     "data": {
      "text/plain": [
       "118"
      ]
     },
     "execution_count": 417,
     "metadata": {},
     "output_type": "execute_result"
    },
    {
     "data": {
      "text/plain": [
       "118"
      ]
     },
     "execution_count": 417,
     "metadata": {},
     "output_type": "execute_result"
    },
    {
     "data": {
      "text/plain": [
       "118"
      ]
     },
     "execution_count": 417,
     "metadata": {},
     "output_type": "execute_result"
    },
    {
     "data": {
      "text/plain": [
       "118"
      ]
     },
     "execution_count": 417,
     "metadata": {},
     "output_type": "execute_result"
    },
    {
     "data": {
      "text/plain": [
       "117"
      ]
     },
     "execution_count": 417,
     "metadata": {},
     "output_type": "execute_result"
    },
    {
     "data": {
      "text/plain": [
       "120"
      ]
     },
     "execution_count": 417,
     "metadata": {},
     "output_type": "execute_result"
    },
    {
     "data": {
      "text/plain": [
       "118"
      ]
     },
     "execution_count": 417,
     "metadata": {},
     "output_type": "execute_result"
    },
    {
     "data": {
      "text/plain": [
       "117"
      ]
     },
     "execution_count": 417,
     "metadata": {},
     "output_type": "execute_result"
    },
    {
     "data": {
      "text/plain": [
       "118"
      ]
     },
     "execution_count": 417,
     "metadata": {},
     "output_type": "execute_result"
    },
    {
     "data": {
      "text/plain": [
       "122"
      ]
     },
     "execution_count": 417,
     "metadata": {},
     "output_type": "execute_result"
    },
    {
     "data": {
      "text/plain": [
       "121"
      ]
     },
     "execution_count": 417,
     "metadata": {},
     "output_type": "execute_result"
    },
    {
     "data": {
      "text/plain": [
       "115"
      ]
     },
     "execution_count": 417,
     "metadata": {},
     "output_type": "execute_result"
    },
    {
     "data": {
      "text/plain": [
       "118"
      ]
     },
     "execution_count": 417,
     "metadata": {},
     "output_type": "execute_result"
    },
    {
     "data": {
      "text/plain": [
       "121"
      ]
     },
     "execution_count": 417,
     "metadata": {},
     "output_type": "execute_result"
    },
    {
     "data": {
      "text/plain": [
       "116"
      ]
     },
     "execution_count": 417,
     "metadata": {},
     "output_type": "execute_result"
    },
    {
     "data": {
      "text/plain": [
       "118"
      ]
     },
     "execution_count": 417,
     "metadata": {},
     "output_type": "execute_result"
    },
    {
     "data": {
      "text/plain": [
       "116"
      ]
     },
     "execution_count": 417,
     "metadata": {},
     "output_type": "execute_result"
    },
    {
     "data": {
      "text/plain": [
       "117"
      ]
     },
     "execution_count": 417,
     "metadata": {},
     "output_type": "execute_result"
    },
    {
     "data": {
      "text/plain": [
       "117"
      ]
     },
     "execution_count": 417,
     "metadata": {},
     "output_type": "execute_result"
    },
    {
     "data": {
      "text/plain": [
       "118"
      ]
     },
     "execution_count": 417,
     "metadata": {},
     "output_type": "execute_result"
    },
    {
     "data": {
      "text/plain": [
       "120"
      ]
     },
     "execution_count": 417,
     "metadata": {},
     "output_type": "execute_result"
    },
    {
     "data": {
      "text/plain": [
       "122"
      ]
     },
     "execution_count": 417,
     "metadata": {},
     "output_type": "execute_result"
    },
    {
     "data": {
      "text/plain": [
       "116"
      ]
     },
     "execution_count": 417,
     "metadata": {},
     "output_type": "execute_result"
    },
    {
     "data": {
      "text/plain": [
       "118"
      ]
     },
     "execution_count": 417,
     "metadata": {},
     "output_type": "execute_result"
    },
    {
     "data": {
      "text/plain": [
       "117"
      ]
     },
     "execution_count": 417,
     "metadata": {},
     "output_type": "execute_result"
    },
    {
     "data": {
      "text/plain": [
       "120"
      ]
     },
     "execution_count": 417,
     "metadata": {},
     "output_type": "execute_result"
    },
    {
     "data": {
      "text/plain": [
       "118"
      ]
     },
     "execution_count": 417,
     "metadata": {},
     "output_type": "execute_result"
    },
    {
     "data": {
      "text/plain": [
       "115"
      ]
     },
     "execution_count": 417,
     "metadata": {},
     "output_type": "execute_result"
    },
    {
     "data": {
      "text/plain": [
       "114"
      ]
     },
     "execution_count": 417,
     "metadata": {},
     "output_type": "execute_result"
    },
    {
     "data": {
      "text/plain": [
       "114"
      ]
     },
     "execution_count": 417,
     "metadata": {},
     "output_type": "execute_result"
    },
    {
     "data": {
      "text/plain": [
       "117"
      ]
     },
     "execution_count": 417,
     "metadata": {},
     "output_type": "execute_result"
    },
    {
     "data": {
      "text/plain": [
       "116"
      ]
     },
     "execution_count": 417,
     "metadata": {},
     "output_type": "execute_result"
    },
    {
     "data": {
      "text/plain": [
       "123"
      ]
     },
     "execution_count": 417,
     "metadata": {},
     "output_type": "execute_result"
    },
    {
     "data": {
      "text/plain": [
       "118"
      ]
     },
     "execution_count": 417,
     "metadata": {},
     "output_type": "execute_result"
    },
    {
     "data": {
      "text/plain": [
       "116"
      ]
     },
     "execution_count": 417,
     "metadata": {},
     "output_type": "execute_result"
    },
    {
     "data": {
      "text/plain": [
       "117"
      ]
     },
     "execution_count": 417,
     "metadata": {},
     "output_type": "execute_result"
    },
    {
     "data": {
      "text/plain": [
       "122"
      ]
     },
     "execution_count": 417,
     "metadata": {},
     "output_type": "execute_result"
    },
    {
     "data": {
      "text/plain": [
       "122"
      ]
     },
     "execution_count": 417,
     "metadata": {},
     "output_type": "execute_result"
    },
    {
     "data": {
      "text/plain": [
       "119"
      ]
     },
     "execution_count": 417,
     "metadata": {},
     "output_type": "execute_result"
    },
    {
     "data": {
      "text/plain": [
       "115"
      ]
     },
     "execution_count": 417,
     "metadata": {},
     "output_type": "execute_result"
    },
    {
     "data": {
      "text/plain": [
       "121"
      ]
     },
     "execution_count": 417,
     "metadata": {},
     "output_type": "execute_result"
    },
    {
     "data": {
      "text/plain": [
       "120"
      ]
     },
     "execution_count": 417,
     "metadata": {},
     "output_type": "execute_result"
    },
    {
     "data": {
      "text/plain": [
       "121"
      ]
     },
     "execution_count": 417,
     "metadata": {},
     "output_type": "execute_result"
    },
    {
     "data": {
      "text/plain": [
       "128"
      ]
     },
     "execution_count": 417,
     "metadata": {},
     "output_type": "execute_result"
    },
    {
     "data": {
      "text/plain": [
       "118"
      ]
     },
     "execution_count": 417,
     "metadata": {},
     "output_type": "execute_result"
    },
    {
     "data": {
      "text/plain": [
       "114"
      ]
     },
     "execution_count": 417,
     "metadata": {},
     "output_type": "execute_result"
    },
    {
     "data": {
      "text/plain": [
       "123"
      ]
     },
     "execution_count": 417,
     "metadata": {},
     "output_type": "execute_result"
    },
    {
     "data": {
      "text/plain": [
       "114"
      ]
     },
     "execution_count": 417,
     "metadata": {},
     "output_type": "execute_result"
    },
    {
     "data": {
      "text/plain": [
       "120"
      ]
     },
     "execution_count": 417,
     "metadata": {},
     "output_type": "execute_result"
    },
    {
     "data": {
      "text/plain": [
       "115"
      ]
     },
     "execution_count": 417,
     "metadata": {},
     "output_type": "execute_result"
    },
    {
     "data": {
      "text/plain": [
       "121"
      ]
     },
     "execution_count": 417,
     "metadata": {},
     "output_type": "execute_result"
    },
    {
     "data": {
      "text/plain": [
       "121"
      ]
     },
     "execution_count": 417,
     "metadata": {},
     "output_type": "execute_result"
    },
    {
     "data": {
      "text/plain": [
       "121"
      ]
     },
     "execution_count": 417,
     "metadata": {},
     "output_type": "execute_result"
    },
    {
     "data": {
      "text/plain": [
       "115"
      ]
     },
     "execution_count": 417,
     "metadata": {},
     "output_type": "execute_result"
    },
    {
     "data": {
      "text/plain": [
       "121"
      ]
     },
     "execution_count": 417,
     "metadata": {},
     "output_type": "execute_result"
    },
    {
     "data": {
      "text/plain": [
       "113"
      ]
     },
     "execution_count": 417,
     "metadata": {},
     "output_type": "execute_result"
    },
    {
     "data": {
      "text/plain": [
       "120"
      ]
     },
     "execution_count": 417,
     "metadata": {},
     "output_type": "execute_result"
    },
    {
     "data": {
      "text/plain": [
       "120"
      ]
     },
     "execution_count": 417,
     "metadata": {},
     "output_type": "execute_result"
    },
    {
     "data": {
      "text/plain": [
       "121"
      ]
     },
     "execution_count": 417,
     "metadata": {},
     "output_type": "execute_result"
    },
    {
     "data": {
      "text/plain": [
       "123"
      ]
     },
     "execution_count": 417,
     "metadata": {},
     "output_type": "execute_result"
    },
    {
     "data": {
      "text/plain": [
       "116"
      ]
     },
     "execution_count": 417,
     "metadata": {},
     "output_type": "execute_result"
    },
    {
     "data": {
      "text/plain": [
       "114"
      ]
     },
     "execution_count": 417,
     "metadata": {},
     "output_type": "execute_result"
    },
    {
     "data": {
      "text/plain": [
       "118"
      ]
     },
     "execution_count": 417,
     "metadata": {},
     "output_type": "execute_result"
    },
    {
     "data": {
      "text/plain": [
       "114"
      ]
     },
     "execution_count": 417,
     "metadata": {},
     "output_type": "execute_result"
    },
    {
     "data": {
      "text/plain": [
       "118"
      ]
     },
     "execution_count": 417,
     "metadata": {},
     "output_type": "execute_result"
    },
    {
     "data": {
      "text/plain": [
       "121"
      ]
     },
     "execution_count": 417,
     "metadata": {},
     "output_type": "execute_result"
    },
    {
     "data": {
      "text/plain": [
       "116"
      ]
     },
     "execution_count": 417,
     "metadata": {},
     "output_type": "execute_result"
    },
    {
     "data": {
      "text/plain": [
       "116"
      ]
     },
     "execution_count": 417,
     "metadata": {},
     "output_type": "execute_result"
    },
    {
     "data": {
      "text/plain": [
       "122"
      ]
     },
     "execution_count": 417,
     "metadata": {},
     "output_type": "execute_result"
    },
    {
     "data": {
      "text/plain": [
       "116"
      ]
     },
     "execution_count": 417,
     "metadata": {},
     "output_type": "execute_result"
    },
    {
     "data": {
      "text/plain": [
       "120"
      ]
     },
     "execution_count": 417,
     "metadata": {},
     "output_type": "execute_result"
    },
    {
     "data": {
      "text/plain": [
       "118"
      ]
     },
     "execution_count": 417,
     "metadata": {},
     "output_type": "execute_result"
    },
    {
     "data": {
      "text/plain": [
       "119"
      ]
     },
     "execution_count": 417,
     "metadata": {},
     "output_type": "execute_result"
    },
    {
     "data": {
      "text/plain": [
       "119"
      ]
     },
     "execution_count": 417,
     "metadata": {},
     "output_type": "execute_result"
    },
    {
     "data": {
      "text/plain": [
       "120"
      ]
     },
     "execution_count": 417,
     "metadata": {},
     "output_type": "execute_result"
    },
    {
     "data": {
      "text/plain": [
       "124"
      ]
     },
     "execution_count": 417,
     "metadata": {},
     "output_type": "execute_result"
    },
    {
     "data": {
      "text/plain": [
       "123"
      ]
     },
     "execution_count": 417,
     "metadata": {},
     "output_type": "execute_result"
    },
    {
     "data": {
      "text/plain": [
       "118"
      ]
     },
     "execution_count": 417,
     "metadata": {},
     "output_type": "execute_result"
    },
    {
     "data": {
      "text/plain": [
       "116"
      ]
     },
     "execution_count": 417,
     "metadata": {},
     "output_type": "execute_result"
    },
    {
     "data": {
      "text/plain": [
       "114"
      ]
     },
     "execution_count": 417,
     "metadata": {},
     "output_type": "execute_result"
    },
    {
     "data": {
      "text/plain": [
       "121"
      ]
     },
     "execution_count": 417,
     "metadata": {},
     "output_type": "execute_result"
    },
    {
     "data": {
      "text/plain": [
       "111"
      ]
     },
     "execution_count": 417,
     "metadata": {},
     "output_type": "execute_result"
    },
    {
     "data": {
      "text/plain": [
       "120"
      ]
     },
     "execution_count": 417,
     "metadata": {},
     "output_type": "execute_result"
    },
    {
     "data": {
      "text/plain": [
       "119"
      ]
     },
     "execution_count": 417,
     "metadata": {},
     "output_type": "execute_result"
    },
    {
     "data": {
      "text/plain": [
       "118"
      ]
     },
     "execution_count": 417,
     "metadata": {},
     "output_type": "execute_result"
    },
    {
     "data": {
      "text/plain": [
       "120"
      ]
     },
     "execution_count": 417,
     "metadata": {},
     "output_type": "execute_result"
    },
    {
     "data": {
      "text/plain": [
       "116"
      ]
     },
     "execution_count": 417,
     "metadata": {},
     "output_type": "execute_result"
    },
    {
     "data": {
      "text/plain": [
       "119"
      ]
     },
     "execution_count": 417,
     "metadata": {},
     "output_type": "execute_result"
    },
    {
     "data": {
      "text/plain": [
       "117"
      ]
     },
     "execution_count": 417,
     "metadata": {},
     "output_type": "execute_result"
    },
    {
     "data": {
      "text/plain": [
       "115"
      ]
     },
     "execution_count": 417,
     "metadata": {},
     "output_type": "execute_result"
    },
    {
     "data": {
      "text/plain": [
       "117"
      ]
     },
     "execution_count": 417,
     "metadata": {},
     "output_type": "execute_result"
    },
    {
     "data": {
      "text/plain": [
       "117"
      ]
     },
     "execution_count": 417,
     "metadata": {},
     "output_type": "execute_result"
    },
    {
     "data": {
      "text/plain": [
       "117"
      ]
     },
     "execution_count": 417,
     "metadata": {},
     "output_type": "execute_result"
    },
    {
     "data": {
      "text/plain": [
       "116"
      ]
     },
     "execution_count": 417,
     "metadata": {},
     "output_type": "execute_result"
    },
    {
     "data": {
      "text/plain": [
       "116"
      ]
     },
     "execution_count": 417,
     "metadata": {},
     "output_type": "execute_result"
    },
    {
     "data": {
      "text/plain": [
       "115"
      ]
     },
     "execution_count": 417,
     "metadata": {},
     "output_type": "execute_result"
    },
    {
     "data": {
      "text/plain": [
       "117"
      ]
     },
     "execution_count": 417,
     "metadata": {},
     "output_type": "execute_result"
    },
    {
     "data": {
      "text/plain": [
       "119"
      ]
     },
     "execution_count": 417,
     "metadata": {},
     "output_type": "execute_result"
    },
    {
     "data": {
      "text/plain": [
       "124"
      ]
     },
     "execution_count": 417,
     "metadata": {},
     "output_type": "execute_result"
    },
    {
     "data": {
      "text/plain": [
       "121"
      ]
     },
     "execution_count": 417,
     "metadata": {},
     "output_type": "execute_result"
    },
    {
     "data": {
      "text/plain": [
       "115"
      ]
     },
     "execution_count": 417,
     "metadata": {},
     "output_type": "execute_result"
    },
    {
     "data": {
      "text/plain": [
       "115"
      ]
     },
     "execution_count": 417,
     "metadata": {},
     "output_type": "execute_result"
    },
    {
     "data": {
      "text/plain": [
       "117"
      ]
     },
     "execution_count": 417,
     "metadata": {},
     "output_type": "execute_result"
    },
    {
     "data": {
      "text/plain": [
       "117"
      ]
     },
     "execution_count": 417,
     "metadata": {},
     "output_type": "execute_result"
    },
    {
     "data": {
      "text/plain": [
       "116"
      ]
     },
     "execution_count": 417,
     "metadata": {},
     "output_type": "execute_result"
    },
    {
     "data": {
      "text/plain": [
       "121"
      ]
     },
     "execution_count": 417,
     "metadata": {},
     "output_type": "execute_result"
    },
    {
     "data": {
      "text/plain": [
       "117"
      ]
     },
     "execution_count": 417,
     "metadata": {},
     "output_type": "execute_result"
    },
    {
     "data": {
      "text/plain": [
       "126"
      ]
     },
     "execution_count": 417,
     "metadata": {},
     "output_type": "execute_result"
    },
    {
     "data": {
      "text/plain": [
       "119"
      ]
     },
     "execution_count": 417,
     "metadata": {},
     "output_type": "execute_result"
    },
    {
     "data": {
      "text/plain": [
       "117"
      ]
     },
     "execution_count": 417,
     "metadata": {},
     "output_type": "execute_result"
    },
    {
     "data": {
      "text/plain": [
       "120"
      ]
     },
     "execution_count": 417,
     "metadata": {},
     "output_type": "execute_result"
    },
    {
     "data": {
      "text/plain": [
       "116"
      ]
     },
     "execution_count": 417,
     "metadata": {},
     "output_type": "execute_result"
    },
    {
     "data": {
      "text/plain": [
       "116"
      ]
     },
     "execution_count": 417,
     "metadata": {},
     "output_type": "execute_result"
    },
    {
     "data": {
      "text/plain": [
       "116"
      ]
     },
     "execution_count": 417,
     "metadata": {},
     "output_type": "execute_result"
    },
    {
     "data": {
      "text/plain": [
       "114"
      ]
     },
     "execution_count": 417,
     "metadata": {},
     "output_type": "execute_result"
    },
    {
     "data": {
      "text/plain": [
       "114"
      ]
     },
     "execution_count": 417,
     "metadata": {},
     "output_type": "execute_result"
    },
    {
     "data": {
      "text/plain": [
       "116"
      ]
     },
     "execution_count": 417,
     "metadata": {},
     "output_type": "execute_result"
    },
    {
     "data": {
      "text/plain": [
       "119"
      ]
     },
     "execution_count": 417,
     "metadata": {},
     "output_type": "execute_result"
    },
    {
     "data": {
      "text/plain": [
       "116"
      ]
     },
     "execution_count": 417,
     "metadata": {},
     "output_type": "execute_result"
    },
    {
     "data": {
      "text/plain": [
       "118"
      ]
     },
     "execution_count": 417,
     "metadata": {},
     "output_type": "execute_result"
    },
    {
     "data": {
      "text/plain": [
       "117"
      ]
     },
     "execution_count": 417,
     "metadata": {},
     "output_type": "execute_result"
    },
    {
     "data": {
      "text/plain": [
       "117"
      ]
     },
     "execution_count": 417,
     "metadata": {},
     "output_type": "execute_result"
    },
    {
     "data": {
      "text/plain": [
       "114"
      ]
     },
     "execution_count": 417,
     "metadata": {},
     "output_type": "execute_result"
    },
    {
     "data": {
      "text/plain": [
       "119"
      ]
     },
     "execution_count": 417,
     "metadata": {},
     "output_type": "execute_result"
    },
    {
     "data": {
      "text/plain": [
       "118"
      ]
     },
     "execution_count": 417,
     "metadata": {},
     "output_type": "execute_result"
    },
    {
     "data": {
      "text/plain": [
       "121"
      ]
     },
     "execution_count": 417,
     "metadata": {},
     "output_type": "execute_result"
    },
    {
     "data": {
      "text/plain": [
       "114"
      ]
     },
     "execution_count": 417,
     "metadata": {},
     "output_type": "execute_result"
    },
    {
     "data": {
      "text/plain": [
       "116"
      ]
     },
     "execution_count": 417,
     "metadata": {},
     "output_type": "execute_result"
    },
    {
     "data": {
      "text/plain": [
       "117"
      ]
     },
     "execution_count": 417,
     "metadata": {},
     "output_type": "execute_result"
    },
    {
     "data": {
      "text/plain": [
       "119"
      ]
     },
     "execution_count": 417,
     "metadata": {},
     "output_type": "execute_result"
    },
    {
     "data": {
      "text/plain": [
       "116"
      ]
     },
     "execution_count": 417,
     "metadata": {},
     "output_type": "execute_result"
    },
    {
     "data": {
      "text/plain": [
       "118"
      ]
     },
     "execution_count": 417,
     "metadata": {},
     "output_type": "execute_result"
    },
    {
     "data": {
      "text/plain": [
       "122"
      ]
     },
     "execution_count": 417,
     "metadata": {},
     "output_type": "execute_result"
    },
    {
     "data": {
      "text/plain": [
       "121"
      ]
     },
     "execution_count": 417,
     "metadata": {},
     "output_type": "execute_result"
    },
    {
     "data": {
      "text/plain": [
       "120"
      ]
     },
     "execution_count": 417,
     "metadata": {},
     "output_type": "execute_result"
    },
    {
     "data": {
      "text/plain": [
       "120"
      ]
     },
     "execution_count": 417,
     "metadata": {},
     "output_type": "execute_result"
    },
    {
     "data": {
      "text/plain": [
       "115"
      ]
     },
     "execution_count": 417,
     "metadata": {},
     "output_type": "execute_result"
    },
    {
     "data": {
      "text/plain": [
       "116"
      ]
     },
     "execution_count": 417,
     "metadata": {},
     "output_type": "execute_result"
    },
    {
     "data": {
      "text/plain": [
       "121"
      ]
     },
     "execution_count": 417,
     "metadata": {},
     "output_type": "execute_result"
    },
    {
     "data": {
      "text/plain": [
       "119"
      ]
     },
     "execution_count": 417,
     "metadata": {},
     "output_type": "execute_result"
    },
    {
     "data": {
      "text/plain": [
       "113"
      ]
     },
     "execution_count": 417,
     "metadata": {},
     "output_type": "execute_result"
    },
    {
     "data": {
      "text/plain": [
       "117"
      ]
     },
     "execution_count": 417,
     "metadata": {},
     "output_type": "execute_result"
    },
    {
     "data": {
      "text/plain": [
       "115"
      ]
     },
     "execution_count": 417,
     "metadata": {},
     "output_type": "execute_result"
    },
    {
     "data": {
      "text/plain": [
       "116"
      ]
     },
     "execution_count": 417,
     "metadata": {},
     "output_type": "execute_result"
    },
    {
     "data": {
      "text/plain": [
       "119"
      ]
     },
     "execution_count": 417,
     "metadata": {},
     "output_type": "execute_result"
    },
    {
     "data": {
      "text/plain": [
       "117"
      ]
     },
     "execution_count": 417,
     "metadata": {},
     "output_type": "execute_result"
    },
    {
     "data": {
      "text/plain": [
       "116"
      ]
     },
     "execution_count": 417,
     "metadata": {},
     "output_type": "execute_result"
    },
    {
     "data": {
      "text/plain": [
       "118"
      ]
     },
     "execution_count": 417,
     "metadata": {},
     "output_type": "execute_result"
    },
    {
     "data": {
      "text/plain": [
       "113"
      ]
     },
     "execution_count": 417,
     "metadata": {},
     "output_type": "execute_result"
    },
    {
     "data": {
      "text/plain": [
       "118"
      ]
     },
     "execution_count": 417,
     "metadata": {},
     "output_type": "execute_result"
    },
    {
     "data": {
      "text/plain": [
       "117"
      ]
     },
     "execution_count": 417,
     "metadata": {},
     "output_type": "execute_result"
    },
    {
     "data": {
      "text/plain": [
       "119"
      ]
     },
     "execution_count": 417,
     "metadata": {},
     "output_type": "execute_result"
    },
    {
     "data": {
      "text/plain": [
       "115"
      ]
     },
     "execution_count": 417,
     "metadata": {},
     "output_type": "execute_result"
    },
    {
     "data": {
      "text/plain": [
       "120"
      ]
     },
     "execution_count": 417,
     "metadata": {},
     "output_type": "execute_result"
    },
    {
     "data": {
      "text/plain": [
       "114"
      ]
     },
     "execution_count": 417,
     "metadata": {},
     "output_type": "execute_result"
    },
    {
     "data": {
      "text/plain": [
       "117"
      ]
     },
     "execution_count": 417,
     "metadata": {},
     "output_type": "execute_result"
    },
    {
     "data": {
      "text/plain": [
       "119"
      ]
     },
     "execution_count": 417,
     "metadata": {},
     "output_type": "execute_result"
    },
    {
     "data": {
      "text/plain": [
       "119"
      ]
     },
     "execution_count": 417,
     "metadata": {},
     "output_type": "execute_result"
    },
    {
     "data": {
      "text/plain": [
       "118"
      ]
     },
     "execution_count": 417,
     "metadata": {},
     "output_type": "execute_result"
    },
    {
     "data": {
      "text/plain": [
       "118"
      ]
     },
     "execution_count": 417,
     "metadata": {},
     "output_type": "execute_result"
    },
    {
     "data": {
      "text/plain": [
       "117"
      ]
     },
     "execution_count": 417,
     "metadata": {},
     "output_type": "execute_result"
    },
    {
     "data": {
      "text/plain": [
       "114"
      ]
     },
     "execution_count": 417,
     "metadata": {},
     "output_type": "execute_result"
    },
    {
     "data": {
      "text/plain": [
       "122"
      ]
     },
     "execution_count": 417,
     "metadata": {},
     "output_type": "execute_result"
    },
    {
     "data": {
      "text/plain": [
       "120"
      ]
     },
     "execution_count": 417,
     "metadata": {},
     "output_type": "execute_result"
    },
    {
     "data": {
      "text/plain": [
       "115"
      ]
     },
     "execution_count": 417,
     "metadata": {},
     "output_type": "execute_result"
    },
    {
     "data": {
      "text/plain": [
       "116"
      ]
     },
     "execution_count": 417,
     "metadata": {},
     "output_type": "execute_result"
    },
    {
     "data": {
      "text/plain": [
       "118"
      ]
     },
     "execution_count": 417,
     "metadata": {},
     "output_type": "execute_result"
    },
    {
     "data": {
      "text/plain": [
       "116"
      ]
     },
     "execution_count": 417,
     "metadata": {},
     "output_type": "execute_result"
    },
    {
     "data": {
      "text/plain": [
       "118"
      ]
     },
     "execution_count": 417,
     "metadata": {},
     "output_type": "execute_result"
    },
    {
     "data": {
      "text/plain": [
       "122"
      ]
     },
     "execution_count": 417,
     "metadata": {},
     "output_type": "execute_result"
    },
    {
     "data": {
      "text/plain": [
       "117"
      ]
     },
     "execution_count": 417,
     "metadata": {},
     "output_type": "execute_result"
    },
    {
     "data": {
      "text/plain": [
       "117"
      ]
     },
     "execution_count": 417,
     "metadata": {},
     "output_type": "execute_result"
    },
    {
     "data": {
      "text/plain": [
       "119"
      ]
     },
     "execution_count": 417,
     "metadata": {},
     "output_type": "execute_result"
    },
    {
     "data": {
      "text/plain": [
       "113"
      ]
     },
     "execution_count": 417,
     "metadata": {},
     "output_type": "execute_result"
    },
    {
     "data": {
      "text/plain": [
       "115"
      ]
     },
     "execution_count": 417,
     "metadata": {},
     "output_type": "execute_result"
    },
    {
     "data": {
      "text/plain": [
       "114"
      ]
     },
     "execution_count": 417,
     "metadata": {},
     "output_type": "execute_result"
    },
    {
     "data": {
      "text/plain": [
       "114"
      ]
     },
     "execution_count": 417,
     "metadata": {},
     "output_type": "execute_result"
    },
    {
     "data": {
      "text/plain": [
       "117"
      ]
     },
     "execution_count": 417,
     "metadata": {},
     "output_type": "execute_result"
    },
    {
     "data": {
      "text/plain": [
       "128"
      ]
     },
     "execution_count": 417,
     "metadata": {},
     "output_type": "execute_result"
    },
    {
     "data": {
      "text/plain": [
       "115"
      ]
     },
     "execution_count": 417,
     "metadata": {},
     "output_type": "execute_result"
    },
    {
     "data": {
      "text/plain": [
       "115"
      ]
     },
     "execution_count": 417,
     "metadata": {},
     "output_type": "execute_result"
    },
    {
     "data": {
      "text/plain": [
       "118"
      ]
     },
     "execution_count": 417,
     "metadata": {},
     "output_type": "execute_result"
    },
    {
     "data": {
      "text/plain": [
       "115"
      ]
     },
     "execution_count": 417,
     "metadata": {},
     "output_type": "execute_result"
    },
    {
     "data": {
      "text/plain": [
       "114"
      ]
     },
     "execution_count": 417,
     "metadata": {},
     "output_type": "execute_result"
    },
    {
     "data": {
      "text/plain": [
       "114"
      ]
     },
     "execution_count": 417,
     "metadata": {},
     "output_type": "execute_result"
    },
    {
     "data": {
      "text/plain": [
       "115"
      ]
     },
     "execution_count": 417,
     "metadata": {},
     "output_type": "execute_result"
    },
    {
     "data": {
      "text/plain": [
       "118"
      ]
     },
     "execution_count": 417,
     "metadata": {},
     "output_type": "execute_result"
    },
    {
     "data": {
      "text/plain": [
       "111"
      ]
     },
     "execution_count": 417,
     "metadata": {},
     "output_type": "execute_result"
    },
    {
     "data": {
      "text/plain": [
       "116"
      ]
     },
     "execution_count": 417,
     "metadata": {},
     "output_type": "execute_result"
    },
    {
     "data": {
      "text/plain": [
       "117"
      ]
     },
     "execution_count": 417,
     "metadata": {},
     "output_type": "execute_result"
    },
    {
     "data": {
      "text/plain": [
       "117"
      ]
     },
     "execution_count": 417,
     "metadata": {},
     "output_type": "execute_result"
    },
    {
     "data": {
      "text/plain": [
       "117"
      ]
     },
     "execution_count": 417,
     "metadata": {},
     "output_type": "execute_result"
    },
    {
     "data": {
      "text/plain": [
       "113"
      ]
     },
     "execution_count": 417,
     "metadata": {},
     "output_type": "execute_result"
    },
    {
     "data": {
      "text/plain": [
       "115"
      ]
     },
     "execution_count": 417,
     "metadata": {},
     "output_type": "execute_result"
    },
    {
     "data": {
      "text/plain": [
       "118"
      ]
     },
     "execution_count": 417,
     "metadata": {},
     "output_type": "execute_result"
    },
    {
     "data": {
      "text/plain": [
       "122"
      ]
     },
     "execution_count": 417,
     "metadata": {},
     "output_type": "execute_result"
    },
    {
     "data": {
      "text/plain": [
       "116"
      ]
     },
     "execution_count": 417,
     "metadata": {},
     "output_type": "execute_result"
    },
    {
     "data": {
      "text/plain": [
       "115"
      ]
     },
     "execution_count": 417,
     "metadata": {},
     "output_type": "execute_result"
    },
    {
     "data": {
      "text/plain": [
       "116"
      ]
     },
     "execution_count": 417,
     "metadata": {},
     "output_type": "execute_result"
    },
    {
     "data": {
      "text/plain": [
       "115"
      ]
     },
     "execution_count": 417,
     "metadata": {},
     "output_type": "execute_result"
    },
    {
     "data": {
      "text/plain": [
       "115"
      ]
     },
     "execution_count": 417,
     "metadata": {},
     "output_type": "execute_result"
    },
    {
     "data": {
      "text/plain": [
       "116"
      ]
     },
     "execution_count": 417,
     "metadata": {},
     "output_type": "execute_result"
    },
    {
     "data": {
      "text/plain": [
       "117"
      ]
     },
     "execution_count": 417,
     "metadata": {},
     "output_type": "execute_result"
    },
    {
     "data": {
      "text/plain": [
       "117"
      ]
     },
     "execution_count": 417,
     "metadata": {},
     "output_type": "execute_result"
    },
    {
     "data": {
      "text/plain": [
       "111"
      ]
     },
     "execution_count": 417,
     "metadata": {},
     "output_type": "execute_result"
    },
    {
     "data": {
      "text/plain": [
       "114"
      ]
     },
     "execution_count": 417,
     "metadata": {},
     "output_type": "execute_result"
    },
    {
     "data": {
      "text/plain": [
       "113"
      ]
     },
     "execution_count": 417,
     "metadata": {},
     "output_type": "execute_result"
    },
    {
     "data": {
      "text/plain": [
       "117"
      ]
     },
     "execution_count": 417,
     "metadata": {},
     "output_type": "execute_result"
    },
    {
     "data": {
      "text/plain": [
       "115"
      ]
     },
     "execution_count": 417,
     "metadata": {},
     "output_type": "execute_result"
    },
    {
     "data": {
      "text/plain": [
       "120"
      ]
     },
     "execution_count": 417,
     "metadata": {},
     "output_type": "execute_result"
    },
    {
     "data": {
      "text/plain": [
       "118"
      ]
     },
     "execution_count": 417,
     "metadata": {},
     "output_type": "execute_result"
    },
    {
     "data": {
      "text/plain": [
       "117"
      ]
     },
     "execution_count": 417,
     "metadata": {},
     "output_type": "execute_result"
    },
    {
     "data": {
      "text/plain": [
       "115"
      ]
     },
     "execution_count": 417,
     "metadata": {},
     "output_type": "execute_result"
    },
    {
     "data": {
      "text/plain": [
       "116"
      ]
     },
     "execution_count": 417,
     "metadata": {},
     "output_type": "execute_result"
    },
    {
     "data": {
      "text/plain": [
       "119"
      ]
     },
     "execution_count": 417,
     "metadata": {},
     "output_type": "execute_result"
    },
    {
     "data": {
      "text/plain": [
       "118"
      ]
     },
     "execution_count": 417,
     "metadata": {},
     "output_type": "execute_result"
    },
    {
     "data": {
      "text/plain": [
       "123"
      ]
     },
     "execution_count": 417,
     "metadata": {},
     "output_type": "execute_result"
    },
    {
     "data": {
      "text/plain": [
       "120"
      ]
     },
     "execution_count": 417,
     "metadata": {},
     "output_type": "execute_result"
    },
    {
     "data": {
      "text/plain": [
       "117"
      ]
     },
     "execution_count": 417,
     "metadata": {},
     "output_type": "execute_result"
    },
    {
     "data": {
      "text/plain": [
       "118"
      ]
     },
     "execution_count": 417,
     "metadata": {},
     "output_type": "execute_result"
    },
    {
     "data": {
      "text/plain": [
       "118"
      ]
     },
     "execution_count": 417,
     "metadata": {},
     "output_type": "execute_result"
    },
    {
     "data": {
      "text/plain": [
       "118"
      ]
     },
     "execution_count": 417,
     "metadata": {},
     "output_type": "execute_result"
    },
    {
     "data": {
      "text/plain": [
       "118"
      ]
     },
     "execution_count": 417,
     "metadata": {},
     "output_type": "execute_result"
    },
    {
     "data": {
      "text/plain": [
       "116"
      ]
     },
     "execution_count": 417,
     "metadata": {},
     "output_type": "execute_result"
    },
    {
     "data": {
      "text/plain": [
       "113"
      ]
     },
     "execution_count": 417,
     "metadata": {},
     "output_type": "execute_result"
    },
    {
     "data": {
      "text/plain": [
       "122"
      ]
     },
     "execution_count": 417,
     "metadata": {},
     "output_type": "execute_result"
    },
    {
     "data": {
      "text/plain": [
       "113"
      ]
     },
     "execution_count": 417,
     "metadata": {},
     "output_type": "execute_result"
    },
    {
     "data": {
      "text/plain": [
       "112"
      ]
     },
     "execution_count": 417,
     "metadata": {},
     "output_type": "execute_result"
    },
    {
     "data": {
      "text/plain": [
       "117"
      ]
     },
     "execution_count": 417,
     "metadata": {},
     "output_type": "execute_result"
    },
    {
     "data": {
      "text/plain": [
       "114"
      ]
     },
     "execution_count": 417,
     "metadata": {},
     "output_type": "execute_result"
    },
    {
     "data": {
      "text/plain": [
       "114"
      ]
     },
     "execution_count": 417,
     "metadata": {},
     "output_type": "execute_result"
    },
    {
     "data": {
      "text/plain": [
       "116"
      ]
     },
     "execution_count": 417,
     "metadata": {},
     "output_type": "execute_result"
    },
    {
     "data": {
      "text/plain": [
       "118"
      ]
     },
     "execution_count": 417,
     "metadata": {},
     "output_type": "execute_result"
    },
    {
     "data": {
      "text/plain": [
       "117"
      ]
     },
     "execution_count": 417,
     "metadata": {},
     "output_type": "execute_result"
    },
    {
     "data": {
      "text/plain": [
       "120"
      ]
     },
     "execution_count": 417,
     "metadata": {},
     "output_type": "execute_result"
    },
    {
     "data": {
      "text/plain": [
       "112"
      ]
     },
     "execution_count": 417,
     "metadata": {},
     "output_type": "execute_result"
    },
    {
     "data": {
      "text/plain": [
       "114"
      ]
     },
     "execution_count": 417,
     "metadata": {},
     "output_type": "execute_result"
    },
    {
     "data": {
      "text/plain": [
       "115"
      ]
     },
     "execution_count": 417,
     "metadata": {},
     "output_type": "execute_result"
    },
    {
     "name": "stdout",
     "output_type": "stream",
     "text": [
      "working on 203081\n",
      "got here\n",
      "got here\n",
      "got here\n",
      "got here\n",
      "got here\n",
      "got here\n",
      "got here\n",
      "got here\n",
      "got here\n",
      "got here\n",
      "got here\n",
      "got here\n",
      "got here\n",
      "got here\n",
      "got here\n",
      "got here\n",
      "got here\n",
      "got here\n",
      "got here\n",
      "got here\n",
      "got here\n",
      "got here\n",
      "got here\n",
      "got here\n",
      "got here\n",
      "got here\n",
      "got here\n",
      "got here\n",
      "got here\n",
      "got here\n",
      "got here\n",
      "got here\n",
      "got here\n",
      "got here\n",
      "working on 201935\n",
      "working on 200768\n",
      "working on 203468\n",
      "working on 201566\n",
      "working on 1626164\n",
      "working on 1627832\n",
      "working on 203078\n",
      "working on 1627783\n",
      "working on 1627732\n",
      "working on 1629027\n",
      "working on 1628983\n",
      "working on 1628984\n",
      "working on 1627734\n",
      "working on 2544\n",
      "working on 201950\n",
      "working on 203897\n",
      "working on 203084\n",
      "working on 200782\n",
      "working on 202699\n",
      "working on 1626162\n",
      "working on 203497\n",
      "working on 203952\n",
      "working on 1628378\n",
      "working on 1628369\n",
      "working on 203076\n",
      "working on 1626179\n",
      "working on 201942\n",
      "working on 1628389\n",
      "working on 202710\n",
      "working on 1627742\n",
      "working on 1627759\n",
      "working on 1629029\n",
      "working on 202330\n",
      "working on 200746\n",
      "working on 202711\n",
      "working on 203115\n",
      "working on 1629012\n",
      "working on 203083\n",
      "working on 203933\n",
      "working on 1627750\n",
      "working on 2546\n",
      "working on 203932\n",
      "working on 203944\n",
      "working on 203999\n",
      "working on 202696\n",
      "working on 1626156\n",
      "working on 1628366\n",
      "working on 202695\n",
      "working on 203935\n",
      "working on 1629631\n",
      "working on 1628368\n",
      "working on 101108\n",
      "working on 203914\n",
      "working on 201567\n",
      "working on 1627741\n",
      "working on 201937\n",
      "working on 204001\n",
      "working on 1628989\n",
      "working on 203095\n",
      "working on 202689\n",
      "working on 202694\n",
      "working on 203915\n",
      "working on 1629636\n",
      "working on 203925\n",
      "working on 1626196\n",
      "working on 203471\n",
      "working on 1627763\n",
      "working on 203507\n",
      "working on 1628970\n",
      "working on 201143\n",
      "working on 202355\n",
      "working on 1629630\n",
      "working on 203496\n",
      "working on 1629628\n",
      "working on 201568\n",
      "working on 1629023\n",
      "working on 1627863\n",
      "working on 1628384\n",
      "working on 202684\n",
      "working on 204060\n",
      "working on 203114\n",
      "working on 1629130\n",
      "working on 1628374\n",
      "working on 1627827\n",
      "working on 1626167\n",
      "working on 1626224\n",
      "working on 202722\n",
      "working on 203109\n",
      "working on 1629134\n",
      "working on 203501\n",
      "working on 1626220\n",
      "working on 101150\n",
      "working on 203922\n",
      "working on 1627814\n",
      "working on 1627752\n",
      "working on 203107\n",
      "working on 1628415\n",
      "working on 1626181\n",
      "working on 202357\n",
      "working on 1628991\n",
      "working on 203992\n",
      "working on 201609\n",
      "working on 1628971\n",
      "working on 2772\n",
      "working on 1628365\n",
      "working on 203503\n",
      "working on 1626149\n",
      "working on 202066\n",
      "working on 1628969\n",
      "working on 1629672\n",
      "working on 201586\n",
      "working on 203082\n",
      "working on 1629013\n",
      "working on 1628404\n",
      "working on 203500\n",
      "working on 202339\n",
      "working on 1629639\n",
      "working on 1629629\n",
      "working on 201572\n",
      "working on 202692\n",
      "working on 203924\n",
      "working on 201976\n",
      "working on 202685\n",
      "working on 1626204\n",
      "working on 200755\n",
      "working on 202397\n",
      "working on 1628386\n",
      "working on 201565\n",
      "working on 1628467\n",
      "working on 204038\n",
      "working on 1629632\n",
      "working on 203484\n",
      "working on 1628972\n",
      "working on 203200\n",
      "working on 1627749\n",
      "working on 1627854\n",
      "working on 1629006\n",
      "working on 203145\n",
      "working on 201980\n",
      "working on 1627739\n",
      "working on 203967\n",
      "working on 201152\n",
      "working on 201952\n",
      "working on 201571\n",
      "working on 1628398\n",
      "working on 202083\n",
      "working on 203552\n",
      "working on 1628401\n",
      "working on 202324\n",
      "working on 203903\n",
      "working on 202709\n",
      "working on 202340\n",
      "working on 1628988\n",
      "working on 203894\n",
      "working on 1628464\n",
      "working on 1629633\n",
      "working on 1627884\n",
      "working on 1629645\n",
      "working on 1628978\n",
      "working on 1629011\n",
      "working on 203469\n",
      "working on 203085\n",
      "working on 1628390\n",
      "working on 203090\n",
      "working on 203463\n",
      "working on 1629004\n",
      "working on 201988\n",
      "working on 1629673\n",
      "working on 1629634\n",
      "working on 1628420\n",
      "working on 201599\n",
      "working on 1627736\n",
      "working on 200752\n",
      "working on 1627788\n",
      "working on 1626153\n",
      "working on 1629014\n",
      "working on 201588\n",
      "working on 1626174\n",
      "working on 1628370\n",
      "working on 1626171\n",
      "working on 1629661\n",
      "working on 1628373\n",
      "working on 203210\n",
      "working on 1629018\n",
      "working on 202693\n",
      "working on 200765\n",
      "working on 1626161\n",
      "working on 1627737\n",
      "working on 1626168\n",
      "working on 203086\n",
      "working on 203926\n",
      "working on 203937\n",
      "working on 101107\n",
      "working on 1629001\n",
      "working on 202687\n",
      "working on 202954\n",
      "working on 1629680\n",
      "working on 2730\n",
      "working on 203482\n",
      "working on 1626145\n",
      "working on 1628998\n",
      "working on 204456\n",
      "working on 1626178\n",
      "working on 202734\n",
      "working on 203457\n",
      "working on 1626192\n",
      "working on 1629067\n",
      "working on 1627826\n",
      "working on 1627936\n",
      "working on 203524\n",
      "working on 1629016\n",
      "working on 203458\n",
      "working on 1628470\n",
      "working on 1628995\n",
      "working on 1628973\n",
      "working on 203516\n",
      "working on 203118\n",
      "working on 1629647\n",
      "working on 1628422\n",
      "working on 1627823\n",
      "working on 203476\n",
      "working on 1627751\n",
      "working on 1629740\n",
      "working on 202683\n",
      "working on 203486\n",
      "working on 1629637\n",
      "working on 1626203\n",
      "working on 1629056\n",
      "working on 2594\n",
      "working on 201580\n",
      "working on 201959\n",
      "working on 1626209\n",
      "working on 1627745\n",
      "working on 1627853\n",
      "working on 1628382\n",
      "working on 101141\n",
      "working on 1627846\n",
      "working on 1628975\n",
      "working on 201229\n",
      "working on 1626144\n",
      "working on 1629008\n",
      "working on 1629022\n",
      "working on 1629684\n",
      "working on 201158\n",
      "working on 203585\n",
      "working on 1628425\n",
      "working on 1629010\n",
      "working on 1628400\n",
      "working on 1713\n",
      "working on 203521\n",
      "working on 201577\n",
      "working on 1628964\n",
      "working on 1627777\n",
      "working on 1629059\n",
      "working on 1627748\n",
      "working on 1628449\n",
      "working on 1628981\n",
      "working on 1628402\n",
      "working on 202335\n",
      "working on 203526\n",
      "working on 1628396\n",
      "working on 1629048\n"
     ]
    },
    {
     "data": {
      "text/plain": [
       "'                    \\n        # need header row for player_bios\\n        if len(player_bios) == 0:\\n            player_bio_headers = []\\n            for attribute in attributes:\\n                attribute_name = attribute.split(\\':\\')[0].replace(\\'\"\\', \\'\\')\\n                player_bio_headers.append(attribute_name)\\n\\n        for attribute in attributes:\\n            attribute_value = attribute.split(\\':\\')[1].replace(\\'\"\\', \\'\\')\\n            player_bio.append(attribute_value)\\n    '"
      ]
     },
     "execution_count": 417,
     "metadata": {},
     "output_type": "execute_result"
    },
    {
     "name": "stdout",
     "output_type": "stream",
     "text": [
      "['PERSON_ID', 'FIRST_NAME', 'LAST_NAME', 'DISPLAY_FIRST_LAST', 'DISPLAY_LAST_COMMA_FIRST', 'DISPLAY_FI_LAST', 'PLAYER_SLUG', 'BIRTHDATE', 'SCHOOL', 'COUNTRY', 'LAST_AFFILIATION', 'HEIGHT', 'WEIGHT', 'SEASON_EXP', 'JERSEY', 'POSITION', 'ROSTERSTATUS', 'TEAM_ID', 'TEAM_NAME', 'TEAM_ABBREVIATION', 'TEAM_CODE', 'TEAM_CITY', 'PLAYERCODE', 'FROM_YEAR', 'TO_YEAR', 'DLEAGUE_FLAG', 'NBA_FLAG', 'GAMES_PLAYED_FLAG', 'DRAFT_YEAR', 'DRAFT_ROUND', 'DRAFT_NUMBER', 'POSITION_INITIALS', 'AGE', 'AGE_DAYS']\n"
     ]
    },
    {
     "data": {
      "text/plain": [
       "392"
      ]
     },
     "execution_count": 417,
     "metadata": {},
     "output_type": "execute_result"
    },
    {
     "data": {
      "text/plain": [
       "247"
      ]
     },
     "execution_count": 417,
     "metadata": {},
     "output_type": "execute_result"
    },
    {
     "data": {
      "text/plain": [
       "236"
      ]
     },
     "execution_count": 417,
     "metadata": {},
     "output_type": "execute_result"
    },
    {
     "data": {
      "text/plain": [
       "217"
      ]
     },
     "execution_count": 417,
     "metadata": {},
     "output_type": "execute_result"
    },
    {
     "data": {
      "text/plain": [
       "225"
      ]
     },
     "execution_count": 417,
     "metadata": {},
     "output_type": "execute_result"
    },
    {
     "data": {
      "text/plain": [
       "245"
      ]
     },
     "execution_count": 417,
     "metadata": {},
     "output_type": "execute_result"
    },
    {
     "data": {
      "text/plain": [
       "220"
      ]
     },
     "execution_count": 417,
     "metadata": {},
     "output_type": "execute_result"
    },
    {
     "data": {
      "text/plain": [
       "264"
      ]
     },
     "execution_count": 417,
     "metadata": {},
     "output_type": "execute_result"
    },
    {
     "data": {
      "text/plain": [
       "222"
      ]
     },
     "execution_count": 417,
     "metadata": {},
     "output_type": "execute_result"
    },
    {
     "data": {
      "text/plain": [
       "260"
      ]
     },
     "execution_count": 417,
     "metadata": {},
     "output_type": "execute_result"
    },
    {
     "data": {
      "text/plain": [
       "259"
      ]
     },
     "execution_count": 417,
     "metadata": {},
     "output_type": "execute_result"
    },
    {
     "data": {
      "text/plain": [
       "225"
      ]
     },
     "execution_count": 417,
     "metadata": {},
     "output_type": "execute_result"
    },
    {
     "data": {
      "text/plain": [
       "328"
      ]
     },
     "execution_count": 417,
     "metadata": {},
     "output_type": "execute_result"
    },
    {
     "data": {
      "text/plain": [
       "251"
      ]
     },
     "execution_count": 417,
     "metadata": {},
     "output_type": "execute_result"
    },
    {
     "data": {
      "text/plain": [
       "266"
      ]
     },
     "execution_count": 417,
     "metadata": {},
     "output_type": "execute_result"
    },
    {
     "data": {
      "text/plain": [
       "240"
      ]
     },
     "execution_count": 417,
     "metadata": {},
     "output_type": "execute_result"
    },
    {
     "data": {
      "text/plain": [
       "225"
      ]
     },
     "execution_count": 417,
     "metadata": {},
     "output_type": "execute_result"
    },
    {
     "data": {
      "text/plain": [
       "218"
      ]
     },
     "execution_count": 417,
     "metadata": {},
     "output_type": "execute_result"
    },
    {
     "data": {
      "text/plain": [
       "252"
      ]
     },
     "execution_count": 417,
     "metadata": {},
     "output_type": "execute_result"
    },
    {
     "data": {
      "text/plain": [
       "212"
      ]
     },
     "execution_count": 417,
     "metadata": {},
     "output_type": "execute_result"
    },
    {
     "data": {
      "text/plain": [
       "236"
      ]
     },
     "execution_count": 417,
     "metadata": {},
     "output_type": "execute_result"
    },
    {
     "data": {
      "text/plain": [
       "243"
      ]
     },
     "execution_count": 417,
     "metadata": {},
     "output_type": "execute_result"
    },
    {
     "data": {
      "text/plain": [
       "214"
      ]
     },
     "execution_count": 417,
     "metadata": {},
     "output_type": "execute_result"
    },
    {
     "data": {
      "text/plain": [
       "247"
      ]
     },
     "execution_count": 417,
     "metadata": {},
     "output_type": "execute_result"
    },
    {
     "data": {
      "text/plain": [
       "244"
      ]
     },
     "execution_count": 417,
     "metadata": {},
     "output_type": "execute_result"
    },
    {
     "data": {
      "text/plain": [
       "225"
      ]
     },
     "execution_count": 417,
     "metadata": {},
     "output_type": "execute_result"
    },
    {
     "data": {
      "text/plain": [
       "241"
      ]
     },
     "execution_count": 417,
     "metadata": {},
     "output_type": "execute_result"
    },
    {
     "data": {
      "text/plain": [
       "232"
      ]
     },
     "execution_count": 417,
     "metadata": {},
     "output_type": "execute_result"
    },
    {
     "data": {
      "text/plain": [
       "232"
      ]
     },
     "execution_count": 417,
     "metadata": {},
     "output_type": "execute_result"
    },
    {
     "data": {
      "text/plain": [
       "225"
      ]
     },
     "execution_count": 417,
     "metadata": {},
     "output_type": "execute_result"
    },
    {
     "data": {
      "text/plain": [
       "222"
      ]
     },
     "execution_count": 417,
     "metadata": {},
     "output_type": "execute_result"
    },
    {
     "data": {
      "text/plain": [
       "236"
      ]
     },
     "execution_count": 417,
     "metadata": {},
     "output_type": "execute_result"
    },
    {
     "data": {
      "text/plain": [
       "237"
      ]
     },
     "execution_count": 417,
     "metadata": {},
     "output_type": "execute_result"
    },
    {
     "data": {
      "text/plain": [
       "237"
      ]
     },
     "execution_count": 417,
     "metadata": {},
     "output_type": "execute_result"
    },
    {
     "data": {
      "text/plain": [
       "233"
      ]
     },
     "execution_count": 417,
     "metadata": {},
     "output_type": "execute_result"
    },
    {
     "data": {
      "text/plain": [
       "257"
      ]
     },
     "execution_count": 417,
     "metadata": {},
     "output_type": "execute_result"
    },
    {
     "data": {
      "text/plain": [
       "255"
      ]
     },
     "execution_count": 417,
     "metadata": {},
     "output_type": "execute_result"
    },
    {
     "data": {
      "text/plain": [
       "217"
      ]
     },
     "execution_count": 417,
     "metadata": {},
     "output_type": "execute_result"
    },
    {
     "data": {
      "text/plain": [
       "248"
      ]
     },
     "execution_count": 417,
     "metadata": {},
     "output_type": "execute_result"
    },
    {
     "data": {
      "text/plain": [
       "249"
      ]
     },
     "execution_count": 417,
     "metadata": {},
     "output_type": "execute_result"
    },
    {
     "data": {
      "text/plain": [
       "240"
      ]
     },
     "execution_count": 417,
     "metadata": {},
     "output_type": "execute_result"
    },
    {
     "data": {
      "text/plain": [
       "231"
      ]
     },
     "execution_count": 417,
     "metadata": {},
     "output_type": "execute_result"
    },
    {
     "data": {
      "text/plain": [
       "248"
      ]
     },
     "execution_count": 417,
     "metadata": {},
     "output_type": "execute_result"
    },
    {
     "data": {
      "text/plain": [
       "221"
      ]
     },
     "execution_count": 417,
     "metadata": {},
     "output_type": "execute_result"
    },
    {
     "data": {
      "text/plain": [
       "240"
      ]
     },
     "execution_count": 417,
     "metadata": {},
     "output_type": "execute_result"
    },
    {
     "data": {
      "text/plain": [
       "227"
      ]
     },
     "execution_count": 417,
     "metadata": {},
     "output_type": "execute_result"
    },
    {
     "data": {
      "text/plain": [
       "237"
      ]
     },
     "execution_count": 417,
     "metadata": {},
     "output_type": "execute_result"
    },
    {
     "data": {
      "text/plain": [
       "261"
      ]
     },
     "execution_count": 417,
     "metadata": {},
     "output_type": "execute_result"
    },
    {
     "data": {
      "text/plain": [
       "211"
      ]
     },
     "execution_count": 417,
     "metadata": {},
     "output_type": "execute_result"
    },
    {
     "data": {
      "text/plain": [
       "243"
      ]
     },
     "execution_count": 417,
     "metadata": {},
     "output_type": "execute_result"
    },
    {
     "data": {
      "text/plain": [
       "235"
      ]
     },
     "execution_count": 417,
     "metadata": {},
     "output_type": "execute_result"
    },
    {
     "data": {
      "text/plain": [
       "259"
      ]
     },
     "execution_count": 417,
     "metadata": {},
     "output_type": "execute_result"
    },
    {
     "data": {
      "text/plain": [
       "220"
      ]
     },
     "execution_count": 417,
     "metadata": {},
     "output_type": "execute_result"
    },
    {
     "data": {
      "text/plain": [
       "224"
      ]
     },
     "execution_count": 417,
     "metadata": {},
     "output_type": "execute_result"
    },
    {
     "data": {
      "text/plain": [
       "232"
      ]
     },
     "execution_count": 417,
     "metadata": {},
     "output_type": "execute_result"
    },
    {
     "data": {
      "text/plain": [
       "222"
      ]
     },
     "execution_count": 417,
     "metadata": {},
     "output_type": "execute_result"
    },
    {
     "data": {
      "text/plain": [
       "227"
      ]
     },
     "execution_count": 417,
     "metadata": {},
     "output_type": "execute_result"
    },
    {
     "data": {
      "text/plain": [
       "214"
      ]
     },
     "execution_count": 417,
     "metadata": {},
     "output_type": "execute_result"
    },
    {
     "data": {
      "text/plain": [
       "275"
      ]
     },
     "execution_count": 417,
     "metadata": {},
     "output_type": "execute_result"
    },
    {
     "data": {
      "text/plain": [
       "267"
      ]
     },
     "execution_count": 417,
     "metadata": {},
     "output_type": "execute_result"
    },
    {
     "data": {
      "text/plain": [
       "248"
      ]
     },
     "execution_count": 417,
     "metadata": {},
     "output_type": "execute_result"
    },
    {
     "data": {
      "text/plain": [
       "228"
      ]
     },
     "execution_count": 417,
     "metadata": {},
     "output_type": "execute_result"
    },
    {
     "data": {
      "text/plain": [
       "245"
      ]
     },
     "execution_count": 417,
     "metadata": {},
     "output_type": "execute_result"
    },
    {
     "data": {
      "text/plain": [
       "249"
      ]
     },
     "execution_count": 417,
     "metadata": {},
     "output_type": "execute_result"
    },
    {
     "data": {
      "text/plain": [
       "258"
      ]
     },
     "execution_count": 417,
     "metadata": {},
     "output_type": "execute_result"
    },
    {
     "data": {
      "text/plain": [
       "221"
      ]
     },
     "execution_count": 417,
     "metadata": {},
     "output_type": "execute_result"
    },
    {
     "data": {
      "text/plain": [
       "249"
      ]
     },
     "execution_count": 417,
     "metadata": {},
     "output_type": "execute_result"
    },
    {
     "data": {
      "text/plain": [
       "249"
      ]
     },
     "execution_count": 417,
     "metadata": {},
     "output_type": "execute_result"
    },
    {
     "data": {
      "text/plain": [
       "240"
      ]
     },
     "execution_count": 417,
     "metadata": {},
     "output_type": "execute_result"
    },
    {
     "data": {
      "text/plain": [
       "282"
      ]
     },
     "execution_count": 417,
     "metadata": {},
     "output_type": "execute_result"
    },
    {
     "data": {
      "text/plain": [
       "259"
      ]
     },
     "execution_count": 417,
     "metadata": {},
     "output_type": "execute_result"
    },
    {
     "data": {
      "text/plain": [
       "256"
      ]
     },
     "execution_count": 417,
     "metadata": {},
     "output_type": "execute_result"
    },
    {
     "data": {
      "text/plain": [
       "256"
      ]
     },
     "execution_count": 417,
     "metadata": {},
     "output_type": "execute_result"
    },
    {
     "data": {
      "text/plain": [
       "234"
      ]
     },
     "execution_count": 417,
     "metadata": {},
     "output_type": "execute_result"
    },
    {
     "data": {
      "text/plain": [
       "285"
      ]
     },
     "execution_count": 417,
     "metadata": {},
     "output_type": "execute_result"
    },
    {
     "data": {
      "text/plain": [
       "222"
      ]
     },
     "execution_count": 417,
     "metadata": {},
     "output_type": "execute_result"
    },
    {
     "data": {
      "text/plain": [
       "259"
      ]
     },
     "execution_count": 417,
     "metadata": {},
     "output_type": "execute_result"
    },
    {
     "data": {
      "text/plain": [
       "260"
      ]
     },
     "execution_count": 417,
     "metadata": {},
     "output_type": "execute_result"
    },
    {
     "data": {
      "text/plain": [
       "275"
      ]
     },
     "execution_count": 417,
     "metadata": {},
     "output_type": "execute_result"
    },
    {
     "data": {
      "text/plain": [
       "238"
      ]
     },
     "execution_count": 417,
     "metadata": {},
     "output_type": "execute_result"
    },
    {
     "data": {
      "text/plain": [
       "264"
      ]
     },
     "execution_count": 417,
     "metadata": {},
     "output_type": "execute_result"
    },
    {
     "data": {
      "text/plain": [
       "258"
      ]
     },
     "execution_count": 417,
     "metadata": {},
     "output_type": "execute_result"
    },
    {
     "data": {
      "text/plain": [
       "246"
      ]
     },
     "execution_count": 417,
     "metadata": {},
     "output_type": "execute_result"
    },
    {
     "data": {
      "text/plain": [
       "258"
      ]
     },
     "execution_count": 417,
     "metadata": {},
     "output_type": "execute_result"
    },
    {
     "data": {
      "text/plain": [
       "256"
      ]
     },
     "execution_count": 417,
     "metadata": {},
     "output_type": "execute_result"
    },
    {
     "data": {
      "text/plain": [
       "290"
      ]
     },
     "execution_count": 417,
     "metadata": {},
     "output_type": "execute_result"
    },
    {
     "data": {
      "text/plain": [
       "230"
      ]
     },
     "execution_count": 417,
     "metadata": {},
     "output_type": "execute_result"
    },
    {
     "data": {
      "text/plain": [
       "227"
      ]
     },
     "execution_count": 417,
     "metadata": {},
     "output_type": "execute_result"
    },
    {
     "data": {
      "text/plain": [
       "244"
      ]
     },
     "execution_count": 417,
     "metadata": {},
     "output_type": "execute_result"
    },
    {
     "data": {
      "text/plain": [
       "217"
      ]
     },
     "execution_count": 417,
     "metadata": {},
     "output_type": "execute_result"
    },
    {
     "data": {
      "text/plain": [
       "254"
      ]
     },
     "execution_count": 417,
     "metadata": {},
     "output_type": "execute_result"
    },
    {
     "data": {
      "text/plain": [
       "264"
      ]
     },
     "execution_count": 417,
     "metadata": {},
     "output_type": "execute_result"
    },
    {
     "data": {
      "text/plain": [
       "240"
      ]
     },
     "execution_count": 417,
     "metadata": {},
     "output_type": "execute_result"
    },
    {
     "data": {
      "text/plain": [
       "256"
      ]
     },
     "execution_count": 417,
     "metadata": {},
     "output_type": "execute_result"
    },
    {
     "data": {
      "text/plain": [
       "266"
      ]
     },
     "execution_count": 417,
     "metadata": {},
     "output_type": "execute_result"
    },
    {
     "data": {
      "text/plain": [
       "254"
      ]
     },
     "execution_count": 417,
     "metadata": {},
     "output_type": "execute_result"
    },
    {
     "data": {
      "text/plain": [
       "229"
      ]
     },
     "execution_count": 417,
     "metadata": {},
     "output_type": "execute_result"
    },
    {
     "data": {
      "text/plain": [
       "273"
      ]
     },
     "execution_count": 417,
     "metadata": {},
     "output_type": "execute_result"
    },
    {
     "data": {
      "text/plain": [
       "248"
      ]
     },
     "execution_count": 417,
     "metadata": {},
     "output_type": "execute_result"
    },
    {
     "data": {
      "text/plain": [
       "223"
      ]
     },
     "execution_count": 417,
     "metadata": {},
     "output_type": "execute_result"
    },
    {
     "data": {
      "text/plain": [
       "249"
      ]
     },
     "execution_count": 417,
     "metadata": {},
     "output_type": "execute_result"
    },
    {
     "data": {
      "text/plain": [
       "292"
      ]
     },
     "execution_count": 417,
     "metadata": {},
     "output_type": "execute_result"
    },
    {
     "data": {
      "text/plain": [
       "263"
      ]
     },
     "execution_count": 417,
     "metadata": {},
     "output_type": "execute_result"
    },
    {
     "data": {
      "text/plain": [
       "226"
      ]
     },
     "execution_count": 417,
     "metadata": {},
     "output_type": "execute_result"
    },
    {
     "data": {
      "text/plain": [
       "242"
      ]
     },
     "execution_count": 417,
     "metadata": {},
     "output_type": "execute_result"
    },
    {
     "data": {
      "text/plain": [
       "223"
      ]
     },
     "execution_count": 417,
     "metadata": {},
     "output_type": "execute_result"
    },
    {
     "data": {
      "text/plain": [
       "234"
      ]
     },
     "execution_count": 417,
     "metadata": {},
     "output_type": "execute_result"
    },
    {
     "data": {
      "text/plain": [
       "210"
      ]
     },
     "execution_count": 417,
     "metadata": {},
     "output_type": "execute_result"
    },
    {
     "data": {
      "text/plain": [
       "259"
      ]
     },
     "execution_count": 417,
     "metadata": {},
     "output_type": "execute_result"
    },
    {
     "data": {
      "text/plain": [
       "274"
      ]
     },
     "execution_count": 417,
     "metadata": {},
     "output_type": "execute_result"
    },
    {
     "data": {
      "text/plain": [
       "242"
      ]
     },
     "execution_count": 417,
     "metadata": {},
     "output_type": "execute_result"
    },
    {
     "data": {
      "text/plain": [
       "255"
      ]
     },
     "execution_count": 417,
     "metadata": {},
     "output_type": "execute_result"
    },
    {
     "data": {
      "text/plain": [
       "278"
      ]
     },
     "execution_count": 417,
     "metadata": {},
     "output_type": "execute_result"
    },
    {
     "data": {
      "text/plain": [
       "238"
      ]
     },
     "execution_count": 417,
     "metadata": {},
     "output_type": "execute_result"
    },
    {
     "data": {
      "text/plain": [
       "250"
      ]
     },
     "execution_count": 417,
     "metadata": {},
     "output_type": "execute_result"
    },
    {
     "data": {
      "text/plain": [
       "217"
      ]
     },
     "execution_count": 417,
     "metadata": {},
     "output_type": "execute_result"
    },
    {
     "data": {
      "text/plain": [
       "251"
      ]
     },
     "execution_count": 417,
     "metadata": {},
     "output_type": "execute_result"
    },
    {
     "data": {
      "text/plain": [
       "224"
      ]
     },
     "execution_count": 417,
     "metadata": {},
     "output_type": "execute_result"
    },
    {
     "data": {
      "text/plain": [
       "227"
      ]
     },
     "execution_count": 417,
     "metadata": {},
     "output_type": "execute_result"
    },
    {
     "data": {
      "text/plain": [
       "236"
      ]
     },
     "execution_count": 417,
     "metadata": {},
     "output_type": "execute_result"
    },
    {
     "data": {
      "text/plain": [
       "220"
      ]
     },
     "execution_count": 417,
     "metadata": {},
     "output_type": "execute_result"
    },
    {
     "data": {
      "text/plain": [
       "216"
      ]
     },
     "execution_count": 417,
     "metadata": {},
     "output_type": "execute_result"
    },
    {
     "data": {
      "text/plain": [
       "225"
      ]
     },
     "execution_count": 417,
     "metadata": {},
     "output_type": "execute_result"
    },
    {
     "data": {
      "text/plain": [
       "244"
      ]
     },
     "execution_count": 417,
     "metadata": {},
     "output_type": "execute_result"
    },
    {
     "data": {
      "text/plain": [
       "278"
      ]
     },
     "execution_count": 417,
     "metadata": {},
     "output_type": "execute_result"
    },
    {
     "data": {
      "text/plain": [
       "259"
      ]
     },
     "execution_count": 417,
     "metadata": {},
     "output_type": "execute_result"
    },
    {
     "data": {
      "text/plain": [
       "208"
      ]
     },
     "execution_count": 417,
     "metadata": {},
     "output_type": "execute_result"
    },
    {
     "data": {
      "text/plain": [
       "238"
      ]
     },
     "execution_count": 417,
     "metadata": {},
     "output_type": "execute_result"
    },
    {
     "data": {
      "text/plain": [
       "221"
      ]
     },
     "execution_count": 417,
     "metadata": {},
     "output_type": "execute_result"
    },
    {
     "data": {
      "text/plain": [
       "222"
      ]
     },
     "execution_count": 417,
     "metadata": {},
     "output_type": "execute_result"
    },
    {
     "data": {
      "text/plain": [
       "253"
      ]
     },
     "execution_count": 417,
     "metadata": {},
     "output_type": "execute_result"
    },
    {
     "data": {
      "text/plain": [
       "274"
      ]
     },
     "execution_count": 417,
     "metadata": {},
     "output_type": "execute_result"
    },
    {
     "data": {
      "text/plain": [
       "236"
      ]
     },
     "execution_count": 417,
     "metadata": {},
     "output_type": "execute_result"
    },
    {
     "data": {
      "text/plain": [
       "291"
      ]
     },
     "execution_count": 417,
     "metadata": {},
     "output_type": "execute_result"
    },
    {
     "data": {
      "text/plain": [
       "258"
      ]
     },
     "execution_count": 417,
     "metadata": {},
     "output_type": "execute_result"
    },
    {
     "data": {
      "text/plain": [
       "268"
      ]
     },
     "execution_count": 417,
     "metadata": {},
     "output_type": "execute_result"
    },
    {
     "data": {
      "text/plain": [
       "245"
      ]
     },
     "execution_count": 417,
     "metadata": {},
     "output_type": "execute_result"
    },
    {
     "data": {
      "text/plain": [
       "253"
      ]
     },
     "execution_count": 417,
     "metadata": {},
     "output_type": "execute_result"
    },
    {
     "data": {
      "text/plain": [
       "288"
      ]
     },
     "execution_count": 417,
     "metadata": {},
     "output_type": "execute_result"
    },
    {
     "data": {
      "text/plain": [
       "269"
      ]
     },
     "execution_count": 417,
     "metadata": {},
     "output_type": "execute_result"
    },
    {
     "data": {
      "text/plain": [
       "234"
      ]
     },
     "execution_count": 417,
     "metadata": {},
     "output_type": "execute_result"
    },
    {
     "data": {
      "text/plain": [
       "209"
      ]
     },
     "execution_count": 417,
     "metadata": {},
     "output_type": "execute_result"
    },
    {
     "data": {
      "text/plain": [
       "230"
      ]
     },
     "execution_count": 417,
     "metadata": {},
     "output_type": "execute_result"
    },
    {
     "data": {
      "text/plain": [
       "241"
      ]
     },
     "execution_count": 417,
     "metadata": {},
     "output_type": "execute_result"
    },
    {
     "data": {
      "text/plain": [
       "223"
      ]
     },
     "execution_count": 417,
     "metadata": {},
     "output_type": "execute_result"
    },
    {
     "data": {
      "text/plain": [
       "221"
      ]
     },
     "execution_count": 417,
     "metadata": {},
     "output_type": "execute_result"
    },
    {
     "data": {
      "text/plain": [
       "210"
      ]
     },
     "execution_count": 417,
     "metadata": {},
     "output_type": "execute_result"
    },
    {
     "data": {
      "text/plain": [
       "263"
      ]
     },
     "execution_count": 417,
     "metadata": {},
     "output_type": "execute_result"
    },
    {
     "data": {
      "text/plain": [
       "230"
      ]
     },
     "execution_count": 417,
     "metadata": {},
     "output_type": "execute_result"
    },
    {
     "data": {
      "text/plain": [
       "229"
      ]
     },
     "execution_count": 417,
     "metadata": {},
     "output_type": "execute_result"
    },
    {
     "data": {
      "text/plain": [
       "250"
      ]
     },
     "execution_count": 417,
     "metadata": {},
     "output_type": "execute_result"
    },
    {
     "data": {
      "text/plain": [
       "233"
      ]
     },
     "execution_count": 417,
     "metadata": {},
     "output_type": "execute_result"
    },
    {
     "data": {
      "text/plain": [
       "219"
      ]
     },
     "execution_count": 417,
     "metadata": {},
     "output_type": "execute_result"
    },
    {
     "data": {
      "text/plain": [
       "228"
      ]
     },
     "execution_count": 417,
     "metadata": {},
     "output_type": "execute_result"
    },
    {
     "data": {
      "text/plain": [
       "222"
      ]
     },
     "execution_count": 417,
     "metadata": {},
     "output_type": "execute_result"
    },
    {
     "data": {
      "text/plain": [
       "243"
      ]
     },
     "execution_count": 417,
     "metadata": {},
     "output_type": "execute_result"
    },
    {
     "data": {
      "text/plain": [
       "262"
      ]
     },
     "execution_count": 417,
     "metadata": {},
     "output_type": "execute_result"
    },
    {
     "data": {
      "text/plain": [
       "273"
      ]
     },
     "execution_count": 417,
     "metadata": {},
     "output_type": "execute_result"
    },
    {
     "data": {
      "text/plain": [
       "271"
      ]
     },
     "execution_count": 417,
     "metadata": {},
     "output_type": "execute_result"
    },
    {
     "data": {
      "text/plain": [
       "283"
      ]
     },
     "execution_count": 417,
     "metadata": {},
     "output_type": "execute_result"
    },
    {
     "data": {
      "text/plain": [
       "261"
      ]
     },
     "execution_count": 417,
     "metadata": {},
     "output_type": "execute_result"
    },
    {
     "data": {
      "text/plain": [
       "291"
      ]
     },
     "execution_count": 417,
     "metadata": {},
     "output_type": "execute_result"
    },
    {
     "data": {
      "text/plain": [
       "231"
      ]
     },
     "execution_count": 417,
     "metadata": {},
     "output_type": "execute_result"
    },
    {
     "data": {
      "text/plain": [
       "221"
      ]
     },
     "execution_count": 417,
     "metadata": {},
     "output_type": "execute_result"
    },
    {
     "data": {
      "text/plain": [
       "264"
      ]
     },
     "execution_count": 417,
     "metadata": {},
     "output_type": "execute_result"
    },
    {
     "data": {
      "text/plain": [
       "274"
      ]
     },
     "execution_count": 417,
     "metadata": {},
     "output_type": "execute_result"
    },
    {
     "data": {
      "text/plain": [
       "223"
      ]
     },
     "execution_count": 417,
     "metadata": {},
     "output_type": "execute_result"
    },
    {
     "data": {
      "text/plain": [
       "275"
      ]
     },
     "execution_count": 417,
     "metadata": {},
     "output_type": "execute_result"
    },
    {
     "data": {
      "text/plain": [
       "246"
      ]
     },
     "execution_count": 417,
     "metadata": {},
     "output_type": "execute_result"
    },
    {
     "data": {
      "text/plain": [
       "245"
      ]
     },
     "execution_count": 417,
     "metadata": {},
     "output_type": "execute_result"
    },
    {
     "data": {
      "text/plain": [
       "255"
      ]
     },
     "execution_count": 417,
     "metadata": {},
     "output_type": "execute_result"
    },
    {
     "data": {
      "text/plain": [
       "229"
      ]
     },
     "execution_count": 417,
     "metadata": {},
     "output_type": "execute_result"
    },
    {
     "data": {
      "text/plain": [
       "233"
      ]
     },
     "execution_count": 417,
     "metadata": {},
     "output_type": "execute_result"
    },
    {
     "data": {
      "text/plain": [
       "254"
      ]
     },
     "execution_count": 417,
     "metadata": {},
     "output_type": "execute_result"
    },
    {
     "data": {
      "text/plain": [
       "219"
      ]
     },
     "execution_count": 417,
     "metadata": {},
     "output_type": "execute_result"
    },
    {
     "data": {
      "text/plain": [
       "252"
      ]
     },
     "execution_count": 417,
     "metadata": {},
     "output_type": "execute_result"
    },
    {
     "data": {
      "text/plain": [
       "222"
      ]
     },
     "execution_count": 417,
     "metadata": {},
     "output_type": "execute_result"
    },
    {
     "data": {
      "text/plain": [
       "249"
      ]
     },
     "execution_count": 417,
     "metadata": {},
     "output_type": "execute_result"
    },
    {
     "data": {
      "text/plain": [
       "232"
      ]
     },
     "execution_count": 417,
     "metadata": {},
     "output_type": "execute_result"
    },
    {
     "data": {
      "text/plain": [
       "249"
      ]
     },
     "execution_count": 417,
     "metadata": {},
     "output_type": "execute_result"
    },
    {
     "data": {
      "text/plain": [
       "216"
      ]
     },
     "execution_count": 417,
     "metadata": {},
     "output_type": "execute_result"
    },
    {
     "data": {
      "text/plain": [
       "227"
      ]
     },
     "execution_count": 417,
     "metadata": {},
     "output_type": "execute_result"
    },
    {
     "data": {
      "text/plain": [
       "272"
      ]
     },
     "execution_count": 417,
     "metadata": {},
     "output_type": "execute_result"
    },
    {
     "data": {
      "text/plain": [
       "245"
      ]
     },
     "execution_count": 417,
     "metadata": {},
     "output_type": "execute_result"
    },
    {
     "data": {
      "text/plain": [
       "259"
      ]
     },
     "execution_count": 417,
     "metadata": {},
     "output_type": "execute_result"
    },
    {
     "data": {
      "text/plain": [
       "258"
      ]
     },
     "execution_count": 417,
     "metadata": {},
     "output_type": "execute_result"
    },
    {
     "data": {
      "text/plain": [
       "241"
      ]
     },
     "execution_count": 417,
     "metadata": {},
     "output_type": "execute_result"
    },
    {
     "data": {
      "text/plain": [
       "222"
      ]
     },
     "execution_count": 417,
     "metadata": {},
     "output_type": "execute_result"
    },
    {
     "data": {
      "text/plain": [
       "271"
      ]
     },
     "execution_count": 417,
     "metadata": {},
     "output_type": "execute_result"
    },
    {
     "data": {
      "text/plain": [
       "253"
      ]
     },
     "execution_count": 417,
     "metadata": {},
     "output_type": "execute_result"
    },
    {
     "data": {
      "text/plain": [
       "218"
      ]
     },
     "execution_count": 417,
     "metadata": {},
     "output_type": "execute_result"
    },
    {
     "data": {
      "text/plain": [
       "239"
      ]
     },
     "execution_count": 417,
     "metadata": {},
     "output_type": "execute_result"
    },
    {
     "data": {
      "text/plain": [
       "241"
      ]
     },
     "execution_count": 417,
     "metadata": {},
     "output_type": "execute_result"
    },
    {
     "data": {
      "text/plain": [
       "238"
      ]
     },
     "execution_count": 417,
     "metadata": {},
     "output_type": "execute_result"
    },
    {
     "data": {
      "text/plain": [
       "254"
      ]
     },
     "execution_count": 417,
     "metadata": {},
     "output_type": "execute_result"
    },
    {
     "data": {
      "text/plain": [
       "258"
      ]
     },
     "execution_count": 417,
     "metadata": {},
     "output_type": "execute_result"
    },
    {
     "data": {
      "text/plain": [
       "279"
      ]
     },
     "execution_count": 417,
     "metadata": {},
     "output_type": "execute_result"
    },
    {
     "data": {
      "text/plain": [
       "260"
      ]
     },
     "execution_count": 417,
     "metadata": {},
     "output_type": "execute_result"
    },
    {
     "data": {
      "text/plain": [
       "279"
      ]
     },
     "execution_count": 417,
     "metadata": {},
     "output_type": "execute_result"
    },
    {
     "data": {
      "text/plain": [
       "260"
      ]
     },
     "execution_count": 417,
     "metadata": {},
     "output_type": "execute_result"
    },
    {
     "data": {
      "text/plain": [
       "232"
      ]
     },
     "execution_count": 417,
     "metadata": {},
     "output_type": "execute_result"
    },
    {
     "data": {
      "text/plain": [
       "211"
      ]
     },
     "execution_count": 417,
     "metadata": {},
     "output_type": "execute_result"
    },
    {
     "data": {
      "text/plain": [
       "232"
      ]
     },
     "execution_count": 417,
     "metadata": {},
     "output_type": "execute_result"
    },
    {
     "data": {
      "text/plain": [
       "252"
      ]
     },
     "execution_count": 417,
     "metadata": {},
     "output_type": "execute_result"
    },
    {
     "data": {
      "text/plain": [
       "291"
      ]
     },
     "execution_count": 417,
     "metadata": {},
     "output_type": "execute_result"
    },
    {
     "data": {
      "text/plain": [
       "231"
      ]
     },
     "execution_count": 417,
     "metadata": {},
     "output_type": "execute_result"
    },
    {
     "data": {
      "text/plain": [
       "239"
      ]
     },
     "execution_count": 417,
     "metadata": {},
     "output_type": "execute_result"
    },
    {
     "data": {
      "text/plain": [
       "249"
      ]
     },
     "execution_count": 417,
     "metadata": {},
     "output_type": "execute_result"
    },
    {
     "data": {
      "text/plain": [
       "236"
      ]
     },
     "execution_count": 417,
     "metadata": {},
     "output_type": "execute_result"
    },
    {
     "data": {
      "text/plain": [
       "221"
      ]
     },
     "execution_count": 417,
     "metadata": {},
     "output_type": "execute_result"
    },
    {
     "data": {
      "text/plain": [
       "245"
      ]
     },
     "execution_count": 417,
     "metadata": {},
     "output_type": "execute_result"
    },
    {
     "data": {
      "text/plain": [
       "216"
      ]
     },
     "execution_count": 417,
     "metadata": {},
     "output_type": "execute_result"
    },
    {
     "data": {
      "text/plain": [
       "265"
      ]
     },
     "execution_count": 417,
     "metadata": {},
     "output_type": "execute_result"
    },
    {
     "data": {
      "text/plain": [
       "209"
      ]
     },
     "execution_count": 417,
     "metadata": {},
     "output_type": "execute_result"
    },
    {
     "data": {
      "text/plain": [
       "274"
      ]
     },
     "execution_count": 417,
     "metadata": {},
     "output_type": "execute_result"
    },
    {
     "data": {
      "text/plain": [
       "244"
      ]
     },
     "execution_count": 417,
     "metadata": {},
     "output_type": "execute_result"
    },
    {
     "data": {
      "text/plain": [
       "249"
      ]
     },
     "execution_count": 417,
     "metadata": {},
     "output_type": "execute_result"
    },
    {
     "data": {
      "text/plain": [
       "261"
      ]
     },
     "execution_count": 417,
     "metadata": {},
     "output_type": "execute_result"
    },
    {
     "data": {
      "text/plain": [
       "217"
      ]
     },
     "execution_count": 417,
     "metadata": {},
     "output_type": "execute_result"
    },
    {
     "data": {
      "text/plain": [
       "248"
      ]
     },
     "execution_count": 417,
     "metadata": {},
     "output_type": "execute_result"
    },
    {
     "data": {
      "text/plain": [
       "233"
      ]
     },
     "execution_count": 417,
     "metadata": {},
     "output_type": "execute_result"
    },
    {
     "data": {
      "text/plain": [
       "278"
      ]
     },
     "execution_count": 417,
     "metadata": {},
     "output_type": "execute_result"
    },
    {
     "data": {
      "text/plain": [
       "242"
      ]
     },
     "execution_count": 417,
     "metadata": {},
     "output_type": "execute_result"
    },
    {
     "data": {
      "text/plain": [
       "227"
      ]
     },
     "execution_count": 417,
     "metadata": {},
     "output_type": "execute_result"
    },
    {
     "data": {
      "text/plain": [
       "262"
      ]
     },
     "execution_count": 417,
     "metadata": {},
     "output_type": "execute_result"
    },
    {
     "data": {
      "text/plain": [
       "226"
      ]
     },
     "execution_count": 417,
     "metadata": {},
     "output_type": "execute_result"
    },
    {
     "data": {
      "text/plain": [
       "233"
      ]
     },
     "execution_count": 417,
     "metadata": {},
     "output_type": "execute_result"
    },
    {
     "data": {
      "text/plain": [
       "235"
      ]
     },
     "execution_count": 417,
     "metadata": {},
     "output_type": "execute_result"
    },
    {
     "data": {
      "text/plain": [
       "282"
      ]
     },
     "execution_count": 417,
     "metadata": {},
     "output_type": "execute_result"
    },
    {
     "data": {
      "text/plain": [
       "269"
      ]
     },
     "execution_count": 417,
     "metadata": {},
     "output_type": "execute_result"
    },
    {
     "data": {
      "text/plain": [
       "230"
      ]
     },
     "execution_count": 417,
     "metadata": {},
     "output_type": "execute_result"
    },
    {
     "data": {
      "text/plain": [
       "244"
      ]
     },
     "execution_count": 417,
     "metadata": {},
     "output_type": "execute_result"
    },
    {
     "data": {
      "text/plain": [
       "207"
      ]
     },
     "execution_count": 417,
     "metadata": {},
     "output_type": "execute_result"
    },
    {
     "data": {
      "text/plain": [
       "254"
      ]
     },
     "execution_count": 417,
     "metadata": {},
     "output_type": "execute_result"
    },
    {
     "data": {
      "text/plain": [
       "226"
      ]
     },
     "execution_count": 417,
     "metadata": {},
     "output_type": "execute_result"
    },
    {
     "data": {
      "text/plain": [
       "270"
      ]
     },
     "execution_count": 417,
     "metadata": {},
     "output_type": "execute_result"
    },
    {
     "data": {
      "text/plain": [
       "255"
      ]
     },
     "execution_count": 417,
     "metadata": {},
     "output_type": "execute_result"
    },
    {
     "data": {
      "text/plain": [
       "240"
      ]
     },
     "execution_count": 417,
     "metadata": {},
     "output_type": "execute_result"
    },
    {
     "data": {
      "text/plain": [
       "237"
      ]
     },
     "execution_count": 417,
     "metadata": {},
     "output_type": "execute_result"
    },
    {
     "data": {
      "text/plain": [
       "241"
      ]
     },
     "execution_count": 417,
     "metadata": {},
     "output_type": "execute_result"
    },
    {
     "data": {
      "text/plain": [
       "276"
      ]
     },
     "execution_count": 417,
     "metadata": {},
     "output_type": "execute_result"
    },
    {
     "data": {
      "text/plain": [
       "255"
      ]
     },
     "execution_count": 417,
     "metadata": {},
     "output_type": "execute_result"
    },
    {
     "data": {
      "text/plain": [
       "272"
      ]
     },
     "execution_count": 417,
     "metadata": {},
     "output_type": "execute_result"
    },
    {
     "data": {
      "text/plain": [
       "264"
      ]
     },
     "execution_count": 417,
     "metadata": {},
     "output_type": "execute_result"
    },
    {
     "data": {
      "text/plain": [
       "256"
      ]
     },
     "execution_count": 417,
     "metadata": {},
     "output_type": "execute_result"
    },
    {
     "data": {
      "text/plain": [
       "251"
      ]
     },
     "execution_count": 417,
     "metadata": {},
     "output_type": "execute_result"
    },
    {
     "data": {
      "text/plain": [
       "266"
      ]
     },
     "execution_count": 417,
     "metadata": {},
     "output_type": "execute_result"
    },
    {
     "data": {
      "text/plain": [
       "264"
      ]
     },
     "execution_count": 417,
     "metadata": {},
     "output_type": "execute_result"
    },
    {
     "data": {
      "text/plain": [
       "259"
      ]
     },
     "execution_count": 417,
     "metadata": {},
     "output_type": "execute_result"
    },
    {
     "data": {
      "text/plain": [
       "249"
      ]
     },
     "execution_count": 417,
     "metadata": {},
     "output_type": "execute_result"
    },
    {
     "data": {
      "text/plain": [
       "242"
      ]
     },
     "execution_count": 417,
     "metadata": {},
     "output_type": "execute_result"
    },
    {
     "data": {
      "text/plain": [
       "318"
      ]
     },
     "execution_count": 417,
     "metadata": {},
     "output_type": "execute_result"
    },
    {
     "data": {
      "text/plain": [
       "220"
      ]
     },
     "execution_count": 417,
     "metadata": {},
     "output_type": "execute_result"
    },
    {
     "data": {
      "text/plain": [
       "247"
      ]
     },
     "execution_count": 417,
     "metadata": {},
     "output_type": "execute_result"
    },
    {
     "data": {
      "text/plain": [
       "227"
      ]
     },
     "execution_count": 417,
     "metadata": {},
     "output_type": "execute_result"
    },
    {
     "data": {
      "text/plain": [
       "223"
      ]
     },
     "execution_count": 417,
     "metadata": {},
     "output_type": "execute_result"
    },
    {
     "data": {
      "text/plain": [
       "249"
      ]
     },
     "execution_count": 417,
     "metadata": {},
     "output_type": "execute_result"
    },
    {
     "data": {
      "text/plain": [
       "266"
      ]
     },
     "execution_count": 417,
     "metadata": {},
     "output_type": "execute_result"
    },
    {
     "data": {
      "text/plain": [
       "252"
      ]
     },
     "execution_count": 417,
     "metadata": {},
     "output_type": "execute_result"
    },
    {
     "data": {
      "text/plain": [
       "230"
      ]
     },
     "execution_count": 417,
     "metadata": {},
     "output_type": "execute_result"
    },
    {
     "data": {
      "text/plain": [
       "253"
      ]
     },
     "execution_count": 417,
     "metadata": {},
     "output_type": "execute_result"
    },
    {
     "data": {
      "text/plain": [
       "215"
      ]
     },
     "execution_count": 417,
     "metadata": {},
     "output_type": "execute_result"
    },
    {
     "data": {
      "text/plain": [
       "242"
      ]
     },
     "execution_count": 417,
     "metadata": {},
     "output_type": "execute_result"
    },
    {
     "data": {
      "text/plain": [
       "249"
      ]
     },
     "execution_count": 417,
     "metadata": {},
     "output_type": "execute_result"
    }
   ],
   "source": [
    "# Player statistics by season\n",
    "\n",
    "if not os.path.isdir('./player_data'):\n",
    "    \n",
    "    os.makedirs('./player_data', exist_ok=True)\n",
    "    \n",
    "    person_ids = {} # will contain person_id for every player in history\n",
    "    \n",
    "    # Iterate through seasons.\n",
    "    \n",
    "    for i in range (1946, 2020):\n",
    "\n",
    "        print ('Working on {}'.format(i))\n",
    "        \n",
    "        #no data for these years\n",
    "        if i in [1946, 1947, 1948, 1949, 1950]:\n",
    "            continue\n",
    "\n",
    "        time.sleep(3)\n",
    "\n",
    "        # Get URL\n",
    "        url_year_part = str(i) + '-' + str(i + 1)[-2:]\n",
    "        url = 'https://stats.nba.com/stats/leagueLeaders?LeagueID=00&PerMode=PerGame&Scope=S&Season=' + url_year_part + '&SeasonType=Regular+Season&StatCategory=MIN'\n",
    "\n",
    "        headers = {\n",
    "            'referrer': 'https://google.com',\n",
    "            'Accept': 'application/json, text/plain, */*',\n",
    "            'Accept-Encoding': 'gzip, deflate, br',\n",
    "            'Accept-Language': 'en-US,en;q=0.9',\n",
    "            'Connection': 'keep-alive',\n",
    "            'DNT': '1',\n",
    "            'Host': 'stats.nba.com',\n",
    "            'Referer': 'https://stats.nba.com/leaders/?Season=1950-51&SeasonType=Regular%20Season&StatCategory=MIN',\n",
    "            'Sec-Fetch-Dest': 'empty',\n",
    "            'Sec-Fetch-Mode': 'cors',\n",
    "            'Sec-Fetch-Site': 'same-origin',\n",
    "            'User-Agent': 'Mozilla/5.0 (Macintosh; Intel Mac OS X 10_14_5) AppleWebKit/537.36 (KHTML, like Gecko) Chrome/83.0.4103.97 Safari/537.36',\n",
    "            'x-nba-stats-origin': 'stats',\n",
    "            'x-nba-stats-token': 'true',\n",
    "            'X-NewRelic-ID': 'VQECWF5UChAHUlNTBwgBVw=='\n",
    "            }\n",
    "\n",
    "        req = requests.get(url, headers=headers)\n",
    "        stat_dict = json.loads(req.content)\n",
    "        \n",
    "        csv_path = 'player_data/' + url_year_part + '.csv'\n",
    "        csv_columns = stat_dict['resultSet']['headers']\n",
    "        player_rows = stat_dict['resultSet']['rowSet']\n",
    "        \n",
    "        with open(csv_path, 'w') as csvfile:\n",
    "            \n",
    "            writer = csv.writer(csvfile)\n",
    "            writer.writerow(csv_columns)\n",
    "            \n",
    "            for row in player_rows:\n",
    "                writer.writerow(row)\n",
    "                person_id = row[0]\n",
    "                if person_id not in person_ids:\n",
    "                    person_ids[person_id] = True\n",
    "        \n",
    "# Writes all player bio information to CSV\n",
    "    player_bios = []\n",
    "    player_bio_headers = []\n",
    "\n",
    "    for person_id in person_ids:\n",
    "        \n",
    "        time.sleep(.25)\n",
    "\n",
    "        url = 'https://stats.nba.com/player/' + str(person_id) + '/career/'\n",
    "        req = requests.get(url)\n",
    "        soup = BeautifulSoup(req.content)\n",
    "        player_info = soup.find(text=re.compile('window.nbaStatsPlayerStats'));\n",
    "        attributes = player_info[player_info.index('{') + 1:player_info.index('}')].split(',\"')\n",
    "\n",
    "        player_bio = []\n",
    "\n",
    "        for attribute in attributes:\n",
    "            attribute_name = attribute.split(':')[0].replace('\"', '')\n",
    "            attribute_value = attribute.split(':')[1].replace('\"', '')\n",
    "\n",
    "            # header row for player_bios.csv\n",
    "            if len(player_bios) == 0:\n",
    "                player_bio_headers.append(attribute_name)\n",
    "\n",
    "            # height as inches int\n",
    "            if attribute_name == 'HEIGHT':\n",
    "                height_parts = attribute_value.split('-')\n",
    "                attribute_value = int(height_parts[0]) * 12 + int(height_parts[1])\n",
    "\n",
    "            player_bio.append(attribute_value)\n",
    "            \n",
    "        player_bios.append(player_bio)\n",
    "\n",
    "    csv_path = 'player_bios.csv'\n",
    "    with open(csv_path, 'w') as csvfile:\n",
    "        writer = csv.writer(csvfile)\n",
    "        writer.writerow(player_bio_headers)\n",
    "        for row in player_bios:\n",
    "            writer.writerow(row)"
   ]
  },
  {
   "cell_type": "code",
   "execution_count": 418,
   "metadata": {},
   "outputs": [
    {
     "data": {
      "text/html": [
       "<div>\n",
       "<style scoped>\n",
       "    .dataframe tbody tr th:only-of-type {\n",
       "        vertical-align: middle;\n",
       "    }\n",
       "\n",
       "    .dataframe tbody tr th {\n",
       "        vertical-align: top;\n",
       "    }\n",
       "\n",
       "    .dataframe thead th {\n",
       "        text-align: right;\n",
       "    }\n",
       "</style>\n",
       "<table border=\"1\" class=\"dataframe\">\n",
       "  <thead>\n",
       "    <tr style=\"text-align: right;\">\n",
       "      <th></th>\n",
       "      <th>PERSON_ID</th>\n",
       "      <th>FIRST_NAME</th>\n",
       "      <th>LAST_NAME</th>\n",
       "      <th>DISPLAY_FIRST_LAST</th>\n",
       "      <th>DISPLAY_LAST_COMMA_FIRST</th>\n",
       "      <th>DISPLAY_FI_LAST</th>\n",
       "      <th>PLAYER_SLUG</th>\n",
       "      <th>BIRTHDATE</th>\n",
       "      <th>SCHOOL</th>\n",
       "      <th>COUNTRY</th>\n",
       "      <th>LAST_AFFILIATION</th>\n",
       "      <th>HEIGHT</th>\n",
       "      <th>WEIGHT</th>\n",
       "      <th>SEASON_EXP</th>\n",
       "      <th>JERSEY</th>\n",
       "      <th>POSITION</th>\n",
       "      <th>ROSTERSTATUS</th>\n",
       "      <th>TEAM_ID</th>\n",
       "      <th>TEAM_NAME</th>\n",
       "      <th>TEAM_ABBREVIATION</th>\n",
       "      <th>TEAM_CODE</th>\n",
       "      <th>TEAM_CITY</th>\n",
       "      <th>PLAYERCODE</th>\n",
       "      <th>FROM_YEAR</th>\n",
       "      <th>TO_YEAR</th>\n",
       "      <th>DLEAGUE_FLAG</th>\n",
       "      <th>NBA_FLAG</th>\n",
       "      <th>GAMES_PLAYED_FLAG</th>\n",
       "      <th>DRAFT_YEAR</th>\n",
       "      <th>DRAFT_ROUND</th>\n",
       "      <th>DRAFT_NUMBER</th>\n",
       "      <th>POSITION_INITIALS</th>\n",
       "      <th>AGE</th>\n",
       "      <th>AGE_DAYS</th>\n",
       "    </tr>\n",
       "  </thead>\n",
       "  <tbody>\n",
       "    <tr>\n",
       "      <th>0</th>\n",
       "      <td>203081</td>\n",
       "      <td>Damian</td>\n",
       "      <td>Lillard</td>\n",
       "      <td>Damian Lillard</td>\n",
       "      <td>Lillard, Damian</td>\n",
       "      <td>D. Lillard</td>\n",
       "      <td>damian-lillard</td>\n",
       "      <td>1990-07-15T00</td>\n",
       "      <td>Weber State</td>\n",
       "      <td>USA</td>\n",
       "      <td>Weber State\\/USA</td>\n",
       "      <td>74</td>\n",
       "      <td>195</td>\n",
       "      <td>7</td>\n",
       "      <td>0</td>\n",
       "      <td>Guard</td>\n",
       "      <td>Active</td>\n",
       "      <td>1610612757</td>\n",
       "      <td>Trail Blazers</td>\n",
       "      <td>POR</td>\n",
       "      <td>blazers</td>\n",
       "      <td>Portland</td>\n",
       "      <td>damian_lillard</td>\n",
       "      <td>2012</td>\n",
       "      <td>2019</td>\n",
       "      <td>N</td>\n",
       "      <td>Y</td>\n",
       "      <td>Y</td>\n",
       "      <td>2012</td>\n",
       "      <td>1</td>\n",
       "      <td>6</td>\n",
       "      <td>G</td>\n",
       "      <td>30</td>\n",
       "      <td>22</td>\n",
       "    </tr>\n",
       "    <tr>\n",
       "      <th>1</th>\n",
       "      <td>201935</td>\n",
       "      <td>James</td>\n",
       "      <td>Harden</td>\n",
       "      <td>James Harden</td>\n",
       "      <td>Harden, James</td>\n",
       "      <td>J. Harden</td>\n",
       "      <td>james-harden</td>\n",
       "      <td>1989-08-26T00</td>\n",
       "      <td>Arizona State</td>\n",
       "      <td>USA</td>\n",
       "      <td>Arizona State\\/USA</td>\n",
       "      <td>77</td>\n",
       "      <td>220</td>\n",
       "      <td>10</td>\n",
       "      <td>13</td>\n",
       "      <td>Guard</td>\n",
       "      <td>Active</td>\n",
       "      <td>1610612745</td>\n",
       "      <td>Rockets</td>\n",
       "      <td>HOU</td>\n",
       "      <td>rockets</td>\n",
       "      <td>Houston</td>\n",
       "      <td>james_harden</td>\n",
       "      <td>2009</td>\n",
       "      <td>2019</td>\n",
       "      <td>N</td>\n",
       "      <td>Y</td>\n",
       "      <td>Y</td>\n",
       "      <td>2009</td>\n",
       "      <td>1</td>\n",
       "      <td>3</td>\n",
       "      <td>G</td>\n",
       "      <td>30</td>\n",
       "      <td>346</td>\n",
       "    </tr>\n",
       "    <tr>\n",
       "      <th>2</th>\n",
       "      <td>200768</td>\n",
       "      <td>Kyle</td>\n",
       "      <td>Lowry</td>\n",
       "      <td>Kyle Lowry</td>\n",
       "      <td>Lowry, Kyle</td>\n",
       "      <td>K. Lowry</td>\n",
       "      <td>kyle-lowry</td>\n",
       "      <td>1986-03-25T00</td>\n",
       "      <td>Villanova</td>\n",
       "      <td>USA</td>\n",
       "      <td>Villanova\\/USA</td>\n",
       "      <td>72</td>\n",
       "      <td>196</td>\n",
       "      <td>13</td>\n",
       "      <td>7</td>\n",
       "      <td>Guard</td>\n",
       "      <td>Active</td>\n",
       "      <td>1610612761</td>\n",
       "      <td>Raptors</td>\n",
       "      <td>TOR</td>\n",
       "      <td>raptors</td>\n",
       "      <td>Toronto</td>\n",
       "      <td>kyle_lowry</td>\n",
       "      <td>2006</td>\n",
       "      <td>2019</td>\n",
       "      <td>N</td>\n",
       "      <td>Y</td>\n",
       "      <td>Y</td>\n",
       "      <td>2006</td>\n",
       "      <td>1</td>\n",
       "      <td>24</td>\n",
       "      <td>G</td>\n",
       "      <td>34</td>\n",
       "      <td>134</td>\n",
       "    </tr>\n",
       "    <tr>\n",
       "      <th>3</th>\n",
       "      <td>203468</td>\n",
       "      <td>CJ</td>\n",
       "      <td>McCollum</td>\n",
       "      <td>CJ McCollum</td>\n",
       "      <td>McCollum, CJ</td>\n",
       "      <td>C. McCollum</td>\n",
       "      <td>cj-mccollum</td>\n",
       "      <td>1991-09-19T00</td>\n",
       "      <td>Lehigh</td>\n",
       "      <td>USA</td>\n",
       "      <td>Lehigh\\/USA</td>\n",
       "      <td>75</td>\n",
       "      <td>190</td>\n",
       "      <td>6</td>\n",
       "      <td>3</td>\n",
       "      <td>Guard</td>\n",
       "      <td>Active</td>\n",
       "      <td>1610612757</td>\n",
       "      <td>Trail Blazers</td>\n",
       "      <td>POR</td>\n",
       "      <td>blazers</td>\n",
       "      <td>Portland</td>\n",
       "      <td>cj_mccollum</td>\n",
       "      <td>2013</td>\n",
       "      <td>2019</td>\n",
       "      <td>Y</td>\n",
       "      <td>Y</td>\n",
       "      <td>Y</td>\n",
       "      <td>2013</td>\n",
       "      <td>1</td>\n",
       "      <td>10</td>\n",
       "      <td>G</td>\n",
       "      <td>28</td>\n",
       "      <td>322</td>\n",
       "    </tr>\n",
       "    <tr>\n",
       "      <th>4</th>\n",
       "      <td>201566</td>\n",
       "      <td>Russell</td>\n",
       "      <td>Westbrook</td>\n",
       "      <td>Russell Westbrook</td>\n",
       "      <td>Westbrook, Russell</td>\n",
       "      <td>R. Westbrook</td>\n",
       "      <td>russell-westbrook</td>\n",
       "      <td>1988-11-12T00</td>\n",
       "      <td>UCLA</td>\n",
       "      <td>USA</td>\n",
       "      <td>UCLA\\/USA</td>\n",
       "      <td>75</td>\n",
       "      <td>200</td>\n",
       "      <td>11</td>\n",
       "      <td>0</td>\n",
       "      <td>Guard</td>\n",
       "      <td>Active</td>\n",
       "      <td>1610612745</td>\n",
       "      <td>Rockets</td>\n",
       "      <td>HOU</td>\n",
       "      <td>rockets</td>\n",
       "      <td>Houston</td>\n",
       "      <td>russell_westbrook</td>\n",
       "      <td>2008</td>\n",
       "      <td>2019</td>\n",
       "      <td>N</td>\n",
       "      <td>Y</td>\n",
       "      <td>Y</td>\n",
       "      <td>2008</td>\n",
       "      <td>1</td>\n",
       "      <td>4</td>\n",
       "      <td>G</td>\n",
       "      <td>31</td>\n",
       "      <td>268</td>\n",
       "    </tr>\n",
       "  </tbody>\n",
       "</table>\n",
       "</div>"
      ],
      "text/plain": [
       "   PERSON_ID FIRST_NAME  LAST_NAME DISPLAY_FIRST_LAST  \\\n",
       "0     203081     Damian    Lillard     Damian Lillard   \n",
       "1     201935      James     Harden       James Harden   \n",
       "2     200768       Kyle      Lowry         Kyle Lowry   \n",
       "3     203468         CJ   McCollum        CJ McCollum   \n",
       "4     201566    Russell  Westbrook  Russell Westbrook   \n",
       "\n",
       "  DISPLAY_LAST_COMMA_FIRST DISPLAY_FI_LAST        PLAYER_SLUG      BIRTHDATE  \\\n",
       "0          Lillard, Damian      D. Lillard     damian-lillard  1990-07-15T00   \n",
       "1            Harden, James       J. Harden       james-harden  1989-08-26T00   \n",
       "2              Lowry, Kyle        K. Lowry         kyle-lowry  1986-03-25T00   \n",
       "3             McCollum, CJ     C. McCollum        cj-mccollum  1991-09-19T00   \n",
       "4       Westbrook, Russell    R. Westbrook  russell-westbrook  1988-11-12T00   \n",
       "\n",
       "          SCHOOL COUNTRY    LAST_AFFILIATION  HEIGHT  WEIGHT  SEASON_EXP  \\\n",
       "0    Weber State     USA    Weber State\\/USA      74     195           7   \n",
       "1  Arizona State     USA  Arizona State\\/USA      77     220          10   \n",
       "2      Villanova     USA      Villanova\\/USA      72     196          13   \n",
       "3         Lehigh     USA         Lehigh\\/USA      75     190           6   \n",
       "4           UCLA     USA           UCLA\\/USA      75     200          11   \n",
       "\n",
       "   JERSEY POSITION ROSTERSTATUS     TEAM_ID      TEAM_NAME TEAM_ABBREVIATION  \\\n",
       "0       0    Guard       Active  1610612757  Trail Blazers               POR   \n",
       "1      13    Guard       Active  1610612745        Rockets               HOU   \n",
       "2       7    Guard       Active  1610612761        Raptors               TOR   \n",
       "3       3    Guard       Active  1610612757  Trail Blazers               POR   \n",
       "4       0    Guard       Active  1610612745        Rockets               HOU   \n",
       "\n",
       "  TEAM_CODE TEAM_CITY         PLAYERCODE  FROM_YEAR  TO_YEAR DLEAGUE_FLAG  \\\n",
       "0   blazers  Portland     damian_lillard       2012     2019            N   \n",
       "1   rockets   Houston       james_harden       2009     2019            N   \n",
       "2   raptors   Toronto         kyle_lowry       2006     2019            N   \n",
       "3   blazers  Portland        cj_mccollum       2013     2019            Y   \n",
       "4   rockets   Houston  russell_westbrook       2008     2019            N   \n",
       "\n",
       "  NBA_FLAG GAMES_PLAYED_FLAG DRAFT_YEAR DRAFT_ROUND DRAFT_NUMBER  \\\n",
       "0        Y                 Y       2012           1            6   \n",
       "1        Y                 Y       2009           1            3   \n",
       "2        Y                 Y       2006           1           24   \n",
       "3        Y                 Y       2013           1           10   \n",
       "4        Y                 Y       2008           1            4   \n",
       "\n",
       "  POSITION_INITIALS  AGE  AGE_DAYS  \n",
       "0                 G   30        22  \n",
       "1                 G   30       346  \n",
       "2                 G   34       134  \n",
       "3                 G   28       322  \n",
       "4                 G   31       268  "
      ]
     },
     "execution_count": 418,
     "metadata": {},
     "output_type": "execute_result"
    }
   ],
   "source": [
    "pd.read_csv('player_bios_test.csv').head()"
   ]
  },
  {
   "cell_type": "markdown",
   "metadata": {},
   "source": [
    "## Clustering Runs"
   ]
  },
  {
   "cell_type": "code",
   "execution_count": 279,
   "metadata": {},
   "outputs": [
    {
     "name": "stdout",
     "output_type": "stream",
     "text": [
      "Working on 1951...\n",
      "Working on 1952...\n",
      "Working on 1953...\n",
      "Working on 1954...\n",
      "Working on 1955...\n",
      "Working on 1956...\n",
      "Working on 1957...\n",
      "Working on 1958...\n",
      "Working on 1959...\n",
      "Working on 1960...\n",
      "Working on 1961...\n",
      "Working on 1962...\n",
      "Working on 1963...\n",
      "Working on 1964...\n",
      "Working on 1965...\n",
      "Working on 1966...\n",
      "Working on 1967...\n",
      "Working on 1968...\n",
      "Working on 1969...\n",
      "Working on 1970...\n",
      "Working on 1971...\n",
      "Working on 1972...\n",
      "Working on 1973...\n",
      "Working on 1974...\n",
      "Working on 1975...\n",
      "Working on 1976...\n",
      "Working on 1977...\n",
      "Working on 1978...\n",
      "Working on 1979...\n",
      "Working on 1980...\n",
      "Working on 1981...\n",
      "Working on 1982...\n",
      "Working on 1983...\n",
      "Working on 1984...\n",
      "Working on 1985...\n",
      "Working on 1986...\n",
      "Working on 1987...\n",
      "Working on 1988...\n",
      "Working on 1989...\n",
      "Working on 1990...\n",
      "Working on 1991...\n",
      "Working on 1992...\n",
      "Working on 1993...\n",
      "Working on 1994...\n",
      "Working on 1995...\n",
      "Working on 1996...\n",
      "Working on 1997...\n",
      "Working on 1998...\n",
      "Working on 1999...\n",
      "Working on 2000...\n",
      "Working on 2001...\n",
      "Working on 2002...\n",
      "Working on 2003...\n",
      "Working on 2004...\n",
      "Working on 2005...\n",
      "Working on 2006...\n",
      "Working on 2007...\n",
      "Working on 2008...\n",
      "Working on 2009...\n",
      "Working on 2010...\n",
      "Working on 2011...\n",
      "Working on 2012...\n",
      "Working on 2013...\n",
      "Working on 2014...\n",
      "Working on 2015...\n",
      "Working on 2016...\n",
      "Working on 2017...\n",
      "Working on 2018...\n",
      "Working on 2019...\n"
     ]
    }
   ],
   "source": [
    "InteractiveShell.ast_node_interactivity = \"last_expr\"\n",
    "\n",
    "years = [x for x in os.listdir(path='./player_data') if x[-4:] == '.csv']\n",
    "years.sort()\n",
    "\n",
    "# initializing K-Means Results list, with header row\n",
    "results = [['year', 'one', 'two', 'three', 'four', 'five', 'six', 'seven', 'eight', 'nine', 'ten']]\n",
    "\n",
    "# initializing player statistics\n",
    "player_stats = [['year', 'PLAYER_ID', 'player', 'GP', 'MIN', 'PTS', 'REB', 'AST']]\n",
    "\n",
    "#initializing player clusters\n",
    "player_clusters = [['year', 'PLAYER_ID', 'player', 'n_clusters', 'cluster']]\n",
    "\n",
    "# initializing centroid statistics\n",
    "centroid_stats = [['year', 'n_clusters', 'cluster', 'n_players', 'PTS', 'REB', 'AST']]\n",
    "\n",
    "# year by year\n",
    "for year in range(1951, 2020):\n",
    "#for year in range(2019, 2020):    \n",
    "    \n",
    "    print('Working on {}...'.format(year))\n",
    "    \n",
    "    df = pd.read_csv('./player_data/' + str(year) + '-' + str(year + 1)[-2:] + '.csv')\n",
    "    df = df[df.MIN >= 25]\n",
    "    df.insert(0, 'year', year)\n",
    "        \n",
    "    cols = ['year', 'PLAYER_ID', 'PLAYER', 'GP', 'MIN']\n",
    "    k_means_attributes = ['PTS', 'REB', 'AST']\n",
    "    cols.extend(k_means_attributes)\n",
    "    \n",
    "    # Per 36 stats for K-Means attributes\n",
    "    # Steals, Blocks start in 1973\n",
    "    per_36 = df.loc[:,cols]\n",
    "    for attrib in k_means_attributes:\n",
    "        per_36.loc[:, attrib] = (per_36[attrib] * (36 / per_36['MIN'])).round(1)\n",
    "    \n",
    "    # per_36 dataframe to equalize minutes for K-Means. Also storing as separate file\n",
    "    player_stats.extend(per_36.to_records(index=False).tolist())\n",
    "    curr_player_clusters = per_36.loc[:,['year', 'PLAYER_ID', 'PLAYER']]\n",
    "        \n",
    "    # Checking relationships between pts, reb, ast\n",
    "    #sns.pairplot(per_36[k_means_attributes])\n",
    "    \n",
    "    # Scaling\n",
    "    scaler = preprocessing.StandardScaler()\n",
    "    per_36_scaled = scaler.fit_transform(per_36[k_means_attributes])\n",
    "        \n",
    "    clusters = list(range(1, 11))\n",
    "#    clusters = [3, 5]\n",
    "    inertias = []\n",
    "    silhouettes = []\n",
    "    avg_dist_from_centroids = []\n",
    "    \n",
    "    for k in clusters:\n",
    "        \n",
    "        kmeans = cluster.KMeans(n_clusters=k,\n",
    "                               init='k-means++', #initializes nodes at greater distance from each other\n",
    "                               random_state=1)\n",
    "        kmeans.fit(per_36_scaled)\n",
    "        \n",
    "        labels = kmeans.labels_\n",
    "        centroids = kmeans.cluster_centers_\n",
    "        inertia = kmeans.inertia_\n",
    "        #silhouette_score = metrics.silhouette_score(per_36_scaled, labels, metric='euclidean')\n",
    "        \n",
    "        # Equalizes inertia metric across different numbers of players in league \n",
    "        avg_dist_from_centroid = inertia/len(per_36_scaled)\n",
    "        \n",
    "        inertias.append(round(inertia, 1))\n",
    "        #silhouettes.append(round(silhouette_score, 1))\n",
    "        avg_dist_from_centroids.append(avg_dist_from_centroid)\n",
    "            \n",
    "        curr_player_clusters['n_clusters'] = k\n",
    "        curr_player_clusters['cluster'] = labels\n",
    "        player_clusters.extend(curr_player_clusters.to_records(index=False).tolist())\n",
    "        \n",
    "        # Players per cluster\n",
    "        n_players = pd.Series(labels).value_counts().sort_index().tolist()\n",
    "        \n",
    "        # Logs unnormalized PTS/REB/AST values for each centroid, so we have frames of reference \n",
    "        # for the clusters each player ends up in\n",
    "        curr_centroid_stats = pd.DataFrame(data=scaler.inverse_transform(centroids),\n",
    "                                    columns=k_means_attributes).round(1)\n",
    "        curr_centroid_stats.insert(0, column='year', value=year)\n",
    "        curr_centroid_stats.insert(1, column='n_clusters', value=k)\n",
    "        curr_centroid_stats.insert(2, column='label', value=curr_centroid_stats.index)\n",
    "        curr_centroid_stats.insert(3, column='n_players', value = n_players)\n",
    "        centroid_stats.extend(curr_centroid_stats.to_records(index=False).tolist()) # maintains data type, no int-->float\n",
    "    \n",
    "    #plt.scatter(clusters, inertias)\n",
    "    #plt.scatter(clusters, silhouettes)\n",
    "    \n",
    "    avg_dist_from_centroids.insert(0, year)\n",
    "    results.append(avg_dist_from_centroids)\n",
    "        \n",
    "# results to CSV\n",
    "csv_path = 'k_means_results.csv'\n",
    "with open(csv_path, 'w') as csvfile:\n",
    "    writer = csv.writer(csvfile)\n",
    "    for year in results:\n",
    "        writer.writerow(year)\n",
    "\n",
    "csv_path = 'player_per_36_stats.csv'\n",
    "with open(csv_path, 'w') as csvfile:\n",
    "    writer = csv.writer(csvfile)\n",
    "    for player_year in player_stats:\n",
    "        writer.writerow(player_year)\n",
    "        \n",
    "csv_path = 'player_clusters.csv'\n",
    "with open(csv_path, 'w') as csvfile:\n",
    "    writer = csv.writer(csvfile)\n",
    "    for player_cluster in player_clusters:\n",
    "        writer.writerow(player_cluster)\n",
    "        \n",
    "csv_path = 'centroid_results.csv'\n",
    "with open(csv_path, 'w') as csvfile:\n",
    "    writer = csv.writer(csvfile)\n",
    "    for centroid in centroid_stats:\n",
    "        writer.writerow(centroid)"
   ]
  },
  {
   "cell_type": "markdown",
   "metadata": {},
   "source": [
    "## Points of Interest"
   ]
  },
  {
   "cell_type": "code",
   "execution_count": 420,
   "metadata": {},
   "outputs": [
    {
     "data": {
      "text/html": [
       "<div>\n",
       "<style scoped>\n",
       "    .dataframe tbody tr th:only-of-type {\n",
       "        vertical-align: middle;\n",
       "    }\n",
       "\n",
       "    .dataframe tbody tr th {\n",
       "        vertical-align: top;\n",
       "    }\n",
       "\n",
       "    .dataframe thead th {\n",
       "        text-align: right;\n",
       "    }\n",
       "</style>\n",
       "<table border=\"1\" class=\"dataframe\">\n",
       "  <thead>\n",
       "    <tr style=\"text-align: right;\">\n",
       "      <th></th>\n",
       "      <th>year</th>\n",
       "      <th>one</th>\n",
       "      <th>two</th>\n",
       "      <th>three</th>\n",
       "      <th>four</th>\n",
       "      <th>five</th>\n",
       "      <th>six</th>\n",
       "      <th>seven</th>\n",
       "      <th>eight</th>\n",
       "      <th>nine</th>\n",
       "      <th>ten</th>\n",
       "    </tr>\n",
       "  </thead>\n",
       "  <tbody>\n",
       "    <tr>\n",
       "      <th>59</th>\n",
       "      <td>2010</td>\n",
       "      <td>3.0</td>\n",
       "      <td>1.988510</td>\n",
       "      <td>1.423049</td>\n",
       "      <td>1.024927</td>\n",
       "      <td>0.877172</td>\n",
       "      <td>0.747680</td>\n",
       "      <td>0.639392</td>\n",
       "      <td>0.570399</td>\n",
       "      <td>0.500388</td>\n",
       "      <td>0.455939</td>\n",
       "    </tr>\n",
       "    <tr>\n",
       "      <th>60</th>\n",
       "      <td>2011</td>\n",
       "      <td>3.0</td>\n",
       "      <td>1.956316</td>\n",
       "      <td>1.415952</td>\n",
       "      <td>1.070299</td>\n",
       "      <td>0.864525</td>\n",
       "      <td>0.741967</td>\n",
       "      <td>0.664059</td>\n",
       "      <td>0.581981</td>\n",
       "      <td>0.518607</td>\n",
       "      <td>0.438811</td>\n",
       "    </tr>\n",
       "    <tr>\n",
       "      <th>61</th>\n",
       "      <td>2012</td>\n",
       "      <td>3.0</td>\n",
       "      <td>1.857991</td>\n",
       "      <td>1.334355</td>\n",
       "      <td>1.058892</td>\n",
       "      <td>0.840027</td>\n",
       "      <td>0.698127</td>\n",
       "      <td>0.631782</td>\n",
       "      <td>0.577656</td>\n",
       "      <td>0.525035</td>\n",
       "      <td>0.480443</td>\n",
       "    </tr>\n",
       "    <tr>\n",
       "      <th>62</th>\n",
       "      <td>2013</td>\n",
       "      <td>3.0</td>\n",
       "      <td>2.028908</td>\n",
       "      <td>1.416437</td>\n",
       "      <td>1.134981</td>\n",
       "      <td>0.918688</td>\n",
       "      <td>0.786887</td>\n",
       "      <td>0.693855</td>\n",
       "      <td>0.643656</td>\n",
       "      <td>0.592282</td>\n",
       "      <td>0.554401</td>\n",
       "    </tr>\n",
       "    <tr>\n",
       "      <th>63</th>\n",
       "      <td>2014</td>\n",
       "      <td>3.0</td>\n",
       "      <td>1.960581</td>\n",
       "      <td>1.376792</td>\n",
       "      <td>1.147561</td>\n",
       "      <td>0.939432</td>\n",
       "      <td>0.824221</td>\n",
       "      <td>0.717798</td>\n",
       "      <td>0.653870</td>\n",
       "      <td>0.586990</td>\n",
       "      <td>0.534976</td>\n",
       "    </tr>\n",
       "    <tr>\n",
       "      <th>64</th>\n",
       "      <td>2015</td>\n",
       "      <td>3.0</td>\n",
       "      <td>2.033013</td>\n",
       "      <td>1.411041</td>\n",
       "      <td>1.147259</td>\n",
       "      <td>0.981196</td>\n",
       "      <td>0.812118</td>\n",
       "      <td>0.728314</td>\n",
       "      <td>0.656661</td>\n",
       "      <td>0.603640</td>\n",
       "      <td>0.561780</td>\n",
       "    </tr>\n",
       "    <tr>\n",
       "      <th>65</th>\n",
       "      <td>2016</td>\n",
       "      <td>3.0</td>\n",
       "      <td>2.081393</td>\n",
       "      <td>1.535089</td>\n",
       "      <td>1.184117</td>\n",
       "      <td>1.000171</td>\n",
       "      <td>0.858613</td>\n",
       "      <td>0.747833</td>\n",
       "      <td>0.644709</td>\n",
       "      <td>0.582667</td>\n",
       "      <td>0.536827</td>\n",
       "    </tr>\n",
       "    <tr>\n",
       "      <th>66</th>\n",
       "      <td>2017</td>\n",
       "      <td>3.0</td>\n",
       "      <td>2.117217</td>\n",
       "      <td>1.475977</td>\n",
       "      <td>1.214232</td>\n",
       "      <td>1.003018</td>\n",
       "      <td>0.844201</td>\n",
       "      <td>0.735158</td>\n",
       "      <td>0.662527</td>\n",
       "      <td>0.605430</td>\n",
       "      <td>0.540099</td>\n",
       "    </tr>\n",
       "    <tr>\n",
       "      <th>67</th>\n",
       "      <td>2018</td>\n",
       "      <td>3.0</td>\n",
       "      <td>2.070765</td>\n",
       "      <td>1.463222</td>\n",
       "      <td>1.218083</td>\n",
       "      <td>1.036332</td>\n",
       "      <td>0.882865</td>\n",
       "      <td>0.797156</td>\n",
       "      <td>0.722104</td>\n",
       "      <td>0.645587</td>\n",
       "      <td>0.586579</td>\n",
       "    </tr>\n",
       "    <tr>\n",
       "      <th>68</th>\n",
       "      <td>2019</td>\n",
       "      <td>3.0</td>\n",
       "      <td>1.963126</td>\n",
       "      <td>1.355083</td>\n",
       "      <td>1.106549</td>\n",
       "      <td>0.913227</td>\n",
       "      <td>0.807359</td>\n",
       "      <td>0.732872</td>\n",
       "      <td>0.676317</td>\n",
       "      <td>0.617683</td>\n",
       "      <td>0.568896</td>\n",
       "    </tr>\n",
       "  </tbody>\n",
       "</table>\n",
       "</div>"
      ],
      "text/plain": [
       "    year  one       two     three      four      five       six     seven  \\\n",
       "59  2010  3.0  1.988510  1.423049  1.024927  0.877172  0.747680  0.639392   \n",
       "60  2011  3.0  1.956316  1.415952  1.070299  0.864525  0.741967  0.664059   \n",
       "61  2012  3.0  1.857991  1.334355  1.058892  0.840027  0.698127  0.631782   \n",
       "62  2013  3.0  2.028908  1.416437  1.134981  0.918688  0.786887  0.693855   \n",
       "63  2014  3.0  1.960581  1.376792  1.147561  0.939432  0.824221  0.717798   \n",
       "64  2015  3.0  2.033013  1.411041  1.147259  0.981196  0.812118  0.728314   \n",
       "65  2016  3.0  2.081393  1.535089  1.184117  1.000171  0.858613  0.747833   \n",
       "66  2017  3.0  2.117217  1.475977  1.214232  1.003018  0.844201  0.735158   \n",
       "67  2018  3.0  2.070765  1.463222  1.218083  1.036332  0.882865  0.797156   \n",
       "68  2019  3.0  1.963126  1.355083  1.106549  0.913227  0.807359  0.732872   \n",
       "\n",
       "       eight      nine       ten  \n",
       "59  0.570399  0.500388  0.455939  \n",
       "60  0.581981  0.518607  0.438811  \n",
       "61  0.577656  0.525035  0.480443  \n",
       "62  0.643656  0.592282  0.554401  \n",
       "63  0.653870  0.586990  0.534976  \n",
       "64  0.656661  0.603640  0.561780  \n",
       "65  0.644709  0.582667  0.536827  \n",
       "66  0.662527  0.605430  0.540099  \n",
       "67  0.722104  0.645587  0.586579  \n",
       "68  0.676317  0.617683  0.568896  "
      ]
     },
     "execution_count": 420,
     "metadata": {},
     "output_type": "execute_result"
    },
    {
     "data": {
      "text/html": [
       "<div>\n",
       "<style scoped>\n",
       "    .dataframe tbody tr th:only-of-type {\n",
       "        vertical-align: middle;\n",
       "    }\n",
       "\n",
       "    .dataframe tbody tr th {\n",
       "        vertical-align: top;\n",
       "    }\n",
       "\n",
       "    .dataframe thead th {\n",
       "        text-align: right;\n",
       "    }\n",
       "</style>\n",
       "<table border=\"1\" class=\"dataframe\">\n",
       "  <thead>\n",
       "    <tr style=\"text-align: right;\">\n",
       "      <th></th>\n",
       "      <th>Unnamed: 0</th>\n",
       "      <th>PERSON_ID</th>\n",
       "      <th>FIRST_NAME</th>\n",
       "      <th>LAST_NAME</th>\n",
       "      <th>DISPLAY_FIRST_LAST</th>\n",
       "      <th>DISPLAY_LAST_COMMA_FIRST</th>\n",
       "      <th>DISPLAY_FI_LAST</th>\n",
       "      <th>PLAYER_SLUG</th>\n",
       "      <th>BIRTHDATE</th>\n",
       "      <th>SCHOOL</th>\n",
       "      <th>COUNTRY</th>\n",
       "      <th>LAST_AFFILIATION</th>\n",
       "      <th>HEIGHT</th>\n",
       "      <th>WEIGHT</th>\n",
       "      <th>SEASON_EXP</th>\n",
       "      <th>JERSEY</th>\n",
       "      <th>POSITION</th>\n",
       "      <th>ROSTERSTATUS</th>\n",
       "      <th>TEAM_ID</th>\n",
       "      <th>TEAM_NAME</th>\n",
       "      <th>TEAM_ABBREVIATION</th>\n",
       "      <th>TEAM_CODE</th>\n",
       "      <th>TEAM_CITY</th>\n",
       "      <th>PLAYERCODE</th>\n",
       "      <th>FROM_YEAR</th>\n",
       "      <th>TO_YEAR</th>\n",
       "      <th>DLEAGUE_FLAG</th>\n",
       "      <th>NBA_FLAG</th>\n",
       "      <th>GAMES_PLAYED_FLAG</th>\n",
       "      <th>DRAFT_YEAR</th>\n",
       "      <th>DRAFT_ROUND</th>\n",
       "      <th>DRAFT_NUMBER</th>\n",
       "      <th>POSITION_INITIALS</th>\n",
       "      <th>AGE</th>\n",
       "      <th>AGE_DAYS</th>\n",
       "    </tr>\n",
       "  </thead>\n",
       "  <tbody>\n",
       "    <tr>\n",
       "      <th>2170</th>\n",
       "      <td>2170</td>\n",
       "      <td>1629022</td>\n",
       "      <td>Lonnie</td>\n",
       "      <td>Walker IV</td>\n",
       "      <td>Lonnie Walker IV</td>\n",
       "      <td>Walker IV, Lonnie</td>\n",
       "      <td>L. Walker IV</td>\n",
       "      <td>lonnie-walker-iv</td>\n",
       "      <td>1998-12-14T00</td>\n",
       "      <td>Miami</td>\n",
       "      <td>USA</td>\n",
       "      <td>University of Miami\\/USA</td>\n",
       "      <td>77.0</td>\n",
       "      <td>204.0</td>\n",
       "      <td>1</td>\n",
       "      <td>1</td>\n",
       "      <td>Guard-Forward</td>\n",
       "      <td>Active</td>\n",
       "      <td>1610612759</td>\n",
       "      <td>Spurs</td>\n",
       "      <td>SAS</td>\n",
       "      <td>spurs</td>\n",
       "      <td>San Antonio</td>\n",
       "      <td>lonnie_walker</td>\n",
       "      <td>2018</td>\n",
       "      <td>2019</td>\n",
       "      <td>Y</td>\n",
       "      <td>Y</td>\n",
       "      <td>Y</td>\n",
       "      <td>2018</td>\n",
       "      <td>1</td>\n",
       "      <td>18</td>\n",
       "      <td>G-F</td>\n",
       "      <td>21</td>\n",
       "      <td>228</td>\n",
       "    </tr>\n",
       "    <tr>\n",
       "      <th>2171</th>\n",
       "      <td>2171</td>\n",
       "      <td>1628964</td>\n",
       "      <td>Mo</td>\n",
       "      <td>Bamba</td>\n",
       "      <td>Mo Bamba</td>\n",
       "      <td>Bamba, Mo</td>\n",
       "      <td>M. Bamba</td>\n",
       "      <td>mo-bamba</td>\n",
       "      <td>1998-05-12T00</td>\n",
       "      <td>University of Texas at Austin</td>\n",
       "      <td>USA</td>\n",
       "      <td>University of Texas at Austin\\/USA</td>\n",
       "      <td>84.0</td>\n",
       "      <td>231.0</td>\n",
       "      <td>1</td>\n",
       "      <td>5</td>\n",
       "      <td>Center</td>\n",
       "      <td>Active</td>\n",
       "      <td>1610612753</td>\n",
       "      <td>Magic</td>\n",
       "      <td>ORL</td>\n",
       "      <td>magic</td>\n",
       "      <td>Orlando</td>\n",
       "      <td>mohamed_bamba</td>\n",
       "      <td>2018</td>\n",
       "      <td>2019</td>\n",
       "      <td>N</td>\n",
       "      <td>Y</td>\n",
       "      <td>Y</td>\n",
       "      <td>2018</td>\n",
       "      <td>1</td>\n",
       "      <td>6</td>\n",
       "      <td>C</td>\n",
       "      <td>22</td>\n",
       "      <td>78</td>\n",
       "    </tr>\n",
       "    <tr>\n",
       "      <th>2172</th>\n",
       "      <td>2172</td>\n",
       "      <td>1629008</td>\n",
       "      <td>Michael</td>\n",
       "      <td>Porter Jr.</td>\n",
       "      <td>Michael Porter Jr.</td>\n",
       "      <td>Porter Jr., Michael</td>\n",
       "      <td>M. Porter Jr.</td>\n",
       "      <td>michael-porter-jr</td>\n",
       "      <td>1998-06-29T00</td>\n",
       "      <td>Missouri</td>\n",
       "      <td>USA</td>\n",
       "      <td>University of Missouri\\/USA</td>\n",
       "      <td>82.0</td>\n",
       "      <td>218.0</td>\n",
       "      <td>0</td>\n",
       "      <td>1</td>\n",
       "      <td>Forward</td>\n",
       "      <td>Active</td>\n",
       "      <td>1610612743</td>\n",
       "      <td>Nuggets</td>\n",
       "      <td>DEN</td>\n",
       "      <td>nuggets</td>\n",
       "      <td>Denver</td>\n",
       "      <td>michael_porter_jr</td>\n",
       "      <td>2018</td>\n",
       "      <td>2019</td>\n",
       "      <td>N</td>\n",
       "      <td>Y</td>\n",
       "      <td>Y</td>\n",
       "      <td>2018</td>\n",
       "      <td>1</td>\n",
       "      <td>14</td>\n",
       "      <td>F</td>\n",
       "      <td>22</td>\n",
       "      <td>30</td>\n",
       "    </tr>\n",
       "    <tr>\n",
       "      <th>2173</th>\n",
       "      <td>2173</td>\n",
       "      <td>1629010</td>\n",
       "      <td>Jerome</td>\n",
       "      <td>Robinson</td>\n",
       "      <td>Jerome Robinson</td>\n",
       "      <td>Robinson, Jerome</td>\n",
       "      <td>J. Robinson</td>\n",
       "      <td>jerome-robinson</td>\n",
       "      <td>1997-02-22T00</td>\n",
       "      <td>Boston College</td>\n",
       "      <td>USA</td>\n",
       "      <td>Boston College\\/USA</td>\n",
       "      <td>76.0</td>\n",
       "      <td>190.0</td>\n",
       "      <td>1</td>\n",
       "      <td>12</td>\n",
       "      <td>Guard</td>\n",
       "      <td>Active</td>\n",
       "      <td>1610612764</td>\n",
       "      <td>Wizards</td>\n",
       "      <td>WAS</td>\n",
       "      <td>wizards</td>\n",
       "      <td>Washington</td>\n",
       "      <td>jerome_robinson</td>\n",
       "      <td>2018</td>\n",
       "      <td>2019</td>\n",
       "      <td>Y</td>\n",
       "      <td>Y</td>\n",
       "      <td>Y</td>\n",
       "      <td>2018</td>\n",
       "      <td>1</td>\n",
       "      <td>13</td>\n",
       "      <td>G</td>\n",
       "      <td>23</td>\n",
       "      <td>158</td>\n",
       "    </tr>\n",
       "    <tr>\n",
       "      <th>2174</th>\n",
       "      <td>2174</td>\n",
       "      <td>1628449</td>\n",
       "      <td>Chris</td>\n",
       "      <td>Boucher</td>\n",
       "      <td>Chris Boucher</td>\n",
       "      <td>Boucher, Chris</td>\n",
       "      <td>C. Boucher</td>\n",
       "      <td>chris-boucher</td>\n",
       "      <td>1993-01-11T00</td>\n",
       "      <td>Oregon</td>\n",
       "      <td>Canada</td>\n",
       "      <td>Oregon\\/Canada</td>\n",
       "      <td>81.0</td>\n",
       "      <td>200.0</td>\n",
       "      <td>2</td>\n",
       "      <td>25</td>\n",
       "      <td>Forward-Center</td>\n",
       "      <td>Active</td>\n",
       "      <td>1610612761</td>\n",
       "      <td>Raptors</td>\n",
       "      <td>TOR</td>\n",
       "      <td>raptors</td>\n",
       "      <td>Toronto</td>\n",
       "      <td>chris_boucher</td>\n",
       "      <td>2017</td>\n",
       "      <td>2019</td>\n",
       "      <td>Y</td>\n",
       "      <td>Y</td>\n",
       "      <td>Y</td>\n",
       "      <td>Undrafted</td>\n",
       "      <td>Undrafted</td>\n",
       "      <td>Undrafted</td>\n",
       "      <td>F-C</td>\n",
       "      <td>27</td>\n",
       "      <td>200</td>\n",
       "    </tr>\n",
       "    <tr>\n",
       "      <th>2175</th>\n",
       "      <td>2175</td>\n",
       "      <td>1629059</td>\n",
       "      <td>Elie</td>\n",
       "      <td>Okobo</td>\n",
       "      <td>Elie Okobo</td>\n",
       "      <td>Okobo, Elie</td>\n",
       "      <td>E. Okobo</td>\n",
       "      <td>elie-okobo</td>\n",
       "      <td>1997-10-23T00</td>\n",
       "      <td></td>\n",
       "      <td>France</td>\n",
       "      <td>Elan Bearnais\\/France</td>\n",
       "      <td>75.0</td>\n",
       "      <td>190.0</td>\n",
       "      <td>1</td>\n",
       "      <td>2</td>\n",
       "      <td>Forward-Guard</td>\n",
       "      <td>Active</td>\n",
       "      <td>1610612756</td>\n",
       "      <td>Suns</td>\n",
       "      <td>PHX</td>\n",
       "      <td>suns</td>\n",
       "      <td>Phoenix</td>\n",
       "      <td>elie_okobo</td>\n",
       "      <td>2018</td>\n",
       "      <td>2019</td>\n",
       "      <td>Y</td>\n",
       "      <td>Y</td>\n",
       "      <td>Y</td>\n",
       "      <td>2018</td>\n",
       "      <td>2</td>\n",
       "      <td>31</td>\n",
       "      <td>F-G</td>\n",
       "      <td>22</td>\n",
       "      <td>280</td>\n",
       "    </tr>\n",
       "    <tr>\n",
       "      <th>2176</th>\n",
       "      <td>2176</td>\n",
       "      <td>1628981</td>\n",
       "      <td>Bruno</td>\n",
       "      <td>Fernando</td>\n",
       "      <td>Bruno Fernando</td>\n",
       "      <td>Fernando, Bruno</td>\n",
       "      <td>B. Fernando</td>\n",
       "      <td>bruno-fernando</td>\n",
       "      <td>1998-08-15T00</td>\n",
       "      <td>Maryland</td>\n",
       "      <td>Angola</td>\n",
       "      <td>Maryland\\/Angola</td>\n",
       "      <td>81.0</td>\n",
       "      <td>240.0</td>\n",
       "      <td>0</td>\n",
       "      <td>24</td>\n",
       "      <td>Forward-Center</td>\n",
       "      <td>Active</td>\n",
       "      <td>1610612737</td>\n",
       "      <td>Hawks</td>\n",
       "      <td>ATL</td>\n",
       "      <td>hawks</td>\n",
       "      <td>Atlanta</td>\n",
       "      <td>bruno_fernando</td>\n",
       "      <td>2019</td>\n",
       "      <td>2019</td>\n",
       "      <td>Y</td>\n",
       "      <td>Y</td>\n",
       "      <td>Y</td>\n",
       "      <td>2019</td>\n",
       "      <td>2</td>\n",
       "      <td>34</td>\n",
       "      <td>F-C</td>\n",
       "      <td>21</td>\n",
       "      <td>349</td>\n",
       "    </tr>\n",
       "    <tr>\n",
       "      <th>2177</th>\n",
       "      <td>2177</td>\n",
       "      <td>1629642</td>\n",
       "      <td>Nassir</td>\n",
       "      <td>Little</td>\n",
       "      <td>Nassir Little</td>\n",
       "      <td>Little, Nassir</td>\n",
       "      <td>N. Little</td>\n",
       "      <td>nassir-little</td>\n",
       "      <td>2000-02-11T00</td>\n",
       "      <td>North Carolina</td>\n",
       "      <td>USA</td>\n",
       "      <td>University of North Carolina at Cha\\/USA</td>\n",
       "      <td>77.0</td>\n",
       "      <td>220.0</td>\n",
       "      <td>0</td>\n",
       "      <td>9</td>\n",
       "      <td>Forward-Guard</td>\n",
       "      <td>Active</td>\n",
       "      <td>1610612757</td>\n",
       "      <td>Trail Blazers</td>\n",
       "      <td>POR</td>\n",
       "      <td>blazers</td>\n",
       "      <td>Portland</td>\n",
       "      <td>nassir_little</td>\n",
       "      <td>2019</td>\n",
       "      <td>2019</td>\n",
       "      <td>N</td>\n",
       "      <td>Y</td>\n",
       "      <td>Y</td>\n",
       "      <td>2019</td>\n",
       "      <td>1</td>\n",
       "      <td>25</td>\n",
       "      <td>F-G</td>\n",
       "      <td>20</td>\n",
       "      <td>169</td>\n",
       "    </tr>\n",
       "    <tr>\n",
       "      <th>2178</th>\n",
       "      <td>2178</td>\n",
       "      <td>1628396</td>\n",
       "      <td>Tony</td>\n",
       "      <td>Bradley</td>\n",
       "      <td>Tony Bradley</td>\n",
       "      <td>Bradley, Tony</td>\n",
       "      <td>T. Bradley</td>\n",
       "      <td>tony-bradley</td>\n",
       "      <td>1998-01-08T00</td>\n",
       "      <td>North Carolina</td>\n",
       "      <td>USA</td>\n",
       "      <td>North Carolina\\/USA</td>\n",
       "      <td>82.0</td>\n",
       "      <td>248.0</td>\n",
       "      <td>2</td>\n",
       "      <td>13</td>\n",
       "      <td>Center-Forward</td>\n",
       "      <td>Active</td>\n",
       "      <td>1610612762</td>\n",
       "      <td>Jazz</td>\n",
       "      <td>UTA</td>\n",
       "      <td>jazz</td>\n",
       "      <td>Utah</td>\n",
       "      <td>tony_bradley</td>\n",
       "      <td>2017</td>\n",
       "      <td>2019</td>\n",
       "      <td>Y</td>\n",
       "      <td>Y</td>\n",
       "      <td>Y</td>\n",
       "      <td>2017</td>\n",
       "      <td>1</td>\n",
       "      <td>28</td>\n",
       "      <td>C-F</td>\n",
       "      <td>22</td>\n",
       "      <td>203</td>\n",
       "    </tr>\n",
       "    <tr>\n",
       "      <th>2179</th>\n",
       "      <td>2179</td>\n",
       "      <td>1629048</td>\n",
       "      <td>Goga</td>\n",
       "      <td>Bitadze</td>\n",
       "      <td>Goga Bitadze</td>\n",
       "      <td>Bitadze, Goga</td>\n",
       "      <td>G. Bitadze</td>\n",
       "      <td>goga-bitadze</td>\n",
       "      <td>1999-07-20T00</td>\n",
       "      <td></td>\n",
       "      <td>Georgia</td>\n",
       "      <td>Mega Basket (Serbia)\\/Georgia</td>\n",
       "      <td>83.0</td>\n",
       "      <td>250.0</td>\n",
       "      <td>0</td>\n",
       "      <td>88</td>\n",
       "      <td>Center-Forward</td>\n",
       "      <td>Active</td>\n",
       "      <td>1610612754</td>\n",
       "      <td>Pacers</td>\n",
       "      <td>IND</td>\n",
       "      <td>pacers</td>\n",
       "      <td>Indiana</td>\n",
       "      <td>goga_bitadze</td>\n",
       "      <td>2019</td>\n",
       "      <td>2019</td>\n",
       "      <td>Y</td>\n",
       "      <td>Y</td>\n",
       "      <td>Y</td>\n",
       "      <td>2019</td>\n",
       "      <td>1</td>\n",
       "      <td>18</td>\n",
       "      <td>C-F</td>\n",
       "      <td>21</td>\n",
       "      <td>9</td>\n",
       "    </tr>\n",
       "  </tbody>\n",
       "</table>\n",
       "</div>"
      ],
      "text/plain": [
       "      Unnamed: 0  PERSON_ID FIRST_NAME   LAST_NAME  DISPLAY_FIRST_LAST  \\\n",
       "2170        2170    1629022     Lonnie   Walker IV    Lonnie Walker IV   \n",
       "2171        2171    1628964         Mo       Bamba            Mo Bamba   \n",
       "2172        2172    1629008    Michael  Porter Jr.  Michael Porter Jr.   \n",
       "2173        2173    1629010     Jerome    Robinson     Jerome Robinson   \n",
       "2174        2174    1628449      Chris     Boucher       Chris Boucher   \n",
       "2175        2175    1629059       Elie       Okobo          Elie Okobo   \n",
       "2176        2176    1628981      Bruno    Fernando      Bruno Fernando   \n",
       "2177        2177    1629642     Nassir      Little       Nassir Little   \n",
       "2178        2178    1628396       Tony     Bradley        Tony Bradley   \n",
       "2179        2179    1629048       Goga     Bitadze        Goga Bitadze   \n",
       "\n",
       "     DISPLAY_LAST_COMMA_FIRST DISPLAY_FI_LAST        PLAYER_SLUG  \\\n",
       "2170        Walker IV, Lonnie    L. Walker IV   lonnie-walker-iv   \n",
       "2171                Bamba, Mo        M. Bamba           mo-bamba   \n",
       "2172      Porter Jr., Michael   M. Porter Jr.  michael-porter-jr   \n",
       "2173         Robinson, Jerome     J. Robinson    jerome-robinson   \n",
       "2174           Boucher, Chris      C. Boucher      chris-boucher   \n",
       "2175              Okobo, Elie        E. Okobo         elie-okobo   \n",
       "2176          Fernando, Bruno     B. Fernando     bruno-fernando   \n",
       "2177           Little, Nassir       N. Little      nassir-little   \n",
       "2178            Bradley, Tony      T. Bradley       tony-bradley   \n",
       "2179            Bitadze, Goga      G. Bitadze       goga-bitadze   \n",
       "\n",
       "          BIRTHDATE                         SCHOOL  COUNTRY  \\\n",
       "2170  1998-12-14T00                          Miami      USA   \n",
       "2171  1998-05-12T00  University of Texas at Austin      USA   \n",
       "2172  1998-06-29T00                       Missouri      USA   \n",
       "2173  1997-02-22T00                 Boston College      USA   \n",
       "2174  1993-01-11T00                         Oregon   Canada   \n",
       "2175  1997-10-23T00                                  France   \n",
       "2176  1998-08-15T00                       Maryland   Angola   \n",
       "2177  2000-02-11T00                 North Carolina      USA   \n",
       "2178  1998-01-08T00                 North Carolina      USA   \n",
       "2179  1999-07-20T00                                 Georgia   \n",
       "\n",
       "                              LAST_AFFILIATION  HEIGHT  WEIGHT  SEASON_EXP  \\\n",
       "2170                  University of Miami\\/USA    77.0   204.0           1   \n",
       "2171        University of Texas at Austin\\/USA    84.0   231.0           1   \n",
       "2172               University of Missouri\\/USA    82.0   218.0           0   \n",
       "2173                       Boston College\\/USA    76.0   190.0           1   \n",
       "2174                            Oregon\\/Canada    81.0   200.0           2   \n",
       "2175                     Elan Bearnais\\/France    75.0   190.0           1   \n",
       "2176                          Maryland\\/Angola    81.0   240.0           0   \n",
       "2177  University of North Carolina at Cha\\/USA    77.0   220.0           0   \n",
       "2178                       North Carolina\\/USA    82.0   248.0           2   \n",
       "2179             Mega Basket (Serbia)\\/Georgia    83.0   250.0           0   \n",
       "\n",
       "     JERSEY        POSITION ROSTERSTATUS     TEAM_ID      TEAM_NAME  \\\n",
       "2170      1   Guard-Forward       Active  1610612759          Spurs   \n",
       "2171      5          Center       Active  1610612753          Magic   \n",
       "2172      1         Forward       Active  1610612743        Nuggets   \n",
       "2173     12           Guard       Active  1610612764        Wizards   \n",
       "2174     25  Forward-Center       Active  1610612761        Raptors   \n",
       "2175      2   Forward-Guard       Active  1610612756           Suns   \n",
       "2176     24  Forward-Center       Active  1610612737          Hawks   \n",
       "2177      9   Forward-Guard       Active  1610612757  Trail Blazers   \n",
       "2178     13  Center-Forward       Active  1610612762           Jazz   \n",
       "2179     88  Center-Forward       Active  1610612754         Pacers   \n",
       "\n",
       "     TEAM_ABBREVIATION TEAM_CODE    TEAM_CITY         PLAYERCODE  FROM_YEAR  \\\n",
       "2170               SAS     spurs  San Antonio      lonnie_walker       2018   \n",
       "2171               ORL     magic      Orlando      mohamed_bamba       2018   \n",
       "2172               DEN   nuggets       Denver  michael_porter_jr       2018   \n",
       "2173               WAS   wizards   Washington    jerome_robinson       2018   \n",
       "2174               TOR   raptors      Toronto      chris_boucher       2017   \n",
       "2175               PHX      suns      Phoenix         elie_okobo       2018   \n",
       "2176               ATL     hawks      Atlanta     bruno_fernando       2019   \n",
       "2177               POR   blazers     Portland      nassir_little       2019   \n",
       "2178               UTA      jazz         Utah       tony_bradley       2017   \n",
       "2179               IND    pacers      Indiana       goga_bitadze       2019   \n",
       "\n",
       "      TO_YEAR DLEAGUE_FLAG NBA_FLAG GAMES_PLAYED_FLAG DRAFT_YEAR DRAFT_ROUND  \\\n",
       "2170     2019            Y        Y                 Y       2018           1   \n",
       "2171     2019            N        Y                 Y       2018           1   \n",
       "2172     2019            N        Y                 Y       2018           1   \n",
       "2173     2019            Y        Y                 Y       2018           1   \n",
       "2174     2019            Y        Y                 Y  Undrafted   Undrafted   \n",
       "2175     2019            Y        Y                 Y       2018           2   \n",
       "2176     2019            Y        Y                 Y       2019           2   \n",
       "2177     2019            N        Y                 Y       2019           1   \n",
       "2178     2019            Y        Y                 Y       2017           1   \n",
       "2179     2019            Y        Y                 Y       2019           1   \n",
       "\n",
       "     DRAFT_NUMBER POSITION_INITIALS  AGE  AGE_DAYS  \n",
       "2170           18               G-F   21       228  \n",
       "2171            6                 C   22        78  \n",
       "2172           14                 F   22        30  \n",
       "2173           13                 G   23       158  \n",
       "2174    Undrafted               F-C   27       200  \n",
       "2175           31               F-G   22       280  \n",
       "2176           34               F-C   21       349  \n",
       "2177           25               F-G   20       169  \n",
       "2178           28               C-F   22       203  \n",
       "2179           18               C-F   21         9  "
      ]
     },
     "execution_count": 420,
     "metadata": {},
     "output_type": "execute_result"
    },
    {
     "data": {
      "text/html": [
       "<div>\n",
       "<style scoped>\n",
       "    .dataframe tbody tr th:only-of-type {\n",
       "        vertical-align: middle;\n",
       "    }\n",
       "\n",
       "    .dataframe tbody tr th {\n",
       "        vertical-align: top;\n",
       "    }\n",
       "\n",
       "    .dataframe thead th {\n",
       "        text-align: right;\n",
       "    }\n",
       "</style>\n",
       "<table border=\"1\" class=\"dataframe\">\n",
       "  <thead>\n",
       "    <tr style=\"text-align: right;\">\n",
       "      <th></th>\n",
       "      <th>year</th>\n",
       "      <th>n_clusters</th>\n",
       "      <th>cluster</th>\n",
       "      <th>n_players</th>\n",
       "      <th>PTS</th>\n",
       "      <th>REB</th>\n",
       "      <th>AST</th>\n",
       "    </tr>\n",
       "  </thead>\n",
       "  <tbody>\n",
       "    <tr>\n",
       "      <th>3785</th>\n",
       "      <td>2019</td>\n",
       "      <td>10</td>\n",
       "      <td>0</td>\n",
       "      <td>34</td>\n",
       "      <td>14.1</td>\n",
       "      <td>6.5</td>\n",
       "      <td>2.3</td>\n",
       "    </tr>\n",
       "    <tr>\n",
       "      <th>3786</th>\n",
       "      <td>2019</td>\n",
       "      <td>10</td>\n",
       "      <td>1</td>\n",
       "      <td>20</td>\n",
       "      <td>21.2</td>\n",
       "      <td>4.8</td>\n",
       "      <td>7.3</td>\n",
       "    </tr>\n",
       "    <tr>\n",
       "      <th>3787</th>\n",
       "      <td>2019</td>\n",
       "      <td>10</td>\n",
       "      <td>2</td>\n",
       "      <td>6</td>\n",
       "      <td>20.3</td>\n",
       "      <td>11.5</td>\n",
       "      <td>4.9</td>\n",
       "    </tr>\n",
       "    <tr>\n",
       "      <th>3788</th>\n",
       "      <td>2019</td>\n",
       "      <td>10</td>\n",
       "      <td>3</td>\n",
       "      <td>14</td>\n",
       "      <td>22.9</td>\n",
       "      <td>7.9</td>\n",
       "      <td>2.8</td>\n",
       "    </tr>\n",
       "    <tr>\n",
       "      <th>3789</th>\n",
       "      <td>2019</td>\n",
       "      <td>10</td>\n",
       "      <td>4</td>\n",
       "      <td>7</td>\n",
       "      <td>16.8</td>\n",
       "      <td>14.3</td>\n",
       "      <td>2.3</td>\n",
       "    </tr>\n",
       "    <tr>\n",
       "      <th>3790</th>\n",
       "      <td>2019</td>\n",
       "      <td>10</td>\n",
       "      <td>5</td>\n",
       "      <td>25</td>\n",
       "      <td>20.7</td>\n",
       "      <td>4.7</td>\n",
       "      <td>3.4</td>\n",
       "    </tr>\n",
       "    <tr>\n",
       "      <th>3791</th>\n",
       "      <td>2019</td>\n",
       "      <td>10</td>\n",
       "      <td>6</td>\n",
       "      <td>1</td>\n",
       "      <td>34.5</td>\n",
       "      <td>16.0</td>\n",
       "      <td>6.8</td>\n",
       "    </tr>\n",
       "    <tr>\n",
       "      <th>3792</th>\n",
       "      <td>2019</td>\n",
       "      <td>10</td>\n",
       "      <td>7</td>\n",
       "      <td>12</td>\n",
       "      <td>13.6</td>\n",
       "      <td>3.5</td>\n",
       "      <td>2.7</td>\n",
       "    </tr>\n",
       "    <tr>\n",
       "      <th>3793</th>\n",
       "      <td>2019</td>\n",
       "      <td>10</td>\n",
       "      <td>8</td>\n",
       "      <td>8</td>\n",
       "      <td>29.7</td>\n",
       "      <td>6.7</td>\n",
       "      <td>7.9</td>\n",
       "    </tr>\n",
       "    <tr>\n",
       "      <th>3794</th>\n",
       "      <td>2019</td>\n",
       "      <td>10</td>\n",
       "      <td>9</td>\n",
       "      <td>10</td>\n",
       "      <td>13.3</td>\n",
       "      <td>5.5</td>\n",
       "      <td>5.8</td>\n",
       "    </tr>\n",
       "  </tbody>\n",
       "</table>\n",
       "</div>"
      ],
      "text/plain": [
       "      year  n_clusters  cluster  n_players   PTS   REB  AST\n",
       "3785  2019          10        0         34  14.1   6.5  2.3\n",
       "3786  2019          10        1         20  21.2   4.8  7.3\n",
       "3787  2019          10        2          6  20.3  11.5  4.9\n",
       "3788  2019          10        3         14  22.9   7.9  2.8\n",
       "3789  2019          10        4          7  16.8  14.3  2.3\n",
       "3790  2019          10        5         25  20.7   4.7  3.4\n",
       "3791  2019          10        6          1  34.5  16.0  6.8\n",
       "3792  2019          10        7         12  13.6   3.5  2.7\n",
       "3793  2019          10        8          8  29.7   6.7  7.9\n",
       "3794  2019          10        9         10  13.3   5.5  5.8"
      ]
     },
     "execution_count": 420,
     "metadata": {},
     "output_type": "execute_result"
    },
    {
     "data": {
      "text/html": [
       "<div>\n",
       "<style scoped>\n",
       "    .dataframe tbody tr th:only-of-type {\n",
       "        vertical-align: middle;\n",
       "    }\n",
       "\n",
       "    .dataframe tbody tr th {\n",
       "        vertical-align: top;\n",
       "    }\n",
       "\n",
       "    .dataframe thead th {\n",
       "        text-align: right;\n",
       "    }\n",
       "</style>\n",
       "<table border=\"1\" class=\"dataframe\">\n",
       "  <thead>\n",
       "    <tr style=\"text-align: right;\">\n",
       "      <th></th>\n",
       "      <th>year</th>\n",
       "      <th>PLAYER_ID</th>\n",
       "      <th>player</th>\n",
       "      <th>GP</th>\n",
       "      <th>MIN</th>\n",
       "      <th>PTS</th>\n",
       "      <th>REB</th>\n",
       "      <th>AST</th>\n",
       "    </tr>\n",
       "  </thead>\n",
       "  <tbody>\n",
       "    <tr>\n",
       "      <th>6685</th>\n",
       "      <td>2019</td>\n",
       "      <td>201565</td>\n",
       "      <td>Derrick Rose</td>\n",
       "      <td>50</td>\n",
       "      <td>26.0</td>\n",
       "      <td>25.1</td>\n",
       "      <td>3.3</td>\n",
       "      <td>7.8</td>\n",
       "    </tr>\n",
       "    <tr>\n",
       "      <th>6686</th>\n",
       "      <td>2019</td>\n",
       "      <td>204038</td>\n",
       "      <td>Langston Galloway</td>\n",
       "      <td>66</td>\n",
       "      <td>25.8</td>\n",
       "      <td>14.4</td>\n",
       "      <td>3.2</td>\n",
       "      <td>2.1</td>\n",
       "    </tr>\n",
       "    <tr>\n",
       "      <th>6687</th>\n",
       "      <td>2019</td>\n",
       "      <td>1629632</td>\n",
       "      <td>Coby White</td>\n",
       "      <td>65</td>\n",
       "      <td>25.8</td>\n",
       "      <td>18.4</td>\n",
       "      <td>4.9</td>\n",
       "      <td>3.8</td>\n",
       "    </tr>\n",
       "    <tr>\n",
       "      <th>6688</th>\n",
       "      <td>2019</td>\n",
       "      <td>1628386</td>\n",
       "      <td>Jarrett Allen</td>\n",
       "      <td>64</td>\n",
       "      <td>25.7</td>\n",
       "      <td>14.8</td>\n",
       "      <td>13.3</td>\n",
       "      <td>1.8</td>\n",
       "    </tr>\n",
       "    <tr>\n",
       "      <th>6689</th>\n",
       "      <td>2019</td>\n",
       "      <td>1628467</td>\n",
       "      <td>Maxi Kleber</td>\n",
       "      <td>66</td>\n",
       "      <td>25.7</td>\n",
       "      <td>12.9</td>\n",
       "      <td>7.6</td>\n",
       "      <td>1.7</td>\n",
       "    </tr>\n",
       "    <tr>\n",
       "      <th>6690</th>\n",
       "      <td>2019</td>\n",
       "      <td>203484</td>\n",
       "      <td>Kentavious Caldwell-Pope</td>\n",
       "      <td>63</td>\n",
       "      <td>25.5</td>\n",
       "      <td>13.4</td>\n",
       "      <td>3.0</td>\n",
       "      <td>2.4</td>\n",
       "    </tr>\n",
       "    <tr>\n",
       "      <th>6691</th>\n",
       "      <td>2019</td>\n",
       "      <td>201980</td>\n",
       "      <td>Danny Green</td>\n",
       "      <td>61</td>\n",
       "      <td>25.1</td>\n",
       "      <td>11.8</td>\n",
       "      <td>4.9</td>\n",
       "      <td>2.0</td>\n",
       "    </tr>\n",
       "    <tr>\n",
       "      <th>6692</th>\n",
       "      <td>2019</td>\n",
       "      <td>1627854</td>\n",
       "      <td>Bryn Forbes</td>\n",
       "      <td>63</td>\n",
       "      <td>25.1</td>\n",
       "      <td>16.1</td>\n",
       "      <td>2.9</td>\n",
       "      <td>2.4</td>\n",
       "    </tr>\n",
       "    <tr>\n",
       "      <th>6693</th>\n",
       "      <td>2019</td>\n",
       "      <td>203145</td>\n",
       "      <td>Kent Bazemore</td>\n",
       "      <td>64</td>\n",
       "      <td>25.1</td>\n",
       "      <td>12.5</td>\n",
       "      <td>6.2</td>\n",
       "      <td>1.9</td>\n",
       "    </tr>\n",
       "    <tr>\n",
       "      <th>6694</th>\n",
       "      <td>2019</td>\n",
       "      <td>1629006</td>\n",
       "      <td>Josh Okogie</td>\n",
       "      <td>62</td>\n",
       "      <td>25.0</td>\n",
       "      <td>12.4</td>\n",
       "      <td>6.2</td>\n",
       "      <td>2.3</td>\n",
       "    </tr>\n",
       "  </tbody>\n",
       "</table>\n",
       "</div>"
      ],
      "text/plain": [
       "      year  PLAYER_ID                    player  GP   MIN   PTS   REB  AST\n",
       "6685  2019     201565              Derrick Rose  50  26.0  25.1   3.3  7.8\n",
       "6686  2019     204038         Langston Galloway  66  25.8  14.4   3.2  2.1\n",
       "6687  2019    1629632                Coby White  65  25.8  18.4   4.9  3.8\n",
       "6688  2019    1628386             Jarrett Allen  64  25.7  14.8  13.3  1.8\n",
       "6689  2019    1628467               Maxi Kleber  66  25.7  12.9   7.6  1.7\n",
       "6690  2019     203484  Kentavious Caldwell-Pope  63  25.5  13.4   3.0  2.4\n",
       "6691  2019     201980               Danny Green  61  25.1  11.8   4.9  2.0\n",
       "6692  2019    1627854               Bryn Forbes  63  25.1  16.1   2.9  2.4\n",
       "6693  2019     203145             Kent Bazemore  64  25.1  12.5   6.2  1.9\n",
       "6694  2019    1629006               Josh Okogie  62  25.0  12.4   6.2  2.3"
      ]
     },
     "execution_count": 420,
     "metadata": {},
     "output_type": "execute_result"
    },
    {
     "data": {
      "text/html": [
       "<div>\n",
       "<style scoped>\n",
       "    .dataframe tbody tr th:only-of-type {\n",
       "        vertical-align: middle;\n",
       "    }\n",
       "\n",
       "    .dataframe tbody tr th {\n",
       "        vertical-align: top;\n",
       "    }\n",
       "\n",
       "    .dataframe thead th {\n",
       "        text-align: right;\n",
       "    }\n",
       "</style>\n",
       "<table border=\"1\" class=\"dataframe\">\n",
       "  <thead>\n",
       "    <tr style=\"text-align: right;\">\n",
       "      <th></th>\n",
       "      <th>year</th>\n",
       "      <th>PLAYER_ID</th>\n",
       "      <th>player</th>\n",
       "      <th>n_clusters</th>\n",
       "      <th>cluster</th>\n",
       "    </tr>\n",
       "  </thead>\n",
       "  <tbody>\n",
       "    <tr>\n",
       "      <th>66940</th>\n",
       "      <td>2019</td>\n",
       "      <td>201565</td>\n",
       "      <td>Derrick Rose</td>\n",
       "      <td>10</td>\n",
       "      <td>1</td>\n",
       "    </tr>\n",
       "    <tr>\n",
       "      <th>66941</th>\n",
       "      <td>2019</td>\n",
       "      <td>204038</td>\n",
       "      <td>Langston Galloway</td>\n",
       "      <td>10</td>\n",
       "      <td>7</td>\n",
       "    </tr>\n",
       "    <tr>\n",
       "      <th>66942</th>\n",
       "      <td>2019</td>\n",
       "      <td>1629632</td>\n",
       "      <td>Coby White</td>\n",
       "      <td>10</td>\n",
       "      <td>5</td>\n",
       "    </tr>\n",
       "    <tr>\n",
       "      <th>66943</th>\n",
       "      <td>2019</td>\n",
       "      <td>1628386</td>\n",
       "      <td>Jarrett Allen</td>\n",
       "      <td>10</td>\n",
       "      <td>4</td>\n",
       "    </tr>\n",
       "    <tr>\n",
       "      <th>66944</th>\n",
       "      <td>2019</td>\n",
       "      <td>1628467</td>\n",
       "      <td>Maxi Kleber</td>\n",
       "      <td>10</td>\n",
       "      <td>0</td>\n",
       "    </tr>\n",
       "    <tr>\n",
       "      <th>66945</th>\n",
       "      <td>2019</td>\n",
       "      <td>203484</td>\n",
       "      <td>Kentavious Caldwell-Pope</td>\n",
       "      <td>10</td>\n",
       "      <td>7</td>\n",
       "    </tr>\n",
       "    <tr>\n",
       "      <th>66946</th>\n",
       "      <td>2019</td>\n",
       "      <td>201980</td>\n",
       "      <td>Danny Green</td>\n",
       "      <td>10</td>\n",
       "      <td>7</td>\n",
       "    </tr>\n",
       "    <tr>\n",
       "      <th>66947</th>\n",
       "      <td>2019</td>\n",
       "      <td>1627854</td>\n",
       "      <td>Bryn Forbes</td>\n",
       "      <td>10</td>\n",
       "      <td>7</td>\n",
       "    </tr>\n",
       "    <tr>\n",
       "      <th>66948</th>\n",
       "      <td>2019</td>\n",
       "      <td>203145</td>\n",
       "      <td>Kent Bazemore</td>\n",
       "      <td>10</td>\n",
       "      <td>0</td>\n",
       "    </tr>\n",
       "    <tr>\n",
       "      <th>66949</th>\n",
       "      <td>2019</td>\n",
       "      <td>1629006</td>\n",
       "      <td>Josh Okogie</td>\n",
       "      <td>10</td>\n",
       "      <td>0</td>\n",
       "    </tr>\n",
       "  </tbody>\n",
       "</table>\n",
       "</div>"
      ],
      "text/plain": [
       "       year  PLAYER_ID                    player  n_clusters  cluster\n",
       "66940  2019     201565              Derrick Rose          10        1\n",
       "66941  2019     204038         Langston Galloway          10        7\n",
       "66942  2019    1629632                Coby White          10        5\n",
       "66943  2019    1628386             Jarrett Allen          10        4\n",
       "66944  2019    1628467               Maxi Kleber          10        0\n",
       "66945  2019     203484  Kentavious Caldwell-Pope          10        7\n",
       "66946  2019     201980               Danny Green          10        7\n",
       "66947  2019    1627854               Bryn Forbes          10        7\n",
       "66948  2019     203145             Kent Bazemore          10        0\n",
       "66949  2019    1629006               Josh Okogie          10        0"
      ]
     },
     "execution_count": 420,
     "metadata": {},
     "output_type": "execute_result"
    }
   ],
   "source": [
    "InteractiveShell.ast_node_interactivity = \"all\"\n",
    "\n",
    "k_means_results = pd.read_csv('k_means_results.csv')\n",
    "k_means_results.tail(10)\n",
    "\n",
    "player_bios = pd.read_csv('player_bios.csv')\n",
    "player_bios.tail(10)\n",
    "\n",
    "centroid_stats = pd.read_csv('centroid_results.csv')\n",
    "centroid_stats.tail(10)\n",
    "\n",
    "per_36_stats = pd.read_csv('player_per_36_stats.csv')\n",
    "per_36_stats.tail(10)\n",
    "\n",
    "player_clusters = pd.read_csv('player_clusters.csv')\n",
    "player_clusters.tail(10)"
   ]
  },
  {
   "cell_type": "code",
   "execution_count": 367,
   "metadata": {},
   "outputs": [
    {
     "data": {
      "text/html": [
       "<div>\n",
       "<style scoped>\n",
       "    .dataframe tbody tr th:only-of-type {\n",
       "        vertical-align: middle;\n",
       "    }\n",
       "\n",
       "    .dataframe tbody tr th {\n",
       "        vertical-align: top;\n",
       "    }\n",
       "\n",
       "    .dataframe thead th {\n",
       "        text-align: right;\n",
       "    }\n",
       "</style>\n",
       "<table border=\"1\" class=\"dataframe\">\n",
       "  <thead>\n",
       "    <tr style=\"text-align: right;\">\n",
       "      <th></th>\n",
       "      <th>Unnamed: 0</th>\n",
       "      <th>PERSON_ID</th>\n",
       "      <th>FIRST_NAME</th>\n",
       "      <th>LAST_NAME</th>\n",
       "      <th>DISPLAY_FIRST_LAST</th>\n",
       "      <th>DISPLAY_LAST_COMMA_FIRST</th>\n",
       "      <th>DISPLAY_FI_LAST</th>\n",
       "      <th>PLAYER_SLUG</th>\n",
       "      <th>BIRTHDATE</th>\n",
       "      <th>SCHOOL</th>\n",
       "      <th>COUNTRY</th>\n",
       "      <th>LAST_AFFILIATION</th>\n",
       "      <th>HEIGHT</th>\n",
       "      <th>WEIGHT</th>\n",
       "      <th>SEASON_EXP</th>\n",
       "      <th>JERSEY</th>\n",
       "      <th>POSITION</th>\n",
       "      <th>ROSTERSTATUS</th>\n",
       "      <th>TEAM_ID</th>\n",
       "      <th>TEAM_NAME</th>\n",
       "      <th>TEAM_ABBREVIATION</th>\n",
       "      <th>TEAM_CODE</th>\n",
       "      <th>TEAM_CITY</th>\n",
       "      <th>PLAYERCODE</th>\n",
       "      <th>FROM_YEAR</th>\n",
       "      <th>TO_YEAR</th>\n",
       "      <th>DLEAGUE_FLAG</th>\n",
       "      <th>NBA_FLAG</th>\n",
       "      <th>GAMES_PLAYED_FLAG</th>\n",
       "      <th>DRAFT_YEAR</th>\n",
       "      <th>DRAFT_ROUND</th>\n",
       "      <th>DRAFT_NUMBER</th>\n",
       "      <th>POSITION_INITIALS</th>\n",
       "      <th>AGE</th>\n",
       "      <th>AGE_DAYS</th>\n",
       "    </tr>\n",
       "  </thead>\n",
       "  <tbody>\n",
       "    <tr>\n",
       "      <th>0</th>\n",
       "      <td>0</td>\n",
       "      <td>76056</td>\n",
       "      <td>Paul</td>\n",
       "      <td>Arizin</td>\n",
       "      <td>Paul Arizin</td>\n",
       "      <td>Arizin, Paul</td>\n",
       "      <td>P. Arizin</td>\n",
       "      <td>paul-arizin</td>\n",
       "      <td>1928-04-09T00</td>\n",
       "      <td>Villanova</td>\n",
       "      <td>USA</td>\n",
       "      <td>Villanova\\/USA</td>\n",
       "      <td>76.0</td>\n",
       "      <td>190.0</td>\n",
       "      <td>9</td>\n",
       "      <td>11</td>\n",
       "      <td>Forward</td>\n",
       "      <td>Inactive</td>\n",
       "      <td>1610612744</td>\n",
       "      <td>Warriors</td>\n",
       "      <td>PHW</td>\n",
       "      <td>warriors</td>\n",
       "      <td>Philadelphia</td>\n",
       "      <td>HISTADD_paul_arizin</td>\n",
       "      <td>1950</td>\n",
       "      <td>1961</td>\n",
       "      <td>N</td>\n",
       "      <td>Y</td>\n",
       "      <td>Y</td>\n",
       "      <td>1950</td>\n",
       "      <td>NaN</td>\n",
       "      <td>NaN</td>\n",
       "      <td>F</td>\n",
       "      <td>92</td>\n",
       "      <td>111</td>\n",
       "    </tr>\n",
       "    <tr>\n",
       "      <th>1</th>\n",
       "      <td>1</td>\n",
       "      <td>77853</td>\n",
       "      <td>Andy</td>\n",
       "      <td>Phillip</td>\n",
       "      <td>Andy Phillip</td>\n",
       "      <td>Phillip, Andy</td>\n",
       "      <td>A. Phillip</td>\n",
       "      <td>andy-phillip</td>\n",
       "      <td>1922-03-07T00</td>\n",
       "      <td>Illinois</td>\n",
       "      <td>USA</td>\n",
       "      <td>Illinois\\/USA</td>\n",
       "      <td>75.0</td>\n",
       "      <td>195.0</td>\n",
       "      <td>10</td>\n",
       "      <td>17</td>\n",
       "      <td>Guard</td>\n",
       "      <td>Inactive</td>\n",
       "      <td>1610612765</td>\n",
       "      <td>Pistons</td>\n",
       "      <td>FTW</td>\n",
       "      <td>pistons</td>\n",
       "      <td>Ft. Wayne Zollner</td>\n",
       "      <td>HISTADD_andy_phillip</td>\n",
       "      <td>1947</td>\n",
       "      <td>1957</td>\n",
       "      <td>N</td>\n",
       "      <td>Y</td>\n",
       "      <td>Y</td>\n",
       "      <td>1947</td>\n",
       "      <td>NaN</td>\n",
       "      <td>NaN</td>\n",
       "      <td>G</td>\n",
       "      <td>98</td>\n",
       "      <td>143</td>\n",
       "    </tr>\n",
       "    <tr>\n",
       "      <th>2</th>\n",
       "      <td>2</td>\n",
       "      <td>78075</td>\n",
       "      <td>Fred</td>\n",
       "      <td>Schaus</td>\n",
       "      <td>Fred Schaus</td>\n",
       "      <td>Schaus, Fred</td>\n",
       "      <td>F. Schaus</td>\n",
       "      <td>fred-schaus</td>\n",
       "      <td>1925-06-30T00</td>\n",
       "      <td>West Virginia</td>\n",
       "      <td>USA</td>\n",
       "      <td>West Virginia\\/USA</td>\n",
       "      <td>77.0</td>\n",
       "      <td>205.0</td>\n",
       "      <td>4</td>\n",
       "      <td>17</td>\n",
       "      <td>Forward</td>\n",
       "      <td>Inactive</td>\n",
       "      <td>1610612765</td>\n",
       "      <td>Pistons</td>\n",
       "      <td>FTW</td>\n",
       "      <td>pistons</td>\n",
       "      <td>Ft. Wayne Zollner</td>\n",
       "      <td>HISTADD_fred_schaus</td>\n",
       "      <td>1949</td>\n",
       "      <td>1953</td>\n",
       "      <td>N</td>\n",
       "      <td>Y</td>\n",
       "      <td>Y</td>\n",
       "      <td>1949</td>\n",
       "      <td>3</td>\n",
       "      <td>NaN</td>\n",
       "      <td>F</td>\n",
       "      <td>95</td>\n",
       "      <td>29</td>\n",
       "    </tr>\n",
       "    <tr>\n",
       "      <th>3</th>\n",
       "      <td>3</td>\n",
       "      <td>600003</td>\n",
       "      <td>Bob</td>\n",
       "      <td>Cousy</td>\n",
       "      <td>Bob Cousy</td>\n",
       "      <td>Cousy, Bob</td>\n",
       "      <td>B. Cousy</td>\n",
       "      <td>bob-cousy</td>\n",
       "      <td>1928-08-09T00</td>\n",
       "      <td>Holy Cross</td>\n",
       "      <td>USA</td>\n",
       "      <td>Holy Cross\\/USA</td>\n",
       "      <td>73.0</td>\n",
       "      <td>175.0</td>\n",
       "      <td>13</td>\n",
       "      <td>14</td>\n",
       "      <td>Guard</td>\n",
       "      <td>Inactive</td>\n",
       "      <td>1610612738</td>\n",
       "      <td>Celtics</td>\n",
       "      <td>BOS</td>\n",
       "      <td>celtics</td>\n",
       "      <td>Boston</td>\n",
       "      <td>HISTADD_bob_cousy</td>\n",
       "      <td>1950</td>\n",
       "      <td>1969</td>\n",
       "      <td>N</td>\n",
       "      <td>Y</td>\n",
       "      <td>Y</td>\n",
       "      <td>1950</td>\n",
       "      <td>1</td>\n",
       "      <td>3</td>\n",
       "      <td>G</td>\n",
       "      <td>91</td>\n",
       "      <td>355</td>\n",
       "    </tr>\n",
       "    <tr>\n",
       "      <th>4</th>\n",
       "      <td>4</td>\n",
       "      <td>76250</td>\n",
       "      <td>Frank</td>\n",
       "      <td>Brian</td>\n",
       "      <td>Frank Brian</td>\n",
       "      <td>Brian, Frank</td>\n",
       "      <td>F. Brian</td>\n",
       "      <td>frank-brian</td>\n",
       "      <td>1923-05-01T00</td>\n",
       "      <td>Louisiana State</td>\n",
       "      <td>USA</td>\n",
       "      <td>Louisiana State\\/USA</td>\n",
       "      <td>73.0</td>\n",
       "      <td>180.0</td>\n",
       "      <td>6</td>\n",
       "      <td>7</td>\n",
       "      <td>Guard</td>\n",
       "      <td>Inactive</td>\n",
       "      <td>1610612765</td>\n",
       "      <td>Pistons</td>\n",
       "      <td>FTW</td>\n",
       "      <td>pistons</td>\n",
       "      <td>Ft. Wayne Zollner</td>\n",
       "      <td>HISTADD_flash_brian</td>\n",
       "      <td>1949</td>\n",
       "      <td>1955</td>\n",
       "      <td>N</td>\n",
       "      <td>Y</td>\n",
       "      <td>Y</td>\n",
       "      <td>Undrafted</td>\n",
       "      <td>Undrafted</td>\n",
       "      <td>Undrafted</td>\n",
       "      <td>G</td>\n",
       "      <td>97</td>\n",
       "      <td>89</td>\n",
       "    </tr>\n",
       "  </tbody>\n",
       "</table>\n",
       "</div>"
      ],
      "text/plain": [
       "   Unnamed: 0  PERSON_ID FIRST_NAME LAST_NAME DISPLAY_FIRST_LAST  \\\n",
       "0           0      76056       Paul    Arizin        Paul Arizin   \n",
       "1           1      77853       Andy   Phillip       Andy Phillip   \n",
       "2           2      78075       Fred    Schaus        Fred Schaus   \n",
       "3           3     600003        Bob     Cousy          Bob Cousy   \n",
       "4           4      76250      Frank     Brian        Frank Brian   \n",
       "\n",
       "  DISPLAY_LAST_COMMA_FIRST DISPLAY_FI_LAST   PLAYER_SLUG      BIRTHDATE  \\\n",
       "0             Arizin, Paul       P. Arizin   paul-arizin  1928-04-09T00   \n",
       "1            Phillip, Andy      A. Phillip  andy-phillip  1922-03-07T00   \n",
       "2             Schaus, Fred       F. Schaus   fred-schaus  1925-06-30T00   \n",
       "3               Cousy, Bob        B. Cousy     bob-cousy  1928-08-09T00   \n",
       "4             Brian, Frank        F. Brian   frank-brian  1923-05-01T00   \n",
       "\n",
       "            SCHOOL COUNTRY      LAST_AFFILIATION  HEIGHT  WEIGHT  SEASON_EXP  \\\n",
       "0        Villanova     USA        Villanova\\/USA    76.0   190.0           9   \n",
       "1         Illinois     USA         Illinois\\/USA    75.0   195.0          10   \n",
       "2    West Virginia     USA    West Virginia\\/USA    77.0   205.0           4   \n",
       "3       Holy Cross     USA       Holy Cross\\/USA    73.0   175.0          13   \n",
       "4  Louisiana State     USA  Louisiana State\\/USA    73.0   180.0           6   \n",
       "\n",
       "  JERSEY POSITION ROSTERSTATUS     TEAM_ID TEAM_NAME TEAM_ABBREVIATION  \\\n",
       "0     11  Forward     Inactive  1610612744  Warriors               PHW   \n",
       "1     17    Guard     Inactive  1610612765   Pistons               FTW   \n",
       "2     17  Forward     Inactive  1610612765   Pistons               FTW   \n",
       "3     14    Guard     Inactive  1610612738   Celtics               BOS   \n",
       "4      7    Guard     Inactive  1610612765   Pistons               FTW   \n",
       "\n",
       "  TEAM_CODE          TEAM_CITY            PLAYERCODE  FROM_YEAR  TO_YEAR  \\\n",
       "0  warriors       Philadelphia   HISTADD_paul_arizin       1950     1961   \n",
       "1   pistons  Ft. Wayne Zollner  HISTADD_andy_phillip       1947     1957   \n",
       "2   pistons  Ft. Wayne Zollner   HISTADD_fred_schaus       1949     1953   \n",
       "3   celtics             Boston     HISTADD_bob_cousy       1950     1969   \n",
       "4   pistons  Ft. Wayne Zollner   HISTADD_flash_brian       1949     1955   \n",
       "\n",
       "  DLEAGUE_FLAG NBA_FLAG GAMES_PLAYED_FLAG DRAFT_YEAR DRAFT_ROUND DRAFT_NUMBER  \\\n",
       "0            N        Y                 Y       1950         NaN          NaN   \n",
       "1            N        Y                 Y       1947         NaN          NaN   \n",
       "2            N        Y                 Y       1949           3          NaN   \n",
       "3            N        Y                 Y       1950           1            3   \n",
       "4            N        Y                 Y  Undrafted   Undrafted    Undrafted   \n",
       "\n",
       "  POSITION_INITIALS  AGE  AGE_DAYS  \n",
       "0                 F   92       111  \n",
       "1                 G   98       143  \n",
       "2                 F   95        29  \n",
       "3                 G   91       355  \n",
       "4                 G   97        89  "
      ]
     },
     "execution_count": 367,
     "metadata": {},
     "output_type": "execute_result"
    }
   ],
   "source": [
    "#temp = player_bios.HEIGHT.str.split('-', expand=True)\n",
    "#player_bios['HEIGHT'] = pd.to_numeric(temp[0]) * 12 + pd.to_numeric(temp[1])\n",
    "#player_bios.head()\n",
    "#player_bios.shape\n",
    "#player_bios.to_csv('player_bios.csv')\n",
    "player_bios = pd.read_csv('player_bios.csv')\n",
    "player_bios.head()"
   ]
  },
  {
   "cell_type": "markdown",
   "metadata": {},
   "source": [
    "### Cluster grouping over time\n",
    "\n",
    "Hopefully, we'll see our metric get closer to zero year over year for our three-cluster K-means runs, meaning that three clusters (point-wing-big) describes the data better over time.\n",
    "\n",
    "And hopefully, it will get further from zero for our five-cluster K-means runs, as the point-shooting guard-small forward-power forward-center groupings fall out of fashion."
   ]
  },
  {
   "cell_type": "code",
   "execution_count": 378,
   "metadata": {},
   "outputs": [
    {
     "data": {
      "text/plain": [
       "<matplotlib.collections.PathCollection at 0x12751df50>"
      ]
     },
     "execution_count": 378,
     "metadata": {},
     "output_type": "execute_result"
    },
    {
     "data": {
      "image/png": "[encoded data removed]",
      "text/plain": [
       "<Figure size 432x288 with 1 Axes>"
      ]
     },
     "metadata": {},
     "output_type": "display_data"
    }
   ],
   "source": [
    "plt.scatter(x=k_means_results['year'], y=k_means_results['three'])"
   ]
  },
  {
   "cell_type": "code",
   "execution_count": 379,
   "metadata": {},
   "outputs": [
    {
     "data": {
      "text/plain": [
       "<matplotlib.collections.PathCollection at 0x1231c6690>"
      ]
     },
     "execution_count": 379,
     "metadata": {},
     "output_type": "execute_result"
    },
    {
     "data": {
      "image/png": "[encoded data removed]",
      "text/plain": [
       "<Figure size 432x288 with 1 Axes>"
      ]
     },
     "metadata": {},
     "output_type": "display_data"
    }
   ],
   "source": [
    "plt.scatter(x=k_means_results['year'], y=k_means_results['five'])"
   ]
  },
  {
   "cell_type": "markdown",
   "metadata": {},
   "source": [
    "Nope. Cluster fit was scattered through the 70s, then hit a low point in the mid 80s, and has gradually increased in the time since."
   ]
  },
  {
   "cell_type": "markdown",
   "metadata": {},
   "source": [
    "### Clusters vs Positions"
   ]
  },
  {
   "cell_type": "code",
   "execution_count": 403,
   "metadata": {},
   "outputs": [
    {
     "data": {
      "text/plain": [
       "<matplotlib.axes._subplots.AxesSubplot at 0x123d74450>"
      ]
     },
     "execution_count": 403,
     "metadata": {},
     "output_type": "execute_result"
    },
    {
     "data": {
      "image/png": "[encoded data removed]",
      "text/plain": [
       "<Figure size 864x576 with 1 Axes>"
      ]
     },
     "metadata": {},
     "output_type": "display_data"
    }
   ],
   "source": [
    "clusters = centroid_stats.merge(player_clusters, left_on=['year', 'n_clusters', 'cluster'], right_on=['year', 'n_clusters', 'cluster'])\n",
    "player_cluster_combo = clusters.merge(player_bios, left_on=['PLAYER_ID'], right_on=['PERSON_ID'])\n",
    "#player_cluster_combo.head()\n",
    "\n",
    "avg_heights = player_cluster_combo.groupby(['year', 'n_clusters', 'cluster'])['HEIGHT'].mean().reset_index().sort_values(['year', 'n_clusters', 'HEIGHT'])\n",
    "#avg_heights[avg_heights.n_clusters == 3]\n",
    "\n",
    "all_columns = centroid_stats.merge(avg_heights, left_on=['year', 'n_clusters', 'cluster'], right_on=['year', 'n_clusters', 'cluster'])\n",
    "all_columns['player_grouping'] = all_columns.groupby(['year', 'n_clusters'])['HEIGHT'].rank(ascending=False).map({1.0: 'bigs', 2.0: 'wings', 3.0: 'points'})\n",
    "#all_columns[all_columns.n_clusters == 3].sort_values(['year', 'n_clusters', 'player_grouping'])\n",
    "\n",
    "pivot = all_columns.pivot_table(values='PTS', index='year', columns='player_grouping', aggfunc='first')\n",
    "\n",
    "pivot.plot(figsize=(12, 8))\n",
    "\n",
    "\n"
   ]
  },
  {
   "cell_type": "markdown",
   "metadata": {},
   "source": [
    "### Position vs Group"
   ]
  },
  {
   "cell_type": "code",
   "execution_count": 421,
   "metadata": {},
   "outputs": [
    {
     "data": {
      "text/plain": [
       "<bound method NDFrame.head of       Unnamed: 0  PERSON_ID FIRST_NAME LAST_NAME DISPLAY_FIRST_LAST  \\\n",
       "0              0      76056       Paul    Arizin        Paul Arizin   \n",
       "1              1      77853       Andy   Phillip       Andy Phillip   \n",
       "2              2      78075       Fred    Schaus        Fred Schaus   \n",
       "3              3     600003        Bob     Cousy          Bob Cousy   \n",
       "4              4      76250      Frank     Brian        Frank Brian   \n",
       "...          ...        ...        ...       ...                ...   \n",
       "2175        2175    1629059       Elie     Okobo         Elie Okobo   \n",
       "2176        2176    1628981      Bruno  Fernando     Bruno Fernando   \n",
       "2177        2177    1629642     Nassir    Little      Nassir Little   \n",
       "2178        2178    1628396       Tony   Bradley       Tony Bradley   \n",
       "2179        2179    1629048       Goga   Bitadze       Goga Bitadze   \n",
       "\n",
       "     DISPLAY_LAST_COMMA_FIRST DISPLAY_FI_LAST     PLAYER_SLUG      BIRTHDATE  \\\n",
       "0                Arizin, Paul       P. Arizin     paul-arizin  1928-04-09T00   \n",
       "1               Phillip, Andy      A. Phillip    andy-phillip  1922-03-07T00   \n",
       "2                Schaus, Fred       F. Schaus     fred-schaus  1925-06-30T00   \n",
       "3                  Cousy, Bob        B. Cousy       bob-cousy  1928-08-09T00   \n",
       "4                Brian, Frank        F. Brian     frank-brian  1923-05-01T00   \n",
       "...                       ...             ...             ...            ...   \n",
       "2175              Okobo, Elie        E. Okobo      elie-okobo  1997-10-23T00   \n",
       "2176          Fernando, Bruno     B. Fernando  bruno-fernando  1998-08-15T00   \n",
       "2177           Little, Nassir       N. Little   nassir-little  2000-02-11T00   \n",
       "2178            Bradley, Tony      T. Bradley    tony-bradley  1998-01-08T00   \n",
       "2179            Bitadze, Goga      G. Bitadze    goga-bitadze  1999-07-20T00   \n",
       "\n",
       "               SCHOOL  COUNTRY                          LAST_AFFILIATION  \\\n",
       "0           Villanova      USA                            Villanova\\/USA   \n",
       "1            Illinois      USA                             Illinois\\/USA   \n",
       "2       West Virginia      USA                        West Virginia\\/USA   \n",
       "3          Holy Cross      USA                           Holy Cross\\/USA   \n",
       "4     Louisiana State      USA                      Louisiana State\\/USA   \n",
       "...               ...      ...                                       ...   \n",
       "2175                    France                     Elan Bearnais\\/France   \n",
       "2176         Maryland   Angola                          Maryland\\/Angola   \n",
       "2177   North Carolina      USA  University of North Carolina at Cha\\/USA   \n",
       "2178   North Carolina      USA                       North Carolina\\/USA   \n",
       "2179                   Georgia             Mega Basket (Serbia)\\/Georgia   \n",
       "\n",
       "      HEIGHT  WEIGHT  SEASON_EXP JERSEY        POSITION ROSTERSTATUS  \\\n",
       "0       76.0   190.0           9     11         Forward     Inactive   \n",
       "1       75.0   195.0          10     17           Guard     Inactive   \n",
       "2       77.0   205.0           4     17         Forward     Inactive   \n",
       "3       73.0   175.0          13     14           Guard     Inactive   \n",
       "4       73.0   180.0           6      7           Guard     Inactive   \n",
       "...      ...     ...         ...    ...             ...          ...   \n",
       "2175    75.0   190.0           1      2   Forward-Guard       Active   \n",
       "2176    81.0   240.0           0     24  Forward-Center       Active   \n",
       "2177    77.0   220.0           0      9   Forward-Guard       Active   \n",
       "2178    82.0   248.0           2     13  Center-Forward       Active   \n",
       "2179    83.0   250.0           0     88  Center-Forward       Active   \n",
       "\n",
       "         TEAM_ID      TEAM_NAME TEAM_ABBREVIATION TEAM_CODE  \\\n",
       "0     1610612744       Warriors               PHW  warriors   \n",
       "1     1610612765        Pistons               FTW   pistons   \n",
       "2     1610612765        Pistons               FTW   pistons   \n",
       "3     1610612738        Celtics               BOS   celtics   \n",
       "4     1610612765        Pistons               FTW   pistons   \n",
       "...          ...            ...               ...       ...   \n",
       "2175  1610612756           Suns               PHX      suns   \n",
       "2176  1610612737          Hawks               ATL     hawks   \n",
       "2177  1610612757  Trail Blazers               POR   blazers   \n",
       "2178  1610612762           Jazz               UTA      jazz   \n",
       "2179  1610612754         Pacers               IND    pacers   \n",
       "\n",
       "              TEAM_CITY            PLAYERCODE  FROM_YEAR  TO_YEAR  \\\n",
       "0          Philadelphia   HISTADD_paul_arizin       1950     1961   \n",
       "1     Ft. Wayne Zollner  HISTADD_andy_phillip       1947     1957   \n",
       "2     Ft. Wayne Zollner   HISTADD_fred_schaus       1949     1953   \n",
       "3                Boston     HISTADD_bob_cousy       1950     1969   \n",
       "4     Ft. Wayne Zollner   HISTADD_flash_brian       1949     1955   \n",
       "...                 ...                   ...        ...      ...   \n",
       "2175            Phoenix            elie_okobo       2018     2019   \n",
       "2176            Atlanta        bruno_fernando       2019     2019   \n",
       "2177           Portland         nassir_little       2019     2019   \n",
       "2178               Utah          tony_bradley       2017     2019   \n",
       "2179            Indiana          goga_bitadze       2019     2019   \n",
       "\n",
       "     DLEAGUE_FLAG NBA_FLAG GAMES_PLAYED_FLAG DRAFT_YEAR DRAFT_ROUND  \\\n",
       "0               N        Y                 Y       1950         NaN   \n",
       "1               N        Y                 Y       1947         NaN   \n",
       "2               N        Y                 Y       1949           3   \n",
       "3               N        Y                 Y       1950           1   \n",
       "4               N        Y                 Y  Undrafted   Undrafted   \n",
       "...           ...      ...               ...        ...         ...   \n",
       "2175            Y        Y                 Y       2018           2   \n",
       "2176            Y        Y                 Y       2019           2   \n",
       "2177            N        Y                 Y       2019           1   \n",
       "2178            Y        Y                 Y       2017           1   \n",
       "2179            Y        Y                 Y       2019           1   \n",
       "\n",
       "     DRAFT_NUMBER POSITION_INITIALS  AGE  AGE_DAYS  \n",
       "0             NaN                 F   92       111  \n",
       "1             NaN                 G   98       143  \n",
       "2             NaN                 F   95        29  \n",
       "3               3                 G   91       355  \n",
       "4       Undrafted                 G   97        89  \n",
       "...           ...               ...  ...       ...  \n",
       "2175           31               F-G   22       280  \n",
       "2176           34               F-C   21       349  \n",
       "2177           25               F-G   20       169  \n",
       "2178           28               C-F   22       203  \n",
       "2179           18               C-F   21         9  \n",
       "\n",
       "[2180 rows x 35 columns]>"
      ]
     },
     "execution_count": 421,
     "metadata": {},
     "output_type": "execute_result"
    }
   ],
   "source": [
    "player_bios.head"
   ]
  },
  {
   "cell_type": "markdown",
   "metadata": {},
   "source": [
    "### Exploring year gaps"
   ]
  },
  {
   "cell_type": "code",
   "execution_count": 263,
   "metadata": {},
   "outputs": [
    {
     "data": {
      "text/html": [
       "<div>\n",
       "<style scoped>\n",
       "    .dataframe tbody tr th:only-of-type {\n",
       "        vertical-align: middle;\n",
       "    }\n",
       "\n",
       "    .dataframe tbody tr th {\n",
       "        vertical-align: top;\n",
       "    }\n",
       "\n",
       "    .dataframe thead th {\n",
       "        text-align: right;\n",
       "    }\n",
       "</style>\n",
       "<table border=\"1\" class=\"dataframe\">\n",
       "  <thead>\n",
       "    <tr style=\"text-align: right;\">\n",
       "      <th></th>\n",
       "      <th>year</th>\n",
       "      <th>n_clusters</th>\n",
       "      <th>cluster</th>\n",
       "      <th>n_players</th>\n",
       "      <th>PTS</th>\n",
       "      <th>REB</th>\n",
       "      <th>AST</th>\n",
       "    </tr>\n",
       "  </thead>\n",
       "  <tbody>\n",
       "    <tr>\n",
       "      <th>1331</th>\n",
       "      <td>1975</td>\n",
       "      <td>5</td>\n",
       "      <td>1</td>\n",
       "      <td>22</td>\n",
       "      <td>16.5</td>\n",
       "      <td>9.1</td>\n",
       "      <td>2.0</td>\n",
       "    </tr>\n",
       "    <tr>\n",
       "      <th>1333</th>\n",
       "      <td>1975</td>\n",
       "      <td>5</td>\n",
       "      <td>3</td>\n",
       "      <td>9</td>\n",
       "      <td>10.7</td>\n",
       "      <td>11.9</td>\n",
       "      <td>3.4</td>\n",
       "    </tr>\n",
       "    <tr>\n",
       "      <th>1332</th>\n",
       "      <td>1975</td>\n",
       "      <td>5</td>\n",
       "      <td>2</td>\n",
       "      <td>23</td>\n",
       "      <td>15.0</td>\n",
       "      <td>4.4</td>\n",
       "      <td>3.7</td>\n",
       "    </tr>\n",
       "    <tr>\n",
       "      <th>1334</th>\n",
       "      <td>1975</td>\n",
       "      <td>5</td>\n",
       "      <td>4</td>\n",
       "      <td>8</td>\n",
       "      <td>22.7</td>\n",
       "      <td>11.0</td>\n",
       "      <td>3.8</td>\n",
       "    </tr>\n",
       "    <tr>\n",
       "      <th>1330</th>\n",
       "      <td>1975</td>\n",
       "      <td>5</td>\n",
       "      <td>0</td>\n",
       "      <td>20</td>\n",
       "      <td>18.7</td>\n",
       "      <td>3.7</td>\n",
       "      <td>5.5</td>\n",
       "    </tr>\n",
       "    <tr>\n",
       "      <th>1883</th>\n",
       "      <td>1985</td>\n",
       "      <td>5</td>\n",
       "      <td>3</td>\n",
       "      <td>33</td>\n",
       "      <td>18.4</td>\n",
       "      <td>9.9</td>\n",
       "      <td>2.2</td>\n",
       "    </tr>\n",
       "    <tr>\n",
       "      <th>1880</th>\n",
       "      <td>1985</td>\n",
       "      <td>5</td>\n",
       "      <td>0</td>\n",
       "      <td>8</td>\n",
       "      <td>9.5</td>\n",
       "      <td>8.7</td>\n",
       "      <td>2.3</td>\n",
       "    </tr>\n",
       "    <tr>\n",
       "      <th>1882</th>\n",
       "      <td>1985</td>\n",
       "      <td>5</td>\n",
       "      <td>2</td>\n",
       "      <td>21</td>\n",
       "      <td>24.0</td>\n",
       "      <td>5.4</td>\n",
       "      <td>3.5</td>\n",
       "    </tr>\n",
       "    <tr>\n",
       "      <th>1884</th>\n",
       "      <td>1985</td>\n",
       "      <td>5</td>\n",
       "      <td>4</td>\n",
       "      <td>20</td>\n",
       "      <td>17.7</td>\n",
       "      <td>4.5</td>\n",
       "      <td>4.0</td>\n",
       "    </tr>\n",
       "    <tr>\n",
       "      <th>1881</th>\n",
       "      <td>1985</td>\n",
       "      <td>5</td>\n",
       "      <td>1</td>\n",
       "      <td>25</td>\n",
       "      <td>15.4</td>\n",
       "      <td>3.7</td>\n",
       "      <td>8.0</td>\n",
       "    </tr>\n",
       "    <tr>\n",
       "      <th>2984</th>\n",
       "      <td>2005</td>\n",
       "      <td>5</td>\n",
       "      <td>4</td>\n",
       "      <td>19</td>\n",
       "      <td>11.3</td>\n",
       "      <td>9.3</td>\n",
       "      <td>1.6</td>\n",
       "    </tr>\n",
       "    <tr>\n",
       "      <th>2980</th>\n",
       "      <td>2005</td>\n",
       "      <td>5</td>\n",
       "      <td>0</td>\n",
       "      <td>32</td>\n",
       "      <td>17.9</td>\n",
       "      <td>7.9</td>\n",
       "      <td>2.5</td>\n",
       "    </tr>\n",
       "    <tr>\n",
       "      <th>2983</th>\n",
       "      <td>2005</td>\n",
       "      <td>5</td>\n",
       "      <td>3</td>\n",
       "      <td>40</td>\n",
       "      <td>13.7</td>\n",
       "      <td>4.2</td>\n",
       "      <td>2.8</td>\n",
       "    </tr>\n",
       "    <tr>\n",
       "      <th>2982</th>\n",
       "      <td>2005</td>\n",
       "      <td>5</td>\n",
       "      <td>2</td>\n",
       "      <td>16</td>\n",
       "      <td>23.6</td>\n",
       "      <td>4.2</td>\n",
       "      <td>4.4</td>\n",
       "    </tr>\n",
       "    <tr>\n",
       "      <th>2981</th>\n",
       "      <td>2005</td>\n",
       "      <td>5</td>\n",
       "      <td>1</td>\n",
       "      <td>24</td>\n",
       "      <td>14.0</td>\n",
       "      <td>4.0</td>\n",
       "      <td>6.7</td>\n",
       "    </tr>\n",
       "    <tr>\n",
       "      <th>3531</th>\n",
       "      <td>2015</td>\n",
       "      <td>5</td>\n",
       "      <td>1</td>\n",
       "      <td>19</td>\n",
       "      <td>13.9</td>\n",
       "      <td>11.8</td>\n",
       "      <td>1.9</td>\n",
       "    </tr>\n",
       "    <tr>\n",
       "      <th>3532</th>\n",
       "      <td>2015</td>\n",
       "      <td>5</td>\n",
       "      <td>2</td>\n",
       "      <td>53</td>\n",
       "      <td>13.7</td>\n",
       "      <td>5.0</td>\n",
       "      <td>2.7</td>\n",
       "    </tr>\n",
       "    <tr>\n",
       "      <th>3533</th>\n",
       "      <td>2015</td>\n",
       "      <td>5</td>\n",
       "      <td>3</td>\n",
       "      <td>24</td>\n",
       "      <td>19.7</td>\n",
       "      <td>9.2</td>\n",
       "      <td>2.7</td>\n",
       "    </tr>\n",
       "    <tr>\n",
       "      <th>3530</th>\n",
       "      <td>2015</td>\n",
       "      <td>5</td>\n",
       "      <td>0</td>\n",
       "      <td>25</td>\n",
       "      <td>22.3</td>\n",
       "      <td>4.5</td>\n",
       "      <td>4.8</td>\n",
       "    </tr>\n",
       "    <tr>\n",
       "      <th>3534</th>\n",
       "      <td>2015</td>\n",
       "      <td>5</td>\n",
       "      <td>4</td>\n",
       "      <td>16</td>\n",
       "      <td>16.6</td>\n",
       "      <td>5.2</td>\n",
       "      <td>8.2</td>\n",
       "    </tr>\n",
       "  </tbody>\n",
       "</table>\n",
       "</div>"
      ],
      "text/plain": [
       "      year  n_clusters  cluster  n_players   PTS   REB  AST\n",
       "1331  1975           5        1         22  16.5   9.1  2.0\n",
       "1333  1975           5        3          9  10.7  11.9  3.4\n",
       "1332  1975           5        2         23  15.0   4.4  3.7\n",
       "1334  1975           5        4          8  22.7  11.0  3.8\n",
       "1330  1975           5        0         20  18.7   3.7  5.5\n",
       "1883  1985           5        3         33  18.4   9.9  2.2\n",
       "1880  1985           5        0          8   9.5   8.7  2.3\n",
       "1882  1985           5        2         21  24.0   5.4  3.5\n",
       "1884  1985           5        4         20  17.7   4.5  4.0\n",
       "1881  1985           5        1         25  15.4   3.7  8.0\n",
       "2984  2005           5        4         19  11.3   9.3  1.6\n",
       "2980  2005           5        0         32  17.9   7.9  2.5\n",
       "2983  2005           5        3         40  13.7   4.2  2.8\n",
       "2982  2005           5        2         16  23.6   4.2  4.4\n",
       "2981  2005           5        1         24  14.0   4.0  6.7\n",
       "3531  2015           5        1         19  13.9  11.8  1.9\n",
       "3532  2015           5        2         53  13.7   5.0  2.7\n",
       "3533  2015           5        3         24  19.7   9.2  2.7\n",
       "3530  2015           5        0         25  22.3   4.5  4.8\n",
       "3534  2015           5        4         16  16.6   5.2  8.2"
      ]
     },
     "execution_count": 263,
     "metadata": {},
     "output_type": "execute_result"
    }
   ],
   "source": [
    "centroids[(centroids['n_clusters'] == 5) & centroids['year'].isin([1975, 1985, 2005, 2015])].sort_values(['year', 'AST'])"
   ]
  },
  {
   "cell_type": "markdown",
   "metadata": {},
   "source": [
    "### Cluster Player Representatives"
   ]
  },
  {
   "cell_type": "code",
   "execution_count": 265,
   "metadata": {},
   "outputs": [
    {
     "data": {
      "text/html": [
       "<div>\n",
       "<style scoped>\n",
       "    .dataframe tbody tr th:only-of-type {\n",
       "        vertical-align: middle;\n",
       "    }\n",
       "\n",
       "    .dataframe tbody tr th {\n",
       "        vertical-align: top;\n",
       "    }\n",
       "\n",
       "    .dataframe thead th {\n",
       "        text-align: right;\n",
       "    }\n",
       "</style>\n",
       "<table border=\"1\" class=\"dataframe\">\n",
       "  <thead>\n",
       "    <tr style=\"text-align: right;\">\n",
       "      <th></th>\n",
       "      <th>year</th>\n",
       "      <th>n_clusters</th>\n",
       "      <th>cluster</th>\n",
       "      <th>n_players</th>\n",
       "      <th>PTS_cluster</th>\n",
       "      <th>REB_cluster</th>\n",
       "      <th>AST_cluster</th>\n",
       "      <th>player</th>\n",
       "      <th>GP</th>\n",
       "      <th>MIN</th>\n",
       "      <th>PTS_player</th>\n",
       "      <th>REB_player</th>\n",
       "      <th>AST_player</th>\n",
       "      <th>difference</th>\n",
       "      <th>ordering</th>\n",
       "    </tr>\n",
       "  </thead>\n",
       "  <tbody>\n",
       "    <tr>\n",
       "      <th>292</th>\n",
       "      <td>1951</td>\n",
       "      <td>3</td>\n",
       "      <td>1</td>\n",
       "      <td>23</td>\n",
       "      <td>13.8</td>\n",
       "      <td>10.2</td>\n",
       "      <td>2.5</td>\n",
       "      <td>Don Barksdale</td>\n",
       "      <td>62</td>\n",
       "      <td>32.5</td>\n",
       "      <td>14.0</td>\n",
       "      <td>10.7</td>\n",
       "      <td>2.4</td>\n",
       "      <td>0.8</td>\n",
       "      <td>-7.7</td>\n",
       "    </tr>\n",
       "    <tr>\n",
       "      <th>352</th>\n",
       "      <td>1951</td>\n",
       "      <td>3</td>\n",
       "      <td>0</td>\n",
       "      <td>21</td>\n",
       "      <td>11.5</td>\n",
       "      <td>5.1</td>\n",
       "      <td>3.4</td>\n",
       "      <td>Don Boven</td>\n",
       "      <td>66</td>\n",
       "      <td>30.0</td>\n",
       "      <td>11.9</td>\n",
       "      <td>6.1</td>\n",
       "      <td>3.2</td>\n",
       "      <td>1.6</td>\n",
       "      <td>-1.7</td>\n",
       "    </tr>\n",
       "    <tr>\n",
       "      <th>422</th>\n",
       "      <td>1951</td>\n",
       "      <td>3</td>\n",
       "      <td>2</td>\n",
       "      <td>7</td>\n",
       "      <td>13.1</td>\n",
       "      <td>4.7</td>\n",
       "      <td>5.7</td>\n",
       "      <td>George King</td>\n",
       "      <td>66</td>\n",
       "      <td>28.6</td>\n",
       "      <td>12.6</td>\n",
       "      <td>5.3</td>\n",
       "      <td>4.7</td>\n",
       "      <td>2.1</td>\n",
       "      <td>1.0</td>\n",
       "    </tr>\n",
       "    <tr>\n",
       "      <th>1012</th>\n",
       "      <td>1952</td>\n",
       "      <td>3</td>\n",
       "      <td>2</td>\n",
       "      <td>15</td>\n",
       "      <td>15.6</td>\n",
       "      <td>9.9</td>\n",
       "      <td>2.6</td>\n",
       "      <td>Connie Simmons</td>\n",
       "      <td>65</td>\n",
       "      <td>26.3</td>\n",
       "      <td>15.3</td>\n",
       "      <td>9.6</td>\n",
       "      <td>2.7</td>\n",
       "      <td>0.7</td>\n",
       "      <td>-7.3</td>\n",
       "    </tr>\n",
       "    <tr>\n",
       "      <th>832</th>\n",
       "      <td>1952</td>\n",
       "      <td>3</td>\n",
       "      <td>0</td>\n",
       "      <td>16</td>\n",
       "      <td>10.1</td>\n",
       "      <td>8.4</td>\n",
       "      <td>2.4</td>\n",
       "      <td>Bob Lavoy</td>\n",
       "      <td>70</td>\n",
       "      <td>33.2</td>\n",
       "      <td>9.5</td>\n",
       "      <td>8.1</td>\n",
       "      <td>2.1</td>\n",
       "      <td>1.2</td>\n",
       "      <td>-6.0</td>\n",
       "    </tr>\n",
       "    <tr>\n",
       "      <th>892</th>\n",
       "      <td>1952</td>\n",
       "      <td>3</td>\n",
       "      <td>1</td>\n",
       "      <td>21</td>\n",
       "      <td>12.1</td>\n",
       "      <td>4.3</td>\n",
       "      <td>3.9</td>\n",
       "      <td>Jim Baechtold</td>\n",
       "      <td>64</td>\n",
       "      <td>29.6</td>\n",
       "      <td>12.5</td>\n",
       "      <td>4.1</td>\n",
       "      <td>2.9</td>\n",
       "      <td>1.6</td>\n",
       "      <td>-0.4</td>\n",
       "    </tr>\n",
       "    <tr>\n",
       "      <th>1142</th>\n",
       "      <td>1953</td>\n",
       "      <td>3</td>\n",
       "      <td>2</td>\n",
       "      <td>8</td>\n",
       "      <td>16.5</td>\n",
       "      <td>11.9</td>\n",
       "      <td>2.3</td>\n",
       "      <td>Dolph Schayes</td>\n",
       "      <td>72</td>\n",
       "      <td>36.9</td>\n",
       "      <td>16.7</td>\n",
       "      <td>11.8</td>\n",
       "      <td>2.9</td>\n",
       "      <td>0.9</td>\n",
       "      <td>-9.6</td>\n",
       "    </tr>\n",
       "    <tr>\n",
       "      <th>1332</th>\n",
       "      <td>1953</td>\n",
       "      <td>3</td>\n",
       "      <td>0</td>\n",
       "      <td>14</td>\n",
       "      <td>10.8</td>\n",
       "      <td>8.5</td>\n",
       "      <td>2.3</td>\n",
       "      <td>Earl Lloyd</td>\n",
       "      <td>72</td>\n",
       "      <td>30.6</td>\n",
       "      <td>10.7</td>\n",
       "      <td>8.6</td>\n",
       "      <td>1.9</td>\n",
       "      <td>0.6</td>\n",
       "      <td>-6.2</td>\n",
       "    </tr>\n",
       "    <tr>\n",
       "      <th>1262</th>\n",
       "      <td>1953</td>\n",
       "      <td>3</td>\n",
       "      <td>1</td>\n",
       "      <td>22</td>\n",
       "      <td>11.7</td>\n",
       "      <td>4.1</td>\n",
       "      <td>4.0</td>\n",
       "      <td>George King</td>\n",
       "      <td>72</td>\n",
       "      <td>32.9</td>\n",
       "      <td>12.4</td>\n",
       "      <td>4.0</td>\n",
       "      <td>4.2</td>\n",
       "      <td>1.0</td>\n",
       "      <td>-0.1</td>\n",
       "    </tr>\n",
       "    <tr>\n",
       "      <th>1732</th>\n",
       "      <td>1954</td>\n",
       "      <td>3</td>\n",
       "      <td>2</td>\n",
       "      <td>11</td>\n",
       "      <td>18.2</td>\n",
       "      <td>12.1</td>\n",
       "      <td>2.2</td>\n",
       "      <td>Larry Foust</td>\n",
       "      <td>70</td>\n",
       "      <td>32.3</td>\n",
       "      <td>18.9</td>\n",
       "      <td>11.1</td>\n",
       "      <td>1.9</td>\n",
       "      <td>2.0</td>\n",
       "      <td>-9.9</td>\n",
       "    </tr>\n",
       "    <tr>\n",
       "      <th>1702</th>\n",
       "      <td>1954</td>\n",
       "      <td>3</td>\n",
       "      <td>1</td>\n",
       "      <td>22</td>\n",
       "      <td>13.6</td>\n",
       "      <td>6.8</td>\n",
       "      <td>3.3</td>\n",
       "      <td>Bobby Wanzer</td>\n",
       "      <td>72</td>\n",
       "      <td>33.0</td>\n",
       "      <td>14.3</td>\n",
       "      <td>5.7</td>\n",
       "      <td>3.7</td>\n",
       "      <td>2.2</td>\n",
       "      <td>-3.5</td>\n",
       "    </tr>\n",
       "    <tr>\n",
       "      <th>1482</th>\n",
       "      <td>1954</td>\n",
       "      <td>3</td>\n",
       "      <td>0</td>\n",
       "      <td>9</td>\n",
       "      <td>12.9</td>\n",
       "      <td>4.3</td>\n",
       "      <td>6.4</td>\n",
       "      <td>Paul Seymour</td>\n",
       "      <td>72</td>\n",
       "      <td>41.0</td>\n",
       "      <td>12.8</td>\n",
       "      <td>3.8</td>\n",
       "      <td>5.9</td>\n",
       "      <td>1.1</td>\n",
       "      <td>2.1</td>\n",
       "    </tr>\n",
       "    <tr>\n",
       "      <th>1982</th>\n",
       "      <td>1955</td>\n",
       "      <td>3</td>\n",
       "      <td>0</td>\n",
       "      <td>9</td>\n",
       "      <td>20.7</td>\n",
       "      <td>12.7</td>\n",
       "      <td>2.8</td>\n",
       "      <td>Dolph Schayes</td>\n",
       "      <td>72</td>\n",
       "      <td>35.0</td>\n",
       "      <td>21.0</td>\n",
       "      <td>12.8</td>\n",
       "      <td>2.9</td>\n",
       "      <td>0.5</td>\n",
       "      <td>-9.9</td>\n",
       "    </tr>\n",
       "    <tr>\n",
       "      <th>2192</th>\n",
       "      <td>1955</td>\n",
       "      <td>3</td>\n",
       "      <td>1</td>\n",
       "      <td>16</td>\n",
       "      <td>14.8</td>\n",
       "      <td>8.9</td>\n",
       "      <td>2.9</td>\n",
       "      <td>Ed Fleming</td>\n",
       "      <td>71</td>\n",
       "      <td>28.6</td>\n",
       "      <td>15.7</td>\n",
       "      <td>8.7</td>\n",
       "      <td>3.5</td>\n",
       "      <td>1.7</td>\n",
       "      <td>-6.0</td>\n",
       "    </tr>\n",
       "    <tr>\n",
       "      <th>1892</th>\n",
       "      <td>1955</td>\n",
       "      <td>3</td>\n",
       "      <td>2</td>\n",
       "      <td>13</td>\n",
       "      <td>13.1</td>\n",
       "      <td>4.6</td>\n",
       "      <td>5.5</td>\n",
       "      <td>Jack George</td>\n",
       "      <td>72</td>\n",
       "      <td>39.4</td>\n",
       "      <td>12.7</td>\n",
       "      <td>3.9</td>\n",
       "      <td>5.8</td>\n",
       "      <td>1.4</td>\n",
       "      <td>0.9</td>\n",
       "    </tr>\n",
       "    <tr>\n",
       "      <th>2332</th>\n",
       "      <td>1956</td>\n",
       "      <td>3</td>\n",
       "      <td>1</td>\n",
       "      <td>8</td>\n",
       "      <td>21.6</td>\n",
       "      <td>12.0</td>\n",
       "      <td>2.1</td>\n",
       "      <td>Neil Johnston</td>\n",
       "      <td>69</td>\n",
       "      <td>36.7</td>\n",
       "      <td>22.4</td>\n",
       "      <td>12.2</td>\n",
       "      <td>2.8</td>\n",
       "      <td>1.7</td>\n",
       "      <td>-9.9</td>\n",
       "    </tr>\n",
       "    <tr>\n",
       "      <th>2502</th>\n",
       "      <td>1956</td>\n",
       "      <td>3</td>\n",
       "      <td>2</td>\n",
       "      <td>14</td>\n",
       "      <td>14.1</td>\n",
       "      <td>10.4</td>\n",
       "      <td>2.1</td>\n",
       "      <td>Vern Mikkelsen</td>\n",
       "      <td>72</td>\n",
       "      <td>30.5</td>\n",
       "      <td>16.2</td>\n",
       "      <td>10.4</td>\n",
       "      <td>2.0</td>\n",
       "      <td>2.2</td>\n",
       "      <td>-8.3</td>\n",
       "    </tr>\n",
       "    <tr>\n",
       "      <th>2622</th>\n",
       "      <td>1956</td>\n",
       "      <td>3</td>\n",
       "      <td>0</td>\n",
       "      <td>15</td>\n",
       "      <td>14.0</td>\n",
       "      <td>4.7</td>\n",
       "      <td>4.0</td>\n",
       "      <td>Chuck Mencel</td>\n",
       "      <td>72</td>\n",
       "      <td>25.7</td>\n",
       "      <td>12.9</td>\n",
       "      <td>4.6</td>\n",
       "      <td>3.9</td>\n",
       "      <td>1.3</td>\n",
       "      <td>-0.7</td>\n",
       "    </tr>\n",
       "    <tr>\n",
       "      <th>3042</th>\n",
       "      <td>1957</td>\n",
       "      <td>3</td>\n",
       "      <td>2</td>\n",
       "      <td>8</td>\n",
       "      <td>14.2</td>\n",
       "      <td>14.1</td>\n",
       "      <td>2.3</td>\n",
       "      <td>Charlie Share</td>\n",
       "      <td>72</td>\n",
       "      <td>25.3</td>\n",
       "      <td>12.2</td>\n",
       "      <td>14.8</td>\n",
       "      <td>2.6</td>\n",
       "      <td>3.0</td>\n",
       "      <td>-11.8</td>\n",
       "    </tr>\n",
       "    <tr>\n",
       "      <th>2822</th>\n",
       "      <td>1957</td>\n",
       "      <td>3</td>\n",
       "      <td>1</td>\n",
       "      <td>18</td>\n",
       "      <td>20.8</td>\n",
       "      <td>10.9</td>\n",
       "      <td>2.2</td>\n",
       "      <td>Neil Johnston</td>\n",
       "      <td>71</td>\n",
       "      <td>33.9</td>\n",
       "      <td>20.7</td>\n",
       "      <td>11.8</td>\n",
       "      <td>2.4</td>\n",
       "      <td>1.2</td>\n",
       "      <td>-8.7</td>\n",
       "    </tr>\n",
       "    <tr>\n",
       "      <th>3012</th>\n",
       "      <td>1957</td>\n",
       "      <td>3</td>\n",
       "      <td>0</td>\n",
       "      <td>16</td>\n",
       "      <td>13.4</td>\n",
       "      <td>5.4</td>\n",
       "      <td>4.5</td>\n",
       "      <td>Jack George</td>\n",
       "      <td>72</td>\n",
       "      <td>26.5</td>\n",
       "      <td>12.1</td>\n",
       "      <td>5.4</td>\n",
       "      <td>4.5</td>\n",
       "      <td>1.3</td>\n",
       "      <td>-0.9</td>\n",
       "    </tr>\n",
       "    <tr>\n",
       "      <th>3382</th>\n",
       "      <td>1958</td>\n",
       "      <td>3</td>\n",
       "      <td>1</td>\n",
       "      <td>12</td>\n",
       "      <td>15.6</td>\n",
       "      <td>11.8</td>\n",
       "      <td>2.0</td>\n",
       "      <td>Larry Foust</td>\n",
       "      <td>72</td>\n",
       "      <td>26.8</td>\n",
       "      <td>16.5</td>\n",
       "      <td>11.7</td>\n",
       "      <td>1.7</td>\n",
       "      <td>1.3</td>\n",
       "      <td>-9.8</td>\n",
       "    </tr>\n",
       "    <tr>\n",
       "      <th>3152</th>\n",
       "      <td>1958</td>\n",
       "      <td>3</td>\n",
       "      <td>2</td>\n",
       "      <td>11</td>\n",
       "      <td>22.6</td>\n",
       "      <td>10.1</td>\n",
       "      <td>2.5</td>\n",
       "      <td>Cliff Hagan</td>\n",
       "      <td>72</td>\n",
       "      <td>37.5</td>\n",
       "      <td>22.8</td>\n",
       "      <td>10.5</td>\n",
       "      <td>3.3</td>\n",
       "      <td>1.4</td>\n",
       "      <td>-7.6</td>\n",
       "    </tr>\n",
       "    <tr>\n",
       "      <th>3102</th>\n",
       "      <td>1958</td>\n",
       "      <td>3</td>\n",
       "      <td>0</td>\n",
       "      <td>12</td>\n",
       "      <td>13.6</td>\n",
       "      <td>5.0</td>\n",
       "      <td>5.0</td>\n",
       "      <td>Larry Costello</td>\n",
       "      <td>70</td>\n",
       "      <td>39.3</td>\n",
       "      <td>14.5</td>\n",
       "      <td>4.8</td>\n",
       "      <td>4.9</td>\n",
       "      <td>1.2</td>\n",
       "      <td>0.0</td>\n",
       "    </tr>\n",
       "    <tr>\n",
       "      <th>3612</th>\n",
       "      <td>1959</td>\n",
       "      <td>3</td>\n",
       "      <td>0</td>\n",
       "      <td>11</td>\n",
       "      <td>16.7</td>\n",
       "      <td>12.9</td>\n",
       "      <td>2.0</td>\n",
       "      <td>Johnny Kerr</td>\n",
       "      <td>75</td>\n",
       "      <td>31.6</td>\n",
       "      <td>16.7</td>\n",
       "      <td>13.9</td>\n",
       "      <td>2.5</td>\n",
       "      <td>1.5</td>\n",
       "      <td>-10.9</td>\n",
       "    </tr>\n",
       "    <tr>\n",
       "      <th>3592</th>\n",
       "      <td>1959</td>\n",
       "      <td>3</td>\n",
       "      <td>1</td>\n",
       "      <td>13</td>\n",
       "      <td>24.2</td>\n",
       "      <td>11.7</td>\n",
       "      <td>2.7</td>\n",
       "      <td>Tom Heinsohn</td>\n",
       "      <td>75</td>\n",
       "      <td>32.3</td>\n",
       "      <td>24.2</td>\n",
       "      <td>11.8</td>\n",
       "      <td>2.6</td>\n",
       "      <td>0.2</td>\n",
       "      <td>-9.0</td>\n",
       "    </tr>\n",
       "    <tr>\n",
       "      <th>3632</th>\n",
       "      <td>1959</td>\n",
       "      <td>3</td>\n",
       "      <td>2</td>\n",
       "      <td>14</td>\n",
       "      <td>14.9</td>\n",
       "      <td>5.9</td>\n",
       "      <td>5.3</td>\n",
       "      <td>Rod Hundley</td>\n",
       "      <td>73</td>\n",
       "      <td>31.2</td>\n",
       "      <td>14.8</td>\n",
       "      <td>6.1</td>\n",
       "      <td>5.3</td>\n",
       "      <td>0.3</td>\n",
       "      <td>-0.6</td>\n",
       "    </tr>\n",
       "    <tr>\n",
       "      <th>3962</th>\n",
       "      <td>1960</td>\n",
       "      <td>3</td>\n",
       "      <td>2</td>\n",
       "      <td>8</td>\n",
       "      <td>15.7</td>\n",
       "      <td>13.2</td>\n",
       "      <td>2.6</td>\n",
       "      <td>Johnny Kerr</td>\n",
       "      <td>79</td>\n",
       "      <td>33.9</td>\n",
       "      <td>14.2</td>\n",
       "      <td>12.7</td>\n",
       "      <td>2.7</td>\n",
       "      <td>2.1</td>\n",
       "      <td>-10.6</td>\n",
       "    </tr>\n",
       "    <tr>\n",
       "      <th>4022</th>\n",
       "      <td>1960</td>\n",
       "      <td>3</td>\n",
       "      <td>1</td>\n",
       "      <td>11</td>\n",
       "      <td>24.4</td>\n",
       "      <td>12.8</td>\n",
       "      <td>2.7</td>\n",
       "      <td>Clyde Lovellette</td>\n",
       "      <td>67</td>\n",
       "      <td>31.5</td>\n",
       "      <td>25.1</td>\n",
       "      <td>11.5</td>\n",
       "      <td>3.0</td>\n",
       "      <td>2.3</td>\n",
       "      <td>-10.1</td>\n",
       "    </tr>\n",
       "    <tr>\n",
       "      <th>4172</th>\n",
       "      <td>1960</td>\n",
       "      <td>3</td>\n",
       "      <td>0</td>\n",
       "      <td>20</td>\n",
       "      <td>17.5</td>\n",
       "      <td>6.0</td>\n",
       "      <td>5.3</td>\n",
       "      <td>Lenny Wilkens</td>\n",
       "      <td>75</td>\n",
       "      <td>25.3</td>\n",
       "      <td>16.6</td>\n",
       "      <td>6.4</td>\n",
       "      <td>4.0</td>\n",
       "      <td>2.6</td>\n",
       "      <td>-0.7</td>\n",
       "    </tr>\n",
       "    <tr>\n",
       "      <th>4202</th>\n",
       "      <td>1961</td>\n",
       "      <td>3</td>\n",
       "      <td>0</td>\n",
       "      <td>5</td>\n",
       "      <td>29.7</td>\n",
       "      <td>15.5</td>\n",
       "      <td>2.7</td>\n",
       "      <td>Elgin Baylor</td>\n",
       "      <td>48</td>\n",
       "      <td>44.4</td>\n",
       "      <td>31.1</td>\n",
       "      <td>15.1</td>\n",
       "      <td>3.7</td>\n",
       "      <td>2.8</td>\n",
       "      <td>-12.8</td>\n",
       "    </tr>\n",
       "    <tr>\n",
       "      <th>4402</th>\n",
       "      <td>1961</td>\n",
       "      <td>3</td>\n",
       "      <td>1</td>\n",
       "      <td>17</td>\n",
       "      <td>18.0</td>\n",
       "      <td>11.5</td>\n",
       "      <td>2.3</td>\n",
       "      <td>Rudy LaRusso</td>\n",
       "      <td>80</td>\n",
       "      <td>34.4</td>\n",
       "      <td>18.0</td>\n",
       "      <td>10.9</td>\n",
       "      <td>2.3</td>\n",
       "      <td>0.6</td>\n",
       "      <td>-9.2</td>\n",
       "    </tr>\n",
       "    <tr>\n",
       "      <th>4282</th>\n",
       "      <td>1961</td>\n",
       "      <td>3</td>\n",
       "      <td>2</td>\n",
       "      <td>21</td>\n",
       "      <td>17.2</td>\n",
       "      <td>5.6</td>\n",
       "      <td>5.3</td>\n",
       "      <td>Gene Shue</td>\n",
       "      <td>80</td>\n",
       "      <td>39.3</td>\n",
       "      <td>17.4</td>\n",
       "      <td>4.3</td>\n",
       "      <td>5.3</td>\n",
       "      <td>1.5</td>\n",
       "      <td>-0.3</td>\n",
       "    </tr>\n",
       "    <tr>\n",
       "      <th>4692</th>\n",
       "      <td>1962</td>\n",
       "      <td>3</td>\n",
       "      <td>0</td>\n",
       "      <td>5</td>\n",
       "      <td>27.8</td>\n",
       "      <td>13.8</td>\n",
       "      <td>2.8</td>\n",
       "      <td>Bob Pettit</td>\n",
       "      <td>79</td>\n",
       "      <td>39.1</td>\n",
       "      <td>26.1</td>\n",
       "      <td>13.9</td>\n",
       "      <td>2.9</td>\n",
       "      <td>1.9</td>\n",
       "      <td>-11.0</td>\n",
       "    </tr>\n",
       "    <tr>\n",
       "      <th>4792</th>\n",
       "      <td>1962</td>\n",
       "      <td>3</td>\n",
       "      <td>1</td>\n",
       "      <td>19</td>\n",
       "      <td>17.8</td>\n",
       "      <td>10.8</td>\n",
       "      <td>2.4</td>\n",
       "      <td>Ray Scott</td>\n",
       "      <td>76</td>\n",
       "      <td>33.4</td>\n",
       "      <td>17.5</td>\n",
       "      <td>11.0</td>\n",
       "      <td>2.7</td>\n",
       "      <td>0.8</td>\n",
       "      <td>-8.4</td>\n",
       "    </tr>\n",
       "    <tr>\n",
       "      <th>4972</th>\n",
       "      <td>1962</td>\n",
       "      <td>3</td>\n",
       "      <td>2</td>\n",
       "      <td>18</td>\n",
       "      <td>16.8</td>\n",
       "      <td>4.9</td>\n",
       "      <td>5.1</td>\n",
       "      <td>Larry Costello</td>\n",
       "      <td>78</td>\n",
       "      <td>26.5</td>\n",
       "      <td>14.9</td>\n",
       "      <td>4.1</td>\n",
       "      <td>5.8</td>\n",
       "      <td>3.4</td>\n",
       "      <td>0.2</td>\n",
       "    </tr>\n",
       "    <tr>\n",
       "      <th>5132</th>\n",
       "      <td>1963</td>\n",
       "      <td>3</td>\n",
       "      <td>0</td>\n",
       "      <td>14</td>\n",
       "      <td>15.9</td>\n",
       "      <td>12.6</td>\n",
       "      <td>2.2</td>\n",
       "      <td>Johnny Kerr</td>\n",
       "      <td>80</td>\n",
       "      <td>36.7</td>\n",
       "      <td>16.5</td>\n",
       "      <td>12.5</td>\n",
       "      <td>3.3</td>\n",
       "      <td>1.8</td>\n",
       "      <td>-10.4</td>\n",
       "    </tr>\n",
       "    <tr>\n",
       "      <th>5402</th>\n",
       "      <td>1963</td>\n",
       "      <td>3</td>\n",
       "      <td>1</td>\n",
       "      <td>14</td>\n",
       "      <td>22.8</td>\n",
       "      <td>8.2</td>\n",
       "      <td>3.7</td>\n",
       "      <td>Tom Heinsohn</td>\n",
       "      <td>76</td>\n",
       "      <td>26.8</td>\n",
       "      <td>22.2</td>\n",
       "      <td>8.2</td>\n",
       "      <td>3.2</td>\n",
       "      <td>1.1</td>\n",
       "      <td>-4.5</td>\n",
       "    </tr>\n",
       "    <tr>\n",
       "      <th>5252</th>\n",
       "      <td>1963</td>\n",
       "      <td>3</td>\n",
       "      <td>2</td>\n",
       "      <td>14</td>\n",
       "      <td>13.8</td>\n",
       "      <td>4.8</td>\n",
       "      <td>4.7</td>\n",
       "      <td>Lenny Wilkens</td>\n",
       "      <td>78</td>\n",
       "      <td>32.4</td>\n",
       "      <td>13.3</td>\n",
       "      <td>4.8</td>\n",
       "      <td>5.1</td>\n",
       "      <td>0.9</td>\n",
       "      <td>-0.1</td>\n",
       "    </tr>\n",
       "    <tr>\n",
       "      <th>5742</th>\n",
       "      <td>1964</td>\n",
       "      <td>3</td>\n",
       "      <td>1</td>\n",
       "      <td>22</td>\n",
       "      <td>15.7</td>\n",
       "      <td>12.2</td>\n",
       "      <td>2.2</td>\n",
       "      <td>Wayne Embry</td>\n",
       "      <td>74</td>\n",
       "      <td>30.3</td>\n",
       "      <td>15.1</td>\n",
       "      <td>11.9</td>\n",
       "      <td>1.4</td>\n",
       "      <td>1.7</td>\n",
       "      <td>-10.0</td>\n",
       "    </tr>\n",
       "    <tr>\n",
       "      <th>5502</th>\n",
       "      <td>1964</td>\n",
       "      <td>3</td>\n",
       "      <td>0</td>\n",
       "      <td>6</td>\n",
       "      <td>25.1</td>\n",
       "      <td>8.8</td>\n",
       "      <td>4.3</td>\n",
       "      <td>Elgin Baylor</td>\n",
       "      <td>74</td>\n",
       "      <td>41.3</td>\n",
       "      <td>23.6</td>\n",
       "      <td>11.2</td>\n",
       "      <td>3.3</td>\n",
       "      <td>4.9</td>\n",
       "      <td>-4.5</td>\n",
       "    </tr>\n",
       "    <tr>\n",
       "      <th>5832</th>\n",
       "      <td>1964</td>\n",
       "      <td>3</td>\n",
       "      <td>2</td>\n",
       "      <td>15</td>\n",
       "      <td>16.5</td>\n",
       "      <td>4.2</td>\n",
       "      <td>4.1</td>\n",
       "      <td>Paul Neumann</td>\n",
       "      <td>76</td>\n",
       "      <td>26.8</td>\n",
       "      <td>17.1</td>\n",
       "      <td>3.5</td>\n",
       "      <td>4.2</td>\n",
       "      <td>1.4</td>\n",
       "      <td>-0.1</td>\n",
       "    </tr>\n",
       "    <tr>\n",
       "      <th>6042</th>\n",
       "      <td>1965</td>\n",
       "      <td>3</td>\n",
       "      <td>1</td>\n",
       "      <td>20</td>\n",
       "      <td>16.8</td>\n",
       "      <td>12.3</td>\n",
       "      <td>2.4</td>\n",
       "      <td>Dave DeBusschere</td>\n",
       "      <td>79</td>\n",
       "      <td>34.1</td>\n",
       "      <td>17.3</td>\n",
       "      <td>12.2</td>\n",
       "      <td>2.7</td>\n",
       "      <td>0.9</td>\n",
       "      <td>-9.9</td>\n",
       "    </tr>\n",
       "    <tr>\n",
       "      <th>6122</th>\n",
       "      <td>1965</td>\n",
       "      <td>3</td>\n",
       "      <td>0</td>\n",
       "      <td>10</td>\n",
       "      <td>22.3</td>\n",
       "      <td>5.5</td>\n",
       "      <td>3.6</td>\n",
       "      <td>John Havlicek</td>\n",
       "      <td>71</td>\n",
       "      <td>30.6</td>\n",
       "      <td>22.1</td>\n",
       "      <td>7.1</td>\n",
       "      <td>3.5</td>\n",
       "      <td>1.9</td>\n",
       "      <td>-1.9</td>\n",
       "    </tr>\n",
       "    <tr>\n",
       "      <th>5952</th>\n",
       "      <td>1965</td>\n",
       "      <td>3</td>\n",
       "      <td>2</td>\n",
       "      <td>11</td>\n",
       "      <td>16.5</td>\n",
       "      <td>4.4</td>\n",
       "      <td>6.1</td>\n",
       "      <td>Lenny Wilkens</td>\n",
       "      <td>69</td>\n",
       "      <td>39.0</td>\n",
       "      <td>16.6</td>\n",
       "      <td>4.3</td>\n",
       "      <td>5.7</td>\n",
       "      <td>0.6</td>\n",
       "      <td>1.7</td>\n",
       "    </tr>\n",
       "    <tr>\n",
       "      <th>6362</th>\n",
       "      <td>1966</td>\n",
       "      <td>3</td>\n",
       "      <td>1</td>\n",
       "      <td>19</td>\n",
       "      <td>16.1</td>\n",
       "      <td>12.7</td>\n",
       "      <td>2.5</td>\n",
       "      <td>Bill Bridges</td>\n",
       "      <td>79</td>\n",
       "      <td>39.6</td>\n",
       "      <td>15.8</td>\n",
       "      <td>13.7</td>\n",
       "      <td>2.5</td>\n",
       "      <td>1.3</td>\n",
       "      <td>-10.2</td>\n",
       "    </tr>\n",
       "    <tr>\n",
       "      <th>6622</th>\n",
       "      <td>1966</td>\n",
       "      <td>3</td>\n",
       "      <td>0</td>\n",
       "      <td>18</td>\n",
       "      <td>22.1</td>\n",
       "      <td>6.7</td>\n",
       "      <td>3.1</td>\n",
       "      <td>Lou Hudson</td>\n",
       "      <td>80</td>\n",
       "      <td>30.6</td>\n",
       "      <td>21.6</td>\n",
       "      <td>6.4</td>\n",
       "      <td>1.4</td>\n",
       "      <td>2.5</td>\n",
       "      <td>-3.6</td>\n",
       "    </tr>\n",
       "    <tr>\n",
       "      <th>6482</th>\n",
       "      <td>1966</td>\n",
       "      <td>3</td>\n",
       "      <td>2</td>\n",
       "      <td>9</td>\n",
       "      <td>16.9</td>\n",
       "      <td>4.0</td>\n",
       "      <td>6.3</td>\n",
       "      <td>Howard Komives</td>\n",
       "      <td>65</td>\n",
       "      <td>35.1</td>\n",
       "      <td>16.1</td>\n",
       "      <td>2.9</td>\n",
       "      <td>6.4</td>\n",
       "      <td>2.0</td>\n",
       "      <td>2.3</td>\n",
       "    </tr>\n",
       "    <tr>\n",
       "      <th>6892</th>\n",
       "      <td>1967</td>\n",
       "      <td>3</td>\n",
       "      <td>0</td>\n",
       "      <td>17</td>\n",
       "      <td>20.2</td>\n",
       "      <td>11.8</td>\n",
       "      <td>2.7</td>\n",
       "      <td>Zelmo Beaty</td>\n",
       "      <td>82</td>\n",
       "      <td>37.4</td>\n",
       "      <td>20.3</td>\n",
       "      <td>11.3</td>\n",
       "      <td>2.0</td>\n",
       "      <td>1.3</td>\n",
       "      <td>-9.1</td>\n",
       "    </tr>\n",
       "    <tr>\n",
       "      <th>6972</th>\n",
       "      <td>1967</td>\n",
       "      <td>3</td>\n",
       "      <td>2</td>\n",
       "      <td>19</td>\n",
       "      <td>14.0</td>\n",
       "      <td>11.4</td>\n",
       "      <td>2.4</td>\n",
       "      <td>Leroy Ellis</td>\n",
       "      <td>78</td>\n",
       "      <td>34.9</td>\n",
       "      <td>12.8</td>\n",
       "      <td>11.4</td>\n",
       "      <td>2.1</td>\n",
       "      <td>1.5</td>\n",
       "      <td>-9.0</td>\n",
       "    </tr>\n",
       "    <tr>\n",
       "      <th>6882</th>\n",
       "      <td>1967</td>\n",
       "      <td>3</td>\n",
       "      <td>1</td>\n",
       "      <td>20</td>\n",
       "      <td>20.3</td>\n",
       "      <td>4.6</td>\n",
       "      <td>4.6</td>\n",
       "      <td>Archie Clark</td>\n",
       "      <td>81</td>\n",
       "      <td>37.5</td>\n",
       "      <td>19.1</td>\n",
       "      <td>4.0</td>\n",
       "      <td>4.2</td>\n",
       "      <td>2.2</td>\n",
       "      <td>0.0</td>\n",
       "    </tr>\n",
       "    <tr>\n",
       "      <th>7782</th>\n",
       "      <td>1968</td>\n",
       "      <td>3</td>\n",
       "      <td>0</td>\n",
       "      <td>16</td>\n",
       "      <td>13.7</td>\n",
       "      <td>13.5</td>\n",
       "      <td>2.6</td>\n",
       "      <td>Tom Boerwinkle</td>\n",
       "      <td>80</td>\n",
       "      <td>29.6</td>\n",
       "      <td>11.9</td>\n",
       "      <td>13.5</td>\n",
       "      <td>2.7</td>\n",
       "      <td>1.9</td>\n",
       "      <td>-10.9</td>\n",
       "    </tr>\n",
       "    <tr>\n",
       "      <th>7482</th>\n",
       "      <td>1968</td>\n",
       "      <td>3</td>\n",
       "      <td>1</td>\n",
       "      <td>18</td>\n",
       "      <td>20.6</td>\n",
       "      <td>9.8</td>\n",
       "      <td>2.4</td>\n",
       "      <td>Don Kojis</td>\n",
       "      <td>81</td>\n",
       "      <td>38.6</td>\n",
       "      <td>21.0</td>\n",
       "      <td>9.0</td>\n",
       "      <td>2.4</td>\n",
       "      <td>1.2</td>\n",
       "      <td>-7.4</td>\n",
       "    </tr>\n",
       "    <tr>\n",
       "      <th>7802</th>\n",
       "      <td>1968</td>\n",
       "      <td>3</td>\n",
       "      <td>2</td>\n",
       "      <td>31</td>\n",
       "      <td>17.8</td>\n",
       "      <td>4.7</td>\n",
       "      <td>5.1</td>\n",
       "      <td>Jim Barnett</td>\n",
       "      <td>80</td>\n",
       "      <td>29.3</td>\n",
       "      <td>17.8</td>\n",
       "      <td>5.5</td>\n",
       "      <td>5.2</td>\n",
       "      <td>0.9</td>\n",
       "      <td>0.4</td>\n",
       "    </tr>\n",
       "    <tr>\n",
       "      <th>8212</th>\n",
       "      <td>1969</td>\n",
       "      <td>3</td>\n",
       "      <td>0</td>\n",
       "      <td>16</td>\n",
       "      <td>14.4</td>\n",
       "      <td>12.0</td>\n",
       "      <td>2.7</td>\n",
       "      <td>Paul Silas</td>\n",
       "      <td>78</td>\n",
       "      <td>36.4</td>\n",
       "      <td>12.7</td>\n",
       "      <td>11.6</td>\n",
       "      <td>2.7</td>\n",
       "      <td>2.1</td>\n",
       "      <td>-9.3</td>\n",
       "    </tr>\n",
       "    <tr>\n",
       "      <th>8542</th>\n",
       "      <td>1969</td>\n",
       "      <td>3</td>\n",
       "      <td>2</td>\n",
       "      <td>22</td>\n",
       "      <td>20.8</td>\n",
       "      <td>9.3</td>\n",
       "      <td>2.5</td>\n",
       "      <td>Don Nelson</td>\n",
       "      <td>82</td>\n",
       "      <td>27.1</td>\n",
       "      <td>20.5</td>\n",
       "      <td>9.7</td>\n",
       "      <td>2.4</td>\n",
       "      <td>0.8</td>\n",
       "      <td>-6.8</td>\n",
       "    </tr>\n",
       "    <tr>\n",
       "      <th>8202</th>\n",
       "      <td>1969</td>\n",
       "      <td>3</td>\n",
       "      <td>1</td>\n",
       "      <td>28</td>\n",
       "      <td>18.7</td>\n",
       "      <td>4.0</td>\n",
       "      <td>5.5</td>\n",
       "      <td>Archie Clark</td>\n",
       "      <td>76</td>\n",
       "      <td>36.5</td>\n",
       "      <td>19.4</td>\n",
       "      <td>3.9</td>\n",
       "      <td>4.9</td>\n",
       "      <td>1.4</td>\n",
       "      <td>1.5</td>\n",
       "    </tr>\n",
       "    <tr>\n",
       "      <th>9012</th>\n",
       "      <td>1970</td>\n",
       "      <td>3</td>\n",
       "      <td>2</td>\n",
       "      <td>23</td>\n",
       "      <td>14.5</td>\n",
       "      <td>11.8</td>\n",
       "      <td>2.9</td>\n",
       "      <td>Walt Bellamy</td>\n",
       "      <td>82</td>\n",
       "      <td>35.5</td>\n",
       "      <td>14.9</td>\n",
       "      <td>13.1</td>\n",
       "      <td>2.8</td>\n",
       "      <td>1.8</td>\n",
       "      <td>-8.9</td>\n",
       "    </tr>\n",
       "    <tr>\n",
       "      <th>9052</th>\n",
       "      <td>1970</td>\n",
       "      <td>3</td>\n",
       "      <td>1</td>\n",
       "      <td>18</td>\n",
       "      <td>21.0</td>\n",
       "      <td>9.2</td>\n",
       "      <td>2.6</td>\n",
       "      <td>Don May</td>\n",
       "      <td>76</td>\n",
       "      <td>35.1</td>\n",
       "      <td>20.7</td>\n",
       "      <td>7.7</td>\n",
       "      <td>2.1</td>\n",
       "      <td>2.3</td>\n",
       "      <td>-6.6</td>\n",
       "    </tr>\n",
       "    <tr>\n",
       "      <th>9132</th>\n",
       "      <td>1970</td>\n",
       "      <td>3</td>\n",
       "      <td>0</td>\n",
       "      <td>37</td>\n",
       "      <td>18.3</td>\n",
       "      <td>4.3</td>\n",
       "      <td>5.2</td>\n",
       "      <td>Clem Haskins</td>\n",
       "      <td>82</td>\n",
       "      <td>33.7</td>\n",
       "      <td>19.0</td>\n",
       "      <td>4.3</td>\n",
       "      <td>5.0</td>\n",
       "      <td>0.9</td>\n",
       "      <td>0.9</td>\n",
       "    </tr>\n",
       "    <tr>\n",
       "      <th>9632</th>\n",
       "      <td>1971</td>\n",
       "      <td>3</td>\n",
       "      <td>0</td>\n",
       "      <td>23</td>\n",
       "      <td>14.3</td>\n",
       "      <td>11.8</td>\n",
       "      <td>2.6</td>\n",
       "      <td>Dave DeBusschere</td>\n",
       "      <td>80</td>\n",
       "      <td>38.4</td>\n",
       "      <td>14.4</td>\n",
       "      <td>10.6</td>\n",
       "      <td>3.4</td>\n",
       "      <td>2.1</td>\n",
       "      <td>-9.2</td>\n",
       "    </tr>\n",
       "    <tr>\n",
       "      <th>9752</th>\n",
       "      <td>1971</td>\n",
       "      <td>3</td>\n",
       "      <td>2</td>\n",
       "      <td>18</td>\n",
       "      <td>21.9</td>\n",
       "      <td>8.3</td>\n",
       "      <td>3.1</td>\n",
       "      <td>Connie Hawkins</td>\n",
       "      <td>76</td>\n",
       "      <td>36.8</td>\n",
       "      <td>20.5</td>\n",
       "      <td>8.1</td>\n",
       "      <td>3.8</td>\n",
       "      <td>2.3</td>\n",
       "      <td>-5.2</td>\n",
       "    </tr>\n",
       "    <tr>\n",
       "      <th>9992</th>\n",
       "      <td>1971</td>\n",
       "      <td>3</td>\n",
       "      <td>1</td>\n",
       "      <td>36</td>\n",
       "      <td>17.1</td>\n",
       "      <td>4.2</td>\n",
       "      <td>5.0</td>\n",
       "      <td>Lucius Allen</td>\n",
       "      <td>80</td>\n",
       "      <td>29.0</td>\n",
       "      <td>16.8</td>\n",
       "      <td>4.0</td>\n",
       "      <td>5.2</td>\n",
       "      <td>0.7</td>\n",
       "      <td>0.8</td>\n",
       "    </tr>\n",
       "    <tr>\n",
       "      <th>10522</th>\n",
       "      <td>1972</td>\n",
       "      <td>3</td>\n",
       "      <td>2</td>\n",
       "      <td>28</td>\n",
       "      <td>14.0</td>\n",
       "      <td>11.4</td>\n",
       "      <td>2.8</td>\n",
       "      <td>Sam Lacey</td>\n",
       "      <td>79</td>\n",
       "      <td>37.1</td>\n",
       "      <td>13.1</td>\n",
       "      <td>11.5</td>\n",
       "      <td>2.3</td>\n",
       "      <td>1.5</td>\n",
       "      <td>-8.6</td>\n",
       "    </tr>\n",
       "    <tr>\n",
       "      <th>10452</th>\n",
       "      <td>1972</td>\n",
       "      <td>3</td>\n",
       "      <td>0</td>\n",
       "      <td>18</td>\n",
       "      <td>21.3</td>\n",
       "      <td>7.2</td>\n",
       "      <td>3.3</td>\n",
       "      <td>Rick Barry</td>\n",
       "      <td>82</td>\n",
       "      <td>37.5</td>\n",
       "      <td>21.4</td>\n",
       "      <td>8.5</td>\n",
       "      <td>4.7</td>\n",
       "      <td>2.8</td>\n",
       "      <td>-3.9</td>\n",
       "    </tr>\n",
       "    <tr>\n",
       "      <th>10312</th>\n",
       "      <td>1972</td>\n",
       "      <td>3</td>\n",
       "      <td>1</td>\n",
       "      <td>30</td>\n",
       "      <td>17.0</td>\n",
       "      <td>4.5</td>\n",
       "      <td>5.6</td>\n",
       "      <td>Jojo White</td>\n",
       "      <td>82</td>\n",
       "      <td>39.6</td>\n",
       "      <td>17.9</td>\n",
       "      <td>4.5</td>\n",
       "      <td>5.5</td>\n",
       "      <td>1.0</td>\n",
       "      <td>1.1</td>\n",
       "    </tr>\n",
       "    <tr>\n",
       "      <th>11432</th>\n",
       "      <td>1973</td>\n",
       "      <td>3</td>\n",
       "      <td>1</td>\n",
       "      <td>30</td>\n",
       "      <td>13.3</td>\n",
       "      <td>10.4</td>\n",
       "      <td>2.6</td>\n",
       "      <td>Double D Davis</td>\n",
       "      <td>76</td>\n",
       "      <td>32.6</td>\n",
       "      <td>13.8</td>\n",
       "      <td>9.4</td>\n",
       "      <td>2.7</td>\n",
       "      <td>1.6</td>\n",
       "      <td>-7.8</td>\n",
       "    </tr>\n",
       "    <tr>\n",
       "      <th>11302</th>\n",
       "      <td>1973</td>\n",
       "      <td>3</td>\n",
       "      <td>2</td>\n",
       "      <td>27</td>\n",
       "      <td>20.8</td>\n",
       "      <td>6.8</td>\n",
       "      <td>3.4</td>\n",
       "      <td>Bob Dandridge</td>\n",
       "      <td>71</td>\n",
       "      <td>35.5</td>\n",
       "      <td>19.2</td>\n",
       "      <td>6.8</td>\n",
       "      <td>2.8</td>\n",
       "      <td>2.2</td>\n",
       "      <td>-3.4</td>\n",
       "    </tr>\n",
       "    <tr>\n",
       "      <th>11382</th>\n",
       "      <td>1973</td>\n",
       "      <td>3</td>\n",
       "      <td>0</td>\n",
       "      <td>25</td>\n",
       "      <td>16.4</td>\n",
       "      <td>4.2</td>\n",
       "      <td>5.5</td>\n",
       "      <td>Randy Smith</td>\n",
       "      <td>82</td>\n",
       "      <td>33.5</td>\n",
       "      <td>16.7</td>\n",
       "      <td>4.1</td>\n",
       "      <td>5.1</td>\n",
       "      <td>0.8</td>\n",
       "      <td>1.3</td>\n",
       "    </tr>\n",
       "    <tr>\n",
       "      <th>12392</th>\n",
       "      <td>1974</td>\n",
       "      <td>3</td>\n",
       "      <td>0</td>\n",
       "      <td>32</td>\n",
       "      <td>12.8</td>\n",
       "      <td>10.0</td>\n",
       "      <td>2.7</td>\n",
       "      <td>Phil Jackson</td>\n",
       "      <td>78</td>\n",
       "      <td>29.3</td>\n",
       "      <td>13.3</td>\n",
       "      <td>9.5</td>\n",
       "      <td>2.1</td>\n",
       "      <td>1.6</td>\n",
       "      <td>-7.3</td>\n",
       "    </tr>\n",
       "    <tr>\n",
       "      <th>12192</th>\n",
       "      <td>1974</td>\n",
       "      <td>3</td>\n",
       "      <td>2</td>\n",
       "      <td>24</td>\n",
       "      <td>21.0</td>\n",
       "      <td>7.2</td>\n",
       "      <td>3.2</td>\n",
       "      <td>Chet Walker</td>\n",
       "      <td>76</td>\n",
       "      <td>32.3</td>\n",
       "      <td>21.4</td>\n",
       "      <td>6.4</td>\n",
       "      <td>2.5</td>\n",
       "      <td>1.9</td>\n",
       "      <td>-4.0</td>\n",
       "    </tr>\n",
       "    <tr>\n",
       "      <th>12502</th>\n",
       "      <td>1974</td>\n",
       "      <td>3</td>\n",
       "      <td>1</td>\n",
       "      <td>28</td>\n",
       "      <td>15.7</td>\n",
       "      <td>3.6</td>\n",
       "      <td>5.2</td>\n",
       "      <td>Tom Henderson</td>\n",
       "      <td>79</td>\n",
       "      <td>27.0</td>\n",
       "      <td>15.2</td>\n",
       "      <td>3.6</td>\n",
       "      <td>5.3</td>\n",
       "      <td>0.6</td>\n",
       "      <td>1.6</td>\n",
       "    </tr>\n",
       "    <tr>\n",
       "      <th>13082</th>\n",
       "      <td>1975</td>\n",
       "      <td>3</td>\n",
       "      <td>0</td>\n",
       "      <td>22</td>\n",
       "      <td>19.5</td>\n",
       "      <td>9.8</td>\n",
       "      <td>2.5</td>\n",
       "      <td>Jamaal Wilkes</td>\n",
       "      <td>82</td>\n",
       "      <td>33.1</td>\n",
       "      <td>19.4</td>\n",
       "      <td>9.6</td>\n",
       "      <td>2.2</td>\n",
       "      <td>0.6</td>\n",
       "      <td>-7.3</td>\n",
       "    </tr>\n",
       "    <tr>\n",
       "      <th>12742</th>\n",
       "      <td>1975</td>\n",
       "      <td>3</td>\n",
       "      <td>2</td>\n",
       "      <td>28</td>\n",
       "      <td>13.0</td>\n",
       "      <td>8.1</td>\n",
       "      <td>2.9</td>\n",
       "      <td>Steve Mix</td>\n",
       "      <td>81</td>\n",
       "      <td>37.5</td>\n",
       "      <td>13.3</td>\n",
       "      <td>7.9</td>\n",
       "      <td>2.6</td>\n",
       "      <td>0.8</td>\n",
       "      <td>-5.2</td>\n",
       "    </tr>\n",
       "    <tr>\n",
       "      <th>12782</th>\n",
       "      <td>1975</td>\n",
       "      <td>3</td>\n",
       "      <td>1</td>\n",
       "      <td>32</td>\n",
       "      <td>17.7</td>\n",
       "      <td>4.0</td>\n",
       "      <td>5.1</td>\n",
       "      <td>Mike Newlin</td>\n",
       "      <td>82</td>\n",
       "      <td>37.4</td>\n",
       "      <td>17.9</td>\n",
       "      <td>3.9</td>\n",
       "      <td>5.4</td>\n",
       "      <td>0.6</td>\n",
       "      <td>1.1</td>\n",
       "    </tr>\n",
       "    <tr>\n",
       "      <th>14322</th>\n",
       "      <td>1976</td>\n",
       "      <td>3</td>\n",
       "      <td>0</td>\n",
       "      <td>44</td>\n",
       "      <td>16.0</td>\n",
       "      <td>10.1</td>\n",
       "      <td>2.5</td>\n",
       "      <td>Lonnie Shelton</td>\n",
       "      <td>82</td>\n",
       "      <td>25.7</td>\n",
       "      <td>16.2</td>\n",
       "      <td>10.8</td>\n",
       "      <td>2.5</td>\n",
       "      <td>0.9</td>\n",
       "      <td>-7.6</td>\n",
       "    </tr>\n",
       "    <tr>\n",
       "      <th>14332</th>\n",
       "      <td>1976</td>\n",
       "      <td>3</td>\n",
       "      <td>1</td>\n",
       "      <td>34</td>\n",
       "      <td>20.0</td>\n",
       "      <td>4.7</td>\n",
       "      <td>4.3</td>\n",
       "      <td>Ricky Sobers</td>\n",
       "      <td>79</td>\n",
       "      <td>25.4</td>\n",
       "      <td>19.3</td>\n",
       "      <td>4.3</td>\n",
       "      <td>4.3</td>\n",
       "      <td>1.1</td>\n",
       "      <td>-0.4</td>\n",
       "    </tr>\n",
       "    <tr>\n",
       "      <th>13932</th>\n",
       "      <td>1976</td>\n",
       "      <td>3</td>\n",
       "      <td>2</td>\n",
       "      <td>17</td>\n",
       "      <td>12.1</td>\n",
       "      <td>3.7</td>\n",
       "      <td>6.2</td>\n",
       "      <td>Mike Gale</td>\n",
       "      <td>82</td>\n",
       "      <td>31.7</td>\n",
       "      <td>11.7</td>\n",
       "      <td>3.7</td>\n",
       "      <td>6.6</td>\n",
       "      <td>0.8</td>\n",
       "      <td>2.5</td>\n",
       "    </tr>\n",
       "    <tr>\n",
       "      <th>15022</th>\n",
       "      <td>1977</td>\n",
       "      <td>3</td>\n",
       "      <td>1</td>\n",
       "      <td>45</td>\n",
       "      <td>16.5</td>\n",
       "      <td>10.6</td>\n",
       "      <td>2.8</td>\n",
       "      <td>Sidney Wicks</td>\n",
       "      <td>81</td>\n",
       "      <td>29.8</td>\n",
       "      <td>16.2</td>\n",
       "      <td>10.0</td>\n",
       "      <td>2.5</td>\n",
       "      <td>1.2</td>\n",
       "      <td>-7.8</td>\n",
       "    </tr>\n",
       "    <tr>\n",
       "      <th>14772</th>\n",
       "      <td>1977</td>\n",
       "      <td>3</td>\n",
       "      <td>0</td>\n",
       "      <td>36</td>\n",
       "      <td>20.7</td>\n",
       "      <td>4.4</td>\n",
       "      <td>4.2</td>\n",
       "      <td>Gus Williams</td>\n",
       "      <td>79</td>\n",
       "      <td>32.6</td>\n",
       "      <td>20.0</td>\n",
       "      <td>3.5</td>\n",
       "      <td>4.1</td>\n",
       "      <td>1.7</td>\n",
       "      <td>-0.2</td>\n",
       "    </tr>\n",
       "    <tr>\n",
       "      <th>15012</th>\n",
       "      <td>1977</td>\n",
       "      <td>3</td>\n",
       "      <td>2</td>\n",
       "      <td>18</td>\n",
       "      <td>12.2</td>\n",
       "      <td>3.7</td>\n",
       "      <td>6.5</td>\n",
       "      <td>Mike Gale</td>\n",
       "      <td>70</td>\n",
       "      <td>29.9</td>\n",
       "      <td>11.0</td>\n",
       "      <td>3.9</td>\n",
       "      <td>6.5</td>\n",
       "      <td>1.4</td>\n",
       "      <td>2.8</td>\n",
       "    </tr>\n",
       "    <tr>\n",
       "      <th>16262</th>\n",
       "      <td>1978</td>\n",
       "      <td>3</td>\n",
       "      <td>1</td>\n",
       "      <td>50</td>\n",
       "      <td>16.5</td>\n",
       "      <td>9.9</td>\n",
       "      <td>3.0</td>\n",
       "      <td>Kent Benson</td>\n",
       "      <td>82</td>\n",
       "      <td>26.0</td>\n",
       "      <td>17.0</td>\n",
       "      <td>9.8</td>\n",
       "      <td>3.5</td>\n",
       "      <td>1.1</td>\n",
       "      <td>-6.9</td>\n",
       "    </tr>\n",
       "    <tr>\n",
       "      <th>15642</th>\n",
       "      <td>1978</td>\n",
       "      <td>3</td>\n",
       "      <td>2</td>\n",
       "      <td>25</td>\n",
       "      <td>22.2</td>\n",
       "      <td>4.5</td>\n",
       "      <td>3.9</td>\n",
       "      <td>Otis Birdsong</td>\n",
       "      <td>82</td>\n",
       "      <td>34.6</td>\n",
       "      <td>22.6</td>\n",
       "      <td>4.5</td>\n",
       "      <td>3.5</td>\n",
       "      <td>0.8</td>\n",
       "      <td>-0.6</td>\n",
       "    </tr>\n",
       "    <tr>\n",
       "      <th>15852</th>\n",
       "      <td>1978</td>\n",
       "      <td>3</td>\n",
       "      <td>0</td>\n",
       "      <td>23</td>\n",
       "      <td>14.9</td>\n",
       "      <td>3.2</td>\n",
       "      <td>6.7</td>\n",
       "      <td>Rick Barry</td>\n",
       "      <td>80</td>\n",
       "      <td>32.1</td>\n",
       "      <td>15.1</td>\n",
       "      <td>3.9</td>\n",
       "      <td>7.1</td>\n",
       "      <td>1.3</td>\n",
       "      <td>3.5</td>\n",
       "    </tr>\n",
       "    <tr>\n",
       "      <th>16762</th>\n",
       "      <td>1979</td>\n",
       "      <td>3</td>\n",
       "      <td>0</td>\n",
       "      <td>41</td>\n",
       "      <td>15.6</td>\n",
       "      <td>9.7</td>\n",
       "      <td>2.8</td>\n",
       "      <td>Dave Cowens</td>\n",
       "      <td>66</td>\n",
       "      <td>32.7</td>\n",
       "      <td>15.6</td>\n",
       "      <td>8.9</td>\n",
       "      <td>3.4</td>\n",
       "      <td>1.4</td>\n",
       "      <td>-6.9</td>\n",
       "    </tr>\n",
       "    <tr>\n",
       "      <th>17112</th>\n",
       "      <td>1979</td>\n",
       "      <td>3</td>\n",
       "      <td>2</td>\n",
       "      <td>31</td>\n",
       "      <td>22.3</td>\n",
       "      <td>5.4</td>\n",
       "      <td>3.7</td>\n",
       "      <td>Junior Bridgeman</td>\n",
       "      <td>81</td>\n",
       "      <td>28.6</td>\n",
       "      <td>22.2</td>\n",
       "      <td>4.7</td>\n",
       "      <td>3.7</td>\n",
       "      <td>0.8</td>\n",
       "      <td>-1.7</td>\n",
       "    </tr>\n",
       "    <tr>\n",
       "      <th>17172</th>\n",
       "      <td>1979</td>\n",
       "      <td>3</td>\n",
       "      <td>1</td>\n",
       "      <td>25</td>\n",
       "      <td>14.3</td>\n",
       "      <td>4.2</td>\n",
       "      <td>6.5</td>\n",
       "      <td>Allen Leavell</td>\n",
       "      <td>77</td>\n",
       "      <td>27.6</td>\n",
       "      <td>14.2</td>\n",
       "      <td>3.1</td>\n",
       "      <td>7.0</td>\n",
       "      <td>1.7</td>\n",
       "      <td>2.3</td>\n",
       "    </tr>\n",
       "    <tr>\n",
       "      <th>17852</th>\n",
       "      <td>1980</td>\n",
       "      <td>3</td>\n",
       "      <td>0</td>\n",
       "      <td>46</td>\n",
       "      <td>16.2</td>\n",
       "      <td>9.1</td>\n",
       "      <td>2.8</td>\n",
       "      <td>Maurice Lucas</td>\n",
       "      <td>68</td>\n",
       "      <td>31.8</td>\n",
       "      <td>16.6</td>\n",
       "      <td>9.6</td>\n",
       "      <td>2.8</td>\n",
       "      <td>0.9</td>\n",
       "      <td>-6.3</td>\n",
       "    </tr>\n",
       "    <tr>\n",
       "      <th>17402</th>\n",
       "      <td>1980</td>\n",
       "      <td>3</td>\n",
       "      <td>2</td>\n",
       "      <td>33</td>\n",
       "      <td>21.9</td>\n",
       "      <td>4.9</td>\n",
       "      <td>3.6</td>\n",
       "      <td>Jamaal Wilkes</td>\n",
       "      <td>81</td>\n",
       "      <td>37.4</td>\n",
       "      <td>21.8</td>\n",
       "      <td>5.2</td>\n",
       "      <td>2.8</td>\n",
       "      <td>1.2</td>\n",
       "      <td>-1.3</td>\n",
       "    </tr>\n",
       "    <tr>\n",
       "      <th>17722</th>\n",
       "      <td>1980</td>\n",
       "      <td>3</td>\n",
       "      <td>1</td>\n",
       "      <td>22</td>\n",
       "      <td>14.8</td>\n",
       "      <td>3.6</td>\n",
       "      <td>6.5</td>\n",
       "      <td>Johnny Davis</td>\n",
       "      <td>76</td>\n",
       "      <td>33.4</td>\n",
       "      <td>15.5</td>\n",
       "      <td>2.4</td>\n",
       "      <td>6.8</td>\n",
       "      <td>2.2</td>\n",
       "      <td>2.9</td>\n",
       "    </tr>\n",
       "    <tr>\n",
       "      <th>18452</th>\n",
       "      <td>1981</td>\n",
       "      <td>3</td>\n",
       "      <td>0</td>\n",
       "      <td>46</td>\n",
       "      <td>15.8</td>\n",
       "      <td>9.0</td>\n",
       "      <td>2.4</td>\n",
       "      <td>Elvin Hayes</td>\n",
       "      <td>82</td>\n",
       "      <td>37.0</td>\n",
       "      <td>15.7</td>\n",
       "      <td>8.9</td>\n",
       "      <td>1.8</td>\n",
       "      <td>0.8</td>\n",
       "      <td>-6.6</td>\n",
       "    </tr>\n",
       "    <tr>\n",
       "      <th>18502</th>\n",
       "      <td>1981</td>\n",
       "      <td>3</td>\n",
       "      <td>2</td>\n",
       "      <td>23</td>\n",
       "      <td>23.5</td>\n",
       "      <td>6.0</td>\n",
       "      <td>3.6</td>\n",
       "      <td>Bernard King</td>\n",
       "      <td>79</td>\n",
       "      <td>36.2</td>\n",
       "      <td>23.1</td>\n",
       "      <td>5.9</td>\n",
       "      <td>3.6</td>\n",
       "      <td>0.5</td>\n",
       "      <td>-2.4</td>\n",
       "    </tr>\n",
       "    <tr>\n",
       "      <th>19232</th>\n",
       "      <td>1981</td>\n",
       "      <td>3</td>\n",
       "      <td>1</td>\n",
       "      <td>28</td>\n",
       "      <td>15.1</td>\n",
       "      <td>3.5</td>\n",
       "      <td>6.7</td>\n",
       "      <td>Frank Johnson</td>\n",
       "      <td>79</td>\n",
       "      <td>25.7</td>\n",
       "      <td>15.0</td>\n",
       "      <td>2.7</td>\n",
       "      <td>6.7</td>\n",
       "      <td>0.9</td>\n",
       "      <td>3.2</td>\n",
       "    </tr>\n",
       "    <tr>\n",
       "      <th>20152</th>\n",
       "      <td>1982</td>\n",
       "      <td>3</td>\n",
       "      <td>2</td>\n",
       "      <td>42</td>\n",
       "      <td>15.5</td>\n",
       "      <td>9.5</td>\n",
       "      <td>2.6</td>\n",
       "      <td>Elvin Hayes</td>\n",
       "      <td>81</td>\n",
       "      <td>28.4</td>\n",
       "      <td>16.4</td>\n",
       "      <td>9.6</td>\n",
       "      <td>2.5</td>\n",
       "      <td>1.1</td>\n",
       "      <td>-6.9</td>\n",
       "    </tr>\n",
       "    <tr>\n",
       "      <th>19492</th>\n",
       "      <td>1982</td>\n",
       "      <td>3</td>\n",
       "      <td>0</td>\n",
       "      <td>40</td>\n",
       "      <td>21.9</td>\n",
       "      <td>5.9</td>\n",
       "      <td>3.5</td>\n",
       "      <td>Purvis Short</td>\n",
       "      <td>67</td>\n",
       "      <td>35.8</td>\n",
       "      <td>21.5</td>\n",
       "      <td>5.3</td>\n",
       "      <td>3.4</td>\n",
       "      <td>1.1</td>\n",
       "      <td>-2.4</td>\n",
       "    </tr>\n",
       "    <tr>\n",
       "      <th>19832</th>\n",
       "      <td>1982</td>\n",
       "      <td>3</td>\n",
       "      <td>1</td>\n",
       "      <td>22</td>\n",
       "      <td>15.0</td>\n",
       "      <td>3.5</td>\n",
       "      <td>7.4</td>\n",
       "      <td>Darwin Cook</td>\n",
       "      <td>82</td>\n",
       "      <td>32.0</td>\n",
       "      <td>14.8</td>\n",
       "      <td>3.3</td>\n",
       "      <td>6.2</td>\n",
       "      <td>1.6</td>\n",
       "      <td>3.9</td>\n",
       "    </tr>\n",
       "    <tr>\n",
       "      <th>21022</th>\n",
       "      <td>1983</td>\n",
       "      <td>3</td>\n",
       "      <td>1</td>\n",
       "      <td>47</td>\n",
       "      <td>15.9</td>\n",
       "      <td>9.2</td>\n",
       "      <td>2.5</td>\n",
       "      <td>Pat Cummings</td>\n",
       "      <td>80</td>\n",
       "      <td>31.2</td>\n",
       "      <td>15.1</td>\n",
       "      <td>9.5</td>\n",
       "      <td>2.3</td>\n",
       "      <td>1.3</td>\n",
       "      <td>-6.7</td>\n",
       "    </tr>\n",
       "    <tr>\n",
       "      <th>20542</th>\n",
       "      <td>1983</td>\n",
       "      <td>3</td>\n",
       "      <td>0</td>\n",
       "      <td>39</td>\n",
       "      <td>22.2</td>\n",
       "      <td>5.2</td>\n",
       "      <td>3.5</td>\n",
       "      <td>Eddie Johnson</td>\n",
       "      <td>82</td>\n",
       "      <td>35.6</td>\n",
       "      <td>22.1</td>\n",
       "      <td>5.6</td>\n",
       "      <td>3.6</td>\n",
       "      <td>0.6</td>\n",
       "      <td>-1.7</td>\n",
       "    </tr>\n",
       "    <tr>\n",
       "      <th>20722</th>\n",
       "      <td>1983</td>\n",
       "      <td>3</td>\n",
       "      <td>2</td>\n",
       "      <td>21</td>\n",
       "      <td>14.9</td>\n",
       "      <td>3.1</td>\n",
       "      <td>7.7</td>\n",
       "      <td>Maurice Cheeks</td>\n",
       "      <td>75</td>\n",
       "      <td>33.3</td>\n",
       "      <td>13.7</td>\n",
       "      <td>2.9</td>\n",
       "      <td>6.9</td>\n",
       "      <td>2.2</td>\n",
       "      <td>4.6</td>\n",
       "    </tr>\n",
       "    <tr>\n",
       "      <th>22192</th>\n",
       "      <td>1984</td>\n",
       "      <td>3</td>\n",
       "      <td>1</td>\n",
       "      <td>41</td>\n",
       "      <td>15.9</td>\n",
       "      <td>9.6</td>\n",
       "      <td>2.3</td>\n",
       "      <td>Mike Gminski</td>\n",
       "      <td>81</td>\n",
       "      <td>29.9</td>\n",
       "      <td>15.4</td>\n",
       "      <td>9.4</td>\n",
       "      <td>2.4</td>\n",
       "      <td>0.8</td>\n",
       "      <td>-7.3</td>\n",
       "    </tr>\n",
       "    <tr>\n",
       "      <th>21550</th>\n",
       "      <td>1984</td>\n",
       "      <td>3</td>\n",
       "      <td>2</td>\n",
       "      <td>37</td>\n",
       "      <td>22.5</td>\n",
       "      <td>5.4</td>\n",
       "      <td>3.6</td>\n",
       "      <td>Eddie Johnson</td>\n",
       "      <td>82</td>\n",
       "      <td>36.9</td>\n",
       "      <td>22.3</td>\n",
       "      <td>4.9</td>\n",
       "      <td>3.2</td>\n",
       "      <td>1.1</td>\n",
       "      <td>-1.8</td>\n",
       "    </tr>\n",
       "    <tr>\n",
       "      <th>21532</th>\n",
       "      <td>1984</td>\n",
       "      <td>3</td>\n",
       "      <td>0</td>\n",
       "      <td>33</td>\n",
       "      <td>15.3</td>\n",
       "      <td>3.6</td>\n",
       "      <td>7.6</td>\n",
       "      <td>Dennis Johnson</td>\n",
       "      <td>80</td>\n",
       "      <td>37.2</td>\n",
       "      <td>15.2</td>\n",
       "      <td>3.9</td>\n",
       "      <td>6.6</td>\n",
       "      <td>1.4</td>\n",
       "      <td>4.0</td>\n",
       "    </tr>\n",
       "    <tr>\n",
       "      <th>22972</th>\n",
       "      <td>1985</td>\n",
       "      <td>3</td>\n",
       "      <td>1</td>\n",
       "      <td>43</td>\n",
       "      <td>16.4</td>\n",
       "      <td>9.5</td>\n",
       "      <td>2.4</td>\n",
       "      <td>Sam Perkins</td>\n",
       "      <td>80</td>\n",
       "      <td>32.8</td>\n",
       "      <td>16.9</td>\n",
       "      <td>9.4</td>\n",
       "      <td>2.1</td>\n",
       "      <td>0.9</td>\n",
       "      <td>-7.1</td>\n",
       "    </tr>\n",
       "    <tr>\n",
       "      <th>23012</th>\n",
       "      <td>1985</td>\n",
       "      <td>3</td>\n",
       "      <td>0</td>\n",
       "      <td>34</td>\n",
       "      <td>22.2</td>\n",
       "      <td>5.1</td>\n",
       "      <td>3.5</td>\n",
       "      <td>Kelly Tripucka</td>\n",
       "      <td>81</td>\n",
       "      <td>32.4</td>\n",
       "      <td>22.2</td>\n",
       "      <td>4.8</td>\n",
       "      <td>3.7</td>\n",
       "      <td>0.5</td>\n",
       "      <td>-1.6</td>\n",
       "    </tr>\n",
       "    <tr>\n",
       "      <th>23392</th>\n",
       "      <td>1985</td>\n",
       "      <td>3</td>\n",
       "      <td>2</td>\n",
       "      <td>30</td>\n",
       "      <td>15.5</td>\n",
       "      <td>3.7</td>\n",
       "      <td>7.5</td>\n",
       "      <td>Derek Harper</td>\n",
       "      <td>79</td>\n",
       "      <td>27.2</td>\n",
       "      <td>16.1</td>\n",
       "      <td>3.8</td>\n",
       "      <td>7.0</td>\n",
       "      <td>1.2</td>\n",
       "      <td>3.8</td>\n",
       "    </tr>\n",
       "    <tr>\n",
       "      <th>23722</th>\n",
       "      <td>1986</td>\n",
       "      <td>3</td>\n",
       "      <td>0</td>\n",
       "      <td>41</td>\n",
       "      <td>16.0</td>\n",
       "      <td>9.8</td>\n",
       "      <td>2.2</td>\n",
       "      <td>Robert Parish</td>\n",
       "      <td>80</td>\n",
       "      <td>37.4</td>\n",
       "      <td>16.8</td>\n",
       "      <td>10.2</td>\n",
       "      <td>2.1</td>\n",
       "      <td>1.3</td>\n",
       "      <td>-7.6</td>\n",
       "    </tr>\n",
       "    <tr>\n",
       "      <th>24342</th>\n",
       "      <td>1986</td>\n",
       "      <td>3</td>\n",
       "      <td>1</td>\n",
       "      <td>31</td>\n",
       "      <td>22.7</td>\n",
       "      <td>5.3</td>\n",
       "      <td>3.7</td>\n",
       "      <td>Eddie Johnson</td>\n",
       "      <td>81</td>\n",
       "      <td>30.3</td>\n",
       "      <td>22.2</td>\n",
       "      <td>5.2</td>\n",
       "      <td>3.7</td>\n",
       "      <td>0.6</td>\n",
       "      <td>-1.6</td>\n",
       "    </tr>\n",
       "    <tr>\n",
       "      <th>23662</th>\n",
       "      <td>1986</td>\n",
       "      <td>3</td>\n",
       "      <td>2</td>\n",
       "      <td>28</td>\n",
       "      <td>15.1</td>\n",
       "      <td>3.9</td>\n",
       "      <td>7.3</td>\n",
       "      <td>Maurice Cheeks</td>\n",
       "      <td>68</td>\n",
       "      <td>38.6</td>\n",
       "      <td>14.5</td>\n",
       "      <td>3.0</td>\n",
       "      <td>7.4</td>\n",
       "      <td>1.6</td>\n",
       "      <td>3.4</td>\n",
       "    </tr>\n",
       "    <tr>\n",
       "      <th>25442</th>\n",
       "      <td>1987</td>\n",
       "      <td>3</td>\n",
       "      <td>1</td>\n",
       "      <td>45</td>\n",
       "      <td>15.6</td>\n",
       "      <td>9.2</td>\n",
       "      <td>2.1</td>\n",
       "      <td>Randy Breuer</td>\n",
       "      <td>81</td>\n",
       "      <td>27.9</td>\n",
       "      <td>15.5</td>\n",
       "      <td>8.8</td>\n",
       "      <td>1.7</td>\n",
       "      <td>0.9</td>\n",
       "      <td>-7.1</td>\n",
       "    </tr>\n",
       "    <tr>\n",
       "      <th>24972</th>\n",
       "      <td>1987</td>\n",
       "      <td>3</td>\n",
       "      <td>0</td>\n",
       "      <td>30</td>\n",
       "      <td>22.8</td>\n",
       "      <td>5.8</td>\n",
       "      <td>3.5</td>\n",
       "      <td>Xavier McDaniel</td>\n",
       "      <td>78</td>\n",
       "      <td>34.7</td>\n",
       "      <td>22.2</td>\n",
       "      <td>6.8</td>\n",
       "      <td>3.5</td>\n",
       "      <td>1.6</td>\n",
       "      <td>-2.3</td>\n",
       "    </tr>\n",
       "    <tr>\n",
       "      <th>25262</th>\n",
       "      <td>1987</td>\n",
       "      <td>3</td>\n",
       "      <td>2</td>\n",
       "      <td>27</td>\n",
       "      <td>15.0</td>\n",
       "      <td>3.9</td>\n",
       "      <td>8.0</td>\n",
       "      <td>Winston Garland</td>\n",
       "      <td>67</td>\n",
       "      <td>31.7</td>\n",
       "      <td>14.1</td>\n",
       "      <td>3.9</td>\n",
       "      <td>7.3</td>\n",
       "      <td>1.6</td>\n",
       "      <td>4.1</td>\n",
       "    </tr>\n",
       "    <tr>\n",
       "      <th>25732</th>\n",
       "      <td>1988</td>\n",
       "      <td>3</td>\n",
       "      <td>1</td>\n",
       "      <td>46</td>\n",
       "      <td>15.9</td>\n",
       "      <td>9.4</td>\n",
       "      <td>2.1</td>\n",
       "      <td>Otis Thorpe</td>\n",
       "      <td>82</td>\n",
       "      <td>38.2</td>\n",
       "      <td>15.7</td>\n",
       "      <td>9.0</td>\n",
       "      <td>2.4</td>\n",
       "      <td>0.9</td>\n",
       "      <td>-7.3</td>\n",
       "    </tr>\n",
       "    <tr>\n",
       "      <th>26262</th>\n",
       "      <td>1988</td>\n",
       "      <td>3</td>\n",
       "      <td>2</td>\n",
       "      <td>41</td>\n",
       "      <td>21.6</td>\n",
       "      <td>5.4</td>\n",
       "      <td>3.3</td>\n",
       "      <td>Mark Aguirre</td>\n",
       "      <td>80</td>\n",
       "      <td>32.5</td>\n",
       "      <td>20.9</td>\n",
       "      <td>5.3</td>\n",
       "      <td>3.9</td>\n",
       "      <td>1.4</td>\n",
       "      <td>-2.1</td>\n",
       "    </tr>\n",
       "    <tr>\n",
       "      <th>26282</th>\n",
       "      <td>1988</td>\n",
       "      <td>3</td>\n",
       "      <td>0</td>\n",
       "      <td>32</td>\n",
       "      <td>15.7</td>\n",
       "      <td>4.3</td>\n",
       "      <td>7.8</td>\n",
       "      <td>Doc Rivers</td>\n",
       "      <td>76</td>\n",
       "      <td>32.4</td>\n",
       "      <td>15.1</td>\n",
       "      <td>4.2</td>\n",
       "      <td>7.7</td>\n",
       "      <td>0.8</td>\n",
       "      <td>3.5</td>\n",
       "    </tr>\n",
       "    <tr>\n",
       "      <th>27972</th>\n",
       "      <td>1989</td>\n",
       "      <td>3</td>\n",
       "      <td>1</td>\n",
       "      <td>43</td>\n",
       "      <td>14.6</td>\n",
       "      <td>9.5</td>\n",
       "      <td>2.1</td>\n",
       "      <td>Billy Thompson</td>\n",
       "      <td>79</td>\n",
       "      <td>27.1</td>\n",
       "      <td>14.6</td>\n",
       "      <td>9.3</td>\n",
       "      <td>2.8</td>\n",
       "      <td>0.9</td>\n",
       "      <td>-7.4</td>\n",
       "    </tr>\n",
       "    <tr>\n",
       "      <th>27162</th>\n",
       "      <td>1989</td>\n",
       "      <td>3</td>\n",
       "      <td>0</td>\n",
       "      <td>54</td>\n",
       "      <td>20.3</td>\n",
       "      <td>5.8</td>\n",
       "      <td>3.2</td>\n",
       "      <td>Chuck Person</td>\n",
       "      <td>77</td>\n",
       "      <td>35.2</td>\n",
       "      <td>20.1</td>\n",
       "      <td>5.9</td>\n",
       "      <td>3.1</td>\n",
       "      <td>0.4</td>\n",
       "      <td>-2.6</td>\n",
       "    </tr>\n",
       "    <tr>\n",
       "      <th>27192</th>\n",
       "      <td>1989</td>\n",
       "      <td>3</td>\n",
       "      <td>2</td>\n",
       "      <td>31</td>\n",
       "      <td>14.4</td>\n",
       "      <td>4.0</td>\n",
       "      <td>7.8</td>\n",
       "      <td>Vern Fleming</td>\n",
       "      <td>82</td>\n",
       "      <td>35.1</td>\n",
       "      <td>14.7</td>\n",
       "      <td>4.0</td>\n",
       "      <td>7.6</td>\n",
       "      <td>0.5</td>\n",
       "      <td>3.8</td>\n",
       "    </tr>\n",
       "    <tr>\n",
       "      <th>29212</th>\n",
       "      <td>1990</td>\n",
       "      <td>3</td>\n",
       "      <td>1</td>\n",
       "      <td>36</td>\n",
       "      <td>13.2</td>\n",
       "      <td>9.6</td>\n",
       "      <td>1.7</td>\n",
       "      <td>Mike Gminski</td>\n",
       "      <td>80</td>\n",
       "      <td>27.5</td>\n",
       "      <td>13.9</td>\n",
       "      <td>9.6</td>\n",
       "      <td>1.6</td>\n",
       "      <td>0.8</td>\n",
       "      <td>-7.9</td>\n",
       "    </tr>\n",
       "    <tr>\n",
       "      <th>29342</th>\n",
       "      <td>1990</td>\n",
       "      <td>3</td>\n",
       "      <td>2</td>\n",
       "      <td>58</td>\n",
       "      <td>19.9</td>\n",
       "      <td>6.2</td>\n",
       "      <td>2.9</td>\n",
       "      <td>Mark Aguirre</td>\n",
       "      <td>78</td>\n",
       "      <td>25.7</td>\n",
       "      <td>19.9</td>\n",
       "      <td>6.7</td>\n",
       "      <td>2.5</td>\n",
       "      <td>0.9</td>\n",
       "      <td>-3.3</td>\n",
       "    </tr>\n",
       "    <tr>\n",
       "      <th>28652</th>\n",
       "      <td>1990</td>\n",
       "      <td>3</td>\n",
       "      <td>0</td>\n",
       "      <td>38</td>\n",
       "      <td>15.8</td>\n",
       "      <td>3.9</td>\n",
       "      <td>7.2</td>\n",
       "      <td>Jay Humphries</td>\n",
       "      <td>80</td>\n",
       "      <td>34.1</td>\n",
       "      <td>16.0</td>\n",
       "      <td>3.0</td>\n",
       "      <td>7.1</td>\n",
       "      <td>1.2</td>\n",
       "      <td>3.3</td>\n",
       "    </tr>\n",
       "    <tr>\n",
       "      <th>30512</th>\n",
       "      <td>1991</td>\n",
       "      <td>3</td>\n",
       "      <td>1</td>\n",
       "      <td>54</td>\n",
       "      <td>15.4</td>\n",
       "      <td>9.5</td>\n",
       "      <td>2.2</td>\n",
       "      <td>Kenny Gattison</td>\n",
       "      <td>82</td>\n",
       "      <td>27.1</td>\n",
       "      <td>16.9</td>\n",
       "      <td>9.4</td>\n",
       "      <td>2.1</td>\n",
       "      <td>1.7</td>\n",
       "      <td>-7.3</td>\n",
       "    </tr>\n",
       "    <tr>\n",
       "      <th>30182</th>\n",
       "      <td>1991</td>\n",
       "      <td>3</td>\n",
       "      <td>0</td>\n",
       "      <td>45</td>\n",
       "      <td>19.2</td>\n",
       "      <td>4.6</td>\n",
       "      <td>3.6</td>\n",
       "      <td>Tony Campbell</td>\n",
       "      <td>78</td>\n",
       "      <td>31.3</td>\n",
       "      <td>19.3</td>\n",
       "      <td>4.3</td>\n",
       "      <td>3.3</td>\n",
       "      <td>0.7</td>\n",
       "      <td>-1.0</td>\n",
       "    </tr>\n",
       "    <tr>\n",
       "      <th>29932</th>\n",
       "      <td>1991</td>\n",
       "      <td>3</td>\n",
       "      <td>2</td>\n",
       "      <td>24</td>\n",
       "      <td>15.1</td>\n",
       "      <td>3.5</td>\n",
       "      <td>8.0</td>\n",
       "      <td>Micheal Williams</td>\n",
       "      <td>79</td>\n",
       "      <td>34.8</td>\n",
       "      <td>15.5</td>\n",
       "      <td>3.7</td>\n",
       "      <td>8.5</td>\n",
       "      <td>1.1</td>\n",
       "      <td>4.5</td>\n",
       "    </tr>\n",
       "    <tr>\n",
       "      <th>31752</th>\n",
       "      <td>1992</td>\n",
       "      <td>3</td>\n",
       "      <td>1</td>\n",
       "      <td>32</td>\n",
       "      <td>12.8</td>\n",
       "      <td>9.7</td>\n",
       "      <td>2.1</td>\n",
       "      <td>Sam Bowie</td>\n",
       "      <td>79</td>\n",
       "      <td>26.5</td>\n",
       "      <td>12.4</td>\n",
       "      <td>9.5</td>\n",
       "      <td>2.2</td>\n",
       "      <td>0.7</td>\n",
       "      <td>-7.6</td>\n",
       "    </tr>\n",
       "    <tr>\n",
       "      <th>31372</th>\n",
       "      <td>1992</td>\n",
       "      <td>3</td>\n",
       "      <td>2</td>\n",
       "      <td>58</td>\n",
       "      <td>19.5</td>\n",
       "      <td>6.6</td>\n",
       "      <td>3.1</td>\n",
       "      <td>Frank Brickowski</td>\n",
       "      <td>66</td>\n",
       "      <td>31.4</td>\n",
       "      <td>19.4</td>\n",
       "      <td>7.0</td>\n",
       "      <td>3.4</td>\n",
       "      <td>0.8</td>\n",
       "      <td>-3.5</td>\n",
       "    </tr>\n",
       "    <tr>\n",
       "      <th>31032</th>\n",
       "      <td>1992</td>\n",
       "      <td>3</td>\n",
       "      <td>0</td>\n",
       "      <td>32</td>\n",
       "      <td>15.2</td>\n",
       "      <td>3.5</td>\n",
       "      <td>7.4</td>\n",
       "      <td>Michael Adams</td>\n",
       "      <td>70</td>\n",
       "      <td>35.7</td>\n",
       "      <td>14.9</td>\n",
       "      <td>3.4</td>\n",
       "      <td>7.6</td>\n",
       "      <td>0.6</td>\n",
       "      <td>3.9</td>\n",
       "    </tr>\n",
       "    <tr>\n",
       "      <th>32212</th>\n",
       "      <td>1993</td>\n",
       "      <td>3</td>\n",
       "      <td>0</td>\n",
       "      <td>35</td>\n",
       "      <td>13.7</td>\n",
       "      <td>9.4</td>\n",
       "      <td>2.3</td>\n",
       "      <td>Otis Thorpe</td>\n",
       "      <td>82</td>\n",
       "      <td>35.5</td>\n",
       "      <td>14.2</td>\n",
       "      <td>10.7</td>\n",
       "      <td>2.3</td>\n",
       "      <td>1.8</td>\n",
       "      <td>-7.1</td>\n",
       "    </tr>\n",
       "    <tr>\n",
       "      <th>31962</th>\n",
       "      <td>1993</td>\n",
       "      <td>3</td>\n",
       "      <td>2</td>\n",
       "      <td>56</td>\n",
       "      <td>18.8</td>\n",
       "      <td>6.1</td>\n",
       "      <td>3.3</td>\n",
       "      <td>Ron Harper</td>\n",
       "      <td>75</td>\n",
       "      <td>38.1</td>\n",
       "      <td>19.0</td>\n",
       "      <td>5.8</td>\n",
       "      <td>4.3</td>\n",
       "      <td>1.5</td>\n",
       "      <td>-2.8</td>\n",
       "    </tr>\n",
       "    <tr>\n",
       "      <th>32532</th>\n",
       "      <td>1993</td>\n",
       "      <td>3</td>\n",
       "      <td>1</td>\n",
       "      <td>35</td>\n",
       "      <td>14.8</td>\n",
       "      <td>3.6</td>\n",
       "      <td>7.0</td>\n",
       "      <td>Nick Van Exel</td>\n",
       "      <td>81</td>\n",
       "      <td>33.3</td>\n",
       "      <td>14.7</td>\n",
       "      <td>3.1</td>\n",
       "      <td>6.3</td>\n",
       "      <td>1.3</td>\n",
       "      <td>3.4</td>\n",
       "    </tr>\n",
       "    <tr>\n",
       "      <th>33822</th>\n",
       "      <td>1994</td>\n",
       "      <td>3</td>\n",
       "      <td>0</td>\n",
       "      <td>42</td>\n",
       "      <td>13.6</td>\n",
       "      <td>8.8</td>\n",
       "      <td>2.0</td>\n",
       "      <td>Grant Long</td>\n",
       "      <td>81</td>\n",
       "      <td>32.6</td>\n",
       "      <td>12.8</td>\n",
       "      <td>8.3</td>\n",
       "      <td>1.8</td>\n",
       "      <td>1.5</td>\n",
       "      <td>-6.8</td>\n",
       "    </tr>\n",
       "    <tr>\n",
       "      <th>33222</th>\n",
       "      <td>1994</td>\n",
       "      <td>3</td>\n",
       "      <td>2</td>\n",
       "      <td>56</td>\n",
       "      <td>18.7</td>\n",
       "      <td>5.8</td>\n",
       "      <td>3.2</td>\n",
       "      <td>Grant Hill</td>\n",
       "      <td>70</td>\n",
       "      <td>38.3</td>\n",
       "      <td>18.7</td>\n",
       "      <td>6.0</td>\n",
       "      <td>4.7</td>\n",
       "      <td>1.7</td>\n",
       "      <td>-2.6</td>\n",
       "    </tr>\n",
       "    <tr>\n",
       "      <th>33712</th>\n",
       "      <td>1994</td>\n",
       "      <td>3</td>\n",
       "      <td>1</td>\n",
       "      <td>26</td>\n",
       "      <td>14.7</td>\n",
       "      <td>3.4</td>\n",
       "      <td>7.5</td>\n",
       "      <td>Scott Skiles</td>\n",
       "      <td>62</td>\n",
       "      <td>33.5</td>\n",
       "      <td>14.0</td>\n",
       "      <td>2.8</td>\n",
       "      <td>7.8</td>\n",
       "      <td>1.6</td>\n",
       "      <td>4.1</td>\n",
       "    </tr>\n",
       "    <tr>\n",
       "      <th>35452</th>\n",
       "      <td>1995</td>\n",
       "      <td>3</td>\n",
       "      <td>1</td>\n",
       "      <td>51</td>\n",
       "      <td>13.4</td>\n",
       "      <td>7.6</td>\n",
       "      <td>2.2</td>\n",
       "      <td>Kevin Garnett</td>\n",
       "      <td>80</td>\n",
       "      <td>28.7</td>\n",
       "      <td>13.0</td>\n",
       "      <td>7.9</td>\n",
       "      <td>2.3</td>\n",
       "      <td>0.8</td>\n",
       "      <td>-5.4</td>\n",
       "    </tr>\n",
       "    <tr>\n",
       "      <th>34402</th>\n",
       "      <td>1995</td>\n",
       "      <td>3</td>\n",
       "      <td>2</td>\n",
       "      <td>38</td>\n",
       "      <td>19.8</td>\n",
       "      <td>6.4</td>\n",
       "      <td>3.2</td>\n",
       "      <td>Juwan Howard</td>\n",
       "      <td>81</td>\n",
       "      <td>40.7</td>\n",
       "      <td>19.5</td>\n",
       "      <td>7.2</td>\n",
       "      <td>3.9</td>\n",
       "      <td>1.8</td>\n",
       "      <td>-3.2</td>\n",
       "    </tr>\n",
       "    <tr>\n",
       "      <th>35482</th>\n",
       "      <td>1995</td>\n",
       "      <td>3</td>\n",
       "      <td>0</td>\n",
       "      <td>36</td>\n",
       "      <td>15.6</td>\n",
       "      <td>3.5</td>\n",
       "      <td>6.9</td>\n",
       "      <td>B.J. Armstrong</td>\n",
       "      <td>82</td>\n",
       "      <td>27.6</td>\n",
       "      <td>16.0</td>\n",
       "      <td>2.9</td>\n",
       "      <td>6.4</td>\n",
       "      <td>1.5</td>\n",
       "      <td>3.4</td>\n",
       "    </tr>\n",
       "    <tr>\n",
       "      <th>36542</th>\n",
       "      <td>1996</td>\n",
       "      <td>3</td>\n",
       "      <td>1</td>\n",
       "      <td>45</td>\n",
       "      <td>14.9</td>\n",
       "      <td>9.3</td>\n",
       "      <td>2.1</td>\n",
       "      <td>Shawn Bradley</td>\n",
       "      <td>73</td>\n",
       "      <td>31.4</td>\n",
       "      <td>15.1</td>\n",
       "      <td>9.6</td>\n",
       "      <td>0.8</td>\n",
       "      <td>1.8</td>\n",
       "      <td>-7.2</td>\n",
       "    </tr>\n",
       "    <tr>\n",
       "      <th>36382</th>\n",
       "      <td>1996</td>\n",
       "      <td>3</td>\n",
       "      <td>0</td>\n",
       "      <td>56</td>\n",
       "      <td>16.1</td>\n",
       "      <td>4.4</td>\n",
       "      <td>2.9</td>\n",
       "      <td>Michael Finley</td>\n",
       "      <td>83</td>\n",
       "      <td>33.6</td>\n",
       "      <td>16.1</td>\n",
       "      <td>4.8</td>\n",
       "      <td>2.9</td>\n",
       "      <td>0.4</td>\n",
       "      <td>-1.5</td>\n",
       "    </tr>\n",
       "    <tr>\n",
       "      <th>35922</th>\n",
       "      <td>1996</td>\n",
       "      <td>3</td>\n",
       "      <td>2</td>\n",
       "      <td>27</td>\n",
       "      <td>16.2</td>\n",
       "      <td>3.9</td>\n",
       "      <td>6.9</td>\n",
       "      <td>Kenny Anderson</td>\n",
       "      <td>82</td>\n",
       "      <td>37.6</td>\n",
       "      <td>16.8</td>\n",
       "      <td>4.2</td>\n",
       "      <td>6.8</td>\n",
       "      <td>1.0</td>\n",
       "      <td>3.0</td>\n",
       "    </tr>\n",
       "    <tr>\n",
       "      <th>37292</th>\n",
       "      <td>1997</td>\n",
       "      <td>3</td>\n",
       "      <td>1</td>\n",
       "      <td>50</td>\n",
       "      <td>15.0</td>\n",
       "      <td>9.4</td>\n",
       "      <td>2.2</td>\n",
       "      <td>Donyell Marshall</td>\n",
       "      <td>73</td>\n",
       "      <td>35.8</td>\n",
       "      <td>15.5</td>\n",
       "      <td>8.6</td>\n",
       "      <td>2.2</td>\n",
       "      <td>1.3</td>\n",
       "      <td>-7.2</td>\n",
       "    </tr>\n",
       "    <tr>\n",
       "      <th>37122</th>\n",
       "      <td>1997</td>\n",
       "      <td>3</td>\n",
       "      <td>2</td>\n",
       "      <td>59</td>\n",
       "      <td>16.1</td>\n",
       "      <td>4.5</td>\n",
       "      <td>3.1</td>\n",
       "      <td>Doug Christie</td>\n",
       "      <td>78</td>\n",
       "      <td>37.7</td>\n",
       "      <td>15.8</td>\n",
       "      <td>5.0</td>\n",
       "      <td>3.4</td>\n",
       "      <td>1.1</td>\n",
       "      <td>-1.4</td>\n",
       "    </tr>\n",
       "    <tr>\n",
       "      <th>36952</th>\n",
       "      <td>1997</td>\n",
       "      <td>3</td>\n",
       "      <td>0</td>\n",
       "      <td>19</td>\n",
       "      <td>13.9</td>\n",
       "      <td>3.9</td>\n",
       "      <td>7.5</td>\n",
       "      <td>Damon Stoudamire</td>\n",
       "      <td>71</td>\n",
       "      <td>40.0</td>\n",
       "      <td>15.6</td>\n",
       "      <td>3.8</td>\n",
       "      <td>7.4</td>\n",
       "      <td>1.9</td>\n",
       "      <td>3.6</td>\n",
       "    </tr>\n",
       "    <tr>\n",
       "      <th>39312</th>\n",
       "      <td>1998</td>\n",
       "      <td>3</td>\n",
       "      <td>2</td>\n",
       "      <td>47</td>\n",
       "      <td>15.1</td>\n",
       "      <td>9.5</td>\n",
       "      <td>2.0</td>\n",
       "      <td>Donyell Marshall</td>\n",
       "      <td>48</td>\n",
       "      <td>26.0</td>\n",
       "      <td>15.2</td>\n",
       "      <td>9.8</td>\n",
       "      <td>1.9</td>\n",
       "      <td>0.5</td>\n",
       "      <td>-7.5</td>\n",
       "    </tr>\n",
       "    <tr>\n",
       "      <th>39242</th>\n",
       "      <td>1998</td>\n",
       "      <td>3</td>\n",
       "      <td>1</td>\n",
       "      <td>57</td>\n",
       "      <td>15.2</td>\n",
       "      <td>4.6</td>\n",
       "      <td>2.9</td>\n",
       "      <td>Sam Mitchell</td>\n",
       "      <td>50</td>\n",
       "      <td>26.9</td>\n",
       "      <td>15.0</td>\n",
       "      <td>4.8</td>\n",
       "      <td>2.7</td>\n",
       "      <td>0.6</td>\n",
       "      <td>-1.7</td>\n",
       "    </tr>\n",
       "    <tr>\n",
       "      <th>38742</th>\n",
       "      <td>1998</td>\n",
       "      <td>3</td>\n",
       "      <td>0</td>\n",
       "      <td>21</td>\n",
       "      <td>13.4</td>\n",
       "      <td>3.8</td>\n",
       "      <td>7.2</td>\n",
       "      <td>Damon Stoudamire</td>\n",
       "      <td>50</td>\n",
       "      <td>33.5</td>\n",
       "      <td>13.5</td>\n",
       "      <td>3.5</td>\n",
       "      <td>6.7</td>\n",
       "      <td>0.9</td>\n",
       "      <td>3.4</td>\n",
       "    </tr>\n",
       "    <tr>\n",
       "      <th>40342</th>\n",
       "      <td>1999</td>\n",
       "      <td>3</td>\n",
       "      <td>1</td>\n",
       "      <td>43</td>\n",
       "      <td>15.4</td>\n",
       "      <td>9.5</td>\n",
       "      <td>2.2</td>\n",
       "      <td>Raef LaFrentz</td>\n",
       "      <td>81</td>\n",
       "      <td>30.1</td>\n",
       "      <td>14.8</td>\n",
       "      <td>9.4</td>\n",
       "      <td>1.4</td>\n",
       "      <td>1.5</td>\n",
       "      <td>-7.3</td>\n",
       "    </tr>\n",
       "    <tr>\n",
       "      <th>39672</th>\n",
       "      <td>1999</td>\n",
       "      <td>3</td>\n",
       "      <td>0</td>\n",
       "      <td>59</td>\n",
       "      <td>16.6</td>\n",
       "      <td>5.0</td>\n",
       "      <td>3.3</td>\n",
       "      <td>Jamal Mashburn</td>\n",
       "      <td>76</td>\n",
       "      <td>37.2</td>\n",
       "      <td>16.9</td>\n",
       "      <td>4.8</td>\n",
       "      <td>3.8</td>\n",
       "      <td>1.0</td>\n",
       "      <td>-1.7</td>\n",
       "    </tr>\n",
       "    <tr>\n",
       "      <th>40162</th>\n",
       "      <td>1999</td>\n",
       "      <td>3</td>\n",
       "      <td>2</td>\n",
       "      <td>22</td>\n",
       "      <td>14.7</td>\n",
       "      <td>3.9</td>\n",
       "      <td>7.7</td>\n",
       "      <td>Rod Strickland</td>\n",
       "      <td>69</td>\n",
       "      <td>31.7</td>\n",
       "      <td>14.3</td>\n",
       "      <td>4.3</td>\n",
       "      <td>8.5</td>\n",
       "      <td>1.6</td>\n",
       "      <td>3.8</td>\n",
       "    </tr>\n",
       "    <tr>\n",
       "      <th>41662</th>\n",
       "      <td>2000</td>\n",
       "      <td>3</td>\n",
       "      <td>2</td>\n",
       "      <td>37</td>\n",
       "      <td>12.8</td>\n",
       "      <td>9.0</td>\n",
       "      <td>1.8</td>\n",
       "      <td>Aaron Williams</td>\n",
       "      <td>82</td>\n",
       "      <td>28.5</td>\n",
       "      <td>12.9</td>\n",
       "      <td>9.1</td>\n",
       "      <td>1.4</td>\n",
       "      <td>0.6</td>\n",
       "      <td>-7.2</td>\n",
       "    </tr>\n",
       "    <tr>\n",
       "      <th>40912</th>\n",
       "      <td>2000</td>\n",
       "      <td>3</td>\n",
       "      <td>1</td>\n",
       "      <td>49</td>\n",
       "      <td>18.9</td>\n",
       "      <td>5.8</td>\n",
       "      <td>3.2</td>\n",
       "      <td>Peja Stojakovic</td>\n",
       "      <td>75</td>\n",
       "      <td>38.7</td>\n",
       "      <td>19.0</td>\n",
       "      <td>5.4</td>\n",
       "      <td>2.0</td>\n",
       "      <td>1.7</td>\n",
       "      <td>-2.6</td>\n",
       "    </tr>\n",
       "    <tr>\n",
       "      <th>41372</th>\n",
       "      <td>2000</td>\n",
       "      <td>3</td>\n",
       "      <td>0</td>\n",
       "      <td>35</td>\n",
       "      <td>14.4</td>\n",
       "      <td>3.9</td>\n",
       "      <td>6.2</td>\n",
       "      <td>Damon Stoudamire</td>\n",
       "      <td>82</td>\n",
       "      <td>32.4</td>\n",
       "      <td>14.4</td>\n",
       "      <td>4.1</td>\n",
       "      <td>6.3</td>\n",
       "      <td>0.3</td>\n",
       "      <td>2.3</td>\n",
       "    </tr>\n",
       "    <tr>\n",
       "      <th>42042</th>\n",
       "      <td>2001</td>\n",
       "      <td>3</td>\n",
       "      <td>1</td>\n",
       "      <td>45</td>\n",
       "      <td>13.8</td>\n",
       "      <td>8.6</td>\n",
       "      <td>1.9</td>\n",
       "      <td>Antonio Davis</td>\n",
       "      <td>77</td>\n",
       "      <td>38.7</td>\n",
       "      <td>13.5</td>\n",
       "      <td>8.9</td>\n",
       "      <td>1.9</td>\n",
       "      <td>0.6</td>\n",
       "      <td>-6.7</td>\n",
       "    </tr>\n",
       "    <tr>\n",
       "      <th>42392</th>\n",
       "      <td>2001</td>\n",
       "      <td>3</td>\n",
       "      <td>2</td>\n",
       "      <td>31</td>\n",
       "      <td>20.8</td>\n",
       "      <td>6.3</td>\n",
       "      <td>3.5</td>\n",
       "      <td>Glenn Robinson</td>\n",
       "      <td>66</td>\n",
       "      <td>35.5</td>\n",
       "      <td>21.0</td>\n",
       "      <td>6.3</td>\n",
       "      <td>2.5</td>\n",
       "      <td>1.2</td>\n",
       "      <td>-2.8</td>\n",
       "    </tr>\n",
       "    <tr>\n",
       "      <th>42522</th>\n",
       "      <td>2001</td>\n",
       "      <td>3</td>\n",
       "      <td>0</td>\n",
       "      <td>45</td>\n",
       "      <td>14.4</td>\n",
       "      <td>3.9</td>\n",
       "      <td>5.7</td>\n",
       "      <td>Darrell Armstrong</td>\n",
       "      <td>82</td>\n",
       "      <td>33.3</td>\n",
       "      <td>13.4</td>\n",
       "      <td>4.2</td>\n",
       "      <td>5.9</td>\n",
       "      <td>1.5</td>\n",
       "      <td>1.8</td>\n",
       "    </tr>\n",
       "    <tr>\n",
       "      <th>43912</th>\n",
       "      <td>2002</td>\n",
       "      <td>3</td>\n",
       "      <td>0</td>\n",
       "      <td>45</td>\n",
       "      <td>12.7</td>\n",
       "      <td>7.9</td>\n",
       "      <td>2.0</td>\n",
       "      <td>Rasho Nesterovic</td>\n",
       "      <td>77</td>\n",
       "      <td>30.4</td>\n",
       "      <td>13.3</td>\n",
       "      <td>7.7</td>\n",
       "      <td>1.8</td>\n",
       "      <td>1.0</td>\n",
       "      <td>-5.9</td>\n",
       "    </tr>\n",
       "    <tr>\n",
       "      <th>43392</th>\n",
       "      <td>2002</td>\n",
       "      <td>3</td>\n",
       "      <td>1</td>\n",
       "      <td>36</td>\n",
       "      <td>20.2</td>\n",
       "      <td>7.1</td>\n",
       "      <td>3.1</td>\n",
       "      <td>Glenn Robinson</td>\n",
       "      <td>69</td>\n",
       "      <td>37.6</td>\n",
       "      <td>19.9</td>\n",
       "      <td>6.3</td>\n",
       "      <td>2.9</td>\n",
       "      <td>1.3</td>\n",
       "      <td>-4.0</td>\n",
       "    </tr>\n",
       "    <tr>\n",
       "      <th>43632</th>\n",
       "      <td>2002</td>\n",
       "      <td>3</td>\n",
       "      <td>2</td>\n",
       "      <td>44</td>\n",
       "      <td>14.9</td>\n",
       "      <td>3.9</td>\n",
       "      <td>5.3</td>\n",
       "      <td>Derek Anderson</td>\n",
       "      <td>76</td>\n",
       "      <td>33.6</td>\n",
       "      <td>14.9</td>\n",
       "      <td>3.8</td>\n",
       "      <td>4.6</td>\n",
       "      <td>0.8</td>\n",
       "      <td>1.4</td>\n",
       "    </tr>\n",
       "    <tr>\n",
       "      <th>45092</th>\n",
       "      <td>2003</td>\n",
       "      <td>3</td>\n",
       "      <td>1</td>\n",
       "      <td>44</td>\n",
       "      <td>12.1</td>\n",
       "      <td>7.4</td>\n",
       "      <td>2.2</td>\n",
       "      <td>Nene</td>\n",
       "      <td>77</td>\n",
       "      <td>32.5</td>\n",
       "      <td>13.1</td>\n",
       "      <td>7.2</td>\n",
       "      <td>2.4</td>\n",
       "      <td>1.4</td>\n",
       "      <td>-5.2</td>\n",
       "    </tr>\n",
       "    <tr>\n",
       "      <th>45152</th>\n",
       "      <td>2003</td>\n",
       "      <td>3</td>\n",
       "      <td>2</td>\n",
       "      <td>43</td>\n",
       "      <td>19.0</td>\n",
       "      <td>7.4</td>\n",
       "      <td>2.7</td>\n",
       "      <td>Shareef Abdur-Rahim</td>\n",
       "      <td>85</td>\n",
       "      <td>31.6</td>\n",
       "      <td>18.6</td>\n",
       "      <td>8.5</td>\n",
       "      <td>2.3</td>\n",
       "      <td>1.9</td>\n",
       "      <td>-4.7</td>\n",
       "    </tr>\n",
       "    <tr>\n",
       "      <th>44982</th>\n",
       "      <td>2003</td>\n",
       "      <td>3</td>\n",
       "      <td>0</td>\n",
       "      <td>41</td>\n",
       "      <td>15.4</td>\n",
       "      <td>3.9</td>\n",
       "      <td>5.4</td>\n",
       "      <td>Tony Parker</td>\n",
       "      <td>75</td>\n",
       "      <td>34.4</td>\n",
       "      <td>15.4</td>\n",
       "      <td>3.3</td>\n",
       "      <td>5.8</td>\n",
       "      <td>1.0</td>\n",
       "      <td>1.5</td>\n",
       "    </tr>\n",
       "    <tr>\n",
       "      <th>46732</th>\n",
       "      <td>2004</td>\n",
       "      <td>3</td>\n",
       "      <td>1</td>\n",
       "      <td>56</td>\n",
       "      <td>13.6</td>\n",
       "      <td>7.7</td>\n",
       "      <td>2.1</td>\n",
       "      <td>Nenad Krstic</td>\n",
       "      <td>75</td>\n",
       "      <td>26.2</td>\n",
       "      <td>13.7</td>\n",
       "      <td>7.3</td>\n",
       "      <td>1.4</td>\n",
       "      <td>1.2</td>\n",
       "      <td>-5.6</td>\n",
       "    </tr>\n",
       "    <tr>\n",
       "      <th>45852</th>\n",
       "      <td>2004</td>\n",
       "      <td>3</td>\n",
       "      <td>0</td>\n",
       "      <td>36</td>\n",
       "      <td>20.8</td>\n",
       "      <td>6.1</td>\n",
       "      <td>3.6</td>\n",
       "      <td>Jason Richardson</td>\n",
       "      <td>72</td>\n",
       "      <td>37.8</td>\n",
       "      <td>20.7</td>\n",
       "      <td>5.6</td>\n",
       "      <td>3.7</td>\n",
       "      <td>0.7</td>\n",
       "      <td>-2.5</td>\n",
       "    </tr>\n",
       "    <tr>\n",
       "      <th>46522</th>\n",
       "      <td>2004</td>\n",
       "      <td>3</td>\n",
       "      <td>2</td>\n",
       "      <td>29</td>\n",
       "      <td>14.8</td>\n",
       "      <td>3.4</td>\n",
       "      <td>6.3</td>\n",
       "      <td>Jason Terry</td>\n",
       "      <td>80</td>\n",
       "      <td>30.0</td>\n",
       "      <td>14.9</td>\n",
       "      <td>2.9</td>\n",
       "      <td>6.5</td>\n",
       "      <td>0.8</td>\n",
       "      <td>2.9</td>\n",
       "    </tr>\n",
       "    <tr>\n",
       "      <th>47532</th>\n",
       "      <td>2005</td>\n",
       "      <td>3</td>\n",
       "      <td>1</td>\n",
       "      <td>56</td>\n",
       "      <td>14.9</td>\n",
       "      <td>8.2</td>\n",
       "      <td>2.1</td>\n",
       "      <td>Luol Deng</td>\n",
       "      <td>78</td>\n",
       "      <td>33.4</td>\n",
       "      <td>15.4</td>\n",
       "      <td>7.1</td>\n",
       "      <td>2.0</td>\n",
       "      <td>1.7</td>\n",
       "      <td>-6.1</td>\n",
       "    </tr>\n",
       "    <tr>\n",
       "      <th>47002</th>\n",
       "      <td>2005</td>\n",
       "      <td>3</td>\n",
       "      <td>0</td>\n",
       "      <td>21</td>\n",
       "      <td>22.8</td>\n",
       "      <td>4.4</td>\n",
       "      <td>4.9</td>\n",
       "      <td>Ray Allen</td>\n",
       "      <td>78</td>\n",
       "      <td>38.7</td>\n",
       "      <td>23.3</td>\n",
       "      <td>4.0</td>\n",
       "      <td>3.4</td>\n",
       "      <td>2.4</td>\n",
       "      <td>0.5</td>\n",
       "    </tr>\n",
       "    <tr>\n",
       "      <th>47442</th>\n",
       "      <td>2005</td>\n",
       "      <td>3</td>\n",
       "      <td>2</td>\n",
       "      <td>54</td>\n",
       "      <td>13.6</td>\n",
       "      <td>3.9</td>\n",
       "      <td>4.4</td>\n",
       "      <td>Delonte West</td>\n",
       "      <td>71</td>\n",
       "      <td>34.1</td>\n",
       "      <td>12.5</td>\n",
       "      <td>4.3</td>\n",
       "      <td>4.9</td>\n",
       "      <td>2.0</td>\n",
       "      <td>0.5</td>\n",
       "    </tr>\n",
       "    <tr>\n",
       "      <th>49452</th>\n",
       "      <td>2006</td>\n",
       "      <td>3</td>\n",
       "      <td>0</td>\n",
       "      <td>53</td>\n",
       "      <td>13.5</td>\n",
       "      <td>7.3</td>\n",
       "      <td>2.0</td>\n",
       "      <td>Shareef Abdur-Rahim</td>\n",
       "      <td>80</td>\n",
       "      <td>25.2</td>\n",
       "      <td>14.1</td>\n",
       "      <td>7.1</td>\n",
       "      <td>2.0</td>\n",
       "      <td>0.8</td>\n",
       "      <td>-5.3</td>\n",
       "    </tr>\n",
       "    <tr>\n",
       "      <th>49072</th>\n",
       "      <td>2006</td>\n",
       "      <td>3</td>\n",
       "      <td>1</td>\n",
       "      <td>35</td>\n",
       "      <td>21.4</td>\n",
       "      <td>7.0</td>\n",
       "      <td>3.2</td>\n",
       "      <td>Corey Maggette</td>\n",
       "      <td>75</td>\n",
       "      <td>30.5</td>\n",
       "      <td>19.9</td>\n",
       "      <td>7.0</td>\n",
       "      <td>3.3</td>\n",
       "      <td>1.6</td>\n",
       "      <td>-3.8</td>\n",
       "    </tr>\n",
       "    <tr>\n",
       "      <th>49082</th>\n",
       "      <td>2006</td>\n",
       "      <td>3</td>\n",
       "      <td>2</td>\n",
       "      <td>44</td>\n",
       "      <td>15.6</td>\n",
       "      <td>3.6</td>\n",
       "      <td>5.8</td>\n",
       "      <td>Jameer Nelson</td>\n",
       "      <td>77</td>\n",
       "      <td>30.3</td>\n",
       "      <td>15.4</td>\n",
       "      <td>3.7</td>\n",
       "      <td>5.1</td>\n",
       "      <td>1.0</td>\n",
       "      <td>2.2</td>\n",
       "    </tr>\n",
       "    <tr>\n",
       "      <th>49772</th>\n",
       "      <td>2007</td>\n",
       "      <td>3</td>\n",
       "      <td>2</td>\n",
       "      <td>33</td>\n",
       "      <td>14.9</td>\n",
       "      <td>10.5</td>\n",
       "      <td>1.9</td>\n",
       "      <td>Shawn Marion</td>\n",
       "      <td>63</td>\n",
       "      <td>36.7</td>\n",
       "      <td>15.1</td>\n",
       "      <td>10.0</td>\n",
       "      <td>2.2</td>\n",
       "      <td>1.0</td>\n",
       "      <td>-8.6</td>\n",
       "    </tr>\n",
       "    <tr>\n",
       "      <th>49592</th>\n",
       "      <td>2007</td>\n",
       "      <td>3</td>\n",
       "      <td>1</td>\n",
       "      <td>72</td>\n",
       "      <td>17.8</td>\n",
       "      <td>5.2</td>\n",
       "      <td>3.0</td>\n",
       "      <td>Gerald Wallace</td>\n",
       "      <td>62</td>\n",
       "      <td>38.3</td>\n",
       "      <td>18.2</td>\n",
       "      <td>5.6</td>\n",
       "      <td>3.3</td>\n",
       "      <td>1.1</td>\n",
       "      <td>-2.2</td>\n",
       "    </tr>\n",
       "    <tr>\n",
       "      <th>49762</th>\n",
       "      <td>2007</td>\n",
       "      <td>3</td>\n",
       "      <td>0</td>\n",
       "      <td>27</td>\n",
       "      <td>14.9</td>\n",
       "      <td>3.9</td>\n",
       "      <td>6.9</td>\n",
       "      <td>Andre Miller</td>\n",
       "      <td>82</td>\n",
       "      <td>36.8</td>\n",
       "      <td>16.6</td>\n",
       "      <td>3.9</td>\n",
       "      <td>6.8</td>\n",
       "      <td>1.8</td>\n",
       "      <td>3.0</td>\n",
       "    </tr>\n",
       "    <tr>\n",
       "      <th>51802</th>\n",
       "      <td>2008</td>\n",
       "      <td>3</td>\n",
       "      <td>0</td>\n",
       "      <td>61</td>\n",
       "      <td>15.0</td>\n",
       "      <td>7.9</td>\n",
       "      <td>2.0</td>\n",
       "      <td>Jermaine O'Neal</td>\n",
       "      <td>68</td>\n",
       "      <td>29.8</td>\n",
       "      <td>16.1</td>\n",
       "      <td>7.7</td>\n",
       "      <td>2.2</td>\n",
       "      <td>1.5</td>\n",
       "      <td>-5.9</td>\n",
       "    </tr>\n",
       "    <tr>\n",
       "      <th>51792</th>\n",
       "      <td>2008</td>\n",
       "      <td>3</td>\n",
       "      <td>1</td>\n",
       "      <td>32</td>\n",
       "      <td>20.7</td>\n",
       "      <td>4.7</td>\n",
       "      <td>3.9</td>\n",
       "      <td>Nate Robinson</td>\n",
       "      <td>74</td>\n",
       "      <td>29.9</td>\n",
       "      <td>20.7</td>\n",
       "      <td>4.7</td>\n",
       "      <td>4.9</td>\n",
       "      <td>1.0</td>\n",
       "      <td>-0.8</td>\n",
       "    </tr>\n",
       "    <tr>\n",
       "      <th>51652</th>\n",
       "      <td>2008</td>\n",
       "      <td>3</td>\n",
       "      <td>2</td>\n",
       "      <td>40</td>\n",
       "      <td>14.5</td>\n",
       "      <td>3.8</td>\n",
       "      <td>5.9</td>\n",
       "      <td>Rodney Stuckey</td>\n",
       "      <td>79</td>\n",
       "      <td>31.9</td>\n",
       "      <td>15.1</td>\n",
       "      <td>3.9</td>\n",
       "      <td>5.5</td>\n",
       "      <td>1.1</td>\n",
       "      <td>2.1</td>\n",
       "    </tr>\n",
       "    <tr>\n",
       "      <th>53082</th>\n",
       "      <td>2009</td>\n",
       "      <td>3</td>\n",
       "      <td>1</td>\n",
       "      <td>47</td>\n",
       "      <td>16.7</td>\n",
       "      <td>9.6</td>\n",
       "      <td>2.1</td>\n",
       "      <td>Mehmet Okur</td>\n",
       "      <td>73</td>\n",
       "      <td>29.4</td>\n",
       "      <td>16.5</td>\n",
       "      <td>8.7</td>\n",
       "      <td>2.0</td>\n",
       "      <td>1.2</td>\n",
       "      <td>-7.5</td>\n",
       "    </tr>\n",
       "    <tr>\n",
       "      <th>52912</th>\n",
       "      <td>2009</td>\n",
       "      <td>3</td>\n",
       "      <td>0</td>\n",
       "      <td>46</td>\n",
       "      <td>13.1</td>\n",
       "      <td>5.0</td>\n",
       "      <td>2.7</td>\n",
       "      <td>Richard Jefferson</td>\n",
       "      <td>81</td>\n",
       "      <td>31.1</td>\n",
       "      <td>14.2</td>\n",
       "      <td>5.1</td>\n",
       "      <td>2.3</td>\n",
       "      <td>1.6</td>\n",
       "      <td>-2.3</td>\n",
       "    </tr>\n",
       "    <tr>\n",
       "      <th>52292</th>\n",
       "      <td>2009</td>\n",
       "      <td>3</td>\n",
       "      <td>2</td>\n",
       "      <td>41</td>\n",
       "      <td>19.1</td>\n",
       "      <td>4.3</td>\n",
       "      <td>5.7</td>\n",
       "      <td>Tyreke Evans</td>\n",
       "      <td>72</td>\n",
       "      <td>37.2</td>\n",
       "      <td>19.5</td>\n",
       "      <td>5.1</td>\n",
       "      <td>5.6</td>\n",
       "      <td>1.3</td>\n",
       "      <td>1.4</td>\n",
       "    </tr>\n",
       "    <tr>\n",
       "      <th>54302</th>\n",
       "      <td>2010</td>\n",
       "      <td>3</td>\n",
       "      <td>1</td>\n",
       "      <td>46</td>\n",
       "      <td>17.5</td>\n",
       "      <td>9.4</td>\n",
       "      <td>2.2</td>\n",
       "      <td>Nene</td>\n",
       "      <td>75</td>\n",
       "      <td>30.5</td>\n",
       "      <td>17.1</td>\n",
       "      <td>9.0</td>\n",
       "      <td>2.4</td>\n",
       "      <td>1.0</td>\n",
       "      <td>-7.2</td>\n",
       "    </tr>\n",
       "    <tr>\n",
       "      <th>54222</th>\n",
       "      <td>2010</td>\n",
       "      <td>3</td>\n",
       "      <td>0</td>\n",
       "      <td>48</td>\n",
       "      <td>14.1</td>\n",
       "      <td>4.7</td>\n",
       "      <td>2.5</td>\n",
       "      <td>Nicolas Batum</td>\n",
       "      <td>80</td>\n",
       "      <td>31.5</td>\n",
       "      <td>14.2</td>\n",
       "      <td>5.1</td>\n",
       "      <td>1.7</td>\n",
       "      <td>1.3</td>\n",
       "      <td>-2.2</td>\n",
       "    </tr>\n",
       "    <tr>\n",
       "      <th>54642</th>\n",
       "      <td>2010</td>\n",
       "      <td>3</td>\n",
       "      <td>2</td>\n",
       "      <td>39</td>\n",
       "      <td>17.5</td>\n",
       "      <td>4.0</td>\n",
       "      <td>6.8</td>\n",
       "      <td>Ramon Sessions</td>\n",
       "      <td>81</td>\n",
       "      <td>26.3</td>\n",
       "      <td>18.2</td>\n",
       "      <td>4.2</td>\n",
       "      <td>7.1</td>\n",
       "      <td>1.2</td>\n",
       "      <td>2.8</td>\n",
       "    </tr>\n",
       "    <tr>\n",
       "      <th>54862</th>\n",
       "      <td>2011</td>\n",
       "      <td>3</td>\n",
       "      <td>1</td>\n",
       "      <td>32</td>\n",
       "      <td>20.0</td>\n",
       "      <td>9.2</td>\n",
       "      <td>2.6</td>\n",
       "      <td>David Lee</td>\n",
       "      <td>57</td>\n",
       "      <td>37.2</td>\n",
       "      <td>19.5</td>\n",
       "      <td>9.3</td>\n",
       "      <td>2.7</td>\n",
       "      <td>0.7</td>\n",
       "      <td>-6.6</td>\n",
       "    </tr>\n",
       "    <tr>\n",
       "      <th>55762</th>\n",
       "      <td>2011</td>\n",
       "      <td>3</td>\n",
       "      <td>0</td>\n",
       "      <td>48</td>\n",
       "      <td>13.7</td>\n",
       "      <td>6.3</td>\n",
       "      <td>2.2</td>\n",
       "      <td>Dorell Wright</td>\n",
       "      <td>61</td>\n",
       "      <td>27.0</td>\n",
       "      <td>13.7</td>\n",
       "      <td>6.1</td>\n",
       "      <td>2.0</td>\n",
       "      <td>0.4</td>\n",
       "      <td>-4.1</td>\n",
       "    </tr>\n",
       "    <tr>\n",
       "      <th>55932</th>\n",
       "      <td>2011</td>\n",
       "      <td>3</td>\n",
       "      <td>2</td>\n",
       "      <td>40</td>\n",
       "      <td>16.1</td>\n",
       "      <td>3.7</td>\n",
       "      <td>6.2</td>\n",
       "      <td>Isaiah Thomas</td>\n",
       "      <td>65</td>\n",
       "      <td>25.5</td>\n",
       "      <td>16.2</td>\n",
       "      <td>3.7</td>\n",
       "      <td>5.8</td>\n",
       "      <td>0.5</td>\n",
       "      <td>2.5</td>\n",
       "    </tr>\n",
       "    <tr>\n",
       "      <th>56872</th>\n",
       "      <td>2012</td>\n",
       "      <td>3</td>\n",
       "      <td>1</td>\n",
       "      <td>44</td>\n",
       "      <td>15.4</td>\n",
       "      <td>9.9</td>\n",
       "      <td>2.2</td>\n",
       "      <td>Roy Hibbert</td>\n",
       "      <td>79</td>\n",
       "      <td>28.7</td>\n",
       "      <td>14.9</td>\n",
       "      <td>10.4</td>\n",
       "      <td>1.8</td>\n",
       "      <td>1.4</td>\n",
       "      <td>-7.7</td>\n",
       "    </tr>\n",
       "    <tr>\n",
       "      <th>56992</th>\n",
       "      <td>2012</td>\n",
       "      <td>3</td>\n",
       "      <td>0</td>\n",
       "      <td>54</td>\n",
       "      <td>14.4</td>\n",
       "      <td>4.6</td>\n",
       "      <td>3.0</td>\n",
       "      <td>Jared Dudley</td>\n",
       "      <td>79</td>\n",
       "      <td>27.5</td>\n",
       "      <td>14.3</td>\n",
       "      <td>4.1</td>\n",
       "      <td>3.4</td>\n",
       "      <td>1.0</td>\n",
       "      <td>-1.6</td>\n",
       "    </tr>\n",
       "    <tr>\n",
       "      <th>57232</th>\n",
       "      <td>2012</td>\n",
       "      <td>3</td>\n",
       "      <td>2</td>\n",
       "      <td>32</td>\n",
       "      <td>18.9</td>\n",
       "      <td>4.1</td>\n",
       "      <td>6.7</td>\n",
       "      <td>Nate Robinson</td>\n",
       "      <td>82</td>\n",
       "      <td>25.4</td>\n",
       "      <td>18.6</td>\n",
       "      <td>3.1</td>\n",
       "      <td>6.2</td>\n",
       "      <td>1.8</td>\n",
       "      <td>2.6</td>\n",
       "    </tr>\n",
       "    <tr>\n",
       "      <th>58382</th>\n",
       "      <td>2013</td>\n",
       "      <td>3</td>\n",
       "      <td>0</td>\n",
       "      <td>40</td>\n",
       "      <td>17.8</td>\n",
       "      <td>10.4</td>\n",
       "      <td>2.3</td>\n",
       "      <td>Carlos Boozer</td>\n",
       "      <td>76</td>\n",
       "      <td>28.2</td>\n",
       "      <td>17.5</td>\n",
       "      <td>10.6</td>\n",
       "      <td>2.0</td>\n",
       "      <td>0.8</td>\n",
       "      <td>-8.1</td>\n",
       "    </tr>\n",
       "    <tr>\n",
       "      <th>58182</th>\n",
       "      <td>2013</td>\n",
       "      <td>3</td>\n",
       "      <td>2</td>\n",
       "      <td>68</td>\n",
       "      <td>14.7</td>\n",
       "      <td>5.1</td>\n",
       "      <td>2.8</td>\n",
       "      <td>Khris Middleton</td>\n",
       "      <td>82</td>\n",
       "      <td>30.0</td>\n",
       "      <td>14.5</td>\n",
       "      <td>4.6</td>\n",
       "      <td>2.5</td>\n",
       "      <td>1.0</td>\n",
       "      <td>-2.3</td>\n",
       "    </tr>\n",
       "    <tr>\n",
       "      <th>57732</th>\n",
       "      <td>2013</td>\n",
       "      <td>3</td>\n",
       "      <td>1</td>\n",
       "      <td>36</td>\n",
       "      <td>18.3</td>\n",
       "      <td>3.9</td>\n",
       "      <td>6.5</td>\n",
       "      <td>Mike Conley</td>\n",
       "      <td>73</td>\n",
       "      <td>33.5</td>\n",
       "      <td>18.5</td>\n",
       "      <td>3.1</td>\n",
       "      <td>6.4</td>\n",
       "      <td>1.1</td>\n",
       "      <td>2.6</td>\n",
       "    </tr>\n",
       "    <tr>\n",
       "      <th>59832</th>\n",
       "      <td>2014</td>\n",
       "      <td>3</td>\n",
       "      <td>0</td>\n",
       "      <td>41</td>\n",
       "      <td>16.4</td>\n",
       "      <td>10.6</td>\n",
       "      <td>2.2</td>\n",
       "      <td>Jordan Hill</td>\n",
       "      <td>70</td>\n",
       "      <td>26.8</td>\n",
       "      <td>16.1</td>\n",
       "      <td>10.6</td>\n",
       "      <td>2.0</td>\n",
       "      <td>0.5</td>\n",
       "      <td>-8.4</td>\n",
       "    </tr>\n",
       "    <tr>\n",
       "      <th>59682</th>\n",
       "      <td>2014</td>\n",
       "      <td>3</td>\n",
       "      <td>2</td>\n",
       "      <td>58</td>\n",
       "      <td>14.3</td>\n",
       "      <td>5.2</td>\n",
       "      <td>2.6</td>\n",
       "      <td>Danny Green</td>\n",
       "      <td>81</td>\n",
       "      <td>28.5</td>\n",
       "      <td>14.8</td>\n",
       "      <td>5.3</td>\n",
       "      <td>2.5</td>\n",
       "      <td>0.7</td>\n",
       "      <td>-2.6</td>\n",
       "    </tr>\n",
       "    <tr>\n",
       "      <th>59162</th>\n",
       "      <td>2014</td>\n",
       "      <td>3</td>\n",
       "      <td>1</td>\n",
       "      <td>40</td>\n",
       "      <td>19.2</td>\n",
       "      <td>4.5</td>\n",
       "      <td>6.3</td>\n",
       "      <td>Brandon Knight</td>\n",
       "      <td>63</td>\n",
       "      <td>32.3</td>\n",
       "      <td>18.9</td>\n",
       "      <td>4.3</td>\n",
       "      <td>5.8</td>\n",
       "      <td>1.0</td>\n",
       "      <td>1.8</td>\n",
       "    </tr>\n",
       "    <tr>\n",
       "      <th>60502</th>\n",
       "      <td>2015</td>\n",
       "      <td>3</td>\n",
       "      <td>0</td>\n",
       "      <td>47</td>\n",
       "      <td>16.8</td>\n",
       "      <td>10.1</td>\n",
       "      <td>2.2</td>\n",
       "      <td>Thaddeus Young</td>\n",
       "      <td>73</td>\n",
       "      <td>33.0</td>\n",
       "      <td>16.5</td>\n",
       "      <td>9.8</td>\n",
       "      <td>2.1</td>\n",
       "      <td>0.7</td>\n",
       "      <td>-7.9</td>\n",
       "    </tr>\n",
       "    <tr>\n",
       "      <th>60202</th>\n",
       "      <td>2015</td>\n",
       "      <td>3</td>\n",
       "      <td>1</td>\n",
       "      <td>57</td>\n",
       "      <td>14.4</td>\n",
       "      <td>4.6</td>\n",
       "      <td>3.0</td>\n",
       "      <td>Marcus Morris Sr.</td>\n",
       "      <td>80</td>\n",
       "      <td>35.7</td>\n",
       "      <td>14.2</td>\n",
       "      <td>5.1</td>\n",
       "      <td>2.5</td>\n",
       "      <td>1.2</td>\n",
       "      <td>-1.6</td>\n",
       "    </tr>\n",
       "    <tr>\n",
       "      <th>60122</th>\n",
       "      <td>2015</td>\n",
       "      <td>3</td>\n",
       "      <td>2</td>\n",
       "      <td>33</td>\n",
       "      <td>20.5</td>\n",
       "      <td>5.1</td>\n",
       "      <td>6.7</td>\n",
       "      <td>Kyle Lowry</td>\n",
       "      <td>77</td>\n",
       "      <td>37.0</td>\n",
       "      <td>20.6</td>\n",
       "      <td>4.6</td>\n",
       "      <td>6.2</td>\n",
       "      <td>1.1</td>\n",
       "      <td>1.6</td>\n",
       "    </tr>\n",
       "    <tr>\n",
       "      <th>62412</th>\n",
       "      <td>2016</td>\n",
       "      <td>3</td>\n",
       "      <td>0</td>\n",
       "      <td>34</td>\n",
       "      <td>16.4</td>\n",
       "      <td>10.5</td>\n",
       "      <td>2.2</td>\n",
       "      <td>Julius Randle</td>\n",
       "      <td>74</td>\n",
       "      <td>28.8</td>\n",
       "      <td>16.5</td>\n",
       "      <td>10.8</td>\n",
       "      <td>4.5</td>\n",
       "      <td>2.7</td>\n",
       "      <td>-8.3</td>\n",
       "    </tr>\n",
       "    <tr>\n",
       "      <th>62592</th>\n",
       "      <td>2016</td>\n",
       "      <td>3</td>\n",
       "      <td>1</td>\n",
       "      <td>70</td>\n",
       "      <td>14.1</td>\n",
       "      <td>4.9</td>\n",
       "      <td>3.3</td>\n",
       "      <td>Kent Bazemore</td>\n",
       "      <td>73</td>\n",
       "      <td>26.9</td>\n",
       "      <td>14.7</td>\n",
       "      <td>4.3</td>\n",
       "      <td>3.2</td>\n",
       "      <td>1.3</td>\n",
       "      <td>-1.6</td>\n",
       "    </tr>\n",
       "    <tr>\n",
       "      <th>61512</th>\n",
       "      <td>2016</td>\n",
       "      <td>3</td>\n",
       "      <td>2</td>\n",
       "      <td>40</td>\n",
       "      <td>23.1</td>\n",
       "      <td>5.5</td>\n",
       "      <td>6.0</td>\n",
       "      <td>Jimmy Butler</td>\n",
       "      <td>76</td>\n",
       "      <td>37.0</td>\n",
       "      <td>23.3</td>\n",
       "      <td>6.0</td>\n",
       "      <td>5.4</td>\n",
       "      <td>1.3</td>\n",
       "      <td>0.5</td>\n",
       "    </tr>\n",
       "    <tr>\n",
       "      <th>64022</th>\n",
       "      <td>2017</td>\n",
       "      <td>3</td>\n",
       "      <td>1</td>\n",
       "      <td>23</td>\n",
       "      <td>19.7</td>\n",
       "      <td>11.5</td>\n",
       "      <td>2.8</td>\n",
       "      <td>Jusuf Nurkic</td>\n",
       "      <td>79</td>\n",
       "      <td>26.4</td>\n",
       "      <td>19.5</td>\n",
       "      <td>12.3</td>\n",
       "      <td>2.5</td>\n",
       "      <td>1.3</td>\n",
       "      <td>-8.7</td>\n",
       "    </tr>\n",
       "    <tr>\n",
       "      <th>63242</th>\n",
       "      <td>2017</td>\n",
       "      <td>3</td>\n",
       "      <td>0</td>\n",
       "      <td>78</td>\n",
       "      <td>15.2</td>\n",
       "      <td>5.4</td>\n",
       "      <td>2.7</td>\n",
       "      <td>Kentavious Caldwell-Pope</td>\n",
       "      <td>74</td>\n",
       "      <td>33.2</td>\n",
       "      <td>14.5</td>\n",
       "      <td>5.6</td>\n",
       "      <td>2.4</td>\n",
       "      <td>1.2</td>\n",
       "      <td>-2.7</td>\n",
       "    </tr>\n",
       "    <tr>\n",
       "      <th>63502</th>\n",
       "      <td>2017</td>\n",
       "      <td>3</td>\n",
       "      <td>2</td>\n",
       "      <td>33</td>\n",
       "      <td>20.1</td>\n",
       "      <td>5.3</td>\n",
       "      <td>6.8</td>\n",
       "      <td>Eric Bledsoe</td>\n",
       "      <td>74</td>\n",
       "      <td>31.4</td>\n",
       "      <td>20.3</td>\n",
       "      <td>4.4</td>\n",
       "      <td>5.7</td>\n",
       "      <td>2.2</td>\n",
       "      <td>1.5</td>\n",
       "    </tr>\n",
       "    <tr>\n",
       "      <th>64882</th>\n",
       "      <td>2018</td>\n",
       "      <td>3</td>\n",
       "      <td>2</td>\n",
       "      <td>29</td>\n",
       "      <td>19.7</td>\n",
       "      <td>11.4</td>\n",
       "      <td>3.0</td>\n",
       "      <td>Deandre Ayton</td>\n",
       "      <td>71</td>\n",
       "      <td>30.7</td>\n",
       "      <td>19.1</td>\n",
       "      <td>12.1</td>\n",
       "      <td>2.1</td>\n",
       "      <td>2.2</td>\n",
       "      <td>-8.4</td>\n",
       "    </tr>\n",
       "    <tr>\n",
       "      <th>64662</th>\n",
       "      <td>2018</td>\n",
       "      <td>3</td>\n",
       "      <td>1</td>\n",
       "      <td>71</td>\n",
       "      <td>15.6</td>\n",
       "      <td>5.2</td>\n",
       "      <td>3.2</td>\n",
       "      <td>Cedi Osman</td>\n",
       "      <td>76</td>\n",
       "      <td>32.2</td>\n",
       "      <td>14.5</td>\n",
       "      <td>5.3</td>\n",
       "      <td>2.9</td>\n",
       "      <td>1.5</td>\n",
       "      <td>-2.0</td>\n",
       "    </tr>\n",
       "    <tr>\n",
       "      <th>64352</th>\n",
       "      <td>2018</td>\n",
       "      <td>3</td>\n",
       "      <td>0</td>\n",
       "      <td>36</td>\n",
       "      <td>22.8</td>\n",
       "      <td>5.7</td>\n",
       "      <td>6.7</td>\n",
       "      <td>DeMar DeRozan</td>\n",
       "      <td>77</td>\n",
       "      <td>34.9</td>\n",
       "      <td>21.9</td>\n",
       "      <td>6.2</td>\n",
       "      <td>6.4</td>\n",
       "      <td>1.7</td>\n",
       "      <td>1.0</td>\n",
       "    </tr>\n",
       "    <tr>\n",
       "      <th>66172</th>\n",
       "      <td>2019</td>\n",
       "      <td>3</td>\n",
       "      <td>2</td>\n",
       "      <td>19</td>\n",
       "      <td>20.2</td>\n",
       "      <td>12.4</td>\n",
       "      <td>3.4</td>\n",
       "      <td>Kevin Love</td>\n",
       "      <td>56</td>\n",
       "      <td>31.8</td>\n",
       "      <td>19.9</td>\n",
       "      <td>11.1</td>\n",
       "      <td>3.6</td>\n",
       "      <td>1.8</td>\n",
       "      <td>-9.0</td>\n",
       "    </tr>\n",
       "    <tr>\n",
       "      <th>66672</th>\n",
       "      <td>2019</td>\n",
       "      <td>3</td>\n",
       "      <td>0</td>\n",
       "      <td>78</td>\n",
       "      <td>16.0</td>\n",
       "      <td>5.5</td>\n",
       "      <td>2.8</td>\n",
       "      <td>Jeremy Lamb</td>\n",
       "      <td>46</td>\n",
       "      <td>28.1</td>\n",
       "      <td>16.0</td>\n",
       "      <td>5.5</td>\n",
       "      <td>2.7</td>\n",
       "      <td>0.1</td>\n",
       "      <td>-2.7</td>\n",
       "    </tr>\n",
       "    <tr>\n",
       "      <th>65902</th>\n",
       "      <td>2019</td>\n",
       "      <td>3</td>\n",
       "      <td>1</td>\n",
       "      <td>40</td>\n",
       "      <td>23.0</td>\n",
       "      <td>5.4</td>\n",
       "      <td>6.8</td>\n",
       "      <td>DeMar DeRozan</td>\n",
       "      <td>61</td>\n",
       "      <td>34.3</td>\n",
       "      <td>23.3</td>\n",
       "      <td>5.9</td>\n",
       "      <td>5.9</td>\n",
       "      <td>1.7</td>\n",
       "      <td>1.4</td>\n",
       "    </tr>\n",
       "  </tbody>\n",
       "</table>\n",
       "</div>"
      ],
      "text/plain": [
       "       year  n_clusters  cluster  n_players  PTS_cluster  REB_cluster  \\\n",
       "292    1951           3        1         23         13.8         10.2   \n",
       "352    1951           3        0         21         11.5          5.1   \n",
       "422    1951           3        2          7         13.1          4.7   \n",
       "1012   1952           3        2         15         15.6          9.9   \n",
       "832    1952           3        0         16         10.1          8.4   \n",
       "892    1952           3        1         21         12.1          4.3   \n",
       "1142   1953           3        2          8         16.5         11.9   \n",
       "1332   1953           3        0         14         10.8          8.5   \n",
       "1262   1953           3        1         22         11.7          4.1   \n",
       "1732   1954           3        2         11         18.2         12.1   \n",
       "1702   1954           3        1         22         13.6          6.8   \n",
       "1482   1954           3        0          9         12.9          4.3   \n",
       "1982   1955           3        0          9         20.7         12.7   \n",
       "2192   1955           3        1         16         14.8          8.9   \n",
       "1892   1955           3        2         13         13.1          4.6   \n",
       "2332   1956           3        1          8         21.6         12.0   \n",
       "2502   1956           3        2         14         14.1         10.4   \n",
       "2622   1956           3        0         15         14.0          4.7   \n",
       "3042   1957           3        2          8         14.2         14.1   \n",
       "2822   1957           3        1         18         20.8         10.9   \n",
       "3012   1957           3        0         16         13.4          5.4   \n",
       "3382   1958           3        1         12         15.6         11.8   \n",
       "3152   1958           3        2         11         22.6         10.1   \n",
       "3102   1958           3        0         12         13.6          5.0   \n",
       "3612   1959           3        0         11         16.7         12.9   \n",
       "3592   1959           3        1         13         24.2         11.7   \n",
       "3632   1959           3        2         14         14.9          5.9   \n",
       "3962   1960           3        2          8         15.7         13.2   \n",
       "4022   1960           3        1         11         24.4         12.8   \n",
       "4172   1960           3        0         20         17.5          6.0   \n",
       "4202   1961           3        0          5         29.7         15.5   \n",
       "4402   1961           3        1         17         18.0         11.5   \n",
       "4282   1961           3        2         21         17.2          5.6   \n",
       "4692   1962           3        0          5         27.8         13.8   \n",
       "4792   1962           3        1         19         17.8         10.8   \n",
       "4972   1962           3        2         18         16.8          4.9   \n",
       "5132   1963           3        0         14         15.9         12.6   \n",
       "5402   1963           3        1         14         22.8          8.2   \n",
       "5252   1963           3        2         14         13.8          4.8   \n",
       "5742   1964           3        1         22         15.7         12.2   \n",
       "5502   1964           3        0          6         25.1          8.8   \n",
       "5832   1964           3        2         15         16.5          4.2   \n",
       "6042   1965           3        1         20         16.8         12.3   \n",
       "6122   1965           3        0         10         22.3          5.5   \n",
       "5952   1965           3        2         11         16.5          4.4   \n",
       "6362   1966           3        1         19         16.1         12.7   \n",
       "6622   1966           3        0         18         22.1          6.7   \n",
       "6482   1966           3        2          9         16.9          4.0   \n",
       "6892   1967           3        0         17         20.2         11.8   \n",
       "6972   1967           3        2         19         14.0         11.4   \n",
       "6882   1967           3        1         20         20.3          4.6   \n",
       "7782   1968           3        0         16         13.7         13.5   \n",
       "7482   1968           3        1         18         20.6          9.8   \n",
       "7802   1968           3        2         31         17.8          4.7   \n",
       "8212   1969           3        0         16         14.4         12.0   \n",
       "8542   1969           3        2         22         20.8          9.3   \n",
       "8202   1969           3        1         28         18.7          4.0   \n",
       "9012   1970           3        2         23         14.5         11.8   \n",
       "9052   1970           3        1         18         21.0          9.2   \n",
       "9132   1970           3        0         37         18.3          4.3   \n",
       "9632   1971           3        0         23         14.3         11.8   \n",
       "9752   1971           3        2         18         21.9          8.3   \n",
       "9992   1971           3        1         36         17.1          4.2   \n",
       "10522  1972           3        2         28         14.0         11.4   \n",
       "10452  1972           3        0         18         21.3          7.2   \n",
       "10312  1972           3        1         30         17.0          4.5   \n",
       "11432  1973           3        1         30         13.3         10.4   \n",
       "11302  1973           3        2         27         20.8          6.8   \n",
       "11382  1973           3        0         25         16.4          4.2   \n",
       "12392  1974           3        0         32         12.8         10.0   \n",
       "12192  1974           3        2         24         21.0          7.2   \n",
       "12502  1974           3        1         28         15.7          3.6   \n",
       "13082  1975           3        0         22         19.5          9.8   \n",
       "12742  1975           3        2         28         13.0          8.1   \n",
       "12782  1975           3        1         32         17.7          4.0   \n",
       "14322  1976           3        0         44         16.0         10.1   \n",
       "14332  1976           3        1         34         20.0          4.7   \n",
       "13932  1976           3        2         17         12.1          3.7   \n",
       "15022  1977           3        1         45         16.5         10.6   \n",
       "14772  1977           3        0         36         20.7          4.4   \n",
       "15012  1977           3        2         18         12.2          3.7   \n",
       "16262  1978           3        1         50         16.5          9.9   \n",
       "15642  1978           3        2         25         22.2          4.5   \n",
       "15852  1978           3        0         23         14.9          3.2   \n",
       "16762  1979           3        0         41         15.6          9.7   \n",
       "17112  1979           3        2         31         22.3          5.4   \n",
       "17172  1979           3        1         25         14.3          4.2   \n",
       "17852  1980           3        0         46         16.2          9.1   \n",
       "17402  1980           3        2         33         21.9          4.9   \n",
       "17722  1980           3        1         22         14.8          3.6   \n",
       "18452  1981           3        0         46         15.8          9.0   \n",
       "18502  1981           3        2         23         23.5          6.0   \n",
       "19232  1981           3        1         28         15.1          3.5   \n",
       "20152  1982           3        2         42         15.5          9.5   \n",
       "19492  1982           3        0         40         21.9          5.9   \n",
       "19832  1982           3        1         22         15.0          3.5   \n",
       "21022  1983           3        1         47         15.9          9.2   \n",
       "20542  1983           3        0         39         22.2          5.2   \n",
       "20722  1983           3        2         21         14.9          3.1   \n",
       "22192  1984           3        1         41         15.9          9.6   \n",
       "21550  1984           3        2         37         22.5          5.4   \n",
       "21532  1984           3        0         33         15.3          3.6   \n",
       "22972  1985           3        1         43         16.4          9.5   \n",
       "23012  1985           3        0         34         22.2          5.1   \n",
       "23392  1985           3        2         30         15.5          3.7   \n",
       "23722  1986           3        0         41         16.0          9.8   \n",
       "24342  1986           3        1         31         22.7          5.3   \n",
       "23662  1986           3        2         28         15.1          3.9   \n",
       "25442  1987           3        1         45         15.6          9.2   \n",
       "24972  1987           3        0         30         22.8          5.8   \n",
       "25262  1987           3        2         27         15.0          3.9   \n",
       "25732  1988           3        1         46         15.9          9.4   \n",
       "26262  1988           3        2         41         21.6          5.4   \n",
       "26282  1988           3        0         32         15.7          4.3   \n",
       "27972  1989           3        1         43         14.6          9.5   \n",
       "27162  1989           3        0         54         20.3          5.8   \n",
       "27192  1989           3        2         31         14.4          4.0   \n",
       "29212  1990           3        1         36         13.2          9.6   \n",
       "29342  1990           3        2         58         19.9          6.2   \n",
       "28652  1990           3        0         38         15.8          3.9   \n",
       "30512  1991           3        1         54         15.4          9.5   \n",
       "30182  1991           3        0         45         19.2          4.6   \n",
       "29932  1991           3        2         24         15.1          3.5   \n",
       "31752  1992           3        1         32         12.8          9.7   \n",
       "31372  1992           3        2         58         19.5          6.6   \n",
       "31032  1992           3        0         32         15.2          3.5   \n",
       "32212  1993           3        0         35         13.7          9.4   \n",
       "31962  1993           3        2         56         18.8          6.1   \n",
       "32532  1993           3        1         35         14.8          3.6   \n",
       "33822  1994           3        0         42         13.6          8.8   \n",
       "33222  1994           3        2         56         18.7          5.8   \n",
       "33712  1994           3        1         26         14.7          3.4   \n",
       "35452  1995           3        1         51         13.4          7.6   \n",
       "34402  1995           3        2         38         19.8          6.4   \n",
       "35482  1995           3        0         36         15.6          3.5   \n",
       "36542  1996           3        1         45         14.9          9.3   \n",
       "36382  1996           3        0         56         16.1          4.4   \n",
       "35922  1996           3        2         27         16.2          3.9   \n",
       "37292  1997           3        1         50         15.0          9.4   \n",
       "37122  1997           3        2         59         16.1          4.5   \n",
       "36952  1997           3        0         19         13.9          3.9   \n",
       "39312  1998           3        2         47         15.1          9.5   \n",
       "39242  1998           3        1         57         15.2          4.6   \n",
       "38742  1998           3        0         21         13.4          3.8   \n",
       "40342  1999           3        1         43         15.4          9.5   \n",
       "39672  1999           3        0         59         16.6          5.0   \n",
       "40162  1999           3        2         22         14.7          3.9   \n",
       "41662  2000           3        2         37         12.8          9.0   \n",
       "40912  2000           3        1         49         18.9          5.8   \n",
       "41372  2000           3        0         35         14.4          3.9   \n",
       "42042  2001           3        1         45         13.8          8.6   \n",
       "42392  2001           3        2         31         20.8          6.3   \n",
       "42522  2001           3        0         45         14.4          3.9   \n",
       "43912  2002           3        0         45         12.7          7.9   \n",
       "43392  2002           3        1         36         20.2          7.1   \n",
       "43632  2002           3        2         44         14.9          3.9   \n",
       "45092  2003           3        1         44         12.1          7.4   \n",
       "45152  2003           3        2         43         19.0          7.4   \n",
       "44982  2003           3        0         41         15.4          3.9   \n",
       "46732  2004           3        1         56         13.6          7.7   \n",
       "45852  2004           3        0         36         20.8          6.1   \n",
       "46522  2004           3        2         29         14.8          3.4   \n",
       "47532  2005           3        1         56         14.9          8.2   \n",
       "47002  2005           3        0         21         22.8          4.4   \n",
       "47442  2005           3        2         54         13.6          3.9   \n",
       "49452  2006           3        0         53         13.5          7.3   \n",
       "49072  2006           3        1         35         21.4          7.0   \n",
       "49082  2006           3        2         44         15.6          3.6   \n",
       "49772  2007           3        2         33         14.9         10.5   \n",
       "49592  2007           3        1         72         17.8          5.2   \n",
       "49762  2007           3        0         27         14.9          3.9   \n",
       "51802  2008           3        0         61         15.0          7.9   \n",
       "51792  2008           3        1         32         20.7          4.7   \n",
       "51652  2008           3        2         40         14.5          3.8   \n",
       "53082  2009           3        1         47         16.7          9.6   \n",
       "52912  2009           3        0         46         13.1          5.0   \n",
       "52292  2009           3        2         41         19.1          4.3   \n",
       "54302  2010           3        1         46         17.5          9.4   \n",
       "54222  2010           3        0         48         14.1          4.7   \n",
       "54642  2010           3        2         39         17.5          4.0   \n",
       "54862  2011           3        1         32         20.0          9.2   \n",
       "55762  2011           3        0         48         13.7          6.3   \n",
       "55932  2011           3        2         40         16.1          3.7   \n",
       "56872  2012           3        1         44         15.4          9.9   \n",
       "56992  2012           3        0         54         14.4          4.6   \n",
       "57232  2012           3        2         32         18.9          4.1   \n",
       "58382  2013           3        0         40         17.8         10.4   \n",
       "58182  2013           3        2         68         14.7          5.1   \n",
       "57732  2013           3        1         36         18.3          3.9   \n",
       "59832  2014           3        0         41         16.4         10.6   \n",
       "59682  2014           3        2         58         14.3          5.2   \n",
       "59162  2014           3        1         40         19.2          4.5   \n",
       "60502  2015           3        0         47         16.8         10.1   \n",
       "60202  2015           3        1         57         14.4          4.6   \n",
       "60122  2015           3        2         33         20.5          5.1   \n",
       "62412  2016           3        0         34         16.4         10.5   \n",
       "62592  2016           3        1         70         14.1          4.9   \n",
       "61512  2016           3        2         40         23.1          5.5   \n",
       "64022  2017           3        1         23         19.7         11.5   \n",
       "63242  2017           3        0         78         15.2          5.4   \n",
       "63502  2017           3        2         33         20.1          5.3   \n",
       "64882  2018           3        2         29         19.7         11.4   \n",
       "64662  2018           3        1         71         15.6          5.2   \n",
       "64352  2018           3        0         36         22.8          5.7   \n",
       "66172  2019           3        2         19         20.2         12.4   \n",
       "66672  2019           3        0         78         16.0          5.5   \n",
       "65902  2019           3        1         40         23.0          5.4   \n",
       "\n",
       "       AST_cluster                    player  GP   MIN  PTS_player  \\\n",
       "292            2.5             Don Barksdale  62  32.5        14.0   \n",
       "352            3.4                 Don Boven  66  30.0        11.9   \n",
       "422            5.7               George King  66  28.6        12.6   \n",
       "1012           2.6            Connie Simmons  65  26.3        15.3   \n",
       "832            2.4                 Bob Lavoy  70  33.2         9.5   \n",
       "892            3.9             Jim Baechtold  64  29.6        12.5   \n",
       "1142           2.3             Dolph Schayes  72  36.9        16.7   \n",
       "1332           2.3                Earl Lloyd  72  30.6        10.7   \n",
       "1262           4.0               George King  72  32.9        12.4   \n",
       "1732           2.2               Larry Foust  70  32.3        18.9   \n",
       "1702           3.3              Bobby Wanzer  72  33.0        14.3   \n",
       "1482           6.4              Paul Seymour  72  41.0        12.8   \n",
       "1982           2.8             Dolph Schayes  72  35.0        21.0   \n",
       "2192           2.9                Ed Fleming  71  28.6        15.7   \n",
       "1892           5.5               Jack George  72  39.4        12.7   \n",
       "2332           2.1             Neil Johnston  69  36.7        22.4   \n",
       "2502           2.1            Vern Mikkelsen  72  30.5        16.2   \n",
       "2622           4.0              Chuck Mencel  72  25.7        12.9   \n",
       "3042           2.3             Charlie Share  72  25.3        12.2   \n",
       "2822           2.2             Neil Johnston  71  33.9        20.7   \n",
       "3012           4.5               Jack George  72  26.5        12.1   \n",
       "3382           2.0               Larry Foust  72  26.8        16.5   \n",
       "3152           2.5               Cliff Hagan  72  37.5        22.8   \n",
       "3102           5.0            Larry Costello  70  39.3        14.5   \n",
       "3612           2.0               Johnny Kerr  75  31.6        16.7   \n",
       "3592           2.7              Tom Heinsohn  75  32.3        24.2   \n",
       "3632           5.3               Rod Hundley  73  31.2        14.8   \n",
       "3962           2.6               Johnny Kerr  79  33.9        14.2   \n",
       "4022           2.7          Clyde Lovellette  67  31.5        25.1   \n",
       "4172           5.3             Lenny Wilkens  75  25.3        16.6   \n",
       "4202           2.7              Elgin Baylor  48  44.4        31.1   \n",
       "4402           2.3              Rudy LaRusso  80  34.4        18.0   \n",
       "4282           5.3                 Gene Shue  80  39.3        17.4   \n",
       "4692           2.8                Bob Pettit  79  39.1        26.1   \n",
       "4792           2.4                 Ray Scott  76  33.4        17.5   \n",
       "4972           5.1            Larry Costello  78  26.5        14.9   \n",
       "5132           2.2               Johnny Kerr  80  36.7        16.5   \n",
       "5402           3.7              Tom Heinsohn  76  26.8        22.2   \n",
       "5252           4.7             Lenny Wilkens  78  32.4        13.3   \n",
       "5742           2.2               Wayne Embry  74  30.3        15.1   \n",
       "5502           4.3              Elgin Baylor  74  41.3        23.6   \n",
       "5832           4.1              Paul Neumann  76  26.8        17.1   \n",
       "6042           2.4          Dave DeBusschere  79  34.1        17.3   \n",
       "6122           3.6             John Havlicek  71  30.6        22.1   \n",
       "5952           6.1             Lenny Wilkens  69  39.0        16.6   \n",
       "6362           2.5              Bill Bridges  79  39.6        15.8   \n",
       "6622           3.1                Lou Hudson  80  30.6        21.6   \n",
       "6482           6.3            Howard Komives  65  35.1        16.1   \n",
       "6892           2.7               Zelmo Beaty  82  37.4        20.3   \n",
       "6972           2.4               Leroy Ellis  78  34.9        12.8   \n",
       "6882           4.6              Archie Clark  81  37.5        19.1   \n",
       "7782           2.6            Tom Boerwinkle  80  29.6        11.9   \n",
       "7482           2.4                 Don Kojis  81  38.6        21.0   \n",
       "7802           5.1               Jim Barnett  80  29.3        17.8   \n",
       "8212           2.7                Paul Silas  78  36.4        12.7   \n",
       "8542           2.5                Don Nelson  82  27.1        20.5   \n",
       "8202           5.5              Archie Clark  76  36.5        19.4   \n",
       "9012           2.9              Walt Bellamy  82  35.5        14.9   \n",
       "9052           2.6                   Don May  76  35.1        20.7   \n",
       "9132           5.2              Clem Haskins  82  33.7        19.0   \n",
       "9632           2.6          Dave DeBusschere  80  38.4        14.4   \n",
       "9752           3.1            Connie Hawkins  76  36.8        20.5   \n",
       "9992           5.0              Lucius Allen  80  29.0        16.8   \n",
       "10522          2.8                 Sam Lacey  79  37.1        13.1   \n",
       "10452          3.3                Rick Barry  82  37.5        21.4   \n",
       "10312          5.6                Jojo White  82  39.6        17.9   \n",
       "11432          2.6            Double D Davis  76  32.6        13.8   \n",
       "11302          3.4             Bob Dandridge  71  35.5        19.2   \n",
       "11382          5.5               Randy Smith  82  33.5        16.7   \n",
       "12392          2.7              Phil Jackson  78  29.3        13.3   \n",
       "12192          3.2               Chet Walker  76  32.3        21.4   \n",
       "12502          5.2             Tom Henderson  79  27.0        15.2   \n",
       "13082          2.5             Jamaal Wilkes  82  33.1        19.4   \n",
       "12742          2.9                 Steve Mix  81  37.5        13.3   \n",
       "12782          5.1               Mike Newlin  82  37.4        17.9   \n",
       "14322          2.5            Lonnie Shelton  82  25.7        16.2   \n",
       "14332          4.3              Ricky Sobers  79  25.4        19.3   \n",
       "13932          6.2                 Mike Gale  82  31.7        11.7   \n",
       "15022          2.8              Sidney Wicks  81  29.8        16.2   \n",
       "14772          4.2              Gus Williams  79  32.6        20.0   \n",
       "15012          6.5                 Mike Gale  70  29.9        11.0   \n",
       "16262          3.0               Kent Benson  82  26.0        17.0   \n",
       "15642          3.9             Otis Birdsong  82  34.6        22.6   \n",
       "15852          6.7                Rick Barry  80  32.1        15.1   \n",
       "16762          2.8               Dave Cowens  66  32.7        15.6   \n",
       "17112          3.7          Junior Bridgeman  81  28.6        22.2   \n",
       "17172          6.5             Allen Leavell  77  27.6        14.2   \n",
       "17852          2.8             Maurice Lucas  68  31.8        16.6   \n",
       "17402          3.6             Jamaal Wilkes  81  37.4        21.8   \n",
       "17722          6.5              Johnny Davis  76  33.4        15.5   \n",
       "18452          2.4               Elvin Hayes  82  37.0        15.7   \n",
       "18502          3.6              Bernard King  79  36.2        23.1   \n",
       "19232          6.7             Frank Johnson  79  25.7        15.0   \n",
       "20152          2.6               Elvin Hayes  81  28.4        16.4   \n",
       "19492          3.5              Purvis Short  67  35.8        21.5   \n",
       "19832          7.4               Darwin Cook  82  32.0        14.8   \n",
       "21022          2.5              Pat Cummings  80  31.2        15.1   \n",
       "20542          3.5             Eddie Johnson  82  35.6        22.1   \n",
       "20722          7.7            Maurice Cheeks  75  33.3        13.7   \n",
       "22192          2.3              Mike Gminski  81  29.9        15.4   \n",
       "21550          3.6             Eddie Johnson  82  36.9        22.3   \n",
       "21532          7.6            Dennis Johnson  80  37.2        15.2   \n",
       "22972          2.4               Sam Perkins  80  32.8        16.9   \n",
       "23012          3.5            Kelly Tripucka  81  32.4        22.2   \n",
       "23392          7.5              Derek Harper  79  27.2        16.1   \n",
       "23722          2.2             Robert Parish  80  37.4        16.8   \n",
       "24342          3.7             Eddie Johnson  81  30.3        22.2   \n",
       "23662          7.3            Maurice Cheeks  68  38.6        14.5   \n",
       "25442          2.1              Randy Breuer  81  27.9        15.5   \n",
       "24972          3.5           Xavier McDaniel  78  34.7        22.2   \n",
       "25262          8.0           Winston Garland  67  31.7        14.1   \n",
       "25732          2.1               Otis Thorpe  82  38.2        15.7   \n",
       "26262          3.3              Mark Aguirre  80  32.5        20.9   \n",
       "26282          7.8                Doc Rivers  76  32.4        15.1   \n",
       "27972          2.1            Billy Thompson  79  27.1        14.6   \n",
       "27162          3.2              Chuck Person  77  35.2        20.1   \n",
       "27192          7.8              Vern Fleming  82  35.1        14.7   \n",
       "29212          1.7              Mike Gminski  80  27.5        13.9   \n",
       "29342          2.9              Mark Aguirre  78  25.7        19.9   \n",
       "28652          7.2             Jay Humphries  80  34.1        16.0   \n",
       "30512          2.2            Kenny Gattison  82  27.1        16.9   \n",
       "30182          3.6             Tony Campbell  78  31.3        19.3   \n",
       "29932          8.0          Micheal Williams  79  34.8        15.5   \n",
       "31752          2.1                 Sam Bowie  79  26.5        12.4   \n",
       "31372          3.1          Frank Brickowski  66  31.4        19.4   \n",
       "31032          7.4             Michael Adams  70  35.7        14.9   \n",
       "32212          2.3               Otis Thorpe  82  35.5        14.2   \n",
       "31962          3.3                Ron Harper  75  38.1        19.0   \n",
       "32532          7.0             Nick Van Exel  81  33.3        14.7   \n",
       "33822          2.0                Grant Long  81  32.6        12.8   \n",
       "33222          3.2                Grant Hill  70  38.3        18.7   \n",
       "33712          7.5              Scott Skiles  62  33.5        14.0   \n",
       "35452          2.2             Kevin Garnett  80  28.7        13.0   \n",
       "34402          3.2              Juwan Howard  81  40.7        19.5   \n",
       "35482          6.9            B.J. Armstrong  82  27.6        16.0   \n",
       "36542          2.1             Shawn Bradley  73  31.4        15.1   \n",
       "36382          2.9            Michael Finley  83  33.6        16.1   \n",
       "35922          6.9            Kenny Anderson  82  37.6        16.8   \n",
       "37292          2.2          Donyell Marshall  73  35.8        15.5   \n",
       "37122          3.1             Doug Christie  78  37.7        15.8   \n",
       "36952          7.5          Damon Stoudamire  71  40.0        15.6   \n",
       "39312          2.0          Donyell Marshall  48  26.0        15.2   \n",
       "39242          2.9              Sam Mitchell  50  26.9        15.0   \n",
       "38742          7.2          Damon Stoudamire  50  33.5        13.5   \n",
       "40342          2.2             Raef LaFrentz  81  30.1        14.8   \n",
       "39672          3.3            Jamal Mashburn  76  37.2        16.9   \n",
       "40162          7.7            Rod Strickland  69  31.7        14.3   \n",
       "41662          1.8            Aaron Williams  82  28.5        12.9   \n",
       "40912          3.2           Peja Stojakovic  75  38.7        19.0   \n",
       "41372          6.2          Damon Stoudamire  82  32.4        14.4   \n",
       "42042          1.9             Antonio Davis  77  38.7        13.5   \n",
       "42392          3.5            Glenn Robinson  66  35.5        21.0   \n",
       "42522          5.7         Darrell Armstrong  82  33.3        13.4   \n",
       "43912          2.0          Rasho Nesterovic  77  30.4        13.3   \n",
       "43392          3.1            Glenn Robinson  69  37.6        19.9   \n",
       "43632          5.3            Derek Anderson  76  33.6        14.9   \n",
       "45092          2.2                      Nene  77  32.5        13.1   \n",
       "45152          2.7       Shareef Abdur-Rahim  85  31.6        18.6   \n",
       "44982          5.4               Tony Parker  75  34.4        15.4   \n",
       "46732          2.1              Nenad Krstic  75  26.2        13.7   \n",
       "45852          3.6          Jason Richardson  72  37.8        20.7   \n",
       "46522          6.3               Jason Terry  80  30.0        14.9   \n",
       "47532          2.1                 Luol Deng  78  33.4        15.4   \n",
       "47002          4.9                 Ray Allen  78  38.7        23.3   \n",
       "47442          4.4              Delonte West  71  34.1        12.5   \n",
       "49452          2.0       Shareef Abdur-Rahim  80  25.2        14.1   \n",
       "49072          3.2            Corey Maggette  75  30.5        19.9   \n",
       "49082          5.8             Jameer Nelson  77  30.3        15.4   \n",
       "49772          1.9              Shawn Marion  63  36.7        15.1   \n",
       "49592          3.0            Gerald Wallace  62  38.3        18.2   \n",
       "49762          6.9              Andre Miller  82  36.8        16.6   \n",
       "51802          2.0           Jermaine O'Neal  68  29.8        16.1   \n",
       "51792          3.9             Nate Robinson  74  29.9        20.7   \n",
       "51652          5.9            Rodney Stuckey  79  31.9        15.1   \n",
       "53082          2.1               Mehmet Okur  73  29.4        16.5   \n",
       "52912          2.7         Richard Jefferson  81  31.1        14.2   \n",
       "52292          5.7              Tyreke Evans  72  37.2        19.5   \n",
       "54302          2.2                      Nene  75  30.5        17.1   \n",
       "54222          2.5             Nicolas Batum  80  31.5        14.2   \n",
       "54642          6.8            Ramon Sessions  81  26.3        18.2   \n",
       "54862          2.6                 David Lee  57  37.2        19.5   \n",
       "55762          2.2             Dorell Wright  61  27.0        13.7   \n",
       "55932          6.2             Isaiah Thomas  65  25.5        16.2   \n",
       "56872          2.2               Roy Hibbert  79  28.7        14.9   \n",
       "56992          3.0              Jared Dudley  79  27.5        14.3   \n",
       "57232          6.7             Nate Robinson  82  25.4        18.6   \n",
       "58382          2.3             Carlos Boozer  76  28.2        17.5   \n",
       "58182          2.8           Khris Middleton  82  30.0        14.5   \n",
       "57732          6.5               Mike Conley  73  33.5        18.5   \n",
       "59832          2.2               Jordan Hill  70  26.8        16.1   \n",
       "59682          2.6               Danny Green  81  28.5        14.8   \n",
       "59162          6.3            Brandon Knight  63  32.3        18.9   \n",
       "60502          2.2            Thaddeus Young  73  33.0        16.5   \n",
       "60202          3.0         Marcus Morris Sr.  80  35.7        14.2   \n",
       "60122          6.7                Kyle Lowry  77  37.0        20.6   \n",
       "62412          2.2             Julius Randle  74  28.8        16.5   \n",
       "62592          3.3             Kent Bazemore  73  26.9        14.7   \n",
       "61512          6.0              Jimmy Butler  76  37.0        23.3   \n",
       "64022          2.8              Jusuf Nurkic  79  26.4        19.5   \n",
       "63242          2.7  Kentavious Caldwell-Pope  74  33.2        14.5   \n",
       "63502          6.8              Eric Bledsoe  74  31.4        20.3   \n",
       "64882          3.0             Deandre Ayton  71  30.7        19.1   \n",
       "64662          3.2                Cedi Osman  76  32.2        14.5   \n",
       "64352          6.7             DeMar DeRozan  77  34.9        21.9   \n",
       "66172          3.4                Kevin Love  56  31.8        19.9   \n",
       "66672          2.8               Jeremy Lamb  46  28.1        16.0   \n",
       "65902          6.8             DeMar DeRozan  61  34.3        23.3   \n",
       "\n",
       "       REB_player  AST_player  difference  ordering  \n",
       "292          10.7         2.4         0.8      -7.7  \n",
       "352           6.1         3.2         1.6      -1.7  \n",
       "422           5.3         4.7         2.1       1.0  \n",
       "1012          9.6         2.7         0.7      -7.3  \n",
       "832           8.1         2.1         1.2      -6.0  \n",
       "892           4.1         2.9         1.6      -0.4  \n",
       "1142         11.8         2.9         0.9      -9.6  \n",
       "1332          8.6         1.9         0.6      -6.2  \n",
       "1262          4.0         4.2         1.0      -0.1  \n",
       "1732         11.1         1.9         2.0      -9.9  \n",
       "1702          5.7         3.7         2.2      -3.5  \n",
       "1482          3.8         5.9         1.1       2.1  \n",
       "1982         12.8         2.9         0.5      -9.9  \n",
       "2192          8.7         3.5         1.7      -6.0  \n",
       "1892          3.9         5.8         1.4       0.9  \n",
       "2332         12.2         2.8         1.7      -9.9  \n",
       "2502         10.4         2.0         2.2      -8.3  \n",
       "2622          4.6         3.9         1.3      -0.7  \n",
       "3042         14.8         2.6         3.0     -11.8  \n",
       "2822         11.8         2.4         1.2      -8.7  \n",
       "3012          5.4         4.5         1.3      -0.9  \n",
       "3382         11.7         1.7         1.3      -9.8  \n",
       "3152         10.5         3.3         1.4      -7.6  \n",
       "3102          4.8         4.9         1.2       0.0  \n",
       "3612         13.9         2.5         1.5     -10.9  \n",
       "3592         11.8         2.6         0.2      -9.0  \n",
       "3632          6.1         5.3         0.3      -0.6  \n",
       "3962         12.7         2.7         2.1     -10.6  \n",
       "4022         11.5         3.0         2.3     -10.1  \n",
       "4172          6.4         4.0         2.6      -0.7  \n",
       "4202         15.1         3.7         2.8     -12.8  \n",
       "4402         10.9         2.3         0.6      -9.2  \n",
       "4282          4.3         5.3         1.5      -0.3  \n",
       "4692         13.9         2.9         1.9     -11.0  \n",
       "4792         11.0         2.7         0.8      -8.4  \n",
       "4972          4.1         5.8         3.4       0.2  \n",
       "5132         12.5         3.3         1.8     -10.4  \n",
       "5402          8.2         3.2         1.1      -4.5  \n",
       "5252          4.8         5.1         0.9      -0.1  \n",
       "5742         11.9         1.4         1.7     -10.0  \n",
       "5502         11.2         3.3         4.9      -4.5  \n",
       "5832          3.5         4.2         1.4      -0.1  \n",
       "6042         12.2         2.7         0.9      -9.9  \n",
       "6122          7.1         3.5         1.9      -1.9  \n",
       "5952          4.3         5.7         0.6       1.7  \n",
       "6362         13.7         2.5         1.3     -10.2  \n",
       "6622          6.4         1.4         2.5      -3.6  \n",
       "6482          2.9         6.4         2.0       2.3  \n",
       "6892         11.3         2.0         1.3      -9.1  \n",
       "6972         11.4         2.1         1.5      -9.0  \n",
       "6882          4.0         4.2         2.2       0.0  \n",
       "7782         13.5         2.7         1.9     -10.9  \n",
       "7482          9.0         2.4         1.2      -7.4  \n",
       "7802          5.5         5.2         0.9       0.4  \n",
       "8212         11.6         2.7         2.1      -9.3  \n",
       "8542          9.7         2.4         0.8      -6.8  \n",
       "8202          3.9         4.9         1.4       1.5  \n",
       "9012         13.1         2.8         1.8      -8.9  \n",
       "9052          7.7         2.1         2.3      -6.6  \n",
       "9132          4.3         5.0         0.9       0.9  \n",
       "9632         10.6         3.4         2.1      -9.2  \n",
       "9752          8.1         3.8         2.3      -5.2  \n",
       "9992          4.0         5.2         0.7       0.8  \n",
       "10522        11.5         2.3         1.5      -8.6  \n",
       "10452         8.5         4.7         2.8      -3.9  \n",
       "10312         4.5         5.5         1.0       1.1  \n",
       "11432         9.4         2.7         1.6      -7.8  \n",
       "11302         6.8         2.8         2.2      -3.4  \n",
       "11382         4.1         5.1         0.8       1.3  \n",
       "12392         9.5         2.1         1.6      -7.3  \n",
       "12192         6.4         2.5         1.9      -4.0  \n",
       "12502         3.6         5.3         0.6       1.6  \n",
       "13082         9.6         2.2         0.6      -7.3  \n",
       "12742         7.9         2.6         0.8      -5.2  \n",
       "12782         3.9         5.4         0.6       1.1  \n",
       "14322        10.8         2.5         0.9      -7.6  \n",
       "14332         4.3         4.3         1.1      -0.4  \n",
       "13932         3.7         6.6         0.8       2.5  \n",
       "15022        10.0         2.5         1.2      -7.8  \n",
       "14772         3.5         4.1         1.7      -0.2  \n",
       "15012         3.9         6.5         1.4       2.8  \n",
       "16262         9.8         3.5         1.1      -6.9  \n",
       "15642         4.5         3.5         0.8      -0.6  \n",
       "15852         3.9         7.1         1.3       3.5  \n",
       "16762         8.9         3.4         1.4      -6.9  \n",
       "17112         4.7         3.7         0.8      -1.7  \n",
       "17172         3.1         7.0         1.7       2.3  \n",
       "17852         9.6         2.8         0.9      -6.3  \n",
       "17402         5.2         2.8         1.2      -1.3  \n",
       "17722         2.4         6.8         2.2       2.9  \n",
       "18452         8.9         1.8         0.8      -6.6  \n",
       "18502         5.9         3.6         0.5      -2.4  \n",
       "19232         2.7         6.7         0.9       3.2  \n",
       "20152         9.6         2.5         1.1      -6.9  \n",
       "19492         5.3         3.4         1.1      -2.4  \n",
       "19832         3.3         6.2         1.6       3.9  \n",
       "21022         9.5         2.3         1.3      -6.7  \n",
       "20542         5.6         3.6         0.6      -1.7  \n",
       "20722         2.9         6.9         2.2       4.6  \n",
       "22192         9.4         2.4         0.8      -7.3  \n",
       "21550         4.9         3.2         1.1      -1.8  \n",
       "21532         3.9         6.6         1.4       4.0  \n",
       "22972         9.4         2.1         0.9      -7.1  \n",
       "23012         4.8         3.7         0.5      -1.6  \n",
       "23392         3.8         7.0         1.2       3.8  \n",
       "23722        10.2         2.1         1.3      -7.6  \n",
       "24342         5.2         3.7         0.6      -1.6  \n",
       "23662         3.0         7.4         1.6       3.4  \n",
       "25442         8.8         1.7         0.9      -7.1  \n",
       "24972         6.8         3.5         1.6      -2.3  \n",
       "25262         3.9         7.3         1.6       4.1  \n",
       "25732         9.0         2.4         0.9      -7.3  \n",
       "26262         5.3         3.9         1.4      -2.1  \n",
       "26282         4.2         7.7         0.8       3.5  \n",
       "27972         9.3         2.8         0.9      -7.4  \n",
       "27162         5.9         3.1         0.4      -2.6  \n",
       "27192         4.0         7.6         0.5       3.8  \n",
       "29212         9.6         1.6         0.8      -7.9  \n",
       "29342         6.7         2.5         0.9      -3.3  \n",
       "28652         3.0         7.1         1.2       3.3  \n",
       "30512         9.4         2.1         1.7      -7.3  \n",
       "30182         4.3         3.3         0.7      -1.0  \n",
       "29932         3.7         8.5         1.1       4.5  \n",
       "31752         9.5         2.2         0.7      -7.6  \n",
       "31372         7.0         3.4         0.8      -3.5  \n",
       "31032         3.4         7.6         0.6       3.9  \n",
       "32212        10.7         2.3         1.8      -7.1  \n",
       "31962         5.8         4.3         1.5      -2.8  \n",
       "32532         3.1         6.3         1.3       3.4  \n",
       "33822         8.3         1.8         1.5      -6.8  \n",
       "33222         6.0         4.7         1.7      -2.6  \n",
       "33712         2.8         7.8         1.6       4.1  \n",
       "35452         7.9         2.3         0.8      -5.4  \n",
       "34402         7.2         3.9         1.8      -3.2  \n",
       "35482         2.9         6.4         1.5       3.4  \n",
       "36542         9.6         0.8         1.8      -7.2  \n",
       "36382         4.8         2.9         0.4      -1.5  \n",
       "35922         4.2         6.8         1.0       3.0  \n",
       "37292         8.6         2.2         1.3      -7.2  \n",
       "37122         5.0         3.4         1.1      -1.4  \n",
       "36952         3.8         7.4         1.9       3.6  \n",
       "39312         9.8         1.9         0.5      -7.5  \n",
       "39242         4.8         2.7         0.6      -1.7  \n",
       "38742         3.5         6.7         0.9       3.4  \n",
       "40342         9.4         1.4         1.5      -7.3  \n",
       "39672         4.8         3.8         1.0      -1.7  \n",
       "40162         4.3         8.5         1.6       3.8  \n",
       "41662         9.1         1.4         0.6      -7.2  \n",
       "40912         5.4         2.0         1.7      -2.6  \n",
       "41372         4.1         6.3         0.3       2.3  \n",
       "42042         8.9         1.9         0.6      -6.7  \n",
       "42392         6.3         2.5         1.2      -2.8  \n",
       "42522         4.2         5.9         1.5       1.8  \n",
       "43912         7.7         1.8         1.0      -5.9  \n",
       "43392         6.3         2.9         1.3      -4.0  \n",
       "43632         3.8         4.6         0.8       1.4  \n",
       "45092         7.2         2.4         1.4      -5.2  \n",
       "45152         8.5         2.3         1.9      -4.7  \n",
       "44982         3.3         5.8         1.0       1.5  \n",
       "46732         7.3         1.4         1.2      -5.6  \n",
       "45852         5.6         3.7         0.7      -2.5  \n",
       "46522         2.9         6.5         0.8       2.9  \n",
       "47532         7.1         2.0         1.7      -6.1  \n",
       "47002         4.0         3.4         2.4       0.5  \n",
       "47442         4.3         4.9         2.0       0.5  \n",
       "49452         7.1         2.0         0.8      -5.3  \n",
       "49072         7.0         3.3         1.6      -3.8  \n",
       "49082         3.7         5.1         1.0       2.2  \n",
       "49772        10.0         2.2         1.0      -8.6  \n",
       "49592         5.6         3.3         1.1      -2.2  \n",
       "49762         3.9         6.8         1.8       3.0  \n",
       "51802         7.7         2.2         1.5      -5.9  \n",
       "51792         4.7         4.9         1.0      -0.8  \n",
       "51652         3.9         5.5         1.1       2.1  \n",
       "53082         8.7         2.0         1.2      -7.5  \n",
       "52912         5.1         2.3         1.6      -2.3  \n",
       "52292         5.1         5.6         1.3       1.4  \n",
       "54302         9.0         2.4         1.0      -7.2  \n",
       "54222         5.1         1.7         1.3      -2.2  \n",
       "54642         4.2         7.1         1.2       2.8  \n",
       "54862         9.3         2.7         0.7      -6.6  \n",
       "55762         6.1         2.0         0.4      -4.1  \n",
       "55932         3.7         5.8         0.5       2.5  \n",
       "56872        10.4         1.8         1.4      -7.7  \n",
       "56992         4.1         3.4         1.0      -1.6  \n",
       "57232         3.1         6.2         1.8       2.6  \n",
       "58382        10.6         2.0         0.8      -8.1  \n",
       "58182         4.6         2.5         1.0      -2.3  \n",
       "57732         3.1         6.4         1.1       2.6  \n",
       "59832        10.6         2.0         0.5      -8.4  \n",
       "59682         5.3         2.5         0.7      -2.6  \n",
       "59162         4.3         5.8         1.0       1.8  \n",
       "60502         9.8         2.1         0.7      -7.9  \n",
       "60202         5.1         2.5         1.2      -1.6  \n",
       "60122         4.6         6.2         1.1       1.6  \n",
       "62412        10.8         4.5         2.7      -8.3  \n",
       "62592         4.3         3.2         1.3      -1.6  \n",
       "61512         6.0         5.4         1.3       0.5  \n",
       "64022        12.3         2.5         1.3      -8.7  \n",
       "63242         5.6         2.4         1.2      -2.7  \n",
       "63502         4.4         5.7         2.2       1.5  \n",
       "64882        12.1         2.1         2.2      -8.4  \n",
       "64662         5.3         2.9         1.5      -2.0  \n",
       "64352         6.2         6.4         1.7       1.0  \n",
       "66172        11.1         3.6         1.8      -9.0  \n",
       "66672         5.5         2.7         0.1      -2.7  \n",
       "65902         5.9         5.9         1.7       1.4  "
      ]
     },
     "execution_count": 265,
     "metadata": {},
     "output_type": "execute_result"
    }
   ],
   "source": [
    "\n",
    "temp = centroids.merge(player_clusters, on=['year', 'n_clusters', 'cluster']).merge(per_36_stats, on=['year', 'player'], suffixes=('_cluster', '_player'))\n",
    "\n",
    "temp['difference'] = (temp.PTS_cluster - temp.PTS_player).abs() + (temp.REB_cluster - temp.REB_player).abs() + (temp.AST_cluster - temp.AST_player).abs()\n",
    "temp = temp.sort_values('difference')\n",
    "#temp.sort_values('year', 'n_clusters', 'AST_cluster', )\n",
    "temp['ordering'] = temp['AST_cluster'] - temp['REB_cluster']\n",
    "temp = temp.groupby(['year', 'n_clusters', 'cluster']).head(1).sort_values(['year', 'n_clusters', 'ordering'])\n",
    "\n",
    "#temp = temp[(temp['n_clusters'] == 5) & (temp['year'] % 4 == 0)]\n",
    "temp = temp[(temp['n_clusters'] == 3)]\n",
    "temp\n"
   ]
  },
  {
   "cell_type": "code",
   "execution_count": null,
   "metadata": {},
   "outputs": [],
   "source": []
  }
 ],
 "metadata": {
  "kernelspec": {
   "display_name": "Python 3",
   "language": "python",
   "name": "python3"
  },
  "language_info": {
   "codemirror_mode": {
    "name": "ipython",
    "version": 3
   },
   "file_extension": ".py",
   "mimetype": "text/x-python",
   "name": "python",
   "nbconvert_exporter": "python",
   "pygments_lexer": "ipython3",
   "version": "3.7.6"
  }
 },
 "nbformat": 4,
 "nbformat_minor": 4
}
