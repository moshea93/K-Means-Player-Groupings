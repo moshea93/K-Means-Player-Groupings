{
 "cells": [
  {
   "cell_type": "code",
   "execution_count": 2,
   "metadata": {},
   "outputs": [],
   "source": [
    "from bs4 import BeautifulSoup\n",
    "import requests\n",
    "import pandas as pd\n",
    "import json\n",
    "import csv\n",
    "import os\n",
    "import time\n",
    "\n",
    "%matplotlib inline \n",
    "\n",
    "import numpy as np\n",
    "from sklearn.metrics import pairwise_distances\n",
    "from sklearn import cluster, datasets, preprocessing, metrics\n",
    "import matplotlib.pyplot as plt\n",
    "import seaborn as sns\n",
    "plt.style.use('fivethirtyeight')"
   ]
  },
  {
   "cell_type": "markdown",
   "metadata": {},
   "source": [
    "## Data Retrieval"
   ]
  },
  {
   "cell_type": "code",
   "execution_count": 3,
   "metadata": {},
   "outputs": [],
   "source": [
    "if not os.path.isdir('./player_data'):\n",
    "    \n",
    "    os.makedirs('./player_data', exist_ok=True)\n",
    "\n",
    "    # Iterate through seasons.\n",
    "    for i in range (1946, 2020):\n",
    "\n",
    "        #no data for these years\n",
    "        if i not in [1946, 1947, 1948, 1949, 1950]:\n",
    "            continue\n",
    "\n",
    "        time.sleep(3)\n",
    "\n",
    "        # Get URL\n",
    "        url_year_part = str(i) + '-' + str(i + 1)[-2:]\n",
    "        url = 'https://stats.nba.com/stats/leagueLeaders?LeagueID=00&PerMode=PerGame&Scope=S&Season=' + url_year_part + '&SeasonType=Regular+Season&StatCategory=MIN'\n",
    "\n",
    "        headers = {\n",
    "            'referrer': 'https://google.com',\n",
    "            'Accept': 'application/json, text/plain, */*',\n",
    "            'Accept-Encoding': 'gzip, deflate, br',\n",
    "            'Accept-Language': 'en-US,en;q=0.9',\n",
    "            'Connection': 'keep-alive',\n",
    "            'DNT': '1',\n",
    "            'Host': 'stats.nba.com',\n",
    "            'Referer': 'https://stats.nba.com/leaders/?Season=1950-51&SeasonType=Regular%20Season&StatCategory=MIN',\n",
    "            'Sec-Fetch-Dest': 'empty',\n",
    "            'Sec-Fetch-Mode': 'cors',\n",
    "            'Sec-Fetch-Site': 'same-origin',\n",
    "            'User-Agent': 'Mozilla/5.0 (Macintosh; Intel Mac OS X 10_14_5) AppleWebKit/537.36 (KHTML, like Gecko) Chrome/83.0.4103.97 Safari/537.36',\n",
    "            'x-nba-stats-origin': 'stats',\n",
    "            'x-nba-stats-token': 'true',\n",
    "            'X-NewRelic-ID': 'VQECWF5UChAHUlNTBwgBVw=='\n",
    "            }\n",
    "\n",
    "        req = requests.get(url, headers=headers)\n",
    "        print(url)\n",
    "\n",
    "        stat_dict = json.loads(req.content)\n",
    "        csv_path = 'player_data/' + url_year_part + '.csv'\n",
    "        csv_columns = stat_dict['resultSet']['headers']\n",
    "        with open(csv_path, 'w') as csvfile:\n",
    "            writer = csv.writer(csvfile)\n",
    "            writer.writerow(csv_columns)\n",
    "            for row in stat_dict['resultSet']['rowSet']:\n",
    "                writer.writerow(row)\n"
   ]
  },
  {
   "cell_type": "markdown",
   "metadata": {},
   "source": [
    "## Clustering Runs"
   ]
  },
  {
   "cell_type": "code",
   "execution_count": 26,
   "metadata": {},
   "outputs": [
    {
     "name": "stdout",
     "output_type": "stream",
     "text": [
      "Working on 2019...\n"
     ]
    },
    {
     "data": {
      "image/png": "[encoded data removed]",
      "text/plain": [
       "<Figure size 432x288 with 1 Axes>"
      ]
     },
     "metadata": {},
     "output_type": "display_data"
    }
   ],
   "source": [
    "years = [x for x in os.listdir(path='./player_data') if x[-4:] == '.csv']\n",
    "years.sort()\n",
    "\n",
    "# initializing K-Means Results list, with header row\n",
    "results = ['year', 'one', 'two', 'three', 'four', 'five', 'six', 'seven', 'eight', 'nine', 'ten']\n",
    "\n",
    "# initializing player statistics\n",
    "player_data = [['year', 'player', 'GP', 'MIN', 'PTS', 'REB', 'AST',\n",
    "               'one', 'two', 'three', 'four', 'five', 'six', 'seven', 'eight', 'nine', 'ten']]\n",
    "\n",
    "# initializing centroid statistics\n",
    "centroid_data = [['year', 'n_clusters', 'cluster', 'PTS', 'REB', 'AST']]\n",
    "\n",
    "# year by year\n",
    "#for year in range(1973, 2020):\n",
    "#for year in range(1951, 2020):\n",
    "for year in range(2019, 2020):    \n",
    "    \n",
    "    print('Working on {}...'.format(year))\n",
    "    \n",
    "    df = pd.read_csv('./player_data/' + str(year) + '-' + str(year + 1)[-2:] + '.csv')\n",
    "    \n",
    "    cols = ['PLAYER', 'GP', 'MIN']\n",
    "    k_means_attributes = ['PTS', 'REB', 'AST']\n",
    "    cols.extend(k_means_attributes)\n",
    "    \n",
    "    # Per 36 stats for K-Means attributes\n",
    "    # Steals, Blocks start in 1973\n",
    "    per_36 = df.loc[:,cols]\n",
    "    for attrib in k_means_attributes:\n",
    "        per_36.loc[:, attrib] = (per_36[attrib] * (36 / per_36['MIN'])).round(1)\n",
    "    \n",
    "    # Grabbing per_36 dataframe to start building player file\n",
    "    per_36.insert(0, 'year', year)\n",
    "    curr_player_data = per_36.to_numpy()\n",
    "    \n",
    "    # Checking relationships between pts, reb, ast\n",
    "    #sns.pairplot(per_36[k_means_attributes])\n",
    "    \n",
    "    # Scaling\n",
    "    scaler = preprocessing.StandardScaler()\n",
    "    per_36_scaled = scaler.fit_transform(per_36[k_means_attributes])\n",
    "        \n",
    "    clusters = list(range(1, 11))\n",
    "#    clusters = [3, 5]\n",
    "    inertias = []\n",
    "    silhouettes = []\n",
    "    avg_dist_from_centroids = []\n",
    "    \n",
    "    for k in clusters:\n",
    "        \n",
    "        kmeans = cluster.KMeans(n_clusters=k)\n",
    "        kmeans.fit(per_36_scaled)\n",
    "        \n",
    "        labels = kmeans.labels_\n",
    "        centroids = kmeans.cluster_centers_\n",
    "        inertia = kmeans.inertia_\n",
    "        #silhouette_score = metrics.silhouette_score(per_36_scaled, labels, metric='euclidean')\n",
    "        \n",
    "        # Equalizes inertia metric across different numbers of players in league \n",
    "        avg_dist_from_centroid = inertia/len(per_36_scaled)\n",
    "        \n",
    "        inertias.append(round(inertia, 1))\n",
    "        #silhouettes.append(round(silhouette_score, 1))\n",
    "        avg_dist_from_centroids.append(avg_dist_from_centroid)\n",
    "            \n",
    "        # Logs unnormalized PTS/REB/AST values for each centroid, so we have frames of reference \n",
    "        # for the clusters each player ends up in\n",
    "        centroid_avgs = pd.DataFrame(data=scaler.inverse_transform(centroids),\n",
    "                                    columns=k_means_attributes)\n",
    "        centroid_avgs.insert(0, column='label', value=centroid_avgs.index)\n",
    "        centroid_avgs.insert(0, column='n_clusters', value=k)\n",
    "        centroid_avgs.insert(0, column='year', value=year)\n",
    "        centroid_data.extend(centroid_avgs.to_numpy().tolist())\n",
    "            \n",
    "        curr_player_data = np.hstack((curr_player_data, labels.reshape(-1, 1)))\n",
    "\n",
    "        \n",
    "    plt.scatter(clusters, inertias)\n",
    "    #plt.scatter(clusters, silhouettes)\n",
    "    \n",
    "    avg_dist_from_centroids.insert(0, year)\n",
    "    results.append(avg_dist_from_centroids)\n",
    "    \n",
    "    player_data.extend(curr_player_data.tolist())\n",
    "\n",
    "# results to CSV\n",
    "csv_path = 'k_means_results.csv'\n",
    "with open(csv_path, 'w') as csvfile:\n",
    "    writer = csv.writer(csvfile)\n",
    "    for year in results:\n",
    "        writer.writerow(year)\n",
    "        \n",
    "csv_path = 'player_results.csv'\n",
    "with open(csv_path, 'w') as csvfile:\n",
    "    writer = csv.writer(csvfile)\n",
    "    for player_year in player_data:\n",
    "        writer.writerow(player_year)\n",
    "        \n",
    "csv_path = 'centroid_results.csv'\n",
    "with open(csv_path, 'w') as csvfile:\n",
    "    writer = csv.writer(csvfile)\n",
    "    for centroid in centroid_data:\n",
    "        writer.writerow(centroid)"
   ]
  },
  {
   "cell_type": "markdown",
   "metadata": {},
   "source": [
    "## Points of Interest"
   ]
  },
  {
   "cell_type": "code",
   "execution_count": 5,
   "metadata": {},
   "outputs": [
    {
     "name": "stdout",
     "output_type": "stream",
     "text": [
      "    year  one       two     three      four      five       six     seven  \\\n",
      "0   1951  3.0  1.848493  1.471374  1.174746  0.999033  0.868638  0.754586   \n",
      "1   1952  3.0  1.972629  1.492516  1.142033  0.901915  0.778178  0.703585   \n",
      "2   1953  3.0  1.810020  1.239339  0.952105  0.774378  0.660931  0.592296   \n",
      "3   1954  3.0  1.783581  1.226210  0.897055  0.732998  0.625207  0.552261   \n",
      "4   1955  3.0  1.731446  1.239021  1.001555  0.883439  0.762508  0.690187   \n",
      "..   ...  ...       ...       ...       ...       ...       ...       ...   \n",
      "64  2015  3.0  2.040784  1.425808  1.172330  0.993417  0.866313  0.759737   \n",
      "65  2016  3.0  2.094387  1.486038  1.155783  0.998039  0.857921  0.773742   \n",
      "66  2017  3.0  2.098790  1.494345  1.238152  1.031028  0.882899  0.808984   \n",
      "67  2018  3.0  2.085481  1.454910  1.177867  0.997479  0.866173  0.793677   \n",
      "68  2019  3.0  2.016259  1.424446  1.147343  0.927602  0.821133  0.734791   \n",
      "\n",
      "       eight      nine       ten  \n",
      "0   0.630307  0.551954  0.475341  \n",
      "1   0.633760  0.556499  0.482944  \n",
      "2   0.512394  0.484588  0.436688  \n",
      "3   0.492500  0.421653  0.371956  \n",
      "4   0.599371  0.531999  0.472709  \n",
      "..       ...       ...       ...  \n",
      "64  0.693627  0.640101  0.593389  \n",
      "65  0.701824  0.607188  0.576460  \n",
      "66  0.730686  0.680340  0.628739  \n",
      "67  0.720147  0.669599  0.613398  \n",
      "68  0.671932  0.615393  0.561444  \n",
      "\n",
      "[69 rows x 11 columns]\n"
     ]
    }
   ],
   "source": [
    "df = pd.read_csv('k_means_results.csv')\n",
    "df.head()\n",
    "print(df)"
   ]
  },
  {
   "cell_type": "markdown",
   "metadata": {},
   "source": [
    "### Cluster grouping over time\n",
    "\n",
    "Hopefully, we'll see our metric get closer to zero year over year for our three-cluster K-means runs, meaning that three clusters (point-wing-big) describes the data better over time.\n",
    "\n",
    "And hopefully, it will get further from zero for our five-cluster K-means runs, as the point-shooting guard-small forward-power forward-center groupings fall out of fashion."
   ]
  },
  {
   "cell_type": "code",
   "execution_count": 6,
   "metadata": {},
   "outputs": [
    {
     "data": {
      "text/plain": [
       "<matplotlib.collections.PathCollection at 0x12f00df90>"
      ]
     },
     "execution_count": 6,
     "metadata": {},
     "output_type": "execute_result"
    },
    {
     "data": {
      "image/png": "[encoded data removed]",
      "text/plain": [
       "<Figure size 432x288 with 1 Axes>"
      ]
     },
     "metadata": {},
     "output_type": "display_data"
    }
   ],
   "source": [
    "plt.scatter(x=df['year'], y=df['three'])"
   ]
  },
  {
   "cell_type": "code",
   "execution_count": 7,
   "metadata": {},
   "outputs": [
    {
     "data": {
      "text/plain": [
       "<matplotlib.collections.PathCollection at 0x12f1d8450>"
      ]
     },
     "execution_count": 7,
     "metadata": {},
     "output_type": "execute_result"
    },
    {
     "data": {
      "image/png": "[encoded data removed]",
      "text/plain": [
       "<Figure size 432x288 with 1 Axes>"
      ]
     },
     "metadata": {},
     "output_type": "display_data"
    }
   ],
   "source": [
    "plt.scatter(x=df['year'], y=df['five'])"
   ]
  },
  {
   "cell_type": "markdown",
   "metadata": {},
   "source": [
    "Nope. Cluster fit was scattered through the 70s, then hit a low point in the mid 80s, and has gradually increased in the time since."
   ]
  },
  {
   "cell_type": "code",
   "execution_count": null,
   "metadata": {},
   "outputs": [],
   "source": []
  }
 ],
 "metadata": {
  "kernelspec": {
   "display_name": "Python 3",
   "language": "python",
   "name": "python3"
  },
  "language_info": {
   "codemirror_mode": {
    "name": "ipython",
    "version": 3
   },
   "file_extension": ".py",
   "mimetype": "text/x-python",
   "name": "python",
   "nbconvert_exporter": "python",
   "pygments_lexer": "ipython3",
   "version": "3.7.6"
  }
 },
 "nbformat": 4,
 "nbformat_minor": 4
}
